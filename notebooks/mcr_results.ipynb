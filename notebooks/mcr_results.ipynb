{
    "cells": [
        {
            "cell_type": "code",
            "execution_count": 4,
            "metadata": {},
            "outputs": [
                {
                    "name": "stdout",
                    "output_type": "stream",
                    "text": [
                        "The autoreload extension is already loaded. To reload it, use:\n",
                        "  %reload_ext autoreload\n"
                    ]
                }
            ],
            "source": [
                "%load_ext autoreload\n",
                "%autoreload 2\n",
                "import sys\n",
                "\n",
                "sys.path.append(\"../src/\")"
            ]
        },
        {
            "cell_type": "code",
            "execution_count": 5,
            "metadata": {},
            "outputs": [],
            "source": [
                "from mcr_py.package.logger import Timed, rlog, setup\n",
                "\n",
                "setup(\"INFO\")\n",
                "\n",
                "\n",
                "import os\n",
                "\n",
                "import folium\n",
                "import pandas as pd\n",
                "from mcr_py.package import storage, strtime\n",
                "from mcr_py.package.geometa import GeoMeta\n",
                "from mcr_py.package.osm import osm"
            ]
        },
        {
            "cell_type": "code",
            "execution_count": 6,
            "metadata": {},
            "outputs": [
                {
                    "data": {
                        "text/html": [
                            "<pre style=\"white-space:pre;overflow-x:auto;line-height:normal;font-family:Menlo,'DejaVu Sans Mono',consolas,'Courier New',monospace\"><span style=\"color: #7fbfbf; text-decoration-color: #7fbfbf\">[09:26:29] </span><span style=\"color: #000080; text-decoration-color: #000080\">INFO    </span> Reading stops                                                                   <a href=\"file:///tmp/ipykernel_100819/3959691737.py\" target=\"_blank\"><span style=\"color: #7f7f7f; text-decoration-color: #7f7f7f\">3959691737.py</span></a><span style=\"color: #7f7f7f; text-decoration-color: #7f7f7f\">:</span><a href=\"file:///tmp/ipykernel_100819/3959691737.py#8\" target=\"_blank\"><span style=\"color: #7f7f7f; text-decoration-color: #7f7f7f\">8</span></a>\n",
                            "</pre>\n"
                        ],
                        "text/plain": [
                            "\u001b[2;36m[09:26:29]\u001b[0m\u001b[2;36m \u001b[0m\u001b[34mINFO    \u001b[0m Reading stops                                                                   \u001b]8;id=948186;file:///tmp/ipykernel_100819/3959691737.py\u001b\\\u001b[2m3959691737.py\u001b[0m\u001b]8;;\u001b\\\u001b[2m:\u001b[0m\u001b]8;id=50742;file:///tmp/ipykernel_100819/3959691737.py#8\u001b\\\u001b[2m8\u001b[0m\u001b]8;;\u001b\\\n"
                        ]
                    },
                    "metadata": {},
                    "output_type": "display_data"
                },
                {
                    "data": {
                        "text/html": [
                            "<pre style=\"white-space:pre;overflow-x:auto;line-height:normal;font-family:Menlo,'DejaVu Sans Mono',consolas,'Courier New',monospace\"><span style=\"color: #7fbfbf; text-decoration-color: #7fbfbf\">           </span><span style=\"color: #000080; text-decoration-color: #000080\">INFO    </span> Reading stops done <span style=\"font-weight: bold\">(</span><span style=\"color: #008080; text-decoration-color: #008080; font-weight: bold\">0.66</span> seconds<span style=\"font-weight: bold\">)</span>                                               <a href=\"file:///tmp/ipykernel_100819/3959691737.py\" target=\"_blank\"><span style=\"color: #7f7f7f; text-decoration-color: #7f7f7f\">3959691737.py</span></a><span style=\"color: #7f7f7f; text-decoration-color: #7f7f7f\">:</span><a href=\"file:///tmp/ipykernel_100819/3959691737.py#8\" target=\"_blank\"><span style=\"color: #7f7f7f; text-decoration-color: #7f7f7f\">8</span></a>\n",
                            "</pre>\n"
                        ],
                        "text/plain": [
                            "\u001b[2;36m          \u001b[0m\u001b[2;36m \u001b[0m\u001b[34mINFO    \u001b[0m Reading stops done \u001b[1m(\u001b[0m\u001b[1;36m0.66\u001b[0m seconds\u001b[1m)\u001b[0m                                               \u001b]8;id=732917;file:///tmp/ipykernel_100819/3959691737.py\u001b\\\u001b[2m3959691737.py\u001b[0m\u001b]8;;\u001b\\\u001b[2m:\u001b[0m\u001b]8;id=164201;file:///tmp/ipykernel_100819/3959691737.py#8\u001b\\\u001b[2m8\u001b[0m\u001b]8;;\u001b\\\n"
                        ]
                    },
                    "metadata": {},
                    "output_type": "display_data"
                },
                {
                    "data": {
                        "text/html": [
                            "<pre style=\"white-space:pre;overflow-x:auto;line-height:normal;font-family:Menlo,'DejaVu Sans Mono',consolas,'Courier New',monospace\"><span style=\"color: #7fbfbf; text-decoration-color: #7fbfbf\">           </span><span style=\"color: #000080; text-decoration-color: #000080\">INFO    </span> Using existing OSM data                                                        <a href=\"file:///tmp/ipykernel_100819/3959691737.py\" target=\"_blank\"><span style=\"color: #7f7f7f; text-decoration-color: #7f7f7f\">3959691737.py</span></a><span style=\"color: #7f7f7f; text-decoration-color: #7f7f7f\">:</span><a href=\"file:///tmp/ipykernel_100819/3959691737.py#15\" target=\"_blank\"><span style=\"color: #7f7f7f; text-decoration-color: #7f7f7f\">15</span></a>\n",
                            "</pre>\n"
                        ],
                        "text/plain": [
                            "\u001b[2;36m          \u001b[0m\u001b[2;36m \u001b[0m\u001b[34mINFO    \u001b[0m Using existing OSM data                                                        \u001b]8;id=506253;file:///tmp/ipykernel_100819/3959691737.py\u001b\\\u001b[2m3959691737.py\u001b[0m\u001b]8;;\u001b\\\u001b[2m:\u001b[0m\u001b]8;id=121251;file:///tmp/ipykernel_100819/3959691737.py#15\u001b\\\u001b[2m15\u001b[0m\u001b]8;;\u001b\\\n"
                        ]
                    },
                    "metadata": {},
                    "output_type": "display_data"
                },
                {
                    "data": {
                        "text/html": [
                            "<pre style=\"white-space:pre;overflow-x:auto;line-height:normal;font-family:Menlo,'DejaVu Sans Mono',consolas,'Courier New',monospace\"><span style=\"color: #7fbfbf; text-decoration-color: #7fbfbf\">           </span><span style=\"color: #000080; text-decoration-color: #000080\">INFO    </span> Getting OSM graph                                                              <a href=\"file:///tmp/ipykernel_100819/3959691737.py\" target=\"_blank\"><span style=\"color: #7f7f7f; text-decoration-color: #7f7f7f\">3959691737.py</span></a><span style=\"color: #7f7f7f; text-decoration-color: #7f7f7f\">:</span><a href=\"file:///tmp/ipykernel_100819/3959691737.py#19\" target=\"_blank\"><span style=\"color: #7f7f7f; text-decoration-color: #7f7f7f\">19</span></a>\n",
                            "</pre>\n"
                        ],
                        "text/plain": [
                            "\u001b[2;36m          \u001b[0m\u001b[2;36m \u001b[0m\u001b[34mINFO    \u001b[0m Getting OSM graph                                                              \u001b]8;id=290725;file:///tmp/ipykernel_100819/3959691737.py\u001b\\\u001b[2m3959691737.py\u001b[0m\u001b]8;;\u001b\\\u001b[2m:\u001b[0m\u001b]8;id=756959;file:///tmp/ipykernel_100819/3959691737.py#19\u001b\\\u001b[2m19\u001b[0m\u001b]8;;\u001b\\\n"
                        ]
                    },
                    "metadata": {},
                    "output_type": "display_data"
                },
                {
                    "data": {
                        "text/html": [
                            "<pre style=\"white-space:pre;overflow-x:auto;line-height:normal;font-family:Menlo,'DejaVu Sans Mono',consolas,'Courier New',monospace\"><span style=\"color: #7fbfbf; text-decoration-color: #7fbfbf\">           </span><span style=\"color: #000080; text-decoration-color: #000080\">INFO    </span> Loading OSM network from cache <span style=\"font-weight: bold\">(</span>walking<span style=\"font-weight: bold\">)</span>                                       <a href=\"file:///tmp/ipykernel_100819/3959691737.py\" target=\"_blank\"><span style=\"color: #7f7f7f; text-decoration-color: #7f7f7f\">3959691737.py</span></a><span style=\"color: #7f7f7f; text-decoration-color: #7f7f7f\">:</span><a href=\"file:///tmp/ipykernel_100819/3959691737.py#19\" target=\"_blank\"><span style=\"color: #7f7f7f; text-decoration-color: #7f7f7f\">19</span></a>\n",
                            "</pre>\n"
                        ],
                        "text/plain": [
                            "\u001b[2;36m          \u001b[0m\u001b[2;36m \u001b[0m\u001b[34mINFO    \u001b[0m Loading OSM network from cache \u001b[1m(\u001b[0mwalking\u001b[1m)\u001b[0m                                       \u001b]8;id=318611;file:///tmp/ipykernel_100819/3959691737.py\u001b\\\u001b[2m3959691737.py\u001b[0m\u001b]8;;\u001b\\\u001b[2m:\u001b[0m\u001b]8;id=26809;file:///tmp/ipykernel_100819/3959691737.py#19\u001b\\\u001b[2m19\u001b[0m\u001b]8;;\u001b\\\n"
                        ]
                    },
                    "metadata": {},
                    "output_type": "display_data"
                },
                {
                    "data": {
                        "text/html": [
                            "<pre style=\"white-space:pre;overflow-x:auto;line-height:normal;font-family:Menlo,'DejaVu Sans Mono',consolas,'Courier New',monospace\"><span style=\"color: #7fbfbf; text-decoration-color: #7fbfbf\">[09:26:35] </span><span style=\"color: #000080; text-decoration-color: #000080\">INFO    </span> Getting OSM graph done <span style=\"font-weight: bold\">(</span><span style=\"color: #008080; text-decoration-color: #008080; font-weight: bold\">6.36</span> seconds<span style=\"font-weight: bold\">)</span>                                          <a href=\"file:///tmp/ipykernel_100819/3959691737.py\" target=\"_blank\"><span style=\"color: #7f7f7f; text-decoration-color: #7f7f7f\">3959691737.py</span></a><span style=\"color: #7f7f7f; text-decoration-color: #7f7f7f\">:</span><a href=\"file:///tmp/ipykernel_100819/3959691737.py#19\" target=\"_blank\"><span style=\"color: #7f7f7f; text-decoration-color: #7f7f7f\">19</span></a>\n",
                            "</pre>\n"
                        ],
                        "text/plain": [
                            "\u001b[2;36m[09:26:35]\u001b[0m\u001b[2;36m \u001b[0m\u001b[34mINFO    \u001b[0m Getting OSM graph done \u001b[1m(\u001b[0m\u001b[1;36m6.36\u001b[0m seconds\u001b[1m)\u001b[0m                                          \u001b]8;id=195634;file:///tmp/ipykernel_100819/3959691737.py\u001b\\\u001b[2m3959691737.py\u001b[0m\u001b]8;;\u001b\\\u001b[2m:\u001b[0m\u001b]8;id=404765;file:///tmp/ipykernel_100819/3959691737.py#19\u001b\\\u001b[2m19\u001b[0m\u001b]8;;\u001b\\\n"
                        ]
                    },
                    "metadata": {},
                    "output_type": "display_data"
                }
            ],
            "source": [
                "city_id = \"Koeln\"\n",
                "stops_path = \"../data/cleaned/stops.csv\"\n",
                "osm_path = osm.get_osm_path_from_city_id(city_id)\n",
                "\n",
                "\n",
                "geo_meta = GeoMeta.load(\"../data/geometa.pkl\")\n",
                "\n",
                "with Timed.info(\"Reading stops\"):\n",
                "    other_stops_df = storage.read_gdf(stops_path)\n",
                "\n",
                "if not os.path.exists(osm_path) and city_id:\n",
                "    rlog.info(\"Downloading OSM data\")\n",
                "    osm.download_city(city_id, osm_path)\n",
                "else:\n",
                "    rlog.info(\"Using existing OSM data\")\n",
                "\n",
                "osm_reader = osm.new_osm_reader(osm_path)\n",
                "\n",
                "with Timed.info(\"Getting OSM graph\"):\n",
                "    nodes, edges = osm.get_graph_for_city_cropped_to_boundary(\n",
                "        osm_reader, geo_meta, \"walking\"\n",
                "    )"
            ]
        },
        {
            "cell_type": "code",
            "execution_count": 1,
            "metadata": {},
            "outputs": [
                {
                    "ename": "NameError",
                    "evalue": "name 'storage' is not defined",
                    "output_type": "error",
                    "traceback": [
                        "\u001b[0;31m---------------------------------------------------------------------------\u001b[0m",
                        "\u001b[0;31mNameError\u001b[0m                                 Traceback (most recent call last)",
                        "\u001b[1;32m/home/moritz/dev/uni/mcr-py/notebooks/mcr_results.ipynb Cell 4\u001b[0m line \u001b[0;36m3\n\u001b[1;32m      <a href='vscode-notebook-cell:/home/moritz/dev/uni/mcr-py/notebooks/mcr_results.ipynb#W3sZmlsZQ%3D%3D?line=0'>1</a>\u001b[0m path_source \u001b[39m=\u001b[39m \u001b[39m\"\u001b[39m\u001b[39m/home/moritz/dev/uni/mcr-py/data/mcr.pkl\u001b[39m\u001b[39m\"\u001b[39m\n\u001b[0;32m----> <a href='vscode-notebook-cell:/home/moritz/dev/uni/mcr-py/notebooks/mcr_results.ipynb#W3sZmlsZQ%3D%3D?line=2'>3</a>\u001b[0m data \u001b[39m=\u001b[39m storage\u001b[39m.\u001b[39mread_any_dict(path_source)\n\u001b[1;32m      <a href='vscode-notebook-cell:/home/moritz/dev/uni/mcr-py/notebooks/mcr_results.ipynb#W3sZmlsZQ%3D%3D?line=3'>4</a>\u001b[0m path_manager \u001b[39m=\u001b[39m data[\u001b[39m\"\u001b[39m\u001b[39mpath_manager\u001b[39m\u001b[39m\"\u001b[39m]\n\u001b[1;32m      <a href='vscode-notebook-cell:/home/moritz/dev/uni/mcr-py/notebooks/mcr_results.ipynb#W3sZmlsZQ%3D%3D?line=4'>5</a>\u001b[0m \u001b[39m# node_map = data[\"multi_modal_node_to_resetted_map\"]\u001b[39;00m\n\u001b[1;32m      <a href='vscode-notebook-cell:/home/moritz/dev/uni/mcr-py/notebooks/mcr_results.ipynb#W3sZmlsZQ%3D%3D?line=5'>6</a>\u001b[0m \u001b[39m# walking_node_map = data[\"walking_node_to_resetted_map\"]\u001b[39;00m\n\u001b[1;32m      <a href='vscode-notebook-cell:/home/moritz/dev/uni/mcr-py/notebooks/mcr_results.ipynb#W3sZmlsZQ%3D%3D?line=6'>7</a>\u001b[0m \u001b[39m# reverse_node_map = {v: k for k, v in node_map.items()}\u001b[39;00m\n\u001b[1;32m      <a href='vscode-notebook-cell:/home/moritz/dev/uni/mcr-py/notebooks/mcr_results.ipynb#W3sZmlsZQ%3D%3D?line=7'>8</a>\u001b[0m \u001b[39m# reverse_walking_node_map = {v: k for k, v in walking_node_map.items()}\u001b[39;00m\n\u001b[1;32m      <a href='vscode-notebook-cell:/home/moritz/dev/uni/mcr-py/notebooks/mcr_results.ipynb#W3sZmlsZQ%3D%3D?line=8'>9</a>\u001b[0m \u001b[39m# stops_df = data[\"stops_df\"]\u001b[39;00m\n",
                        "\u001b[0;31mNameError\u001b[0m: name 'storage' is not defined"
                    ]
                }
            ],
            "source": [
                "path_source = \"/home/moritz/dev/uni/mcr-py/data/mcr.pkl\"\n",
                "\n",
                "data = storage.read_any_dict(path_source)\n",
                "path_manager = data[\"path_manager\"]\n",
                "# node_map = data[\"multi_modal_node_to_resetted_map\"]\n",
                "# walking_node_map = data[\"walking_node_to_resetted_map\"]\n",
                "# reverse_node_map = {v: k for k, v in node_map.items()}\n",
                "# reverse_walking_node_map = {v: k for k, v in walking_node_map.items()}\n",
                "# stops_df = data[\"stops_df\"]\n",
                "bags_i = data[\"bags_i\"]"
            ]
        },
        {
            "cell_type": "code",
            "execution_count": 2,
            "metadata": {},
            "outputs": [],
            "source": [
                "# translation_data = storage.read_any_dict(\"../data/car_step_translations.pkl\")\n",
                "# reverse_node_map = translation_data[\"resetted_to_multi_modal_node_map\"]\n",
                "# node_map = translation_data[\"multi_modal_node_to_resetted_map\"]"
            ]
        },
        {
            "cell_type": "code",
            "execution_count": 10,
            "metadata": {},
            "outputs": [
                {
                    "data": {
                        "text/html": [
                            "<div>\n",
                            "<style scoped>\n",
                            "    .dataframe tbody tr th:only-of-type {\n",
                            "        vertical-align: middle;\n",
                            "    }\n",
                            "\n",
                            "    .dataframe tbody tr th {\n",
                            "        vertical-align: top;\n",
                            "    }\n",
                            "\n",
                            "    .dataframe thead th {\n",
                            "        text-align: right;\n",
                            "    }\n",
                            "</style>\n",
                            "<table border=\"1\" class=\"dataframe\">\n",
                            "  <thead>\n",
                            "    <tr style=\"text-align: right;\">\n",
                            "      <th></th>\n",
                            "      <th>osm_node_id</th>\n",
                            "      <th>time</th>\n",
                            "      <th>cost</th>\n",
                            "      <th>n_transfers</th>\n",
                            "      <th>human_readable_time</th>\n",
                            "    </tr>\n",
                            "  </thead>\n",
                            "  <tbody>\n",
                            "    <tr>\n",
                            "      <th>0</th>\n",
                            "      <td>1868389085</td>\n",
                            "      <td>29044</td>\n",
                            "      <td>0</td>\n",
                            "      <td>0</td>\n",
                            "      <td>08:04:04</td>\n",
                            "    </tr>\n",
                            "    <tr>\n",
                            "      <th>1745</th>\n",
                            "      <td>6662781854</td>\n",
                            "      <td>29329</td>\n",
                            "      <td>0</td>\n",
                            "      <td>0</td>\n",
                            "      <td>08:08:49</td>\n",
                            "    </tr>\n",
                            "    <tr>\n",
                            "      <th>1746</th>\n",
                            "      <td>9709744522</td>\n",
                            "      <td>28988</td>\n",
                            "      <td>0</td>\n",
                            "      <td>0</td>\n",
                            "      <td>08:03:08</td>\n",
                            "    </tr>\n",
                            "    <tr>\n",
                            "      <th>1747</th>\n",
                            "      <td>3674115309</td>\n",
                            "      <td>29444</td>\n",
                            "      <td>0</td>\n",
                            "      <td>0</td>\n",
                            "      <td>08:10:44</td>\n",
                            "    </tr>\n",
                            "    <tr>\n",
                            "      <th>1748</th>\n",
                            "      <td>1877329601</td>\n",
                            "      <td>29023</td>\n",
                            "      <td>0</td>\n",
                            "      <td>0</td>\n",
                            "      <td>08:03:43</td>\n",
                            "    </tr>\n",
                            "    <tr>\n",
                            "      <th>...</th>\n",
                            "      <td>...</td>\n",
                            "      <td>...</td>\n",
                            "      <td>...</td>\n",
                            "      <td>...</td>\n",
                            "      <td>...</td>\n",
                            "    </tr>\n",
                            "    <tr>\n",
                            "      <th>4703</th>\n",
                            "      <td>7890873890</td>\n",
                            "      <td>29062</td>\n",
                            "      <td>100</td>\n",
                            "      <td>1</td>\n",
                            "      <td>08:04:22</td>\n",
                            "    </tr>\n",
                            "    <tr>\n",
                            "      <th>4704</th>\n",
                            "      <td>7170430314</td>\n",
                            "      <td>29545</td>\n",
                            "      <td>0</td>\n",
                            "      <td>1</td>\n",
                            "      <td>08:12:25</td>\n",
                            "    </tr>\n",
                            "    <tr>\n",
                            "      <th>4705</th>\n",
                            "      <td>7170430314</td>\n",
                            "      <td>29060</td>\n",
                            "      <td>100</td>\n",
                            "      <td>1</td>\n",
                            "      <td>08:04:20</td>\n",
                            "    </tr>\n",
                            "    <tr>\n",
                            "      <th>4706</th>\n",
                            "      <td>2831639993</td>\n",
                            "      <td>28928</td>\n",
                            "      <td>100</td>\n",
                            "      <td>1</td>\n",
                            "      <td>08:02:08</td>\n",
                            "    </tr>\n",
                            "    <tr>\n",
                            "      <th>4702</th>\n",
                            "      <td>7890873890</td>\n",
                            "      <td>29559</td>\n",
                            "      <td>0</td>\n",
                            "      <td>1</td>\n",
                            "      <td>08:12:39</td>\n",
                            "    </tr>\n",
                            "  </tbody>\n",
                            "</table>\n",
                            "<p>7634 rows × 5 columns</p>\n",
                            "</div>"
                        ],
                        "text/plain": [
                            "      osm_node_id   time  cost  n_transfers human_readable_time\n",
                            "0      1868389085  29044     0            0            08:04:04\n",
                            "1745   6662781854  29329     0            0            08:08:49\n",
                            "1746   9709744522  28988     0            0            08:03:08\n",
                            "1747   3674115309  29444     0            0            08:10:44\n",
                            "1748   1877329601  29023     0            0            08:03:43\n",
                            "...           ...    ...   ...          ...                 ...\n",
                            "4703   7890873890  29062   100            1            08:04:22\n",
                            "4704   7170430314  29545     0            1            08:12:25\n",
                            "4705   7170430314  29060   100            1            08:04:20\n",
                            "4706   2831639993  28928   100            1            08:02:08\n",
                            "4702   7890873890  29559     0            1            08:12:39\n",
                            "\n",
                            "[7634 rows x 5 columns]"
                        ]
                    },
                    "execution_count": 10,
                    "metadata": {},
                    "output_type": "execute_result"
                }
            ],
            "source": [
                "labels = pd.DataFrame(\n",
                "    [\n",
                "        (label.node_id, label.values[0], label.values[1], n_transfers, label)\n",
                "        for n_transfers, bags in bags_i.items()\n",
                "        for bag in bags.values()\n",
                "        for label in bag\n",
                "    ],\n",
                "    columns=[\"osm_node_id\", \"time\", \"cost\", \"n_transfers\", \"label\"],\n",
                ")\n",
                "\n",
                "labels[\"human_readable_time\"] = labels[\"time\"].apply(strtime.seconds_to_str_time)\n",
                "labels = labels.sort_values(\"n_transfers\")\n",
                "labels = labels.drop_duplicates(subset=[\"osm_node_id\", \"time\", \"cost\"], keep=\"first\")\n",
                "labels.drop(columns=[\"label\"])"
            ]
        },
        {
            "cell_type": "code",
            "execution_count": 11,
            "metadata": {},
            "outputs": [],
            "source": [
                "from mcr_py.package.minute_city import minute_city"
            ]
        },
        {
            "cell_type": "code",
            "execution_count": 12,
            "metadata": {},
            "outputs": [],
            "source": [
                "pois = minute_city.fetch_pois_for_area(geo_meta.boundary, nodes)"
            ]
        },
        {
            "cell_type": "code",
            "execution_count": 24,
            "metadata": {},
            "outputs": [],
            "source": [
                "labels[\"target_id_osm\"] = labels[\"osm_node_id\"]\n",
                "labels[\"start_id_hex\"] = \"aaa\""
            ]
        },
        {
            "cell_type": "code",
            "execution_count": 25,
            "metadata": {},
            "outputs": [],
            "source": [
                "poi_labels = minute_city.add_pois_to_labels(labels, pois)"
            ]
        },
        {
            "cell_type": "code",
            "execution_count": 34,
            "metadata": {},
            "outputs": [
                {
                    "data": {
                        "text/html": [
                            "<div>\n",
                            "<style scoped>\n",
                            "    .dataframe tbody tr th:only-of-type {\n",
                            "        vertical-align: middle;\n",
                            "    }\n",
                            "\n",
                            "    .dataframe tbody tr th {\n",
                            "        vertical-align: top;\n",
                            "    }\n",
                            "\n",
                            "    .dataframe thead th {\n",
                            "        text-align: right;\n",
                            "    }\n",
                            "</style>\n",
                            "<table border=\"1\" class=\"dataframe\">\n",
                            "  <thead>\n",
                            "    <tr style=\"text-align: right;\">\n",
                            "      <th></th>\n",
                            "      <th>osm_node_id</th>\n",
                            "      <th>time</th>\n",
                            "      <th>cost</th>\n",
                            "      <th>n_transfers</th>\n",
                            "      <th>label</th>\n",
                            "      <th>human_readable_time</th>\n",
                            "      <th>target_id_osm</th>\n",
                            "      <th>start_id_hex</th>\n",
                            "      <th>nearest_osm_node_id</th>\n",
                            "      <th>grocery</th>\n",
                            "      <th>education</th>\n",
                            "      <th>health</th>\n",
                            "      <th>banks</th>\n",
                            "      <th>parks</th>\n",
                            "      <th>sustenance</th>\n",
                            "      <th>shops</th>\n",
                            "    </tr>\n",
                            "  </thead>\n",
                            "  <tbody>\n",
                            "    <tr>\n",
                            "      <th>0</th>\n",
                            "      <td>6040204998</td>\n",
                            "      <td>29404</td>\n",
                            "      <td>0</td>\n",
                            "      <td>0</td>\n",
                            "      <td>IntermediateLabel(values=[29404, 0], hidden_va...</td>\n",
                            "      <td>08:10:04</td>\n",
                            "      <td>6040204998</td>\n",
                            "      <td>aaa</td>\n",
                            "      <td>6040204998</td>\n",
                            "      <td>0</td>\n",
                            "      <td>0</td>\n",
                            "      <td>0</td>\n",
                            "      <td>0</td>\n",
                            "      <td>0</td>\n",
                            "      <td>1</td>\n",
                            "      <td>0</td>\n",
                            "    </tr>\n",
                            "    <tr>\n",
                            "      <th>1</th>\n",
                            "      <td>6040204998</td>\n",
                            "      <td>29045</td>\n",
                            "      <td>100</td>\n",
                            "      <td>1</td>\n",
                            "      <td>IntermediateLabel(values=[29045, 100], hidden_...</td>\n",
                            "      <td>08:04:05</td>\n",
                            "      <td>6040204998</td>\n",
                            "      <td>aaa</td>\n",
                            "      <td>6040204998</td>\n",
                            "      <td>0</td>\n",
                            "      <td>0</td>\n",
                            "      <td>0</td>\n",
                            "      <td>0</td>\n",
                            "      <td>0</td>\n",
                            "      <td>1</td>\n",
                            "      <td>0</td>\n",
                            "    </tr>\n",
                            "    <tr>\n",
                            "      <th>2</th>\n",
                            "      <td>6040204998</td>\n",
                            "      <td>29460</td>\n",
                            "      <td>0</td>\n",
                            "      <td>1</td>\n",
                            "      <td>IntermediateLabel(values=[29460, 0], hidden_va...</td>\n",
                            "      <td>08:11:00</td>\n",
                            "      <td>6040204998</td>\n",
                            "      <td>aaa</td>\n",
                            "      <td>6040204998</td>\n",
                            "      <td>0</td>\n",
                            "      <td>0</td>\n",
                            "      <td>0</td>\n",
                            "      <td>0</td>\n",
                            "      <td>0</td>\n",
                            "      <td>1</td>\n",
                            "      <td>0</td>\n",
                            "    </tr>\n",
                            "    <tr>\n",
                            "      <th>3</th>\n",
                            "      <td>2741627716</td>\n",
                            "      <td>29320</td>\n",
                            "      <td>0</td>\n",
                            "      <td>0</td>\n",
                            "      <td>IntermediateLabel(values=[29320, 0], hidden_va...</td>\n",
                            "      <td>08:08:40</td>\n",
                            "      <td>2741627716</td>\n",
                            "      <td>aaa</td>\n",
                            "      <td>2741627716</td>\n",
                            "      <td>1</td>\n",
                            "      <td>0</td>\n",
                            "      <td>0</td>\n",
                            "      <td>0</td>\n",
                            "      <td>0</td>\n",
                            "      <td>0</td>\n",
                            "      <td>0</td>\n",
                            "    </tr>\n",
                            "    <tr>\n",
                            "      <th>4</th>\n",
                            "      <td>2741627716</td>\n",
                            "      <td>29320</td>\n",
                            "      <td>0</td>\n",
                            "      <td>0</td>\n",
                            "      <td>IntermediateLabel(values=[29320, 0], hidden_va...</td>\n",
                            "      <td>08:08:40</td>\n",
                            "      <td>2741627716</td>\n",
                            "      <td>aaa</td>\n",
                            "      <td>2741627716</td>\n",
                            "      <td>0</td>\n",
                            "      <td>0</td>\n",
                            "      <td>1</td>\n",
                            "      <td>0</td>\n",
                            "      <td>0</td>\n",
                            "      <td>0</td>\n",
                            "      <td>0</td>\n",
                            "    </tr>\n",
                            "    <tr>\n",
                            "      <th>...</th>\n",
                            "      <td>...</td>\n",
                            "      <td>...</td>\n",
                            "      <td>...</td>\n",
                            "      <td>...</td>\n",
                            "      <td>...</td>\n",
                            "      <td>...</td>\n",
                            "      <td>...</td>\n",
                            "      <td>...</td>\n",
                            "      <td>...</td>\n",
                            "      <td>...</td>\n",
                            "      <td>...</td>\n",
                            "      <td>...</td>\n",
                            "      <td>...</td>\n",
                            "      <td>...</td>\n",
                            "      <td>...</td>\n",
                            "      <td>...</td>\n",
                            "    </tr>\n",
                            "    <tr>\n",
                            "      <th>91</th>\n",
                            "      <td>6038251142</td>\n",
                            "      <td>29048</td>\n",
                            "      <td>0</td>\n",
                            "      <td>0</td>\n",
                            "      <td>IntermediateLabel(values=[29048, 0], hidden_va...</td>\n",
                            "      <td>08:04:08</td>\n",
                            "      <td>6038251142</td>\n",
                            "      <td>aaa</td>\n",
                            "      <td>6038251142</td>\n",
                            "      <td>0</td>\n",
                            "      <td>0</td>\n",
                            "      <td>0</td>\n",
                            "      <td>0</td>\n",
                            "      <td>0</td>\n",
                            "      <td>0</td>\n",
                            "      <td>1</td>\n",
                            "    </tr>\n",
                            "    <tr>\n",
                            "      <th>92</th>\n",
                            "      <td>6038251142</td>\n",
                            "      <td>29104</td>\n",
                            "      <td>0</td>\n",
                            "      <td>1</td>\n",
                            "      <td>IntermediateLabel(values=[29104, 0], hidden_va...</td>\n",
                            "      <td>08:05:04</td>\n",
                            "      <td>6038251142</td>\n",
                            "      <td>aaa</td>\n",
                            "      <td>6038251142</td>\n",
                            "      <td>0</td>\n",
                            "      <td>0</td>\n",
                            "      <td>0</td>\n",
                            "      <td>0</td>\n",
                            "      <td>0</td>\n",
                            "      <td>0</td>\n",
                            "      <td>1</td>\n",
                            "    </tr>\n",
                            "    <tr>\n",
                            "      <th>93</th>\n",
                            "      <td>6038251142</td>\n",
                            "      <td>28914</td>\n",
                            "      <td>100</td>\n",
                            "      <td>1</td>\n",
                            "      <td>IntermediateLabel(values=[28914, 100], hidden_...</td>\n",
                            "      <td>08:01:54</td>\n",
                            "      <td>6038251142</td>\n",
                            "      <td>aaa</td>\n",
                            "      <td>6038251142</td>\n",
                            "      <td>0</td>\n",
                            "      <td>0</td>\n",
                            "      <td>0</td>\n",
                            "      <td>0</td>\n",
                            "      <td>0</td>\n",
                            "      <td>0</td>\n",
                            "      <td>1</td>\n",
                            "    </tr>\n",
                            "    <tr>\n",
                            "      <th>94</th>\n",
                            "      <td>3829822082</td>\n",
                            "      <td>29039</td>\n",
                            "      <td>100</td>\n",
                            "      <td>1</td>\n",
                            "      <td>IntermediateLabel(values=[29039, 100], hidden_...</td>\n",
                            "      <td>08:03:59</td>\n",
                            "      <td>3829822082</td>\n",
                            "      <td>aaa</td>\n",
                            "      <td>3829822082</td>\n",
                            "      <td>1</td>\n",
                            "      <td>0</td>\n",
                            "      <td>0</td>\n",
                            "      <td>0</td>\n",
                            "      <td>0</td>\n",
                            "      <td>0</td>\n",
                            "      <td>0</td>\n",
                            "    </tr>\n",
                            "    <tr>\n",
                            "      <th>95</th>\n",
                            "      <td>3829822082</td>\n",
                            "      <td>29039</td>\n",
                            "      <td>100</td>\n",
                            "      <td>1</td>\n",
                            "      <td>IntermediateLabel(values=[29039, 100], hidden_...</td>\n",
                            "      <td>08:03:59</td>\n",
                            "      <td>3829822082</td>\n",
                            "      <td>aaa</td>\n",
                            "      <td>3829822082</td>\n",
                            "      <td>0</td>\n",
                            "      <td>0</td>\n",
                            "      <td>0</td>\n",
                            "      <td>0</td>\n",
                            "      <td>0</td>\n",
                            "      <td>0</td>\n",
                            "      <td>1</td>\n",
                            "    </tr>\n",
                            "  </tbody>\n",
                            "</table>\n",
                            "<p>96 rows × 16 columns</p>\n",
                            "</div>"
                        ],
                        "text/plain": [
                            "    osm_node_id   time  cost  n_transfers  \\\n",
                            "0    6040204998  29404     0            0   \n",
                            "1    6040204998  29045   100            1   \n",
                            "2    6040204998  29460     0            1   \n",
                            "3    2741627716  29320     0            0   \n",
                            "4    2741627716  29320     0            0   \n",
                            "..          ...    ...   ...          ...   \n",
                            "91   6038251142  29048     0            0   \n",
                            "92   6038251142  29104     0            1   \n",
                            "93   6038251142  28914   100            1   \n",
                            "94   3829822082  29039   100            1   \n",
                            "95   3829822082  29039   100            1   \n",
                            "\n",
                            "                                                label human_readable_time  \\\n",
                            "0   IntermediateLabel(values=[29404, 0], hidden_va...            08:10:04   \n",
                            "1   IntermediateLabel(values=[29045, 100], hidden_...            08:04:05   \n",
                            "2   IntermediateLabel(values=[29460, 0], hidden_va...            08:11:00   \n",
                            "3   IntermediateLabel(values=[29320, 0], hidden_va...            08:08:40   \n",
                            "4   IntermediateLabel(values=[29320, 0], hidden_va...            08:08:40   \n",
                            "..                                                ...                 ...   \n",
                            "91  IntermediateLabel(values=[29048, 0], hidden_va...            08:04:08   \n",
                            "92  IntermediateLabel(values=[29104, 0], hidden_va...            08:05:04   \n",
                            "93  IntermediateLabel(values=[28914, 100], hidden_...            08:01:54   \n",
                            "94  IntermediateLabel(values=[29039, 100], hidden_...            08:03:59   \n",
                            "95  IntermediateLabel(values=[29039, 100], hidden_...            08:03:59   \n",
                            "\n",
                            "    target_id_osm start_id_hex  nearest_osm_node_id  grocery  education  \\\n",
                            "0      6040204998          aaa           6040204998        0          0   \n",
                            "1      6040204998          aaa           6040204998        0          0   \n",
                            "2      6040204998          aaa           6040204998        0          0   \n",
                            "3      2741627716          aaa           2741627716        1          0   \n",
                            "4      2741627716          aaa           2741627716        0          0   \n",
                            "..            ...          ...                  ...      ...        ...   \n",
                            "91     6038251142          aaa           6038251142        0          0   \n",
                            "92     6038251142          aaa           6038251142        0          0   \n",
                            "93     6038251142          aaa           6038251142        0          0   \n",
                            "94     3829822082          aaa           3829822082        1          0   \n",
                            "95     3829822082          aaa           3829822082        0          0   \n",
                            "\n",
                            "    health  banks  parks  sustenance  shops  \n",
                            "0        0      0      0           1      0  \n",
                            "1        0      0      0           1      0  \n",
                            "2        0      0      0           1      0  \n",
                            "3        0      0      0           0      0  \n",
                            "4        1      0      0           0      0  \n",
                            "..     ...    ...    ...         ...    ...  \n",
                            "91       0      0      0           0      1  \n",
                            "92       0      0      0           0      1  \n",
                            "93       0      0      0           0      1  \n",
                            "94       0      0      0           0      0  \n",
                            "95       0      0      0           0      1  \n",
                            "\n",
                            "[96 rows x 16 columns]"
                        ]
                    },
                    "execution_count": 34,
                    "metadata": {},
                    "output_type": "execute_result"
                }
            ],
            "source": [
                "poi_labels"
            ]
        },
        {
            "cell_type": "code",
            "execution_count": 16,
            "metadata": {},
            "outputs": [],
            "source": [
                "# types = [\"grocery\", \"education\", \"health\", \"banks\", \"parks\", \"sustenance\", \"shops\"]\n",
                "types = list(pois[\"type\"].unique())"
            ]
        },
        {
            "cell_type": "code",
            "execution_count": 17,
            "metadata": {},
            "outputs": [
                {
                    "data": {
                        "text/html": [
                            "<pre style=\"white-space:pre;overflow-x:auto;line-height:normal;font-family:Menlo,'DejaVu Sans Mono',consolas,'Courier New',monospace\"><span style=\"color: #7fbfbf; text-decoration-color: #7fbfbf\">[09:28:39] </span><span style=\"color: #000080; text-decoration-color: #000080\">INFO    </span> Grouping labels                                                               <a href=\"file:///home/moritz/dev/uni/mcr-py/notebooks/../src/package/minute_city/minute_city.py\" target=\"_blank\"><span style=\"color: #7f7f7f; text-decoration-color: #7f7f7f\">minute_city.py</span></a><span style=\"color: #7f7f7f; text-decoration-color: #7f7f7f\">:</span><a href=\"file:///home/moritz/dev/uni/mcr-py/notebooks/../src/package/minute_city/minute_city.py#73\" target=\"_blank\"><span style=\"color: #7f7f7f; text-decoration-color: #7f7f7f\">73</span></a>\n",
                            "</pre>\n"
                        ],
                        "text/plain": [
                            "\u001b[2;36m[09:28:39]\u001b[0m\u001b[2;36m \u001b[0m\u001b[34mINFO    \u001b[0m Grouping labels                                                               \u001b]8;id=646175;file:///home/moritz/dev/uni/mcr-py/notebooks/../src/package/minute_city/minute_city.py\u001b\\\u001b[2mminute_city.py\u001b[0m\u001b]8;;\u001b\\\u001b[2m:\u001b[0m\u001b]8;id=817080;file:///home/moritz/dev/uni/mcr-py/notebooks/../src/package/minute_city/minute_city.py#73\u001b\\\u001b[2m73\u001b[0m\u001b]8;;\u001b\\\n"
                        ]
                    },
                    "metadata": {},
                    "output_type": "display_data"
                },
                {
                    "data": {
                        "text/html": [
                            "<pre style=\"white-space:pre;overflow-x:auto;line-height:normal;font-family:Menlo,'DejaVu Sans Mono',consolas,'Courier New',monospace\"><span style=\"color: #7fbfbf; text-decoration-color: #7fbfbf\">           </span><span style=\"color: #000080; text-decoration-color: #000080\">INFO    </span> Grouping labels done <span style=\"font-weight: bold\">(</span><span style=\"color: #008080; text-decoration-color: #008080; font-weight: bold\">0.01</span> seconds<span style=\"font-weight: bold\">)</span>                                           <a href=\"file:///home/moritz/dev/uni/mcr-py/notebooks/../src/package/minute_city/minute_city.py\" target=\"_blank\"><span style=\"color: #7f7f7f; text-decoration-color: #7f7f7f\">minute_city.py</span></a><span style=\"color: #7f7f7f; text-decoration-color: #7f7f7f\">:</span><a href=\"file:///home/moritz/dev/uni/mcr-py/notebooks/../src/package/minute_city/minute_city.py#73\" target=\"_blank\"><span style=\"color: #7f7f7f; text-decoration-color: #7f7f7f\">73</span></a>\n",
                            "</pre>\n"
                        ],
                        "text/plain": [
                            "\u001b[2;36m          \u001b[0m\u001b[2;36m \u001b[0m\u001b[34mINFO    \u001b[0m Grouping labels done \u001b[1m(\u001b[0m\u001b[1;36m0.01\u001b[0m seconds\u001b[1m)\u001b[0m                                           \u001b]8;id=216456;file:///home/moritz/dev/uni/mcr-py/notebooks/../src/package/minute_city/minute_city.py\u001b\\\u001b[2mminute_city.py\u001b[0m\u001b]8;;\u001b\\\u001b[2m:\u001b[0m\u001b]8;id=118933;file:///home/moritz/dev/uni/mcr-py/notebooks/../src/package/minute_city/minute_city.py#73\u001b\\\u001b[2m73\u001b[0m\u001b]8;;\u001b\\\n"
                        ]
                    },
                    "metadata": {},
                    "output_type": "display_data"
                },
                {
                    "data": {
                        "text/html": [
                            "<pre style=\"white-space:pre;overflow-x:auto;line-height:normal;font-family:Menlo,'DejaVu Sans Mono',consolas,'Courier New',monospace\"><span style=\"color: #7fbfbf; text-decoration-color: #7fbfbf\">           </span><span style=\"color: #000080; text-decoration-color: #000080\">INFO    </span> Calculating profiles                                                          <a href=\"file:///home/moritz/dev/uni/mcr-py/notebooks/../src/package/minute_city/minute_city.py\" target=\"_blank\"><span style=\"color: #7f7f7f; text-decoration-color: #7f7f7f\">minute_city.py</span></a><span style=\"color: #7f7f7f; text-decoration-color: #7f7f7f\">:</span><a href=\"file:///home/moritz/dev/uni/mcr-py/notebooks/../src/package/minute_city/minute_city.py#81\" target=\"_blank\"><span style=\"color: #7f7f7f; text-decoration-color: #7f7f7f\">81</span></a>\n",
                            "</pre>\n"
                        ],
                        "text/plain": [
                            "\u001b[2;36m          \u001b[0m\u001b[2;36m \u001b[0m\u001b[34mINFO    \u001b[0m Calculating profiles                                                          \u001b]8;id=129652;file:///home/moritz/dev/uni/mcr-py/notebooks/../src/package/minute_city/minute_city.py\u001b\\\u001b[2mminute_city.py\u001b[0m\u001b]8;;\u001b\\\u001b[2m:\u001b[0m\u001b]8;id=639498;file:///home/moritz/dev/uni/mcr-py/notebooks/../src/package/minute_city/minute_city.py#81\u001b\\\u001b[2m81\u001b[0m\u001b]8;;\u001b\\\n"
                        ]
                    },
                    "metadata": {},
                    "output_type": "display_data"
                },
                {
                    "data": {
                        "application/vnd.jupyter.widget-view+json": {
                            "model_id": "1f02f5a7fba04d809f0c6df83ba29fec",
                            "version_major": 2,
                            "version_minor": 0
                        },
                        "text/plain": [
                            "  0%|          | 0/1 [00:00<?, ?it/s]"
                        ]
                    },
                    "metadata": {},
                    "output_type": "display_data"
                },
                {
                    "data": {
                        "text/html": [
                            "<pre style=\"white-space:pre;overflow-x:auto;line-height:normal;font-family:Menlo,'DejaVu Sans Mono',consolas,'Courier New',monospace\"><span style=\"color: #7fbfbf; text-decoration-color: #7fbfbf\">           </span><span style=\"color: #000080; text-decoration-color: #000080\">INFO    </span> Calculating profiles done <span style=\"font-weight: bold\">(</span><span style=\"color: #008080; text-decoration-color: #008080; font-weight: bold\">0.57</span> seconds<span style=\"font-weight: bold\">)</span>                                      <a href=\"file:///home/moritz/dev/uni/mcr-py/notebooks/../src/package/minute_city/minute_city.py\" target=\"_blank\"><span style=\"color: #7f7f7f; text-decoration-color: #7f7f7f\">minute_city.py</span></a><span style=\"color: #7f7f7f; text-decoration-color: #7f7f7f\">:</span><a href=\"file:///home/moritz/dev/uni/mcr-py/notebooks/../src/package/minute_city/minute_city.py#81\" target=\"_blank\"><span style=\"color: #7f7f7f; text-decoration-color: #7f7f7f\">81</span></a>\n",
                            "</pre>\n"
                        ],
                        "text/plain": [
                            "\u001b[2;36m          \u001b[0m\u001b[2;36m \u001b[0m\u001b[34mINFO    \u001b[0m Calculating profiles done \u001b[1m(\u001b[0m\u001b[1;36m0.57\u001b[0m seconds\u001b[1m)\u001b[0m                                      \u001b]8;id=515576;file:///home/moritz/dev/uni/mcr-py/notebooks/../src/package/minute_city/minute_city.py\u001b\\\u001b[2mminute_city.py\u001b[0m\u001b]8;;\u001b\\\u001b[2m:\u001b[0m\u001b]8;id=123154;file:///home/moritz/dev/uni/mcr-py/notebooks/../src/package/minute_city/minute_city.py#81\u001b\\\u001b[2m81\u001b[0m\u001b]8;;\u001b\\\n"
                        ]
                    },
                    "metadata": {},
                    "output_type": "display_data"
                },
                {
                    "data": {
                        "text/html": [
                            "<pre style=\"white-space:pre;overflow-x:auto;line-height:normal;font-family:Menlo,'DejaVu Sans Mono',consolas,'Courier New',monospace\"><span style=\"color: #7fbfbf; text-decoration-color: #7fbfbf\">           </span><span style=\"color: #000080; text-decoration-color: #000080\">INFO    </span> Creating profiles dataframe                                                   <a href=\"file:///home/moritz/dev/uni/mcr-py/notebooks/../src/package/minute_city/minute_city.py\" target=\"_blank\"><span style=\"color: #7f7f7f; text-decoration-color: #7f7f7f\">minute_city.py</span></a><span style=\"color: #7f7f7f; text-decoration-color: #7f7f7f\">:</span><a href=\"file:///home/moritz/dev/uni/mcr-py/notebooks/../src/package/minute_city/minute_city.py#92\" target=\"_blank\"><span style=\"color: #7f7f7f; text-decoration-color: #7f7f7f\">92</span></a>\n",
                            "</pre>\n"
                        ],
                        "text/plain": [
                            "\u001b[2;36m          \u001b[0m\u001b[2;36m \u001b[0m\u001b[34mINFO    \u001b[0m Creating profiles dataframe                                                   \u001b]8;id=951783;file:///home/moritz/dev/uni/mcr-py/notebooks/../src/package/minute_city/minute_city.py\u001b\\\u001b[2mminute_city.py\u001b[0m\u001b]8;;\u001b\\\u001b[2m:\u001b[0m\u001b]8;id=846817;file:///home/moritz/dev/uni/mcr-py/notebooks/../src/package/minute_city/minute_city.py#92\u001b\\\u001b[2m92\u001b[0m\u001b]8;;\u001b\\\n"
                        ]
                    },
                    "metadata": {},
                    "output_type": "display_data"
                },
                {
                    "data": {
                        "text/html": [
                            "<pre style=\"white-space:pre;overflow-x:auto;line-height:normal;font-family:Menlo,'DejaVu Sans Mono',consolas,'Courier New',monospace\"><span style=\"color: #7fbfbf; text-decoration-color: #7fbfbf\">           </span><span style=\"color: #000080; text-decoration-color: #000080\">INFO    </span> Creating profiles dataframe done <span style=\"font-weight: bold\">(</span><span style=\"color: #008080; text-decoration-color: #008080; font-weight: bold\">0.02</span> seconds<span style=\"font-weight: bold\">)</span>                               <a href=\"file:///home/moritz/dev/uni/mcr-py/notebooks/../src/package/minute_city/minute_city.py\" target=\"_blank\"><span style=\"color: #7f7f7f; text-decoration-color: #7f7f7f\">minute_city.py</span></a><span style=\"color: #7f7f7f; text-decoration-color: #7f7f7f\">:</span><a href=\"file:///home/moritz/dev/uni/mcr-py/notebooks/../src/package/minute_city/minute_city.py#92\" target=\"_blank\"><span style=\"color: #7f7f7f; text-decoration-color: #7f7f7f\">92</span></a>\n",
                            "</pre>\n"
                        ],
                        "text/plain": [
                            "\u001b[2;36m          \u001b[0m\u001b[2;36m \u001b[0m\u001b[34mINFO    \u001b[0m Creating profiles dataframe done \u001b[1m(\u001b[0m\u001b[1;36m0.02\u001b[0m seconds\u001b[1m)\u001b[0m                               \u001b]8;id=307306;file:///home/moritz/dev/uni/mcr-py/notebooks/../src/package/minute_city/minute_city.py\u001b\\\u001b[2mminute_city.py\u001b[0m\u001b]8;;\u001b\\\u001b[2m:\u001b[0m\u001b]8;id=208523;file:///home/moritz/dev/uni/mcr-py/notebooks/../src/package/minute_city/minute_city.py#92\u001b\\\u001b[2m92\u001b[0m\u001b]8;;\u001b\\\n"
                        ]
                    },
                    "metadata": {},
                    "output_type": "display_data"
                }
            ],
            "source": [
                "profiles_df = minute_city.get_profiles_df(poi_labels, types)"
            ]
        },
        {
            "cell_type": "code",
            "execution_count": 18,
            "metadata": {},
            "outputs": [
                {
                    "data": {
                        "text/html": [
                            "<div>\n",
                            "<style scoped>\n",
                            "    .dataframe tbody tr th:only-of-type {\n",
                            "        vertical-align: middle;\n",
                            "    }\n",
                            "\n",
                            "    .dataframe tbody tr th {\n",
                            "        vertical-align: top;\n",
                            "    }\n",
                            "\n",
                            "    .dataframe thead th {\n",
                            "        text-align: right;\n",
                            "    }\n",
                            "</style>\n",
                            "<table border=\"1\" class=\"dataframe\">\n",
                            "  <thead>\n",
                            "    <tr style=\"text-align: right;\">\n",
                            "      <th></th>\n",
                            "      <th>cost_0</th>\n",
                            "      <th>cost_100</th>\n",
                            "      <th>any_column_different</th>\n",
                            "      <th>required_cost_for_optimal</th>\n",
                            "      <th>optimal</th>\n",
                            "    </tr>\n",
                            "    <tr>\n",
                            "      <th>hex_id</th>\n",
                            "      <th></th>\n",
                            "      <th></th>\n",
                            "      <th></th>\n",
                            "      <th></th>\n",
                            "      <th></th>\n",
                            "    </tr>\n",
                            "  </thead>\n",
                            "  <tbody>\n",
                            "    <tr>\n",
                            "      <th>aaa</th>\n",
                            "      <td>796.0</td>\n",
                            "      <td>316.0</td>\n",
                            "      <td>True</td>\n",
                            "      <td>100</td>\n",
                            "      <td>316.0</td>\n",
                            "    </tr>\n",
                            "  </tbody>\n",
                            "</table>\n",
                            "</div>"
                        ],
                        "text/plain": [
                            "        cost_0  cost_100  any_column_different  required_cost_for_optimal  \\\n",
                            "hex_id                                                                      \n",
                            "aaa      796.0     316.0                  True                        100   \n",
                            "\n",
                            "        optimal  \n",
                            "hex_id           \n",
                            "aaa       316.0  "
                        ]
                    },
                    "execution_count": 18,
                    "metadata": {},
                    "output_type": "execute_result"
                }
            ],
            "source": [
                "profiles_df"
            ]
        },
        {
            "cell_type": "code",
            "execution_count": 19,
            "metadata": {},
            "outputs": [],
            "source": [
                "max_time = strtime.str_time_to_seconds(\"09:00:00\")\n",
                "max_cost = 1000\n",
                "max_transfers = 10\n",
                "\n",
                "valid_labels = labels[\n",
                "    (labels[\"time\"] <= max_time)\n",
                "    & (labels[\"cost\"] <= max_cost)\n",
                "    & (labels[\"n_transfers\"] <= max_transfers)\n",
                "]"
            ]
        },
        {
            "cell_type": "code",
            "execution_count": 20,
            "metadata": {},
            "outputs": [],
            "source": [
                "# selection = valid_labels.sample(min(1000, len(valid_labels)))\n",
                "\n",
                "max_cost = valid_labels.cost.max()\n",
                "\n",
                "from colorsys import hls_to_rgb\n",
                "from typing import Dict\n",
                "\n",
                "\n",
                "def hsl_to_hex(h: float, l: float, s: float) -> str:\n",
                "    r, g, b = [int(x * 255.0) for x in hls_to_rgb(h, l, s)]\n",
                "    return \"#{:02x}{:02x}{:02x}\".format(r, g, b)\n",
                "\n",
                "\n",
                "def generate_colors_hsl(max_cost: float) -> Dict[int, str]:\n",
                "    if max_cost == 0:\n",
                "        return {0: \"#ffcccc\"}\n",
                "    return {\n",
                "        cost: hsl_to_hex(h=0, l=0.5 + 0.4 * (max_cost - cost) / max_cost, s=0.8)\n",
                "        for cost in range(int(max_cost) + 1)\n",
                "    }\n",
                "\n",
                "\n",
                "colors = generate_colors_hsl(max_cost)"
            ]
        },
        {
            "cell_type": "code",
            "execution_count": 21,
            "metadata": {},
            "outputs": [],
            "source": [
                "start_node_id = labels[labels.time == labels.time.min()].iloc[0].osm_node_id"
            ]
        },
        {
            "cell_type": "code",
            "execution_count": null,
            "metadata": {},
            "outputs": [],
            "source": [
                "nodes_by_id = nodes.set_index(\"id\")\n",
                "nodes_by_id[\"id\"] = nodes_by_id.index\n",
                "\n",
                "start_node = nodes_by_id.loc[start_node_id]\n",
                "\n",
                "m = folium.Map(location=[start_node.lat, start_node.lon], zoom_start=13)\n",
                "\n",
                "# for label in selection.itertuples():\n",
                "for label in labels.itertuples():\n",
                "    node = nodes_by_id.loc[label.osm_node_id]\n",
                "    folium.CircleMarker(\n",
                "        location=[node.lat, node.lon],\n",
                "        radius=3,\n",
                "        weight=1,\n",
                "        fill=True,\n",
                "        fill_color=colors[label.cost],\n",
                "        fill_opacity=1,\n",
                "        color=\"black\",\n",
                "        popup=f\"{label.human_readable_time} ({label.cost})\",\n",
                "    ).add_to(m)\n",
                "\n",
                "folium.CircleMarker(\n",
                "    location=[start_node.lat, start_node.lon],\n",
                "    radius=5,\n",
                "    weight=1,\n",
                "    fill=True,\n",
                "    fill_color=\"green\",\n",
                "    fill_opacity=1,\n",
                "    color=\"black\",\n",
                "    popup=\"Start\",\n",
                ").add_to(m)\n",
                "\n",
                "m"
            ]
        },
        {
            "cell_type": "code",
            "execution_count": 19,
            "metadata": {},
            "outputs": [],
            "source": [
                "from mcr_py.package.mcr.path import GTFSPath, Path, PathType\n",
                "\n",
                "translator_map = {\n",
                "    # PathType.WALKING: reverse_walking_node_map,\n",
                "    # PathType.CYCLING_WALKING: reverse_node_map,\n",
                "    PathType.DRIVING_WALKING: reverse_node_map,\n",
                "    # PathType.PUBLIC_TRANSPORT: None,\n",
                "}\n",
                "no_prefix_reverse_node_map = {k: int(v[1:]) for k, v in reverse_node_map.items()}\n",
                "no_prefix_reverse_node_map = {k: int(v[1:]) for k, v in reverse_node_map.items()}\n",
                "no_prefix_translator_map = {\n",
                "    PathType.DRIVING_WALKING: no_prefix_reverse_node_map,\n",
                "    PathType.PUBLIC_TRANSPORT: None,\n",
                "}"
            ]
        },
        {
            "cell_type": "code",
            "execution_count": 20,
            "metadata": {},
            "outputs": [],
            "source": [
                "result_bags = bags_i[1]"
            ]
        },
        {
            "cell_type": "code",
            "execution_count": 21,
            "metadata": {},
            "outputs": [],
            "source": [
                "walking_result_bags_flat = []\n",
                "for node_id, bag in result_bags.items():\n",
                "    for label in bag:\n",
                "        walking_result_bags_flat.append((node_id, label))"
            ]
        },
        {
            "cell_type": "code",
            "execution_count": 22,
            "metadata": {},
            "outputs": [
                {
                    "ename": "KeyError",
                    "evalue": "<PathType.WALKING: 'walking'>",
                    "output_type": "error",
                    "traceback": [
                        "\u001b[0;31m---------------------------------------------------------------------------\u001b[0m",
                        "\u001b[0;31mKeyError\u001b[0m                                  Traceback (most recent call last)",
                        "\u001b[1;32m/home/moritz/dev/uni/mcr-py/notebooks/mcr_results.ipynb Cell 21\u001b[0m line \u001b[0;36m2\n\u001b[1;32m      <a href='vscode-notebook-cell:/home/moritz/dev/uni/mcr-py/notebooks/mcr_results.ipynb#X26sZmlsZQ%3D%3D?line=0'>1</a>\u001b[0m path_objs_with_ids \u001b[39m=\u001b[39m pd\u001b[39m.\u001b[39mSeries(\n\u001b[0;32m----> <a href='vscode-notebook-cell:/home/moritz/dev/uni/mcr-py/notebooks/mcr_results.ipynb#X26sZmlsZQ%3D%3D?line=1'>2</a>\u001b[0m     \u001b[39mlist\u001b[39;49m(\n\u001b[1;32m      <a href='vscode-notebook-cell:/home/moritz/dev/uni/mcr-py/notebooks/mcr_results.ipynb#X26sZmlsZQ%3D%3D?line=2'>3</a>\u001b[0m         \u001b[39mmap\u001b[39;49m(\n\u001b[1;32m      <a href='vscode-notebook-cell:/home/moritz/dev/uni/mcr-py/notebooks/mcr_results.ipynb#X26sZmlsZQ%3D%3D?line=3'>4</a>\u001b[0m             \u001b[39mlambda\u001b[39;49;00m x: (\n\u001b[1;32m      <a href='vscode-notebook-cell:/home/moritz/dev/uni/mcr-py/notebooks/mcr_results.ipynb#X26sZmlsZQ%3D%3D?line=4'>5</a>\u001b[0m                 x[\u001b[39m0\u001b[39;49m],\n\u001b[1;32m      <a href='vscode-notebook-cell:/home/moritz/dev/uni/mcr-py/notebooks/mcr_results.ipynb#X26sZmlsZQ%3D%3D?line=5'>6</a>\u001b[0m                 path_manager\u001b[39m.\u001b[39;49mreconstruct_and_translate_path_for_label(\n\u001b[1;32m      <a href='vscode-notebook-cell:/home/moritz/dev/uni/mcr-py/notebooks/mcr_results.ipynb#X26sZmlsZQ%3D%3D?line=6'>7</a>\u001b[0m                     x[\u001b[39m1\u001b[39;49m], no_prefix_translator_map\n\u001b[1;32m      <a href='vscode-notebook-cell:/home/moritz/dev/uni/mcr-py/notebooks/mcr_results.ipynb#X26sZmlsZQ%3D%3D?line=7'>8</a>\u001b[0m                 ),\n\u001b[1;32m      <a href='vscode-notebook-cell:/home/moritz/dev/uni/mcr-py/notebooks/mcr_results.ipynb#X26sZmlsZQ%3D%3D?line=8'>9</a>\u001b[0m             ),\n\u001b[1;32m     <a href='vscode-notebook-cell:/home/moritz/dev/uni/mcr-py/notebooks/mcr_results.ipynb#X26sZmlsZQ%3D%3D?line=9'>10</a>\u001b[0m             walking_result_bags_flat[:\u001b[39m10000\u001b[39;49m],\n\u001b[1;32m     <a href='vscode-notebook-cell:/home/moritz/dev/uni/mcr-py/notebooks/mcr_results.ipynb#X26sZmlsZQ%3D%3D?line=10'>11</a>\u001b[0m         )\n\u001b[1;32m     <a href='vscode-notebook-cell:/home/moritz/dev/uni/mcr-py/notebooks/mcr_results.ipynb#X26sZmlsZQ%3D%3D?line=11'>12</a>\u001b[0m     )\n\u001b[1;32m     <a href='vscode-notebook-cell:/home/moritz/dev/uni/mcr-py/notebooks/mcr_results.ipynb#X26sZmlsZQ%3D%3D?line=12'>13</a>\u001b[0m )\n\u001b[1;32m     <a href='vscode-notebook-cell:/home/moritz/dev/uni/mcr-py/notebooks/mcr_results.ipynb#X26sZmlsZQ%3D%3D?line=13'>14</a>\u001b[0m node_ids, path_objs \u001b[39m=\u001b[39m \u001b[39mlist\u001b[39m(\u001b[39mzip\u001b[39m(\u001b[39m*\u001b[39mpath_objs_with_ids))\n\u001b[1;32m     <a href='vscode-notebook-cell:/home/moritz/dev/uni/mcr-py/notebooks/mcr_results.ipynb#X26sZmlsZQ%3D%3D?line=14'>15</a>\u001b[0m path_objs[:\u001b[39m3\u001b[39m]\n",
                        "\u001b[1;32m/home/moritz/dev/uni/mcr-py/notebooks/mcr_results.ipynb Cell 21\u001b[0m line \u001b[0;36m6\n\u001b[1;32m      <a href='vscode-notebook-cell:/home/moritz/dev/uni/mcr-py/notebooks/mcr_results.ipynb#X26sZmlsZQ%3D%3D?line=0'>1</a>\u001b[0m path_objs_with_ids \u001b[39m=\u001b[39m pd\u001b[39m.\u001b[39mSeries(\n\u001b[1;32m      <a href='vscode-notebook-cell:/home/moritz/dev/uni/mcr-py/notebooks/mcr_results.ipynb#X26sZmlsZQ%3D%3D?line=1'>2</a>\u001b[0m     \u001b[39mlist\u001b[39m(\n\u001b[1;32m      <a href='vscode-notebook-cell:/home/moritz/dev/uni/mcr-py/notebooks/mcr_results.ipynb#X26sZmlsZQ%3D%3D?line=2'>3</a>\u001b[0m         \u001b[39mmap\u001b[39m(\n\u001b[1;32m      <a href='vscode-notebook-cell:/home/moritz/dev/uni/mcr-py/notebooks/mcr_results.ipynb#X26sZmlsZQ%3D%3D?line=3'>4</a>\u001b[0m             \u001b[39mlambda\u001b[39;00m x: (\n\u001b[1;32m      <a href='vscode-notebook-cell:/home/moritz/dev/uni/mcr-py/notebooks/mcr_results.ipynb#X26sZmlsZQ%3D%3D?line=4'>5</a>\u001b[0m                 x[\u001b[39m0\u001b[39m],\n\u001b[0;32m----> <a href='vscode-notebook-cell:/home/moritz/dev/uni/mcr-py/notebooks/mcr_results.ipynb#X26sZmlsZQ%3D%3D?line=5'>6</a>\u001b[0m                 path_manager\u001b[39m.\u001b[39;49mreconstruct_and_translate_path_for_label(\n\u001b[1;32m      <a href='vscode-notebook-cell:/home/moritz/dev/uni/mcr-py/notebooks/mcr_results.ipynb#X26sZmlsZQ%3D%3D?line=6'>7</a>\u001b[0m                     x[\u001b[39m1\u001b[39;49m], no_prefix_translator_map\n\u001b[1;32m      <a href='vscode-notebook-cell:/home/moritz/dev/uni/mcr-py/notebooks/mcr_results.ipynb#X26sZmlsZQ%3D%3D?line=7'>8</a>\u001b[0m                 ),\n\u001b[1;32m      <a href='vscode-notebook-cell:/home/moritz/dev/uni/mcr-py/notebooks/mcr_results.ipynb#X26sZmlsZQ%3D%3D?line=8'>9</a>\u001b[0m             ),\n\u001b[1;32m     <a href='vscode-notebook-cell:/home/moritz/dev/uni/mcr-py/notebooks/mcr_results.ipynb#X26sZmlsZQ%3D%3D?line=9'>10</a>\u001b[0m             walking_result_bags_flat[:\u001b[39m10000\u001b[39m],\n\u001b[1;32m     <a href='vscode-notebook-cell:/home/moritz/dev/uni/mcr-py/notebooks/mcr_results.ipynb#X26sZmlsZQ%3D%3D?line=10'>11</a>\u001b[0m         )\n\u001b[1;32m     <a href='vscode-notebook-cell:/home/moritz/dev/uni/mcr-py/notebooks/mcr_results.ipynb#X26sZmlsZQ%3D%3D?line=11'>12</a>\u001b[0m     )\n\u001b[1;32m     <a href='vscode-notebook-cell:/home/moritz/dev/uni/mcr-py/notebooks/mcr_results.ipynb#X26sZmlsZQ%3D%3D?line=12'>13</a>\u001b[0m )\n\u001b[1;32m     <a href='vscode-notebook-cell:/home/moritz/dev/uni/mcr-py/notebooks/mcr_results.ipynb#X26sZmlsZQ%3D%3D?line=13'>14</a>\u001b[0m node_ids, path_objs \u001b[39m=\u001b[39m \u001b[39mlist\u001b[39m(\u001b[39mzip\u001b[39m(\u001b[39m*\u001b[39mpath_objs_with_ids))\n\u001b[1;32m     <a href='vscode-notebook-cell:/home/moritz/dev/uni/mcr-py/notebooks/mcr_results.ipynb#X26sZmlsZQ%3D%3D?line=14'>15</a>\u001b[0m path_objs[:\u001b[39m3\u001b[39m]\n",
                        "File \u001b[0;32m~/dev/uni/mcr-py/notebooks/../src/package/mcr/path.py:120\u001b[0m, in \u001b[0;36mPathManager.reconstruct_and_translate_path_for_label\u001b[0;34m(self, label, translator_map)\u001b[0m\n\u001b[1;32m    115\u001b[0m path \u001b[39m=\u001b[39m \u001b[39mself\u001b[39m\u001b[39m.\u001b[39mpaths[path_id]\n\u001b[1;32m    116\u001b[0m \u001b[39mif\u001b[39;00m path\u001b[39m.\u001b[39mpath_type \u001b[39min\u001b[39;00m MLC_PATH_TYPES:\n\u001b[1;32m    117\u001b[0m     translated_path\u001b[39m.\u001b[39mappend(\n\u001b[1;32m    118\u001b[0m         Path(\n\u001b[1;32m    119\u001b[0m             path_type\u001b[39m=\u001b[39mpath\u001b[39m.\u001b[39mpath_type,\n\u001b[0;32m--> 120\u001b[0m             path\u001b[39m=\u001b[39m[translator_map[path\u001b[39m.\u001b[39mpath_type][p] \u001b[39mfor\u001b[39;00m p \u001b[39min\u001b[39;00m path\u001b[39m.\u001b[39mpath],\n\u001b[1;32m    121\u001b[0m             meta\u001b[39m=\u001b[39mpath\u001b[39m.\u001b[39mmeta,\n\u001b[1;32m    122\u001b[0m         )\n\u001b[1;32m    123\u001b[0m     )\n\u001b[1;32m    124\u001b[0m \u001b[39melif\u001b[39;00m path\u001b[39m.\u001b[39mpath_type \u001b[39m==\u001b[39m PathType\u001b[39m.\u001b[39mPUBLIC_TRANSPORT:\n\u001b[1;32m    125\u001b[0m     \u001b[39mif\u001b[39;00m \u001b[39mlen\u001b[39m(path\u001b[39m.\u001b[39mpath) \u001b[39m!=\u001b[39m \u001b[39m3\u001b[39m:\n",
                        "File \u001b[0;32m~/dev/uni/mcr-py/notebooks/../src/package/mcr/path.py:120\u001b[0m, in \u001b[0;36m<listcomp>\u001b[0;34m(.0)\u001b[0m\n\u001b[1;32m    115\u001b[0m path \u001b[39m=\u001b[39m \u001b[39mself\u001b[39m\u001b[39m.\u001b[39mpaths[path_id]\n\u001b[1;32m    116\u001b[0m \u001b[39mif\u001b[39;00m path\u001b[39m.\u001b[39mpath_type \u001b[39min\u001b[39;00m MLC_PATH_TYPES:\n\u001b[1;32m    117\u001b[0m     translated_path\u001b[39m.\u001b[39mappend(\n\u001b[1;32m    118\u001b[0m         Path(\n\u001b[1;32m    119\u001b[0m             path_type\u001b[39m=\u001b[39mpath\u001b[39m.\u001b[39mpath_type,\n\u001b[0;32m--> 120\u001b[0m             path\u001b[39m=\u001b[39m[translator_map[path\u001b[39m.\u001b[39;49mpath_type][p] \u001b[39mfor\u001b[39;00m p \u001b[39min\u001b[39;00m path\u001b[39m.\u001b[39mpath],\n\u001b[1;32m    121\u001b[0m             meta\u001b[39m=\u001b[39mpath\u001b[39m.\u001b[39mmeta,\n\u001b[1;32m    122\u001b[0m         )\n\u001b[1;32m    123\u001b[0m     )\n\u001b[1;32m    124\u001b[0m \u001b[39melif\u001b[39;00m path\u001b[39m.\u001b[39mpath_type \u001b[39m==\u001b[39m PathType\u001b[39m.\u001b[39mPUBLIC_TRANSPORT:\n\u001b[1;32m    125\u001b[0m     \u001b[39mif\u001b[39;00m \u001b[39mlen\u001b[39m(path\u001b[39m.\u001b[39mpath) \u001b[39m!=\u001b[39m \u001b[39m3\u001b[39m:\n",
                        "\u001b[0;31mKeyError\u001b[0m: <PathType.WALKING: 'walking'>"
                    ]
                }
            ],
            "source": [
                "path_objs_with_ids = pd.Series(\n",
                "    list(\n",
                "        map(\n",
                "            lambda x: (\n",
                "                x[0],\n",
                "                path_manager.reconstruct_and_translate_path_for_label(\n",
                "                    x[1], no_prefix_translator_map\n",
                "                ),\n",
                "            ),\n",
                "            walking_result_bags_flat[:10000],\n",
                "        )\n",
                "    )\n",
                ")\n",
                "node_ids, path_objs = list(zip(*path_objs_with_ids))\n",
                "path_objs[:3]"
            ]
        },
        {
            "cell_type": "code",
            "execution_count": null,
            "metadata": {},
            "outputs": [
                {
                    "data": {
                        "text/plain": [
                            "[Path(path_type=PathType.DRIVING_WALKING, path=[394001227, 1679917802, 4394977417, 2694582111, 4297860764, 266709751, 8805331129, 737784943, 266709711, 626052074, 3141997563, 737845925, 266710405, 2427289544, 4297860767, 2116624890, 3141997564, 276278173, 734098359, 2285985235, 279486552, 280124803, 943958005, 8789517655, 943957929, 671213002, 733934973, 315117901, 671213003, 2116634417, 26110723, 627998733, 3190145352, 406937317, 8789517653, 2116641930, 2116641928, 2427287508, 279166995, 5338775614, 8789517656, 5338775615, 2116641932, 2427289541, 3190145355, 279167057, 5338775612, 667027425, 1679918212, 2116645220, 279166998, 3447314049, 279167348, 8254554431, 8254554432, 3190145357, 8254554430, 2427289542, 279167346, 8254554429, 279166996, 2159999733, 1679918259, 315118775, 8254554447, 1462694008, 279231485, 3190145358, 395576169, 1679918288, 315119693, 8254554484, 654454038, 661087237, 2645720096, 654454041, 8254554491, 8254554506, 8254554524, 8254554518, 654454101, 3447307341, 654454102, 2978562417, 654454072, 8254554287, 8254554565, 8254554565], meta={'values': [28876, 38], 'hidden_values': [0, 0]})]"
                        ]
                    },
                    "execution_count": 24,
                    "metadata": {},
                    "output_type": "execute_result"
                }
            ],
            "source": [
                "path_objs[0]"
            ]
        },
        {
            "cell_type": "code",
            "execution_count": null,
            "metadata": {},
            "outputs": [
                {
                    "data": {
                        "text/plain": [
                            "'D394001227'"
                        ]
                    },
                    "execution_count": 25,
                    "metadata": {},
                    "output_type": "execute_result"
                }
            ],
            "source": [
                "reverse_node_map[35781]"
            ]
        },
        {
            "cell_type": "code",
            "execution_count": null,
            "metadata": {},
            "outputs": [
                {
                    "data": {
                        "text/html": [
                            "<div>\n",
                            "<style scoped>\n",
                            "    .dataframe tbody tr th:only-of-type {\n",
                            "        vertical-align: middle;\n",
                            "    }\n",
                            "\n",
                            "    .dataframe tbody tr th {\n",
                            "        vertical-align: top;\n",
                            "    }\n",
                            "\n",
                            "    .dataframe thead th {\n",
                            "        text-align: right;\n",
                            "    }\n",
                            "</style>\n",
                            "<table border=\"1\" class=\"dataframe\">\n",
                            "  <thead>\n",
                            "    <tr style=\"text-align: right;\">\n",
                            "      <th></th>\n",
                            "      <th>osm_node_id</th>\n",
                            "      <th>time</th>\n",
                            "      <th>cost</th>\n",
                            "      <th>n_transfers</th>\n",
                            "      <th>human_readable_time</th>\n",
                            "      <th>target_id_osm</th>\n",
                            "      <th>start_id_hex</th>\n",
                            "    </tr>\n",
                            "  </thead>\n",
                            "  <tbody>\n",
                            "    <tr>\n",
                            "      <th>0</th>\n",
                            "      <td>8254554550</td>\n",
                            "      <td>28876</td>\n",
                            "      <td>38</td>\n",
                            "      <td>0</td>\n",
                            "      <td>08:01:16</td>\n",
                            "      <td>8254554550</td>\n",
                            "      <td>aaa</td>\n",
                            "    </tr>\n",
                            "    <tr>\n",
                            "      <th>3279</th>\n",
                            "      <td>266712495</td>\n",
                            "      <td>28830</td>\n",
                            "      <td>19</td>\n",
                            "      <td>0</td>\n",
                            "      <td>08:00:30</td>\n",
                            "      <td>266712495</td>\n",
                            "      <td>aaa</td>\n",
                            "    </tr>\n",
                            "    <tr>\n",
                            "      <th>3278</th>\n",
                            "      <td>266712495</td>\n",
                            "      <td>29227</td>\n",
                            "      <td>0</td>\n",
                            "      <td>0</td>\n",
                            "      <td>08:07:07</td>\n",
                            "      <td>266712495</td>\n",
                            "      <td>aaa</td>\n",
                            "    </tr>\n",
                            "    <tr>\n",
                            "      <th>3277</th>\n",
                            "      <td>3734989924</td>\n",
                            "      <td>28864</td>\n",
                            "      <td>38</td>\n",
                            "      <td>0</td>\n",
                            "      <td>08:01:04</td>\n",
                            "      <td>3734989924</td>\n",
                            "      <td>aaa</td>\n",
                            "    </tr>\n",
                            "    <tr>\n",
                            "      <th>3276</th>\n",
                            "      <td>3734989924</td>\n",
                            "      <td>28928</td>\n",
                            "      <td>19</td>\n",
                            "      <td>0</td>\n",
                            "      <td>08:02:08</td>\n",
                            "      <td>3734989924</td>\n",
                            "      <td>aaa</td>\n",
                            "    </tr>\n",
                            "    <tr>\n",
                            "      <th>...</th>\n",
                            "      <td>...</td>\n",
                            "      <td>...</td>\n",
                            "      <td>...</td>\n",
                            "      <td>...</td>\n",
                            "      <td>...</td>\n",
                            "      <td>...</td>\n",
                            "      <td>...</td>\n",
                            "    </tr>\n",
                            "    <tr>\n",
                            "      <th>1635</th>\n",
                            "      <td>8634843176</td>\n",
                            "      <td>29017</td>\n",
                            "      <td>0</td>\n",
                            "      <td>0</td>\n",
                            "      <td>08:03:37</td>\n",
                            "      <td>8634843176</td>\n",
                            "      <td>aaa</td>\n",
                            "    </tr>\n",
                            "    <tr>\n",
                            "      <th>1634</th>\n",
                            "      <td>5375654928</td>\n",
                            "      <td>28837</td>\n",
                            "      <td>19</td>\n",
                            "      <td>0</td>\n",
                            "      <td>08:00:37</td>\n",
                            "      <td>5375654928</td>\n",
                            "      <td>aaa</td>\n",
                            "    </tr>\n",
                            "    <tr>\n",
                            "      <th>1633</th>\n",
                            "      <td>8541426514</td>\n",
                            "      <td>28827</td>\n",
                            "      <td>19</td>\n",
                            "      <td>0</td>\n",
                            "      <td>08:00:27</td>\n",
                            "      <td>8541426514</td>\n",
                            "      <td>aaa</td>\n",
                            "    </tr>\n",
                            "    <tr>\n",
                            "      <th>1639</th>\n",
                            "      <td>1539888990</td>\n",
                            "      <td>28833</td>\n",
                            "      <td>19</td>\n",
                            "      <td>0</td>\n",
                            "      <td>08:00:33</td>\n",
                            "      <td>1539888990</td>\n",
                            "      <td>aaa</td>\n",
                            "    </tr>\n",
                            "    <tr>\n",
                            "      <th>1632</th>\n",
                            "      <td>4360133865</td>\n",
                            "      <td>28836</td>\n",
                            "      <td>19</td>\n",
                            "      <td>0</td>\n",
                            "      <td>08:00:36</td>\n",
                            "      <td>4360133865</td>\n",
                            "      <td>aaa</td>\n",
                            "    </tr>\n",
                            "  </tbody>\n",
                            "</table>\n",
                            "<p>4913 rows × 7 columns</p>\n",
                            "</div>"
                        ],
                        "text/plain": [
                            "      osm_node_id   time  cost  n_transfers human_readable_time  \\\n",
                            "0      8254554550  28876    38            0            08:01:16   \n",
                            "3279    266712495  28830    19            0            08:00:30   \n",
                            "3278    266712495  29227     0            0            08:07:07   \n",
                            "3277   3734989924  28864    38            0            08:01:04   \n",
                            "3276   3734989924  28928    19            0            08:02:08   \n",
                            "...           ...    ...   ...          ...                 ...   \n",
                            "1635   8634843176  29017     0            0            08:03:37   \n",
                            "1634   5375654928  28837    19            0            08:00:37   \n",
                            "1633   8541426514  28827    19            0            08:00:27   \n",
                            "1639   1539888990  28833    19            0            08:00:33   \n",
                            "1632   4360133865  28836    19            0            08:00:36   \n",
                            "\n",
                            "      target_id_osm start_id_hex  \n",
                            "0        8254554550          aaa  \n",
                            "3279      266712495          aaa  \n",
                            "3278      266712495          aaa  \n",
                            "3277     3734989924          aaa  \n",
                            "3276     3734989924          aaa  \n",
                            "...             ...          ...  \n",
                            "1635     8634843176          aaa  \n",
                            "1634     5375654928          aaa  \n",
                            "1633     8541426514          aaa  \n",
                            "1639     1539888990          aaa  \n",
                            "1632     4360133865          aaa  \n",
                            "\n",
                            "[4913 rows x 7 columns]"
                        ]
                    },
                    "execution_count": 26,
                    "metadata": {},
                    "output_type": "execute_result"
                }
            ],
            "source": [
                "labels.drop(columns=[\"label\"])"
            ]
        },
        {
            "cell_type": "code",
            "execution_count": null,
            "metadata": {},
            "outputs": [
                {
                    "name": "stdout",
                    "output_type": "stream",
                    "text": [
                        "1679798523\n"
                    ]
                },
                {
                    "data": {
                        "text/html": [
                            "<div>\n",
                            "<style scoped>\n",
                            "    .dataframe tbody tr th:only-of-type {\n",
                            "        vertical-align: middle;\n",
                            "    }\n",
                            "\n",
                            "    .dataframe tbody tr th {\n",
                            "        vertical-align: top;\n",
                            "    }\n",
                            "\n",
                            "    .dataframe thead th {\n",
                            "        text-align: right;\n",
                            "    }\n",
                            "</style>\n",
                            "<table border=\"1\" class=\"dataframe\">\n",
                            "  <thead>\n",
                            "    <tr style=\"text-align: right;\">\n",
                            "      <th></th>\n",
                            "      <th>osm_node_id</th>\n",
                            "      <th>time</th>\n",
                            "      <th>cost</th>\n",
                            "      <th>n_transfers</th>\n",
                            "      <th>human_readable_time</th>\n",
                            "      <th>target_id_osm</th>\n",
                            "      <th>start_id_hex</th>\n",
                            "    </tr>\n",
                            "  </thead>\n",
                            "  <tbody>\n",
                            "    <tr>\n",
                            "      <th>2924</th>\n",
                            "      <td>1679798523</td>\n",
                            "      <td>28856</td>\n",
                            "      <td>19</td>\n",
                            "      <td>0</td>\n",
                            "      <td>08:00:56</td>\n",
                            "      <td>1679798523</td>\n",
                            "      <td>aaa</td>\n",
                            "    </tr>\n",
                            "  </tbody>\n",
                            "</table>\n",
                            "</div>"
                        ],
                        "text/plain": [
                            "      osm_node_id   time  cost  n_transfers human_readable_time  \\\n",
                            "2924   1679798523  28856    19            0            08:00:56   \n",
                            "\n",
                            "      target_id_osm start_id_hex  \n",
                            "2924     1679798523          aaa  "
                        ]
                    },
                    "execution_count": 39,
                    "metadata": {},
                    "output_type": "execute_result"
                }
            ],
            "source": [
                "import random\n",
                "\n",
                "i = random.sample(list(labels.osm_node_id.unique()), 1)[0]\n",
                "# i = 3922625314\n",
                "print(i)\n",
                "selection = labels[labels.osm_node_id == i]\n",
                "selection.drop(columns=[\"label\"])"
            ]
        },
        {
            "cell_type": "code",
            "execution_count": null,
            "metadata": {},
            "outputs": [],
            "source": []
        },
        {
            "cell_type": "code",
            "execution_count": null,
            "metadata": {},
            "outputs": [],
            "source": [
                "start_time = strtime.str_time_to_seconds(\"08:00:00\")"
            ]
        },
        {
            "cell_type": "code",
            "execution_count": null,
            "metadata": {},
            "outputs": [],
            "source": [
                "def format_meta(meta, previous_meta):\n",
                "    values = meta[\"values\"]\n",
                "    arrival_time = values[0]\n",
                "    cost = values[1]\n",
                "\n",
                "    if previous_meta:\n",
                "        previous_values = previous_meta[\"values\"]\n",
                "        previous_arrival_time = previous_values[0]\n",
                "        previous_cost = previous_values[1]\n",
                "\n",
                "        arrival_time -= previous_arrival_time\n",
                "        cost -= previous_cost\n",
                "    else:\n",
                "        arrival_time -= start_time\n",
                "\n",
                "    return f\"{strtime.seconds_to_str_time(arrival_time)} ({cost})\""
            ]
        },
        {
            "cell_type": "code",
            "execution_count": null,
            "metadata": {},
            "outputs": [],
            "source": [
                "toloop = selection\n",
                "\n",
                "# stops_by_id = stops_df.set_index(\"stop_id\")\n",
                "sample_label = selection.iloc[0]\n",
                "sample_node_id = sample_label.osm_node_id\n",
                "nodes_by_id = nodes.set_index(\"id\")\n",
                "nodes_by_id[\"id\"] = nodes_by_id.index\n",
                "sample_node = nodes_by_id.loc[sample_node_id]\n",
                "\n",
                "m = folium.Map(location=[sample_node.lat, sample_node.lon], zoom_start=13)\n",
                "\n",
                "for row in toloop.itertuples():\n",
                "    label = row.label\n",
                "    end_node_id = row.osm_node_id\n",
                "    end_node = nodes_by_id.loc[end_node_id]\n",
                "\n",
                "    folium.CircleMarker(\n",
                "        location=[end_node.lat, end_node.lon],\n",
                "        popup=f\"End: {end_node_id}\",\n",
                "        color=\"red\",\n",
                "        radius=3,\n",
                "    ).add_to(m)\n",
                "\n",
                "    paths = path_manager.reconstruct_and_translate_path_for_label(label, translator_map)\n",
                "    for i, path in enumerate(paths):\n",
                "        if isinstance(path, Path):\n",
                "            if path.path == []:\n",
                "                continue\n",
                "            cycling_path_nodes = [\n",
                "                nodes_by_id.loc[int(node_id[1:])]\n",
                "                for node_id in path.path\n",
                "                if node_id[0] == \"D\"\n",
                "            ]\n",
                "            walking_path_nodes = [\n",
                "                nodes_by_id.loc[int(node_id[1:])]\n",
                "                for node_id in path.path\n",
                "                if node_id[0] == \"W\"\n",
                "            ]\n",
                "            path_lat_lon = [(node.lat, node.lon) for node in cycling_path_nodes]\n",
                "            previous_meta = paths[i - 1].meta if i > 0 else None\n",
                "            meta = format_meta(path.meta, previous_meta)\n",
                "            if path_lat_lon != []:\n",
                "                folium.PolyLine(\n",
                "                    path_lat_lon, color=\"blue\", weight=2, popup=str(meta)\n",
                "                ).add_to(m)\n",
                "            path_lat_lon = [(node.lat, node.lon) for node in walking_path_nodes]\n",
                "            if path_lat_lon != []:\n",
                "                folium.PolyLine(\n",
                "                    path_lat_lon, color=\"red\", weight=2, popup=str(meta)\n",
                "                ).add_to(m)\n",
                "        elif isinstance(path, GTFSPath):\n",
                "            raise Exception(\"GTFSPath not supported\")\n",
                "            start_stop_id = path.start_stop_id\n",
                "            end_stop_id = path.end_stop_id\n",
                "            start_stop = stops_by_id.loc[start_stop_id]\n",
                "            end_stop = stops_by_id.loc[end_stop_id]\n",
                "            trip = path.trip_id\n",
                "            if len(trip) >= 10:\n",
                "                trip = trip[:10] + \"...\"\n",
                "\n",
                "            previous_meta = paths[i - 1].meta if i > 0 else None\n",
                "            line_msg = f\"Trip: {trip}\\n---\\n {format_meta(path.meta, previous_meta)}\"\n",
                "\n",
                "            path_lat_lon = [\n",
                "                (float(start_stop.stop_lat), float(start_stop.stop_lon)),\n",
                "                (float(end_stop.stop_lat), float(end_stop.stop_lon)),\n",
                "            ]\n",
                "            folium.PolyLine(\n",
                "                path_lat_lon,\n",
                "                color=\"green\",\n",
                "                weight=2,\n",
                "                popup=line_msg,\n",
                "            ).add_to(m)\n",
                "\n",
                "            folium.CircleMarker(\n",
                "                location=[float(start_stop.stop_lat), float(start_stop.stop_lon)],\n",
                "                popup=f\"Start: {start_stop.stop_name}\",\n",
                "                color=\"green\",\n",
                "                radius=3,\n",
                "            ).add_to(m)\n",
                "            folium.CircleMarker(\n",
                "                location=[float(end_stop.stop_lat), float(end_stop.stop_lon)],\n",
                "                popup=f\"End: {end_stop.stop_name}\",\n",
                "                color=\"green\",\n",
                "                radius=3,\n",
                "            ).add_to(m)\n",
                "        else:\n",
                "            raise Exception(\"Unknown path type\")\n",
                "\n",
                "m"
            ]
        }
    ],
    "metadata": {
        "kernelspec": {
            "display_name": "mcr-py",
            "language": "python",
            "name": "python3"
        },
        "language_info": {
            "codemirror_mode": {
                "name": "ipython",
                "version": 3
            },
            "file_extension": ".py",
            "mimetype": "text/x-python",
            "name": "python",
            "nbconvert_exporter": "python",
            "pygments_lexer": "ipython3",
            "version": "3.10.13"
        }
    },
    "nbformat": 4,
    "nbformat_minor": 2
}