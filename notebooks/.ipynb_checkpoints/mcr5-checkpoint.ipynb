{
 "cells": [
  {
   "cell_type": "code",
   "execution_count": 1,
   "metadata": {},
   "outputs": [],
   "source": [
    "%load_ext autoreload\n",
    "%autoreload 2\n",
    "import sys\n",
    "sys.path.append('../src/')"
   ]
  },
  {
   "cell_type": "code",
   "execution_count": 2,
   "metadata": {},
   "outputs": [],
   "source": [
    "from package.logger import Timed, rlog, setup\n",
    "from package import storage\n",
    "\n",
    "setup(\"INFO\")"
   ]
  },
  {
   "cell_type": "code",
   "execution_count": 3,
   "metadata": {},
   "outputs": [],
   "source": [
    "import os\n",
    "\n",
    "import folium\n",
    "import geopandas as gpd\n",
    "import pandas as pd\n",
    "\n",
    "from package import strtime\n",
    "from package.osm import osm\n",
    "from package.mcr.data import NetworkType, OSMData\n",
    "from package.mcr5.mcr5 import MCR5\n",
    "from package import storage\n",
    "\n",
    "from package.geometa import GeoMeta\n",
    "from package.mcr.data import NetworkType"
   ]
  },
  {
   "cell_type": "code",
   "execution_count": 4,
   "metadata": {},
   "outputs": [],
   "source": [
    "geo_meta_path = \"../data/geometa.pkl\"\n",
    "city_id = \"Koeln\"\n",
    "stops = \"../data/cleaned/stops.csv\"\n",
    "structs = \"../data/structs.pkl\"\n",
    "# bicycle_location_path = \"../data/bicycle_locations/2022-11-01_09_01_00.csv\""
   ]
  },
  {
   "cell_type": "code",
   "execution_count": 5,
   "metadata": {},
   "outputs": [],
   "source": [
    "geo_meta = GeoMeta.load(geo_meta_path)\n",
    "# geo_data = OSMData(\n",
    "# \tgeo_meta,\n",
    "# \tcity_id,\n",
    "# \tadditional_network_types=[NetworkType.DRIVING, NetworkType.CYCLING],\n",
    "# )\n",
    "# nodes = geo_data.osm_nodes\n",
    "# edges = geo_data.osm_edges\n",
    "# driving_nodes, _, _ = geo_data.additional_networks[NetworkType.DRIVING]"
   ]
  },
  {
   "cell_type": "code",
   "execution_count": 6,
   "metadata": {},
   "outputs": [],
   "source": [
    "lm_data = storage.read_any_dict(\"../data/location_mappings.pkl\")\n",
    "location_mappings = lm_data[\"location_mappings\"]\n",
    "car_location_mappings = lm_data[\"car_location_mappings\"]"
   ]
  },
  {
   "cell_type": "code",
   "execution_count": 7,
   "metadata": {},
   "outputs": [],
   "source": [
    "from command.step_config import (\n",
    "    get_bicycle_public_transport_config,\n",
    "    get_car_only_config,\n",
    "    get_bicycle_only_config,\n",
    "    get_public_transport_only_config,\n",
    "    get_walking_only_config,\n",
    ")"
   ]
  },
  {
   "cell_type": "code",
   "execution_count": 8,
   "metadata": {},
   "outputs": [],
   "source": [
    "configs = {}\n",
    "\n",
    "\n",
    "def get_bicyle_public_transport_config_ready(bicycle_location_path, start_time):\n",
    "    initial_steps, repeating_steps = get_bicycle_public_transport_config(\n",
    "        geo_meta_path=geo_meta_path,\n",
    "        city_id=city_id,\n",
    "        bicycle_price_function=\"next_bike_no_tariff\",\n",
    "        bicycle_location_path=bicycle_location_path,\n",
    "        structs_path=structs,\n",
    "        stops_path=stops,\n",
    "    )\n",
    "    return {\n",
    "        \"init_kwargs\": {\n",
    "            \"initial_steps\": initial_steps,\n",
    "            \"repeating_steps\": repeating_steps,\n",
    "        },\n",
    "        \"location_mappings\": location_mappings,\n",
    "        \"max_transfers\": 2,\n",
    "        \"start_time\": start_time,\n",
    "    }\n",
    "\n",
    "\n",
    "def get_car_only_config_ready():\n",
    "    initial_steps, repeating_steps = get_car_only_config(\n",
    "        geo_meta_path=geo_meta_path,\n",
    "        city_id=city_id,\n",
    "    )\n",
    "    return {\n",
    "        \"init_kwargs\": {\n",
    "            \"initial_steps\": initial_steps,\n",
    "            \"repeating_steps\": repeating_steps,\n",
    "        },\n",
    "        \"location_mappings\": car_location_mappings,\n",
    "        \"max_transfers\": 1,\n",
    "    }\n",
    "\n",
    "\n",
    "def get_bicycle_only_config_ready(bicycle_location_path):\n",
    "    initial_steps, repeating_steps = get_bicycle_only_config(\n",
    "        geo_meta_path=geo_meta_path,\n",
    "        city_id=city_id,\n",
    "        bicycle_price_function=\"next_bike_no_tariff\",\n",
    "        bicycle_location_path=bicycle_location_path,\n",
    "    )\n",
    "    return {\n",
    "        \"init_kwargs\": {\n",
    "            \"initial_steps\": initial_steps,\n",
    "            \"repeating_steps\": repeating_steps,\n",
    "        },\n",
    "        \"location_mappings\": location_mappings,\n",
    "        \"max_transfers\": 2,\n",
    "    }\n",
    "\n",
    "\n",
    "def get_public_transport_only_config_ready(start_time):\n",
    "    initial_steps, repeating_steps = get_public_transport_only_config(\n",
    "        geo_meta_path=geo_meta_path,\n",
    "        city_id=city_id,\n",
    "        structs_path=structs,\n",
    "        stops_path=stops,\n",
    "    )\n",
    "    return {\n",
    "        \"init_kwargs\": {\n",
    "            \"initial_steps\": initial_steps,\n",
    "            \"repeating_steps\": repeating_steps,\n",
    "        },\n",
    "        \"location_mappings\": location_mappings,\n",
    "        \"max_transfers\": 2,\n",
    "        \"start_time\": start_time,\n",
    "    }\n",
    "\n",
    "\n",
    "def get_walking_only_config_ready():\n",
    "    initial_steps, repeating_steps = get_walking_only_config(\n",
    "        geo_meta_path=geo_meta_path,\n",
    "        city_id=city_id,\n",
    "    )\n",
    "    return {\n",
    "        \"init_kwargs\": {\n",
    "            \"initial_steps\": initial_steps,\n",
    "            \"repeating_steps\": repeating_steps,\n",
    "        },\n",
    "        \"location_mappings\": location_mappings,\n",
    "        \"max_transfers\": 0,\n",
    "    }"
   ]
  },
  {
   "cell_type": "code",
   "execution_count": 9,
   "metadata": {},
   "outputs": [],
   "source": [
    "import itertools\n",
    "import os\n",
    "\n",
    "times = [\n",
    "    \"08:00:00\",\n",
    "    \"12:00:00\",\n",
    "    \"18:00:00\",\n",
    "]\n",
    "bicycle_base_path = \"../data/bicycle_locations/\"\n",
    "bicycle_location_paths = [\n",
    "    os.path.join(bicycle_base_path, path)\n",
    "    for path in os.listdir(\"../data/bicycle_locations/\")\n",
    "]\n",
    "\n",
    "bicycle_public_transport_config_args = list(itertools.product(\n",
    "\ttimes,\n",
    "\tbicycle_location_paths,\n",
    "))"
   ]
  },
  {
   "cell_type": "code",
   "execution_count": 10,
   "metadata": {},
   "outputs": [
    {
     "name": "stdout",
     "output_type": "stream",
     "text": [
      "0 08:00:00 ../data/bicycle_locations/2022-02-17_07_01_00.csv\n",
      "1 08:00:00 ../data/bicycle_locations/2023-01-19_18_01_00.csv\n",
      "2 08:00:00 ../data/bicycle_locations/2022-06-14_18_01_00.csv\n",
      "3 08:00:00 ../data/bicycle_locations/2022-11-03_23_01_00.csv\n",
      "4 12:00:00 ../data/bicycle_locations/2022-02-17_07_01_00.csv\n",
      "5 12:00:00 ../data/bicycle_locations/2023-01-19_18_01_00.csv\n",
      "6 12:00:00 ../data/bicycle_locations/2022-06-14_18_01_00.csv\n",
      "7 12:00:00 ../data/bicycle_locations/2022-11-03_23_01_00.csv\n",
      "8 18:00:00 ../data/bicycle_locations/2022-02-17_07_01_00.csv\n",
      "9 18:00:00 ../data/bicycle_locations/2023-01-19_18_01_00.csv\n",
      "10 18:00:00 ../data/bicycle_locations/2022-06-14_18_01_00.csv\n",
      "11 18:00:00 ../data/bicycle_locations/2022-11-03_23_01_00.csv\n",
      "\n",
      "0 08:00:00\n",
      "1 12:00:00\n",
      "2 18:00:00\n",
      "\n",
      "0 ../data/bicycle_locations/2022-02-17_07_01_00.csv\n",
      "1 ../data/bicycle_locations/2023-01-19_18_01_00.csv\n",
      "2 ../data/bicycle_locations/2022-06-14_18_01_00.csv\n",
      "3 ../data/bicycle_locations/2022-11-03_23_01_00.csv\n"
     ]
    }
   ],
   "source": [
    "from functools import partial\n",
    "\n",
    "for i, (time, bicycle_location_path) in enumerate(bicycle_public_transport_config_args):\n",
    "    print(i, time, bicycle_location_path)\n",
    "    configs[f\"bicycle_public_transport_{i}\"] = partial(\n",
    "        get_bicyle_public_transport_config_ready, bicycle_location_path, time\n",
    "    )\n",
    "\n",
    "print()\n",
    "for i, time in enumerate(times):\n",
    "    print(i, time)\n",
    "    configs[f\"public_transport_{i}\"] = partial(\n",
    "        get_public_transport_only_config_ready, time\n",
    "    )\n",
    "\n",
    "print()\n",
    "for i, bicycle_location_path in enumerate(bicycle_location_paths):\n",
    "    print(i, bicycle_location_path)\n",
    "    configs[f\"bicycle_{i}\"] = partial(\n",
    "        get_bicycle_only_config_ready, bicycle_location_path\n",
    "    )\n",
    "\n",
    "configs[\"car\"] = get_car_only_config_ready\n",
    "configs[\"walking\"] = get_walking_only_config_ready"
   ]
  },
  {
   "cell_type": "code",
   "execution_count": 11,
   "metadata": {},
   "outputs": [],
   "source": [
    "mcr5_output_path = \"../data/mcr5/Koeln-rerun\""
   ]
  },
  {
   "cell_type": "code",
   "execution_count": 12,
   "metadata": {},
   "outputs": [],
   "source": [
    "if os.path.exists(mcr5_output_path):\n",
    "\traise Exception(\"Output path already exists\")"
   ]
  },
  {
   "cell_type": "code",
   "execution_count": 13,
   "metadata": {},
   "outputs": [],
   "source": [
    "from datetime import datetime\n",
    "import pickle"
   ]
  },
  {
   "cell_type": "code",
   "execution_count": 14,
   "metadata": {},
   "outputs": [
    {
     "data": {
      "text/plain": [
       "{'bicycle_public_transport_0': functools.partial(<function get_bicyle_public_transport_config_ready at 0x7f88ea0b7ec0>, '../data/bicycle_locations/2022-02-17_07_01_00.csv', '08:00:00'),\n",
       " 'bicycle_public_transport_1': functools.partial(<function get_bicyle_public_transport_config_ready at 0x7f88ea0b7ec0>, '../data/bicycle_locations/2023-01-19_18_01_00.csv', '08:00:00'),\n",
       " 'bicycle_public_transport_2': functools.partial(<function get_bicyle_public_transport_config_ready at 0x7f88ea0b7ec0>, '../data/bicycle_locations/2022-06-14_18_01_00.csv', '08:00:00'),\n",
       " 'bicycle_public_transport_3': functools.partial(<function get_bicyle_public_transport_config_ready at 0x7f88ea0b7ec0>, '../data/bicycle_locations/2022-11-03_23_01_00.csv', '08:00:00'),\n",
       " 'bicycle_public_transport_4': functools.partial(<function get_bicyle_public_transport_config_ready at 0x7f88ea0b7ec0>, '../data/bicycle_locations/2022-02-17_07_01_00.csv', '12:00:00'),\n",
       " 'bicycle_public_transport_5': functools.partial(<function get_bicyle_public_transport_config_ready at 0x7f88ea0b7ec0>, '../data/bicycle_locations/2023-01-19_18_01_00.csv', '12:00:00'),\n",
       " 'bicycle_public_transport_6': functools.partial(<function get_bicyle_public_transport_config_ready at 0x7f88ea0b7ec0>, '../data/bicycle_locations/2022-06-14_18_01_00.csv', '12:00:00'),\n",
       " 'bicycle_public_transport_7': functools.partial(<function get_bicyle_public_transport_config_ready at 0x7f88ea0b7ec0>, '../data/bicycle_locations/2022-11-03_23_01_00.csv', '12:00:00'),\n",
       " 'bicycle_public_transport_8': functools.partial(<function get_bicyle_public_transport_config_ready at 0x7f88ea0b7ec0>, '../data/bicycle_locations/2022-02-17_07_01_00.csv', '18:00:00'),\n",
       " 'bicycle_public_transport_9': functools.partial(<function get_bicyle_public_transport_config_ready at 0x7f88ea0b7ec0>, '../data/bicycle_locations/2023-01-19_18_01_00.csv', '18:00:00'),\n",
       " 'bicycle_public_transport_10': functools.partial(<function get_bicyle_public_transport_config_ready at 0x7f88ea0b7ec0>, '../data/bicycle_locations/2022-06-14_18_01_00.csv', '18:00:00'),\n",
       " 'bicycle_public_transport_11': functools.partial(<function get_bicyle_public_transport_config_ready at 0x7f88ea0b7ec0>, '../data/bicycle_locations/2022-11-03_23_01_00.csv', '18:00:00'),\n",
       " 'public_transport_0': functools.partial(<function get_public_transport_only_config_ready at 0x7f88ea09c040>, '08:00:00'),\n",
       " 'public_transport_1': functools.partial(<function get_public_transport_only_config_ready at 0x7f88ea09c040>, '12:00:00'),\n",
       " 'public_transport_2': functools.partial(<function get_public_transport_only_config_ready at 0x7f88ea09c040>, '18:00:00'),\n",
       " 'bicycle_0': functools.partial(<function get_bicycle_only_config_ready at 0x7f88ea09c180>, '../data/bicycle_locations/2022-02-17_07_01_00.csv'),\n",
       " 'bicycle_1': functools.partial(<function get_bicycle_only_config_ready at 0x7f88ea09c180>, '../data/bicycle_locations/2023-01-19_18_01_00.csv'),\n",
       " 'bicycle_2': functools.partial(<function get_bicycle_only_config_ready at 0x7f88ea09c180>, '../data/bicycle_locations/2022-06-14_18_01_00.csv'),\n",
       " 'bicycle_3': functools.partial(<function get_bicycle_only_config_ready at 0x7f88ea09c180>, '../data/bicycle_locations/2022-11-03_23_01_00.csv'),\n",
       " 'car': <function __main__.get_car_only_config_ready()>,\n",
       " 'walking': <function __main__.get_walking_only_config_ready()>}"
      ]
     },
     "execution_count": 14,
     "metadata": {},
     "output_type": "execute_result"
    }
   ],
   "source": [
    "configs"
   ]
  },
  {
   "cell_type": "code",
   "execution_count": null,
   "metadata": {},
   "outputs": [
    {
     "data": {
      "text/html": [
       "<pre style=\"white-space:pre;overflow-x:auto;line-height:normal;font-family:Menlo,'DejaVu Sans Mono',consolas,'Courier New',monospace\"><span style=\"color: #7fbfbf; text-decoration-color: #7fbfbf\">[18:27:39] </span><span style=\"color: #000080; text-decoration-color: #000080\">INFO    </span> Running MCR5 for bicycle_public_transport_0                                      <a href=\"file:///tmp/ipykernel_22990/542061263.py\" target=\"_blank\"><span style=\"color: #7f7f7f; text-decoration-color: #7f7f7f\">542061263.py</span></a><span style=\"color: #7f7f7f; text-decoration-color: #7f7f7f\">:</span><a href=\"file:///tmp/ipykernel_22990/542061263.py#4\" target=\"_blank\"><span style=\"color: #7f7f7f; text-decoration-color: #7f7f7f\">4</span></a>\n",
       "</pre>\n"
      ],
      "text/plain": [
       "\u001b[2;36m[18:27:39]\u001b[0m\u001b[2;36m \u001b[0m\u001b[34mINFO    \u001b[0m Running MCR5 for bicycle_public_transport_0                                      \u001b]8;id=804841;file:///tmp/ipykernel_22990/542061263.py\u001b\\\u001b[2m542061263.py\u001b[0m\u001b]8;;\u001b\\\u001b[2m:\u001b[0m\u001b]8;id=454795;file:///tmp/ipykernel_22990/542061263.py#4\u001b\\\u001b[2m4\u001b[0m\u001b]8;;\u001b\\\n"
      ]
     },
     "metadata": {},
     "output_type": "display_data"
    },
    {
     "data": {
      "text/html": [
       "<pre style=\"white-space:pre;overflow-x:auto;line-height:normal;font-family:Menlo,'DejaVu Sans Mono',consolas,'Courier New',monospace\"><span style=\"color: #7fbfbf; text-decoration-color: #7fbfbf\">[18:27:40] </span><span style=\"color: #000080; text-decoration-color: #000080\">INFO    </span> Using existing OSM data                                                              <a href=\"file:///home/ppeter/repo/mcr-py/notebooks/../src/package/osm/osm.py\" target=\"_blank\"><span style=\"color: #7f7f7f; text-decoration-color: #7f7f7f\">osm.py</span></a><span style=\"color: #7f7f7f; text-decoration-color: #7f7f7f\">:</span><a href=\"file:///home/ppeter/repo/mcr-py/notebooks/../src/package/osm/osm.py#106\" target=\"_blank\"><span style=\"color: #7f7f7f; text-decoration-color: #7f7f7f\">106</span></a>\n",
       "</pre>\n"
      ],
      "text/plain": [
       "\u001b[2;36m[18:27:40]\u001b[0m\u001b[2;36m \u001b[0m\u001b[34mINFO    \u001b[0m Using existing OSM data                                                              \u001b]8;id=14262;file:///home/ppeter/repo/mcr-py/notebooks/../src/package/osm/osm.py\u001b\\\u001b[2mosm.py\u001b[0m\u001b]8;;\u001b\\\u001b[2m:\u001b[0m\u001b]8;id=443386;file:///home/ppeter/repo/mcr-py/notebooks/../src/package/osm/osm.py#106\u001b\\\u001b[2m106\u001b[0m\u001b]8;;\u001b\\\n"
      ]
     },
     "metadata": {},
     "output_type": "display_data"
    },
    {
     "data": {
      "text/html": [
       "<pre style=\"white-space:pre;overflow-x:auto;line-height:normal;font-family:Menlo,'DejaVu Sans Mono',consolas,'Courier New',monospace\"><span style=\"color: #7fbfbf; text-decoration-color: #7fbfbf\">           </span><span style=\"color: #000080; text-decoration-color: #000080\">INFO    </span> Loading OSM network from cache <span style=\"font-weight: bold\">(</span>walking<span style=\"font-weight: bold\">)</span>                                              <a href=\"file:///home/ppeter/repo/mcr-py/notebooks/../src/package/osm/osm.py\" target=\"_blank\"><span style=\"color: #7f7f7f; text-decoration-color: #7f7f7f\">osm.py</span></a><span style=\"color: #7f7f7f; text-decoration-color: #7f7f7f\">:</span><a href=\"file:///home/ppeter/repo/mcr-py/notebooks/../src/package/osm/osm.py#69\" target=\"_blank\"><span style=\"color: #7f7f7f; text-decoration-color: #7f7f7f\">69</span></a>\n",
       "</pre>\n"
      ],
      "text/plain": [
       "\u001b[2;36m          \u001b[0m\u001b[2;36m \u001b[0m\u001b[34mINFO    \u001b[0m Loading OSM network from cache \u001b[1m(\u001b[0mwalking\u001b[1m)\u001b[0m                                              \u001b]8;id=838975;file:///home/ppeter/repo/mcr-py/notebooks/../src/package/osm/osm.py\u001b\\\u001b[2mosm.py\u001b[0m\u001b]8;;\u001b\\\u001b[2m:\u001b[0m\u001b]8;id=921763;file:///home/ppeter/repo/mcr-py/notebooks/../src/package/osm/osm.py#69\u001b\\\u001b[2m69\u001b[0m\u001b]8;;\u001b\\\n"
      ]
     },
     "metadata": {},
     "output_type": "display_data"
    }
   ],
   "source": [
    "runtimes = {}\n",
    "for key, config in configs.items():\n",
    "    start = datetime.now()\n",
    "    rlog.info(f\"Running MCR5 for {key}\")\n",
    "\n",
    "    config = config()\n",
    "    mcr5 = MCR5(**config[\"init_kwargs\"], max_processes=8)\n",
    "\n",
    "    loaded_at = datetime.now()\n",
    "    load_time = loaded_at - start\n",
    "\n",
    "    output_path = os.path.join(mcr5_output_path, key)\n",
    "\n",
    "    location_mappings = config[\"location_mappings\"]\n",
    "\n",
    "    start_time = config.get(\"start_time\", \"08:00:00\")\n",
    "    errors = mcr5.run(\n",
    "        location_mappings,\n",
    "        start_time=start_time,\n",
    "        output_dir=output_path,\n",
    "        max_transfers=config[\"max_transfers\"],\n",
    "    )\n",
    "\n",
    "    run_time = datetime.now() - loaded_at\n",
    "    total_time = datetime.now() - start\n",
    "    runtimes[key] = {\n",
    "        \"load_time\": load_time,\n",
    "        \"run_time\": run_time,\n",
    "        \"total_time\": total_time,\n",
    "    }\n",
    "\n",
    "with open(os.path.join(mcr5_output_path, \"runtimes.pkl\"), \"wb\") as f:\n",
    "    pickle.dump(runtimes, f)"
   ]
  },
  {
   "cell_type": "code",
   "execution_count": null,
   "metadata": {
    "tags": []
   },
   "outputs": [],
   "source": [
    "print('Ready')"
   ]
  },
  {
   "cell_type": "code",
   "execution_count": 3,
   "metadata": {
    "tags": []
   },
   "outputs": [],
   "source": [
    "import pickle\n",
    "import os\n",
    "\n",
    "with open(os.path.join(\"../data/mcr5/Koeln-rerun\", \"runtimes.pkl\"), \"rb\") as f:\n",
    "    runtimes = pickle.load(f)\n",
    "# errors = storage.read_any_dict(\"../data/mcr5/Koeln/bicycle_public_transport/errors.pkl\")\n",
    "# errors"
   ]
  },
  {
   "cell_type": "code",
   "execution_count": null,
   "metadata": {},
   "outputs": [],
   "source": []
  }
 ],
 "metadata": {
  "kernelspec": {
   "display_name": "mcr-py",
   "language": "python",
   "name": "mcr-py"
  },
  "language_info": {
   "codemirror_mode": {
    "name": "ipython",
    "version": 3
   },
   "file_extension": ".py",
   "mimetype": "text/x-python",
   "name": "python",
   "nbconvert_exporter": "python",
   "pygments_lexer": "ipython3",
   "version": "3.11.7"
  }
 },
 "nbformat": 4,
 "nbformat_minor": 4
}
