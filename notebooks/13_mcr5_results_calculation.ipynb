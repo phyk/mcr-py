{
    "cells": [
        {
            "cell_type": "markdown",
            "metadata": {},
            "source": [
                "## Prepare"
            ]
        },
        {
            "cell_type": "code",
            "execution_count": 1,
            "metadata": {},
            "outputs": [],
            "source": [
                "%load_ext autoreload\n",
                "%autoreload 2\n",
                "import sys\n",
                "\n",
                "sys.path.append(\"../src/\")\n",
                "import itertools\n",
                "import os\n",
                "\n",
                "import folium\n",
                "import matplotlib.pyplot as plt\n",
                "import pandas as pd\n",
                "from mcr_py.package.geometa import GeoMeta\n",
                "from mcr_py.package.logger import setup\n",
                "from mcr_py.package.mcr.data import NetworkType, OSMData\n",
                "from mcr_py.package.mcr5.labels import read_labels_for_nodes\n",
                "from mcr_py.package.minute_city import minute_city\n",
                "from mcr_py.package.minute_city.profile import fill_columns_by_left\n",
                "from tqdm.auto import tqdm\n",
                "\n",
                "setup(\"INFO\")"
            ]
        },
        {
            "cell_type": "code",
            "execution_count": 2,
            "metadata": {},
            "outputs": [],
            "source": [
                "city_id_osm = \"Koeln\"\n",
                "city_id = \"cologne\"\n",
                "date_ = \"20240423\""
            ]
        },
        {
            "cell_type": "code",
            "execution_count": 3,
            "metadata": {},
            "outputs": [
                {
                    "data": {
                        "text/html": [
                            "<pre style=\"white-space:pre;overflow-x:auto;line-height:normal;font-family:Menlo,'DejaVu Sans Mono',consolas,'Courier New',monospace\"><span style=\"color: #7fbfbf; text-decoration-color: #7fbfbf\">[11:20:09] </span><span style=\"color: #000080; text-decoration-color: #000080\">INFO    </span> Using existing OSM data                                                              <a href=\"file:///home/ppeter/repo/mcr-py/notebooks/../src/package/osm/osm.py\" target=\"_blank\"><span style=\"color: #7f7f7f; text-decoration-color: #7f7f7f\">osm.py</span></a><span style=\"color: #7f7f7f; text-decoration-color: #7f7f7f\">:</span><a href=\"file:///home/ppeter/repo/mcr-py/notebooks/../src/package/osm/osm.py#105\" target=\"_blank\"><span style=\"color: #7f7f7f; text-decoration-color: #7f7f7f\">105</span></a>\n",
                            "</pre>\n"
                        ],
                        "text/plain": [
                            "\u001b[2;36m[11:20:09]\u001b[0m\u001b[2;36m \u001b[0m\u001b[34mINFO    \u001b[0m Using existing OSM data                                                              \u001b]8;id=501869;file:///home/ppeter/repo/mcr-py/notebooks/../src/package/osm/osm.py\u001b\\\u001b[2mosm.py\u001b[0m\u001b]8;;\u001b\\\u001b[2m:\u001b[0m\u001b]8;id=71422;file:///home/ppeter/repo/mcr-py/notebooks/../src/package/osm/osm.py#105\u001b\\\u001b[2m105\u001b[0m\u001b]8;;\u001b\\\n"
                        ]
                    },
                    "metadata": {},
                    "output_type": "display_data"
                },
                {
                    "data": {
                        "text/html": [
                            "<pre style=\"white-space:pre;overflow-x:auto;line-height:normal;font-family:Menlo,'DejaVu Sans Mono',consolas,'Courier New',monospace\"><span style=\"color: #7fbfbf; text-decoration-color: #7fbfbf\">           </span><span style=\"color: #000080; text-decoration-color: #000080\">INFO    </span> Loading OSM network from cache <span style=\"font-weight: bold\">(</span>walking<span style=\"font-weight: bold\">)</span>                                              <a href=\"file:///home/ppeter/repo/mcr-py/notebooks/../src/package/osm/osm.py\" target=\"_blank\"><span style=\"color: #7f7f7f; text-decoration-color: #7f7f7f\">osm.py</span></a><span style=\"color: #7f7f7f; text-decoration-color: #7f7f7f\">:</span><a href=\"file:///home/ppeter/repo/mcr-py/notebooks/../src/package/osm/osm.py#68\" target=\"_blank\"><span style=\"color: #7f7f7f; text-decoration-color: #7f7f7f\">68</span></a>\n",
                            "</pre>\n"
                        ],
                        "text/plain": [
                            "\u001b[2;36m          \u001b[0m\u001b[2;36m \u001b[0m\u001b[34mINFO    \u001b[0m Loading OSM network from cache \u001b[1m(\u001b[0mwalking\u001b[1m)\u001b[0m                                              \u001b]8;id=695880;file:///home/ppeter/repo/mcr-py/notebooks/../src/package/osm/osm.py\u001b\\\u001b[2mosm.py\u001b[0m\u001b]8;;\u001b\\\u001b[2m:\u001b[0m\u001b]8;id=533122;file:///home/ppeter/repo/mcr-py/notebooks/../src/package/osm/osm.py#68\u001b\\\u001b[2m68\u001b[0m\u001b]8;;\u001b\\\n"
                        ]
                    },
                    "metadata": {},
                    "output_type": "display_data"
                },
                {
                    "data": {
                        "text/html": [
                            "<pre style=\"white-space:pre;overflow-x:auto;line-height:normal;font-family:Menlo,'DejaVu Sans Mono',consolas,'Courier New',monospace\"><span style=\"color: #7fbfbf; text-decoration-color: #7fbfbf\">[11:21:02] </span><span style=\"color: #000080; text-decoration-color: #000080\">INFO    </span> Using existing OSM data                                                              <a href=\"file:///home/ppeter/repo/mcr-py/notebooks/../src/package/osm/osm.py\" target=\"_blank\"><span style=\"color: #7f7f7f; text-decoration-color: #7f7f7f\">osm.py</span></a><span style=\"color: #7f7f7f; text-decoration-color: #7f7f7f\">:</span><a href=\"file:///home/ppeter/repo/mcr-py/notebooks/../src/package/osm/osm.py#105\" target=\"_blank\"><span style=\"color: #7f7f7f; text-decoration-color: #7f7f7f\">105</span></a>\n",
                            "</pre>\n"
                        ],
                        "text/plain": [
                            "\u001b[2;36m[11:21:02]\u001b[0m\u001b[2;36m \u001b[0m\u001b[34mINFO    \u001b[0m Using existing OSM data                                                              \u001b]8;id=907574;file:///home/ppeter/repo/mcr-py/notebooks/../src/package/osm/osm.py\u001b\\\u001b[2mosm.py\u001b[0m\u001b]8;;\u001b\\\u001b[2m:\u001b[0m\u001b]8;id=75232;file:///home/ppeter/repo/mcr-py/notebooks/../src/package/osm/osm.py#105\u001b\\\u001b[2m105\u001b[0m\u001b]8;;\u001b\\\n"
                        ]
                    },
                    "metadata": {},
                    "output_type": "display_data"
                },
                {
                    "data": {
                        "text/html": [
                            "<pre style=\"white-space:pre;overflow-x:auto;line-height:normal;font-family:Menlo,'DejaVu Sans Mono',consolas,'Courier New',monospace\"><span style=\"color: #7fbfbf; text-decoration-color: #7fbfbf\">           </span><span style=\"color: #000080; text-decoration-color: #000080\">INFO    </span> Loading OSM network from cache <span style=\"font-weight: bold\">(</span>driving<span style=\"font-weight: bold\">)</span>                                              <a href=\"file:///home/ppeter/repo/mcr-py/notebooks/../src/package/osm/osm.py\" target=\"_blank\"><span style=\"color: #7f7f7f; text-decoration-color: #7f7f7f\">osm.py</span></a><span style=\"color: #7f7f7f; text-decoration-color: #7f7f7f\">:</span><a href=\"file:///home/ppeter/repo/mcr-py/notebooks/../src/package/osm/osm.py#68\" target=\"_blank\"><span style=\"color: #7f7f7f; text-decoration-color: #7f7f7f\">68</span></a>\n",
                            "</pre>\n"
                        ],
                        "text/plain": [
                            "\u001b[2;36m          \u001b[0m\u001b[2;36m \u001b[0m\u001b[34mINFO    \u001b[0m Loading OSM network from cache \u001b[1m(\u001b[0mdriving\u001b[1m)\u001b[0m                                              \u001b]8;id=592347;file:///home/ppeter/repo/mcr-py/notebooks/../src/package/osm/osm.py\u001b\\\u001b[2mosm.py\u001b[0m\u001b]8;;\u001b\\\u001b[2m:\u001b[0m\u001b]8;id=68375;file:///home/ppeter/repo/mcr-py/notebooks/../src/package/osm/osm.py#68\u001b\\\u001b[2m68\u001b[0m\u001b]8;;\u001b\\\n"
                        ]
                    },
                    "metadata": {},
                    "output_type": "display_data"
                }
            ],
            "source": [
                "geo_meta_path = f\"../data/stateful_variables/{city_id}_geometa.pkl\"\n",
                "stops = f\"../data/gtfs-cleaned/{city_id}_{date_}/stops.csv\"\n",
                "structs = f\"../data/gtfs-cleaned/{city_id}_{date_}/structs.pkl\"\n",
                "\n",
                "geo_meta = GeoMeta.load(geo_meta_path)\n",
                "geo_data = OSMData(\n",
                "    geo_meta,\n",
                "    city_id_osm,\n",
                "    additional_network_types=[NetworkType.DRIVING],\n",
                ")\n",
                "nodes = geo_data.osm_nodes\n",
                "edges = geo_data.osm_edges\n",
                "driving_nodes, _, _ = geo_data.additional_networks[NetworkType.DRIVING]"
            ]
        },
        {
            "cell_type": "markdown",
            "metadata": {},
            "source": [
                "## Fetch POIs"
            ]
        },
        {
            "cell_type": "code",
            "execution_count": 4,
            "metadata": {},
            "outputs": [
                {
                    "data": {
                        "text/html": [
                            "<div>\n",
                            "<style scoped>\n",
                            "    .dataframe tbody tr th:only-of-type {\n",
                            "        vertical-align: middle;\n",
                            "    }\n",
                            "\n",
                            "    .dataframe tbody tr th {\n",
                            "        vertical-align: top;\n",
                            "    }\n",
                            "\n",
                            "    .dataframe thead th {\n",
                            "        text-align: right;\n",
                            "    }\n",
                            "</style>\n",
                            "<table border=\"1\" class=\"dataframe\">\n",
                            "  <thead>\n",
                            "    <tr style=\"text-align: right;\">\n",
                            "      <th></th>\n",
                            "      <th>name</th>\n",
                            "      <th>id</th>\n",
                            "      <th>lat</th>\n",
                            "      <th>lon</th>\n",
                            "      <th>geometry</th>\n",
                            "      <th>type</th>\n",
                            "      <th>nearest_osm_node_id</th>\n",
                            "      <th>distance</th>\n",
                            "    </tr>\n",
                            "  </thead>\n",
                            "  <tbody>\n",
                            "    <tr>\n",
                            "      <th>0</th>\n",
                            "      <td>Trink &amp; Spare</td>\n",
                            "      <td>263442909</td>\n",
                            "      <td>51.0268777</td>\n",
                            "      <td>6.8879464</td>\n",
                            "      <td>POINT (6.88795 51.02688)</td>\n",
                            "      <td>grocery</td>\n",
                            "      <td>9007727500</td>\n",
                            "      <td>21.104681</td>\n",
                            "    </tr>\n",
                            "    <tr>\n",
                            "      <th>1</th>\n",
                            "      <td>Weinhaus Linke</td>\n",
                            "      <td>444820559</td>\n",
                            "      <td>50.9543812</td>\n",
                            "      <td>6.9189388</td>\n",
                            "      <td>POINT (6.91894 50.95438)</td>\n",
                            "      <td>grocery</td>\n",
                            "      <td>3890235659</td>\n",
                            "      <td>13.294807</td>\n",
                            "    </tr>\n",
                            "    <tr>\n",
                            "      <th>2</th>\n",
                            "      <td>O'Donnell Moonshine</td>\n",
                            "      <td>448400534</td>\n",
                            "      <td>50.9382394</td>\n",
                            "      <td>6.9408967</td>\n",
                            "      <td>POINT (6.94090 50.93824)</td>\n",
                            "      <td>grocery</td>\n",
                            "      <td>6513219752</td>\n",
                            "      <td>16.728748</td>\n",
                            "    </tr>\n",
                            "  </tbody>\n",
                            "</table>\n",
                            "</div>"
                        ],
                        "text/plain": [
                            "                  name         id         lat        lon  \\\n",
                            "0        Trink & Spare  263442909  51.0268777  6.8879464   \n",
                            "1       Weinhaus Linke  444820559  50.9543812  6.9189388   \n",
                            "2  O'Donnell Moonshine  448400534  50.9382394  6.9408967   \n",
                            "\n",
                            "                   geometry     type  nearest_osm_node_id   distance  \n",
                            "0  POINT (6.88795 51.02688)  grocery           9007727500  21.104681  \n",
                            "1  POINT (6.91894 50.95438)  grocery           3890235659  13.294807  \n",
                            "2  POINT (6.94090 50.93824)  grocery           6513219752  16.728748  "
                        ]
                    },
                    "execution_count": 4,
                    "metadata": {},
                    "output_type": "execute_result"
                }
            ],
            "source": [
                "pois = minute_city.fetch_pois_for_area(geo_meta.boundary, nodes)\n",
                "pois.head(3)"
            ]
        },
        {
            "cell_type": "markdown",
            "metadata": {},
            "source": [
                "## Visualize POIs"
            ]
        },
        {
            "cell_type": "code",
            "execution_count": 5,
            "metadata": {},
            "outputs": [],
            "source": []
        },
        {
            "cell_type": "code",
            "execution_count": 6,
            "metadata": {},
            "outputs": [
                {
                    "data": {
                        "text/plain": [
                            "array(['grocery', 'education', 'health', 'banks', 'parks', 'sustenance',\n",
                            "       'shops'], dtype=object)"
                        ]
                    },
                    "execution_count": 6,
                    "metadata": {},
                    "output_type": "execute_result"
                }
            ],
            "source": [
                "pois[\"type\"].unique()"
            ]
        },
        {
            "cell_type": "code",
            "execution_count": null,
            "metadata": {},
            "outputs": [],
            "source": [
                "def rgb2hex(rgb):\n",
                "    return \"#{:02x}{:02x}{:02x}\".format(\n",
                "        int(rgb[0] * 255), int(rgb[1] * 255), int(rgb[2] * 255)\n",
                "    )\n",
                "\n",
                "\n",
                "types = pois[\"type\"].unique()\n",
                "\n",
                "types = [\"grocery\", \"education\", \"health\", \"banks\", \"parks\", \"sustenance\", \"shops\"]\n",
                "\n",
                "# Get a colormap and create a color mapping\n",
                "colormap = plt.colormaps.get_cmap(\"tab10\")\n",
                "color_mapping = {type_: rgb2hex(colormap(i)) for i, type_ in enumerate(types)}\n",
                "color_mapping\n",
                "\n",
                "bbox = nodes.unary_union.convex_hull.bounds\n",
                "\n",
                "t = types[0]\n",
                "print(t)\n",
                "\n",
                "m = folium.Map(location=[50.9375, 6.9603], zoom_start=12)\n",
                "# geo_meta.add_to_folium_map(m)\n",
                "# selected_pois = pois[pois[\"type\"] == t]\n",
                "selected_pois = pois\n",
                "for _, poi in selected_pois.iterrows():\n",
                "    folium.CircleMarker(\n",
                "        location=(poi.lat, poi.lon),\n",
                "        popup=poi[\"name\"],\n",
                "        radius=1,\n",
                "        color=color_mapping[poi[\"type\"]],\n",
                "    ).add_to(m)\n",
                "\n",
                "m"
            ]
        },
        {
            "cell_type": "markdown",
            "metadata": {},
            "source": [
                "## Calculate 15-minute-city metric"
            ]
        },
        {
            "cell_type": "code",
            "execution_count": 8,
            "metadata": {},
            "outputs": [],
            "source": [
                "mcr5_output_path = f\"../data/mcr5/{city_id}_{date_}\""
            ]
        },
        {
            "cell_type": "code",
            "execution_count": 9,
            "metadata": {},
            "outputs": [],
            "source": [
                "labels_per_scenario = {}\n",
                "for entry in os.scandir(mcr5_output_path):\n",
                "    if not entry.is_dir():\n",
                "        continue\n",
                "\n",
                "    labels = read_labels_for_nodes(entry.path, pois.nearest_osm_node_id.unique())\n",
                "\n",
                "    labels = minute_city.add_pois_to_labels(labels, pois)\n",
                "    labels_per_scenario[entry.name] = labels"
            ]
        },
        {
            "cell_type": "code",
            "execution_count": 10,
            "metadata": {},
            "outputs": [],
            "source": [
                "types = list(pois[\"type\"].unique())"
            ]
        },
        {
            "cell_type": "code",
            "execution_count": 11,
            "metadata": {},
            "outputs": [
                {
                    "data": {
                        "application/vnd.jupyter.widget-view+json": {
                            "model_id": "e7b7ed9a0b284d40812cd0a5c655ccf6",
                            "version_major": 2,
                            "version_minor": 0
                        },
                        "text/plain": [
                            "  0%|          | 0/33 [00:00<?, ?it/s]"
                        ]
                    },
                    "metadata": {},
                    "output_type": "display_data"
                }
            ],
            "source": [
                "profiles_df_per_scenario = {}\n",
                "for scenario, labels in tqdm(labels_per_scenario.items()):\n",
                "    profiles_df_per_scenario[scenario] = minute_city.get_profiles_df(\n",
                "        labels, types, disable_tqdm=True\n",
                "    )"
            ]
        },
        {
            "cell_type": "code",
            "execution_count": 12,
            "metadata": {},
            "outputs": [],
            "source": [
                "for scenario, profiles_df in profiles_df_per_scenario.items():\n",
                "    profiles_df[\"scenario\"] = scenario"
            ]
        },
        {
            "cell_type": "code",
            "execution_count": 13,
            "metadata": {},
            "outputs": [],
            "source": [
                "profiles_df = pd.concat(profiles_df_per_scenario.values())"
            ]
        },
        {
            "cell_type": "markdown",
            "metadata": {},
            "source": [
                "### per type profile"
            ]
        },
        {
            "cell_type": "code",
            "execution_count": 14,
            "metadata": {},
            "outputs": [
                {
                    "data": {
                        "application/vnd.jupyter.widget-view+json": {
                            "model_id": "5e8ac2d741fd4493940a70fd328e5bd9",
                            "version_major": 2,
                            "version_minor": 0
                        },
                        "text/plain": [
                            "  0%|          | 0/231 [00:00<?, ?it/s]"
                        ]
                    },
                    "metadata": {},
                    "output_type": "display_data"
                }
            ],
            "source": [
                "profiles_df_per_scenario_per_type = {t: {} for t in types}\n",
                "\n",
                "for t, (scenario, labels) in tqdm(\n",
                "    list(itertools.product(types, labels_per_scenario.items()))\n",
                "):\n",
                "    profiles_df_per_scenario_per_type[t][scenario] = minute_city.get_profiles_df(\n",
                "        labels, [t], disable_tqdm=True\n",
                "    )"
            ]
        },
        {
            "cell_type": "code",
            "execution_count": 15,
            "metadata": {},
            "outputs": [],
            "source": [
                "for t, dfs in profiles_df_per_scenario_per_type.items():\n",
                "    for scenario, df in dfs.items():\n",
                "        df[\"category\"] = t\n",
                "        df[\"scenario\"] = scenario\n",
                "\n",
                "profiles_df_categories = pd.concat(\n",
                "    [df for dfs in profiles_df_per_scenario_per_type.values() for df in dfs.values()]\n",
                ")"
            ]
        },
        {
            "cell_type": "markdown",
            "metadata": {},
            "source": [
                "### Profile dataframe polishing"
            ]
        },
        {
            "cell_type": "code",
            "execution_count": 16,
            "metadata": {},
            "outputs": [],
            "source": [
                "def calculate_unit_metrics(profiles_df):\n",
                "    profiles_df[\"required_cost_for_optimal_in_euro\"] = (\n",
                "        profiles_df[\"required_cost_for_optimal\"] / 100\n",
                "    )\n",
                "    profiles_df[\"optimal_in_minutes\"] = profiles_df[\"optimal\"] / 60\n",
                "    return profiles_df\n",
                "\n",
                "\n",
                "profiles_df = calculate_unit_metrics(profiles_df)\n",
                "profiles_df_categories = calculate_unit_metrics(profiles_df_categories)"
            ]
        },
        {
            "cell_type": "code",
            "execution_count": 17,
            "metadata": {},
            "outputs": [],
            "source": [
                "def reorder_columns(profiles_df):\n",
                "    cost_columns = []\n",
                "    other_columns = []\n",
                "\n",
                "    for column in profiles_df.columns:\n",
                "        if column.startswith(\"cost_\"):\n",
                "            cost_columns.append(column)\n",
                "        else:\n",
                "            other_columns.append(column)\n",
                "\n",
                "    cost_columns.sort(key=lambda x: int(x.split(\"_\")[1]))\n",
                "    new_columns = other_columns + cost_columns\n",
                "\n",
                "    # Reorder the DataFrame columns\n",
                "    profiles_df = profiles_df[new_columns]\n",
                "\n",
                "    return profiles_df, cost_columns\n",
                "\n",
                "\n",
                "profiles_df, cost_columns = reorder_columns(profiles_df)\n",
                "profiles_df_categories, cost_columns_categories = reorder_columns(\n",
                "    profiles_df_categories\n",
                ")"
            ]
        },
        {
            "cell_type": "code",
            "execution_count": 18,
            "metadata": {},
            "outputs": [
                {
                    "name": "stderr",
                    "output_type": "stream",
                    "text": [
                        "/home/ppeter/repo/mcr-py/notebooks/../src/package/minute_city/profile.py:69: SettingWithCopyWarning: \n",
                        "A value is trying to be set on a copy of a slice from a DataFrame.\n",
                        "Try using .loc[row_indexer,col_indexer] = value instead\n",
                        "\n",
                        "See the caveats in the documentation: https://pandas.pydata.org/pandas-docs/stable/user_guide/indexing.html#returning-a-view-versus-a-copy\n",
                        "  profiles_df[\"cost_0\"] = profiles_df[\"cost_0\"].fillna(float(\"inf\"))\n",
                        "/home/ppeter/repo/mcr-py/notebooks/../src/package/minute_city/profile.py:74: SettingWithCopyWarning: \n",
                        "A value is trying to be set on a copy of a slice from a DataFrame.\n",
                        "Try using .loc[row_indexer,col_indexer] = value instead\n",
                        "\n",
                        "See the caveats in the documentation: https://pandas.pydata.org/pandas-docs/stable/user_guide/indexing.html#returning-a-view-versus-a-copy\n",
                        "  profiles_df[c] = profiles_df[c].fillna(profiles_df[previous_column])\n",
                        "/home/ppeter/repo/mcr-py/notebooks/../src/package/minute_city/profile.py:69: SettingWithCopyWarning: \n",
                        "A value is trying to be set on a copy of a slice from a DataFrame.\n",
                        "Try using .loc[row_indexer,col_indexer] = value instead\n",
                        "\n",
                        "See the caveats in the documentation: https://pandas.pydata.org/pandas-docs/stable/user_guide/indexing.html#returning-a-view-versus-a-copy\n",
                        "  profiles_df[\"cost_0\"] = profiles_df[\"cost_0\"].fillna(float(\"inf\"))\n",
                        "/home/ppeter/repo/mcr-py/notebooks/../src/package/minute_city/profile.py:74: SettingWithCopyWarning: \n",
                        "A value is trying to be set on a copy of a slice from a DataFrame.\n",
                        "Try using .loc[row_indexer,col_indexer] = value instead\n",
                        "\n",
                        "See the caveats in the documentation: https://pandas.pydata.org/pandas-docs/stable/user_guide/indexing.html#returning-a-view-versus-a-copy\n",
                        "  profiles_df[c] = profiles_df[c].fillna(profiles_df[previous_column])\n"
                    ]
                }
            ],
            "source": [
                "profiles_df[cost_columns] = fill_columns_by_left(profiles_df[cost_columns])\n",
                "profiles_df_categories[cost_columns_categories] = fill_columns_by_left(\n",
                "    profiles_df_categories[cost_columns_categories]\n",
                ")"
            ]
        },
        {
            "cell_type": "code",
            "execution_count": 19,
            "metadata": {},
            "outputs": [],
            "source": [
                "def trim_trailing_numbers(string):\n",
                "    has_trailing_numbers = string[-1].isdigit()\n",
                "    if not has_trailing_numbers:\n",
                "        return string\n",
                "    return \"_\".join(string.split(\"_\")[:-1])"
            ]
        },
        {
            "cell_type": "code",
            "execution_count": 20,
            "metadata": {},
            "outputs": [],
            "source": [
                "profiles_df[\"core_scenario\"] = profiles_df[\"scenario\"].apply(trim_trailing_numbers)\n",
                "profiles_df_categories[\"core_scenario\"] = profiles_df_categories[\"scenario\"].apply(\n",
                "    trim_trailing_numbers\n",
                ")"
            ]
        },
        {
            "cell_type": "code",
            "execution_count": 21,
            "metadata": {},
            "outputs": [],
            "source": [
                "profiles_df.to_feather(f\"{mcr5_output_path}/profiles-tariffs.feather\")\n",
                "profiles_df_categories.to_feather(\n",
                "    f\"{mcr5_output_path}/profiles-categories-tariffs.feather\"\n",
                ")"
            ]
        }
    ],
    "metadata": {
        "kernelspec": {
            "display_name": "mcr-py",
            "language": "python",
            "name": "python3"
        },
        "language_info": {
            "codemirror_mode": {
                "name": "ipython",
                "version": 3
            },
            "file_extension": ".py",
            "mimetype": "text/x-python",
            "name": "python",
            "nbconvert_exporter": "python",
            "pygments_lexer": "ipython3",
            "version": "3.11.7"
        },
        "orig_nbformat": 4
    },
    "nbformat": 4,
    "nbformat_minor": 2
}