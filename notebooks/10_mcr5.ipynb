{
    "cells": [
        {
            "cell_type": "code",
            "execution_count": 1,
            "metadata": {},
            "outputs": [],
            "source": [
                "%load_ext autoreload\n",
                "%autoreload 2\n",
                "import os\n",
                "import pickle\n",
                "import sys\n",
                "from datetime import datetime\n",
                "\n",
                "sys.path.append(\"../src/\")\n",
                "from mcr_py.package import storage\n",
                "from mcr_py.package.geometa import GeoMeta\n",
                "from mcr_py.package.logger import rlog, setup\n",
                "from mcr_py.package.mcr5.mcr5 import MCR5\n",
                "\n",
                "setup(\"INFO\")"
            ]
        },
        {
            "cell_type": "code",
            "execution_count": 2,
            "metadata": {},
            "outputs": [],
            "source": [
                "city_id = \"cologne\"  # 'Koeln'\n",
                "city_id_osm = \"Koeln\"\n",
                "date = \"20240422\"\n",
                "geo_meta_path = f\"../data/stateful_variables/{city_id.lower()}_geometa.pkl\"\n",
                "stops = f\"../data/gtfs-cleaned/{city_id.lower()}_{date}/stops.csv\"\n",
                "structs = f\"../data/gtfs-cleaned/{city_id.lower()}_{date}/structs.pkl\"\n",
                "location_mapping_path = f\"../data/city_data/location_mappings_{city_id.lower()}.pkl\"\n",
                "bicycle_base_path = f\"../data/sharing_locations_clustered/{city_id.lower()}_bikes/\"\n",
                "mcr5_output_path = f\"../data/mcr5/{city_id.lower()}_{date}\"\n",
                "# bicycle_location_path = \"../data/bicycle_locations/2022-11-01_09_01_00.csv\""
            ]
        },
        {
            "cell_type": "code",
            "execution_count": 3,
            "metadata": {},
            "outputs": [],
            "source": [
                "geo_meta = GeoMeta.load(geo_meta_path)"
            ]
        },
        {
            "cell_type": "code",
            "execution_count": 4,
            "metadata": {},
            "outputs": [],
            "source": [
                "lm_data = storage.read_any_dict(location_mapping_path)\n",
                "location_mappings = lm_data[\"location_mappings\"]\n",
                "car_location_mappings = lm_data[\"car_location_mappings\"]"
            ]
        },
        {
            "cell_type": "code",
            "execution_count": 5,
            "metadata": {},
            "outputs": [],
            "source": [
                "from command.step_config import (\n",
                "    get_bicycle_only_config,\n",
                "    get_bicycle_public_transport_config,\n",
                "    get_car_only_config,\n",
                "    get_public_transport_only_config,\n",
                "    get_walking_only_config,\n",
                ")"
            ]
        },
        {
            "cell_type": "code",
            "execution_count": 12,
            "metadata": {},
            "outputs": [],
            "source": [
                "configs = {}\n",
                "\n",
                "\n",
                "def get_bicyle_public_transport_config_ready(bicycle_location_path, start_time):\n",
                "    initial_steps, repeating_steps = get_bicycle_public_transport_config(\n",
                "        geo_meta_path=geo_meta_path,\n",
                "        city_id=city_id_osm,\n",
                "        bicycle_price_function=\"next_bike_no_tariff\",\n",
                "        bicycle_location_path=bicycle_location_path,\n",
                "        structs_path=structs,\n",
                "        stops_path=stops,\n",
                "    )\n",
                "    return {\n",
                "        \"init_kwargs\": {\n",
                "            \"initial_steps\": initial_steps,\n",
                "            \"repeating_steps\": repeating_steps,\n",
                "        },\n",
                "        \"location_mappings\": location_mappings,\n",
                "        \"max_transfers\": 2,\n",
                "        \"start_time\": start_time,\n",
                "    }\n",
                "\n",
                "\n",
                "def get_car_only_config_ready():\n",
                "    initial_steps, repeating_steps = get_car_only_config(\n",
                "        geo_meta_path=geo_meta_path,\n",
                "        city_id=city_id_osm,\n",
                "    )\n",
                "    return {\n",
                "        \"init_kwargs\": {\n",
                "            \"initial_steps\": initial_steps,\n",
                "            \"repeating_steps\": repeating_steps,\n",
                "        },\n",
                "        \"location_mappings\": car_location_mappings,\n",
                "        \"max_transfers\": 1,\n",
                "    }\n",
                "\n",
                "\n",
                "def get_bicycle_only_config_ready(bicycle_location_path):\n",
                "    initial_steps, repeating_steps = get_bicycle_only_config(\n",
                "        geo_meta_path=geo_meta_path,\n",
                "        city_id=city_id_osm,\n",
                "        bicycle_price_function=\"next_bike_no_tariff\",\n",
                "        bicycle_location_path=bicycle_location_path,\n",
                "    )\n",
                "    return {\n",
                "        \"init_kwargs\": {\n",
                "            \"initial_steps\": initial_steps,\n",
                "            \"repeating_steps\": repeating_steps,\n",
                "        },\n",
                "        \"location_mappings\": location_mappings,\n",
                "        \"max_transfers\": 2,\n",
                "    }\n",
                "\n",
                "\n",
                "def get_public_transport_only_config_ready(start_time):\n",
                "    initial_steps, repeating_steps = get_public_transport_only_config(\n",
                "        geo_meta_path=geo_meta_path,\n",
                "        city_id=city_id_osm,\n",
                "        structs_path=structs,\n",
                "        stops_path=stops,\n",
                "    )\n",
                "    return {\n",
                "        \"init_kwargs\": {\n",
                "            \"initial_steps\": initial_steps,\n",
                "            \"repeating_steps\": repeating_steps,\n",
                "        },\n",
                "        \"location_mappings\": location_mappings,\n",
                "        \"max_transfers\": 2,\n",
                "        \"start_time\": start_time,\n",
                "    }\n",
                "\n",
                "\n",
                "def get_walking_only_config_ready():\n",
                "    initial_steps, repeating_steps = get_walking_only_config(\n",
                "        geo_meta_path=geo_meta_path,\n",
                "        city_id=city_id_osm,\n",
                "    )\n",
                "    return {\n",
                "        \"init_kwargs\": {\n",
                "            \"initial_steps\": initial_steps,\n",
                "            \"repeating_steps\": repeating_steps,\n",
                "        },\n",
                "        \"location_mappings\": location_mappings,\n",
                "        \"max_transfers\": 0,\n",
                "    }"
            ]
        },
        {
            "cell_type": "code",
            "execution_count": 13,
            "metadata": {},
            "outputs": [],
            "source": [
                "import itertools\n",
                "\n",
                "times = [\n",
                "    \"08:00:00\",\n",
                "    \"12:00:00\",\n",
                "    \"18:00:00\",\n",
                "]\n",
                "bicycle_location_paths = [\n",
                "    os.path.join(bicycle_base_path, path) for path in os.listdir(bicycle_base_path)\n",
                "]\n",
                "\n",
                "bicycle_public_transport_config_args = list(\n",
                "    itertools.product(\n",
                "        times,\n",
                "        bicycle_location_paths,\n",
                "    )\n",
                ")"
            ]
        },
        {
            "cell_type": "code",
            "execution_count": 14,
            "metadata": {},
            "outputs": [
                {
                    "name": "stdout",
                    "output_type": "stream",
                    "text": [
                        "0 08:00:00 ../data/sharing_locations_clustered/cologne_bikes/2022-11-25_13_01_00.csv\n",
                        "1 08:00:00 ../data/sharing_locations_clustered/cologne_bikes/2022-04-07_18_01_00.csv\n",
                        "2 08:00:00 ../data/sharing_locations_clustered/cologne_bikes/2023-02-26_15_01_00.csv\n",
                        "3 08:00:00 ../data/sharing_locations_clustered/cologne_bikes/2023-02-24_00_01_00.csv\n",
                        "4 08:00:00 ../data/sharing_locations_clustered/cologne_bikes/2022-11-07_04_01_00.csv\n",
                        "5 08:00:00 ../data/sharing_locations_clustered/cologne_bikes/2022-08-29_17_01_00.csv\n",
                        "6 08:00:00 ../data/sharing_locations_clustered/cologne_bikes/2022-12-30_08_01_00.csv\n",
                        "7 12:00:00 ../data/sharing_locations_clustered/cologne_bikes/2022-11-25_13_01_00.csv\n",
                        "8 12:00:00 ../data/sharing_locations_clustered/cologne_bikes/2022-04-07_18_01_00.csv\n",
                        "9 12:00:00 ../data/sharing_locations_clustered/cologne_bikes/2023-02-26_15_01_00.csv\n",
                        "10 12:00:00 ../data/sharing_locations_clustered/cologne_bikes/2023-02-24_00_01_00.csv\n",
                        "11 12:00:00 ../data/sharing_locations_clustered/cologne_bikes/2022-11-07_04_01_00.csv\n",
                        "12 12:00:00 ../data/sharing_locations_clustered/cologne_bikes/2022-08-29_17_01_00.csv\n",
                        "13 12:00:00 ../data/sharing_locations_clustered/cologne_bikes/2022-12-30_08_01_00.csv\n",
                        "14 18:00:00 ../data/sharing_locations_clustered/cologne_bikes/2022-11-25_13_01_00.csv\n",
                        "15 18:00:00 ../data/sharing_locations_clustered/cologne_bikes/2022-04-07_18_01_00.csv\n",
                        "16 18:00:00 ../data/sharing_locations_clustered/cologne_bikes/2023-02-26_15_01_00.csv\n",
                        "17 18:00:00 ../data/sharing_locations_clustered/cologne_bikes/2023-02-24_00_01_00.csv\n",
                        "18 18:00:00 ../data/sharing_locations_clustered/cologne_bikes/2022-11-07_04_01_00.csv\n",
                        "19 18:00:00 ../data/sharing_locations_clustered/cologne_bikes/2022-08-29_17_01_00.csv\n",
                        "20 18:00:00 ../data/sharing_locations_clustered/cologne_bikes/2022-12-30_08_01_00.csv\n",
                        "\n",
                        "0 08:00:00\n",
                        "1 12:00:00\n",
                        "2 18:00:00\n",
                        "\n",
                        "0 ../data/sharing_locations_clustered/cologne_bikes/2022-11-25_13_01_00.csv\n",
                        "1 ../data/sharing_locations_clustered/cologne_bikes/2022-04-07_18_01_00.csv\n",
                        "2 ../data/sharing_locations_clustered/cologne_bikes/2023-02-26_15_01_00.csv\n",
                        "3 ../data/sharing_locations_clustered/cologne_bikes/2023-02-24_00_01_00.csv\n",
                        "4 ../data/sharing_locations_clustered/cologne_bikes/2022-11-07_04_01_00.csv\n",
                        "5 ../data/sharing_locations_clustered/cologne_bikes/2022-08-29_17_01_00.csv\n",
                        "6 ../data/sharing_locations_clustered/cologne_bikes/2022-12-30_08_01_00.csv\n"
                    ]
                }
            ],
            "source": [
                "from functools import partial\n",
                "\n",
                "for i, (time, bicycle_location_path) in enumerate(bicycle_public_transport_config_args):\n",
                "    print(i, time, bicycle_location_path)\n",
                "    configs[f\"bicycle_public_transport_{i}\"] = partial(\n",
                "        get_bicyle_public_transport_config_ready, bicycle_location_path, time\n",
                "    )\n",
                "\n",
                "print()\n",
                "for i, time in enumerate(times):\n",
                "    print(i, time)\n",
                "    configs[f\"public_transport_{i}\"] = partial(\n",
                "        get_public_transport_only_config_ready, time\n",
                "    )\n",
                "\n",
                "print()\n",
                "for i, bicycle_location_path in enumerate(bicycle_location_paths):\n",
                "    print(i, bicycle_location_path)\n",
                "    configs[f\"bicycle_{i}\"] = partial(\n",
                "        get_bicycle_only_config_ready, bicycle_location_path\n",
                "    )\n",
                "\n",
                "configs[\"car\"] = get_car_only_config_ready\n",
                "configs[\"walking\"] = get_walking_only_config_ready"
            ]
        },
        {
            "cell_type": "code",
            "execution_count": 15,
            "metadata": {},
            "outputs": [],
            "source": [
                "if os.path.exists(mcr5_output_path):\n",
                "    raise Exception(\"Output path already exists\")"
            ]
        },
        {
            "cell_type": "code",
            "execution_count": 16,
            "metadata": {},
            "outputs": [
                {
                    "data": {
                        "text/plain": [
                            "{'bicycle_public_transport_0': functools.partial(<function get_bicyle_public_transport_config_ready at 0x75487e2a3920>, '../data/sharing_locations_clustered/cologne_bikes/2022-11-25_13_01_00.csv', '08:00:00'),\n",
                            " 'bicycle_public_transport_1': functools.partial(<function get_bicyle_public_transport_config_ready at 0x75487e2a3920>, '../data/sharing_locations_clustered/cologne_bikes/2022-04-07_18_01_00.csv', '08:00:00'),\n",
                            " 'bicycle_public_transport_2': functools.partial(<function get_bicyle_public_transport_config_ready at 0x75487e2a3920>, '../data/sharing_locations_clustered/cologne_bikes/2023-02-26_15_01_00.csv', '08:00:00'),\n",
                            " 'bicycle_public_transport_3': functools.partial(<function get_bicyle_public_transport_config_ready at 0x75487e2a3920>, '../data/sharing_locations_clustered/cologne_bikes/2023-02-24_00_01_00.csv', '08:00:00'),\n",
                            " 'bicycle_public_transport_4': functools.partial(<function get_bicyle_public_transport_config_ready at 0x75487e2a3920>, '../data/sharing_locations_clustered/cologne_bikes/2022-11-07_04_01_00.csv', '08:00:00'),\n",
                            " 'bicycle_public_transport_5': functools.partial(<function get_bicyle_public_transport_config_ready at 0x75487e2a3920>, '../data/sharing_locations_clustered/cologne_bikes/2022-08-29_17_01_00.csv', '08:00:00'),\n",
                            " 'bicycle_public_transport_6': functools.partial(<function get_bicyle_public_transport_config_ready at 0x75487e2a3920>, '../data/sharing_locations_clustered/cologne_bikes/2022-12-30_08_01_00.csv', '08:00:00'),\n",
                            " 'bicycle_public_transport_7': functools.partial(<function get_bicyle_public_transport_config_ready at 0x75487e2a3920>, '../data/sharing_locations_clustered/cologne_bikes/2022-11-25_13_01_00.csv', '12:00:00'),\n",
                            " 'bicycle_public_transport_8': functools.partial(<function get_bicyle_public_transport_config_ready at 0x75487e2a3920>, '../data/sharing_locations_clustered/cologne_bikes/2022-04-07_18_01_00.csv', '12:00:00'),\n",
                            " 'bicycle_public_transport_9': functools.partial(<function get_bicyle_public_transport_config_ready at 0x75487e2a3920>, '../data/sharing_locations_clustered/cologne_bikes/2023-02-26_15_01_00.csv', '12:00:00'),\n",
                            " 'bicycle_public_transport_10': functools.partial(<function get_bicyle_public_transport_config_ready at 0x75487e2a3920>, '../data/sharing_locations_clustered/cologne_bikes/2023-02-24_00_01_00.csv', '12:00:00'),\n",
                            " 'bicycle_public_transport_11': functools.partial(<function get_bicyle_public_transport_config_ready at 0x75487e2a3920>, '../data/sharing_locations_clustered/cologne_bikes/2022-11-07_04_01_00.csv', '12:00:00'),\n",
                            " 'bicycle_public_transport_12': functools.partial(<function get_bicyle_public_transport_config_ready at 0x75487e2a3920>, '../data/sharing_locations_clustered/cologne_bikes/2022-08-29_17_01_00.csv', '12:00:00'),\n",
                            " 'bicycle_public_transport_13': functools.partial(<function get_bicyle_public_transport_config_ready at 0x75487e2a3920>, '../data/sharing_locations_clustered/cologne_bikes/2022-12-30_08_01_00.csv', '12:00:00'),\n",
                            " 'bicycle_public_transport_14': functools.partial(<function get_bicyle_public_transport_config_ready at 0x75487e2a3920>, '../data/sharing_locations_clustered/cologne_bikes/2022-11-25_13_01_00.csv', '18:00:00'),\n",
                            " 'bicycle_public_transport_15': functools.partial(<function get_bicyle_public_transport_config_ready at 0x75487e2a3920>, '../data/sharing_locations_clustered/cologne_bikes/2022-04-07_18_01_00.csv', '18:00:00'),\n",
                            " 'bicycle_public_transport_16': functools.partial(<function get_bicyle_public_transport_config_ready at 0x75487e2a3920>, '../data/sharing_locations_clustered/cologne_bikes/2023-02-26_15_01_00.csv', '18:00:00'),\n",
                            " 'bicycle_public_transport_17': functools.partial(<function get_bicyle_public_transport_config_ready at 0x75487e2a3920>, '../data/sharing_locations_clustered/cologne_bikes/2023-02-24_00_01_00.csv', '18:00:00'),\n",
                            " 'bicycle_public_transport_18': functools.partial(<function get_bicyle_public_transport_config_ready at 0x75487e2a3920>, '../data/sharing_locations_clustered/cologne_bikes/2022-11-07_04_01_00.csv', '18:00:00'),\n",
                            " 'bicycle_public_transport_19': functools.partial(<function get_bicyle_public_transport_config_ready at 0x75487e2a3920>, '../data/sharing_locations_clustered/cologne_bikes/2022-08-29_17_01_00.csv', '18:00:00'),\n",
                            " 'bicycle_public_transport_20': functools.partial(<function get_bicyle_public_transport_config_ready at 0x75487e2a3920>, '../data/sharing_locations_clustered/cologne_bikes/2022-12-30_08_01_00.csv', '18:00:00'),\n",
                            " 'public_transport_0': functools.partial(<function get_public_transport_only_config_ready at 0x75487d9a3420>, '08:00:00'),\n",
                            " 'public_transport_1': functools.partial(<function get_public_transport_only_config_ready at 0x75487d9a3420>, '12:00:00'),\n",
                            " 'public_transport_2': functools.partial(<function get_public_transport_only_config_ready at 0x75487d9a3420>, '18:00:00'),\n",
                            " 'bicycle_0': functools.partial(<function get_bicycle_only_config_ready at 0x75487d9a3740>, '../data/sharing_locations_clustered/cologne_bikes/2022-11-25_13_01_00.csv'),\n",
                            " 'bicycle_1': functools.partial(<function get_bicycle_only_config_ready at 0x75487d9a3740>, '../data/sharing_locations_clustered/cologne_bikes/2022-04-07_18_01_00.csv'),\n",
                            " 'bicycle_2': functools.partial(<function get_bicycle_only_config_ready at 0x75487d9a3740>, '../data/sharing_locations_clustered/cologne_bikes/2023-02-26_15_01_00.csv'),\n",
                            " 'bicycle_3': functools.partial(<function get_bicycle_only_config_ready at 0x75487d9a3740>, '../data/sharing_locations_clustered/cologne_bikes/2023-02-24_00_01_00.csv'),\n",
                            " 'bicycle_4': functools.partial(<function get_bicycle_only_config_ready at 0x75487d9a3740>, '../data/sharing_locations_clustered/cologne_bikes/2022-11-07_04_01_00.csv'),\n",
                            " 'bicycle_5': functools.partial(<function get_bicycle_only_config_ready at 0x75487d9a3740>, '../data/sharing_locations_clustered/cologne_bikes/2022-08-29_17_01_00.csv'),\n",
                            " 'bicycle_6': functools.partial(<function get_bicycle_only_config_ready at 0x75487d9a3740>, '../data/sharing_locations_clustered/cologne_bikes/2022-12-30_08_01_00.csv'),\n",
                            " 'car': <function __main__.get_car_only_config_ready()>,\n",
                            " 'walking': <function __main__.get_walking_only_config_ready()>}"
                        ]
                    },
                    "execution_count": 16,
                    "metadata": {},
                    "output_type": "execute_result"
                }
            ],
            "source": [
                "configs"
            ]
        },
        {
            "cell_type": "code",
            "execution_count": 17,
            "metadata": {},
            "outputs": [
                {
                    "data": {
                        "text/html": [
                            "<pre style=\"white-space:pre;overflow-x:auto;line-height:normal;font-family:Menlo,'DejaVu Sans Mono',consolas,'Courier New',monospace\"><span style=\"color: #7fbfbf; text-decoration-color: #7fbfbf\">[11:33:02] </span><span style=\"color: #000080; text-decoration-color: #000080\">INFO    </span> Running MCR5 for bicycle_public_transport_0                                      <a href=\"file:///tmp/ipykernel_1226015/542061263.py\" target=\"_blank\"><span style=\"color: #7f7f7f; text-decoration-color: #7f7f7f\">542061263.py</span></a><span style=\"color: #7f7f7f; text-decoration-color: #7f7f7f\">:</span><a href=\"file:///tmp/ipykernel_1226015/542061263.py#4\" target=\"_blank\"><span style=\"color: #7f7f7f; text-decoration-color: #7f7f7f\">4</span></a>\n",
                            "</pre>\n"
                        ],
                        "text/plain": [
                            "\u001b[2;36m[11:33:02]\u001b[0m\u001b[2;36m \u001b[0m\u001b[34mINFO    \u001b[0m Running MCR5 for bicycle_public_transport_0                                      \u001b]8;id=313397;file:///tmp/ipykernel_1226015/542061263.py\u001b\\\u001b[2m542061263.py\u001b[0m\u001b]8;;\u001b\\\u001b[2m:\u001b[0m\u001b]8;id=997467;file:///tmp/ipykernel_1226015/542061263.py#4\u001b\\\u001b[2m4\u001b[0m\u001b]8;;\u001b\\\n"
                        ]
                    },
                    "metadata": {},
                    "output_type": "display_data"
                },
                {
                    "data": {
                        "text/html": [
                            "<pre style=\"white-space:pre;overflow-x:auto;line-height:normal;font-family:Menlo,'DejaVu Sans Mono',consolas,'Courier New',monospace\"><span style=\"color: #7fbfbf; text-decoration-color: #7fbfbf\">           </span><span style=\"color: #000080; text-decoration-color: #000080\">INFO    </span> Downloading OSM data                                                                 <a href=\"file:///home/ppeter/repo/mcr-py/notebooks/../src/package/osm/osm.py\" target=\"_blank\"><span style=\"color: #7f7f7f; text-decoration-color: #7f7f7f\">osm.py</span></a><span style=\"color: #7f7f7f; text-decoration-color: #7f7f7f\">:</span><a href=\"file:///home/ppeter/repo/mcr-py/notebooks/../src/package/osm/osm.py#102\" target=\"_blank\"><span style=\"color: #7f7f7f; text-decoration-color: #7f7f7f\">102</span></a>\n",
                            "</pre>\n"
                        ],
                        "text/plain": [
                            "\u001b[2;36m          \u001b[0m\u001b[2;36m \u001b[0m\u001b[34mINFO    \u001b[0m Downloading OSM data                                                                 \u001b]8;id=686502;file:///home/ppeter/repo/mcr-py/notebooks/../src/package/osm/osm.py\u001b\\\u001b[2mosm.py\u001b[0m\u001b]8;;\u001b\\\u001b[2m:\u001b[0m\u001b]8;id=23066;file:///home/ppeter/repo/mcr-py/notebooks/../src/package/osm/osm.py#102\u001b\\\u001b[2m102\u001b[0m\u001b]8;;\u001b\\\n"
                        ]
                    },
                    "metadata": {},
                    "output_type": "display_data"
                },
                {
                    "name": "stdout",
                    "output_type": "stream",
                    "text": [
                        "Downloaded Protobuf data 'Koeln.osm.pbf' (77.26 MB) to:\n",
                        "'/tmp/pyrosm/Koeln.osm.pbf'\n"
                    ]
                },
                {
                    "data": {
                        "text/html": [
                            "<pre style=\"white-space:pre;overflow-x:auto;line-height:normal;font-family:Menlo,'DejaVu Sans Mono',consolas,'Courier New',monospace\"><span style=\"color: #7fbfbf; text-decoration-color: #7fbfbf\">[11:33:10] </span><span style=\"color: #000080; text-decoration-color: #000080\">INFO    </span> Downloading OSM data done <span style=\"font-weight: bold\">(</span><span style=\"color: #008080; text-decoration-color: #008080; font-weight: bold\">7.65</span> seconds<span style=\"font-weight: bold\">)</span>                                             <a href=\"file:///home/ppeter/repo/mcr-py/notebooks/../src/package/osm/osm.py\" target=\"_blank\"><span style=\"color: #7f7f7f; text-decoration-color: #7f7f7f\">osm.py</span></a><span style=\"color: #7f7f7f; text-decoration-color: #7f7f7f\">:</span><a href=\"file:///home/ppeter/repo/mcr-py/notebooks/../src/package/osm/osm.py#102\" target=\"_blank\"><span style=\"color: #7f7f7f; text-decoration-color: #7f7f7f\">102</span></a>\n",
                            "</pre>\n"
                        ],
                        "text/plain": [
                            "\u001b[2;36m[11:33:10]\u001b[0m\u001b[2;36m \u001b[0m\u001b[34mINFO    \u001b[0m Downloading OSM data done \u001b[1m(\u001b[0m\u001b[1;36m7.65\u001b[0m seconds\u001b[1m)\u001b[0m                                             \u001b]8;id=718681;file:///home/ppeter/repo/mcr-py/notebooks/../src/package/osm/osm.py\u001b\\\u001b[2mosm.py\u001b[0m\u001b]8;;\u001b\\\u001b[2m:\u001b[0m\u001b]8;id=589043;file:///home/ppeter/repo/mcr-py/notebooks/../src/package/osm/osm.py#102\u001b\\\u001b[2m102\u001b[0m\u001b]8;;\u001b\\\n"
                        ]
                    },
                    "metadata": {},
                    "output_type": "display_data"
                },
                {
                    "data": {
                        "text/html": [
                            "<pre style=\"white-space:pre;overflow-x:auto;line-height:normal;font-family:Menlo,'DejaVu Sans Mono',consolas,'Courier New',monospace\"><span style=\"color: #7fbfbf; text-decoration-color: #7fbfbf\">           </span><span style=\"color: #000080; text-decoration-color: #000080\">INFO    </span> Reading OSM network <span style=\"font-weight: bold\">(</span>walking<span style=\"font-weight: bold\">)</span>                                                         <a href=\"file:///home/ppeter/repo/mcr-py/notebooks/../src/package/osm/osm.py\" target=\"_blank\"><span style=\"color: #7f7f7f; text-decoration-color: #7f7f7f\">osm.py</span></a><span style=\"color: #7f7f7f; text-decoration-color: #7f7f7f\">:</span><a href=\"file:///home/ppeter/repo/mcr-py/notebooks/../src/package/osm/osm.py#73\" target=\"_blank\"><span style=\"color: #7f7f7f; text-decoration-color: #7f7f7f\">73</span></a>\n",
                            "</pre>\n"
                        ],
                        "text/plain": [
                            "\u001b[2;36m          \u001b[0m\u001b[2;36m \u001b[0m\u001b[34mINFO    \u001b[0m Reading OSM network \u001b[1m(\u001b[0mwalking\u001b[1m)\u001b[0m                                                         \u001b]8;id=459137;file:///home/ppeter/repo/mcr-py/notebooks/../src/package/osm/osm.py\u001b\\\u001b[2mosm.py\u001b[0m\u001b]8;;\u001b\\\u001b[2m:\u001b[0m\u001b]8;id=196049;file:///home/ppeter/repo/mcr-py/notebooks/../src/package/osm/osm.py#73\u001b\\\u001b[2m73\u001b[0m\u001b]8;;\u001b\\\n"
                        ]
                    },
                    "metadata": {},
                    "output_type": "display_data"
                },
                {
                    "data": {
                        "text/html": [
                            "<pre style=\"white-space:pre;overflow-x:auto;line-height:normal;font-family:Menlo,'DejaVu Sans Mono',consolas,'Courier New',monospace\"><span style=\"color: #7fbfbf; text-decoration-color: #7fbfbf\">[11:34:15] </span><span style=\"color: #000080; text-decoration-color: #000080\">INFO    </span> Reading OSM network <span style=\"font-weight: bold\">(</span>walking<span style=\"font-weight: bold\">)</span> done <span style=\"font-weight: bold\">(</span><span style=\"color: #00ff00; text-decoration-color: #00ff00; font-weight: bold\">1:05</span> minutes<span style=\"font-weight: bold\">)</span>                                     <a href=\"file:///home/ppeter/repo/mcr-py/notebooks/../src/package/osm/osm.py\" target=\"_blank\"><span style=\"color: #7f7f7f; text-decoration-color: #7f7f7f\">osm.py</span></a><span style=\"color: #7f7f7f; text-decoration-color: #7f7f7f\">:</span><a href=\"file:///home/ppeter/repo/mcr-py/notebooks/../src/package/osm/osm.py#73\" target=\"_blank\"><span style=\"color: #7f7f7f; text-decoration-color: #7f7f7f\">73</span></a>\n",
                            "</pre>\n"
                        ],
                        "text/plain": [
                            "\u001b[2;36m[11:34:15]\u001b[0m\u001b[2;36m \u001b[0m\u001b[34mINFO    \u001b[0m Reading OSM network \u001b[1m(\u001b[0mwalking\u001b[1m)\u001b[0m done \u001b[1m(\u001b[0m\u001b[1;92m1:05\u001b[0m minutes\u001b[1m)\u001b[0m                                     \u001b]8;id=993278;file:///home/ppeter/repo/mcr-py/notebooks/../src/package/osm/osm.py\u001b\\\u001b[2mosm.py\u001b[0m\u001b]8;;\u001b\\\u001b[2m:\u001b[0m\u001b]8;id=461882;file:///home/ppeter/repo/mcr-py/notebooks/../src/package/osm/osm.py#73\u001b\\\u001b[2m73\u001b[0m\u001b]8;;\u001b\\\n"
                        ]
                    },
                    "metadata": {},
                    "output_type": "display_data"
                },
                {
                    "data": {
                        "text/html": [
                            "<pre style=\"white-space:pre;overflow-x:auto;line-height:normal;font-family:Menlo,'DejaVu Sans Mono',consolas,'Courier New',monospace\"><span style=\"color: #7fbfbf; text-decoration-color: #7fbfbf\">           </span><span style=\"color: #000080; text-decoration-color: #000080\">INFO    </span> Cropping OSM network to boundary                                                      <a href=\"file:///home/ppeter/repo/mcr-py/notebooks/../src/package/osm/osm.py\" target=\"_blank\"><span style=\"color: #7f7f7f; text-decoration-color: #7f7f7f\">osm.py</span></a><span style=\"color: #7f7f7f; text-decoration-color: #7f7f7f\">:</span><a href=\"file:///home/ppeter/repo/mcr-py/notebooks/../src/package/osm/osm.py#76\" target=\"_blank\"><span style=\"color: #7f7f7f; text-decoration-color: #7f7f7f\">76</span></a>\n",
                            "</pre>\n"
                        ],
                        "text/plain": [
                            "\u001b[2;36m          \u001b[0m\u001b[2;36m \u001b[0m\u001b[34mINFO    \u001b[0m Cropping OSM network to boundary                                                      \u001b]8;id=61250;file:///home/ppeter/repo/mcr-py/notebooks/../src/package/osm/osm.py\u001b\\\u001b[2mosm.py\u001b[0m\u001b]8;;\u001b\\\u001b[2m:\u001b[0m\u001b]8;id=399587;file:///home/ppeter/repo/mcr-py/notebooks/../src/package/osm/osm.py#76\u001b\\\u001b[2m76\u001b[0m\u001b]8;;\u001b\\\n"
                        ]
                    },
                    "metadata": {},
                    "output_type": "display_data"
                },
                {
                    "data": {
                        "text/html": [
                            "<pre style=\"white-space:pre;overflow-x:auto;line-height:normal;font-family:Menlo,'DejaVu Sans Mono',consolas,'Courier New',monospace\"><span style=\"color: #7fbfbf; text-decoration-color: #7fbfbf\">[11:34:54] </span><span style=\"color: #000080; text-decoration-color: #000080\">INFO    </span> Cropping OSM network to boundary done <span style=\"font-weight: bold\">(</span><span style=\"color: #008080; text-decoration-color: #008080; font-weight: bold\">38.79</span> seconds<span style=\"font-weight: bold\">)</span>                                 <a href=\"file:///home/ppeter/repo/mcr-py/notebooks/../src/package/osm/osm.py\" target=\"_blank\"><span style=\"color: #7f7f7f; text-decoration-color: #7f7f7f\">osm.py</span></a><span style=\"color: #7f7f7f; text-decoration-color: #7f7f7f\">:</span><a href=\"file:///home/ppeter/repo/mcr-py/notebooks/../src/package/osm/osm.py#76\" target=\"_blank\"><span style=\"color: #7f7f7f; text-decoration-color: #7f7f7f\">76</span></a>\n",
                            "</pre>\n"
                        ],
                        "text/plain": [
                            "\u001b[2;36m[11:34:54]\u001b[0m\u001b[2;36m \u001b[0m\u001b[34mINFO    \u001b[0m Cropping OSM network to boundary done \u001b[1m(\u001b[0m\u001b[1;36m38.79\u001b[0m seconds\u001b[1m)\u001b[0m                                 \u001b]8;id=943689;file:///home/ppeter/repo/mcr-py/notebooks/../src/package/osm/osm.py\u001b\\\u001b[2mosm.py\u001b[0m\u001b]8;;\u001b\\\u001b[2m:\u001b[0m\u001b]8;id=178827;file:///home/ppeter/repo/mcr-py/notebooks/../src/package/osm/osm.py#76\u001b\\\u001b[2m76\u001b[0m\u001b]8;;\u001b\\\n"
                        ]
                    },
                    "metadata": {},
                    "output_type": "display_data"
                },
                {
                    "data": {
                        "text/html": [
                            "<pre style=\"white-space:pre;overflow-x:auto;line-height:normal;font-family:Menlo,'DejaVu Sans Mono',consolas,'Courier New',monospace\"><span style=\"color: #7fbfbf; text-decoration-color: #7fbfbf\">           </span><span style=\"color: #000080; text-decoration-color: #000080\">INFO    </span> Ensuring graph is connected                                                           <a href=\"file:///home/ppeter/repo/mcr-py/notebooks/../src/package/osm/osm.py\" target=\"_blank\"><span style=\"color: #7f7f7f; text-decoration-color: #7f7f7f\">osm.py</span></a><span style=\"color: #7f7f7f; text-decoration-color: #7f7f7f\">:</span><a href=\"file:///home/ppeter/repo/mcr-py/notebooks/../src/package/osm/osm.py#80\" target=\"_blank\"><span style=\"color: #7f7f7f; text-decoration-color: #7f7f7f\">80</span></a>\n",
                            "</pre>\n"
                        ],
                        "text/plain": [
                            "\u001b[2;36m          \u001b[0m\u001b[2;36m \u001b[0m\u001b[34mINFO    \u001b[0m Ensuring graph is connected                                                           \u001b]8;id=106891;file:///home/ppeter/repo/mcr-py/notebooks/../src/package/osm/osm.py\u001b\\\u001b[2mosm.py\u001b[0m\u001b]8;;\u001b\\\u001b[2m:\u001b[0m\u001b]8;id=802431;file:///home/ppeter/repo/mcr-py/notebooks/../src/package/osm/osm.py#80\u001b\\\u001b[2m80\u001b[0m\u001b]8;;\u001b\\\n"
                        ]
                    },
                    "metadata": {},
                    "output_type": "display_data"
                },
                {
                    "data": {
                        "text/html": [
                            "<pre style=\"white-space:pre;overflow-x:auto;line-height:normal;font-family:Menlo,'DejaVu Sans Mono',consolas,'Courier New',monospace\"><span style=\"color: #7fbfbf; text-decoration-color: #7fbfbf\">[11:36:06] </span><span style=\"color: #000080; text-decoration-color: #000080\">INFO    </span> Removed <span style=\"color: #008080; text-decoration-color: #008080; font-weight: bold\">5529</span> nodes from OSM network to ensure connectivity <span style=\"font-weight: bold\">(</span><span style=\"color: #008080; text-decoration-color: #008080; font-weight: bold\">0.94</span>%<span style=\"font-weight: bold\">)</span>                    <a href=\"file:///home/ppeter/repo/mcr-py/notebooks/../src/package/osm/osm.py\" target=\"_blank\"><span style=\"color: #7f7f7f; text-decoration-color: #7f7f7f\">osm.py</span></a><span style=\"color: #7f7f7f; text-decoration-color: #7f7f7f\">:</span><a href=\"file:///home/ppeter/repo/mcr-py/notebooks/../src/package/osm/osm.py#80\" target=\"_blank\"><span style=\"color: #7f7f7f; text-decoration-color: #7f7f7f\">80</span></a>\n",
                            "</pre>\n"
                        ],
                        "text/plain": [
                            "\u001b[2;36m[11:36:06]\u001b[0m\u001b[2;36m \u001b[0m\u001b[34mINFO    \u001b[0m Removed \u001b[1;36m5529\u001b[0m nodes from OSM network to ensure connectivity \u001b[1m(\u001b[0m\u001b[1;36m0.94\u001b[0m%\u001b[1m)\u001b[0m                    \u001b]8;id=490464;file:///home/ppeter/repo/mcr-py/notebooks/../src/package/osm/osm.py\u001b\\\u001b[2mosm.py\u001b[0m\u001b]8;;\u001b\\\u001b[2m:\u001b[0m\u001b]8;id=581501;file:///home/ppeter/repo/mcr-py/notebooks/../src/package/osm/osm.py#80\u001b\\\u001b[2m80\u001b[0m\u001b]8;;\u001b\\\n"
                        ]
                    },
                    "metadata": {},
                    "output_type": "display_data"
                },
                {
                    "data": {
                        "text/html": [
                            "<pre style=\"white-space:pre;overflow-x:auto;line-height:normal;font-family:Menlo,'DejaVu Sans Mono',consolas,'Courier New',monospace\"><span style=\"color: #7fbfbf; text-decoration-color: #7fbfbf\">           </span><span style=\"color: #000080; text-decoration-color: #000080\">INFO    </span> Ensuring graph is connected done <span style=\"font-weight: bold\">(</span><span style=\"color: #00ff00; text-decoration-color: #00ff00; font-weight: bold\">1:12</span> minutes<span style=\"font-weight: bold\">)</span>                                       <a href=\"file:///home/ppeter/repo/mcr-py/notebooks/../src/package/osm/osm.py\" target=\"_blank\"><span style=\"color: #7f7f7f; text-decoration-color: #7f7f7f\">osm.py</span></a><span style=\"color: #7f7f7f; text-decoration-color: #7f7f7f\">:</span><a href=\"file:///home/ppeter/repo/mcr-py/notebooks/../src/package/osm/osm.py#80\" target=\"_blank\"><span style=\"color: #7f7f7f; text-decoration-color: #7f7f7f\">80</span></a>\n",
                            "</pre>\n"
                        ],
                        "text/plain": [
                            "\u001b[2;36m          \u001b[0m\u001b[2;36m \u001b[0m\u001b[34mINFO    \u001b[0m Ensuring graph is connected done \u001b[1m(\u001b[0m\u001b[1;92m1:12\u001b[0m minutes\u001b[1m)\u001b[0m                                       \u001b]8;id=166141;file:///home/ppeter/repo/mcr-py/notebooks/../src/package/osm/osm.py\u001b\\\u001b[2mosm.py\u001b[0m\u001b]8;;\u001b\\\u001b[2m:\u001b[0m\u001b]8;id=287942;file:///home/ppeter/repo/mcr-py/notebooks/../src/package/osm/osm.py#80\u001b\\\u001b[2m80\u001b[0m\u001b]8;;\u001b\\\n"
                        ]
                    },
                    "metadata": {},
                    "output_type": "display_data"
                },
                {
                    "data": {
                        "text/html": [
                            "<pre style=\"white-space:pre;overflow-x:auto;line-height:normal;font-family:Menlo,'DejaVu Sans Mono',consolas,'Courier New',monospace\"><span style=\"color: #7fbfbf; text-decoration-color: #7fbfbf\">           </span><span style=\"color: #000080; text-decoration-color: #000080\">INFO    </span> Caching OSM network                                                                   <a href=\"file:///home/ppeter/repo/mcr-py/notebooks/../src/package/osm/osm.py\" target=\"_blank\"><span style=\"color: #7f7f7f; text-decoration-color: #7f7f7f\">osm.py</span></a><span style=\"color: #7f7f7f; text-decoration-color: #7f7f7f\">:</span><a href=\"file:///home/ppeter/repo/mcr-py/notebooks/../src/package/osm/osm.py#91\" target=\"_blank\"><span style=\"color: #7f7f7f; text-decoration-color: #7f7f7f\">91</span></a>\n",
                            "</pre>\n"
                        ],
                        "text/plain": [
                            "\u001b[2;36m          \u001b[0m\u001b[2;36m \u001b[0m\u001b[34mINFO    \u001b[0m Caching OSM network                                                                   \u001b]8;id=783971;file:///home/ppeter/repo/mcr-py/notebooks/../src/package/osm/osm.py\u001b\\\u001b[2mosm.py\u001b[0m\u001b]8;;\u001b\\\u001b[2m:\u001b[0m\u001b]8;id=314925;file:///home/ppeter/repo/mcr-py/notebooks/../src/package/osm/osm.py#91\u001b\\\u001b[2m91\u001b[0m\u001b]8;;\u001b\\\n"
                        ]
                    },
                    "metadata": {},
                    "output_type": "display_data"
                },
                {
                    "data": {
                        "text/html": [
                            "<pre style=\"white-space:pre;overflow-x:auto;line-height:normal;font-family:Menlo,'DejaVu Sans Mono',consolas,'Courier New',monospace\"><span style=\"color: #7fbfbf; text-decoration-color: #7fbfbf\">[11:36:12] </span><span style=\"color: #000080; text-decoration-color: #000080\">INFO    </span> Caching OSM network done <span style=\"font-weight: bold\">(</span><span style=\"color: #008080; text-decoration-color: #008080; font-weight: bold\">5.55</span> seconds<span style=\"font-weight: bold\">)</span>                                               <a href=\"file:///home/ppeter/repo/mcr-py/notebooks/../src/package/osm/osm.py\" target=\"_blank\"><span style=\"color: #7f7f7f; text-decoration-color: #7f7f7f\">osm.py</span></a><span style=\"color: #7f7f7f; text-decoration-color: #7f7f7f\">:</span><a href=\"file:///home/ppeter/repo/mcr-py/notebooks/../src/package/osm/osm.py#91\" target=\"_blank\"><span style=\"color: #7f7f7f; text-decoration-color: #7f7f7f\">91</span></a>\n",
                            "</pre>\n"
                        ],
                        "text/plain": [
                            "\u001b[2;36m[11:36:12]\u001b[0m\u001b[2;36m \u001b[0m\u001b[34mINFO    \u001b[0m Caching OSM network done \u001b[1m(\u001b[0m\u001b[1;36m5.55\u001b[0m seconds\u001b[1m)\u001b[0m                                               \u001b]8;id=252834;file:///home/ppeter/repo/mcr-py/notebooks/../src/package/osm/osm.py\u001b\\\u001b[2mosm.py\u001b[0m\u001b]8;;\u001b\\\u001b[2m:\u001b[0m\u001b]8;id=559672;file:///home/ppeter/repo/mcr-py/notebooks/../src/package/osm/osm.py#91\u001b\\\u001b[2m91\u001b[0m\u001b]8;;\u001b\\\n"
                        ]
                    },
                    "metadata": {},
                    "output_type": "display_data"
                },
                {
                    "data": {
                        "text/html": [
                            "<pre style=\"white-space:pre;overflow-x:auto;line-height:normal;font-family:Menlo,'DejaVu Sans Mono',consolas,'Courier New',monospace\"><span style=\"color: #7fbfbf; text-decoration-color: #7fbfbf\">[11:37:03] </span><span style=\"color: #000080; text-decoration-color: #000080\">INFO    </span> Using existing OSM data                                                              <a href=\"file:///home/ppeter/repo/mcr-py/notebooks/../src/package/osm/osm.py\" target=\"_blank\"><span style=\"color: #7f7f7f; text-decoration-color: #7f7f7f\">osm.py</span></a><span style=\"color: #7f7f7f; text-decoration-color: #7f7f7f\">:</span><a href=\"file:///home/ppeter/repo/mcr-py/notebooks/../src/package/osm/osm.py#105\" target=\"_blank\"><span style=\"color: #7f7f7f; text-decoration-color: #7f7f7f\">105</span></a>\n",
                            "</pre>\n"
                        ],
                        "text/plain": [
                            "\u001b[2;36m[11:37:03]\u001b[0m\u001b[2;36m \u001b[0m\u001b[34mINFO    \u001b[0m Using existing OSM data                                                              \u001b]8;id=323316;file:///home/ppeter/repo/mcr-py/notebooks/../src/package/osm/osm.py\u001b\\\u001b[2mosm.py\u001b[0m\u001b]8;;\u001b\\\u001b[2m:\u001b[0m\u001b]8;id=526402;file:///home/ppeter/repo/mcr-py/notebooks/../src/package/osm/osm.py#105\u001b\\\u001b[2m105\u001b[0m\u001b]8;;\u001b\\\n"
                        ]
                    },
                    "metadata": {},
                    "output_type": "display_data"
                },
                {
                    "data": {
                        "text/html": [
                            "<pre style=\"white-space:pre;overflow-x:auto;line-height:normal;font-family:Menlo,'DejaVu Sans Mono',consolas,'Courier New',monospace\"><span style=\"color: #7fbfbf; text-decoration-color: #7fbfbf\">           </span><span style=\"color: #000080; text-decoration-color: #000080\">INFO    </span> Reading OSM network <span style=\"font-weight: bold\">(</span>cycling<span style=\"font-weight: bold\">)</span>                                                         <a href=\"file:///home/ppeter/repo/mcr-py/notebooks/../src/package/osm/osm.py\" target=\"_blank\"><span style=\"color: #7f7f7f; text-decoration-color: #7f7f7f\">osm.py</span></a><span style=\"color: #7f7f7f; text-decoration-color: #7f7f7f\">:</span><a href=\"file:///home/ppeter/repo/mcr-py/notebooks/../src/package/osm/osm.py#73\" target=\"_blank\"><span style=\"color: #7f7f7f; text-decoration-color: #7f7f7f\">73</span></a>\n",
                            "</pre>\n"
                        ],
                        "text/plain": [
                            "\u001b[2;36m          \u001b[0m\u001b[2;36m \u001b[0m\u001b[34mINFO    \u001b[0m Reading OSM network \u001b[1m(\u001b[0mcycling\u001b[1m)\u001b[0m                                                         \u001b]8;id=515768;file:///home/ppeter/repo/mcr-py/notebooks/../src/package/osm/osm.py\u001b\\\u001b[2mosm.py\u001b[0m\u001b]8;;\u001b\\\u001b[2m:\u001b[0m\u001b]8;id=987378;file:///home/ppeter/repo/mcr-py/notebooks/../src/package/osm/osm.py#73\u001b\\\u001b[2m73\u001b[0m\u001b]8;;\u001b\\\n"
                        ]
                    },
                    "metadata": {},
                    "output_type": "display_data"
                },
                {
                    "data": {
                        "text/html": [
                            "<pre style=\"white-space:pre;overflow-x:auto;line-height:normal;font-family:Menlo,'DejaVu Sans Mono',consolas,'Courier New',monospace\"><span style=\"color: #7fbfbf; text-decoration-color: #7fbfbf\">[11:38:07] </span><span style=\"color: #000080; text-decoration-color: #000080\">INFO    </span> Reading OSM network <span style=\"font-weight: bold\">(</span>cycling<span style=\"font-weight: bold\">)</span> done <span style=\"font-weight: bold\">(</span><span style=\"color: #00ff00; text-decoration-color: #00ff00; font-weight: bold\">1:03</span> minutes<span style=\"font-weight: bold\">)</span>                                     <a href=\"file:///home/ppeter/repo/mcr-py/notebooks/../src/package/osm/osm.py\" target=\"_blank\"><span style=\"color: #7f7f7f; text-decoration-color: #7f7f7f\">osm.py</span></a><span style=\"color: #7f7f7f; text-decoration-color: #7f7f7f\">:</span><a href=\"file:///home/ppeter/repo/mcr-py/notebooks/../src/package/osm/osm.py#73\" target=\"_blank\"><span style=\"color: #7f7f7f; text-decoration-color: #7f7f7f\">73</span></a>\n",
                            "</pre>\n"
                        ],
                        "text/plain": [
                            "\u001b[2;36m[11:38:07]\u001b[0m\u001b[2;36m \u001b[0m\u001b[34mINFO    \u001b[0m Reading OSM network \u001b[1m(\u001b[0mcycling\u001b[1m)\u001b[0m done \u001b[1m(\u001b[0m\u001b[1;92m1:03\u001b[0m minutes\u001b[1m)\u001b[0m                                     \u001b]8;id=412793;file:///home/ppeter/repo/mcr-py/notebooks/../src/package/osm/osm.py\u001b\\\u001b[2mosm.py\u001b[0m\u001b]8;;\u001b\\\u001b[2m:\u001b[0m\u001b]8;id=486673;file:///home/ppeter/repo/mcr-py/notebooks/../src/package/osm/osm.py#73\u001b\\\u001b[2m73\u001b[0m\u001b]8;;\u001b\\\n"
                        ]
                    },
                    "metadata": {},
                    "output_type": "display_data"
                },
                {
                    "data": {
                        "text/html": [
                            "<pre style=\"white-space:pre;overflow-x:auto;line-height:normal;font-family:Menlo,'DejaVu Sans Mono',consolas,'Courier New',monospace\"><span style=\"color: #7fbfbf; text-decoration-color: #7fbfbf\">           </span><span style=\"color: #000080; text-decoration-color: #000080\">INFO    </span> Cropping OSM network to boundary                                                      <a href=\"file:///home/ppeter/repo/mcr-py/notebooks/../src/package/osm/osm.py\" target=\"_blank\"><span style=\"color: #7f7f7f; text-decoration-color: #7f7f7f\">osm.py</span></a><span style=\"color: #7f7f7f; text-decoration-color: #7f7f7f\">:</span><a href=\"file:///home/ppeter/repo/mcr-py/notebooks/../src/package/osm/osm.py#76\" target=\"_blank\"><span style=\"color: #7f7f7f; text-decoration-color: #7f7f7f\">76</span></a>\n",
                            "</pre>\n"
                        ],
                        "text/plain": [
                            "\u001b[2;36m          \u001b[0m\u001b[2;36m \u001b[0m\u001b[34mINFO    \u001b[0m Cropping OSM network to boundary                                                      \u001b]8;id=176158;file:///home/ppeter/repo/mcr-py/notebooks/../src/package/osm/osm.py\u001b\\\u001b[2mosm.py\u001b[0m\u001b]8;;\u001b\\\u001b[2m:\u001b[0m\u001b]8;id=686495;file:///home/ppeter/repo/mcr-py/notebooks/../src/package/osm/osm.py#76\u001b\\\u001b[2m76\u001b[0m\u001b]8;;\u001b\\\n"
                        ]
                    },
                    "metadata": {},
                    "output_type": "display_data"
                },
                {
                    "data": {
                        "text/html": [
                            "<pre style=\"white-space:pre;overflow-x:auto;line-height:normal;font-family:Menlo,'DejaVu Sans Mono',consolas,'Courier New',monospace\"><span style=\"color: #7fbfbf; text-decoration-color: #7fbfbf\">[11:38:42] </span><span style=\"color: #000080; text-decoration-color: #000080\">INFO    </span> Cropping OSM network to boundary done <span style=\"font-weight: bold\">(</span><span style=\"color: #008080; text-decoration-color: #008080; font-weight: bold\">34.21</span> seconds<span style=\"font-weight: bold\">)</span>                                 <a href=\"file:///home/ppeter/repo/mcr-py/notebooks/../src/package/osm/osm.py\" target=\"_blank\"><span style=\"color: #7f7f7f; text-decoration-color: #7f7f7f\">osm.py</span></a><span style=\"color: #7f7f7f; text-decoration-color: #7f7f7f\">:</span><a href=\"file:///home/ppeter/repo/mcr-py/notebooks/../src/package/osm/osm.py#76\" target=\"_blank\"><span style=\"color: #7f7f7f; text-decoration-color: #7f7f7f\">76</span></a>\n",
                            "</pre>\n"
                        ],
                        "text/plain": [
                            "\u001b[2;36m[11:38:42]\u001b[0m\u001b[2;36m \u001b[0m\u001b[34mINFO    \u001b[0m Cropping OSM network to boundary done \u001b[1m(\u001b[0m\u001b[1;36m34.21\u001b[0m seconds\u001b[1m)\u001b[0m                                 \u001b]8;id=347868;file:///home/ppeter/repo/mcr-py/notebooks/../src/package/osm/osm.py\u001b\\\u001b[2mosm.py\u001b[0m\u001b]8;;\u001b\\\u001b[2m:\u001b[0m\u001b]8;id=612443;file:///home/ppeter/repo/mcr-py/notebooks/../src/package/osm/osm.py#76\u001b\\\u001b[2m76\u001b[0m\u001b]8;;\u001b\\\n"
                        ]
                    },
                    "metadata": {},
                    "output_type": "display_data"
                },
                {
                    "data": {
                        "text/html": [
                            "<pre style=\"white-space:pre;overflow-x:auto;line-height:normal;font-family:Menlo,'DejaVu Sans Mono',consolas,'Courier New',monospace\"><span style=\"color: #7fbfbf; text-decoration-color: #7fbfbf\">           </span><span style=\"color: #000080; text-decoration-color: #000080\">INFO    </span> Ensuring graph is connected                                                           <a href=\"file:///home/ppeter/repo/mcr-py/notebooks/../src/package/osm/osm.py\" target=\"_blank\"><span style=\"color: #7f7f7f; text-decoration-color: #7f7f7f\">osm.py</span></a><span style=\"color: #7f7f7f; text-decoration-color: #7f7f7f\">:</span><a href=\"file:///home/ppeter/repo/mcr-py/notebooks/../src/package/osm/osm.py#80\" target=\"_blank\"><span style=\"color: #7f7f7f; text-decoration-color: #7f7f7f\">80</span></a>\n",
                            "</pre>\n"
                        ],
                        "text/plain": [
                            "\u001b[2;36m          \u001b[0m\u001b[2;36m \u001b[0m\u001b[34mINFO    \u001b[0m Ensuring graph is connected                                                           \u001b]8;id=601552;file:///home/ppeter/repo/mcr-py/notebooks/../src/package/osm/osm.py\u001b\\\u001b[2mosm.py\u001b[0m\u001b]8;;\u001b\\\u001b[2m:\u001b[0m\u001b]8;id=890839;file:///home/ppeter/repo/mcr-py/notebooks/../src/package/osm/osm.py#80\u001b\\\u001b[2m80\u001b[0m\u001b]8;;\u001b\\\n"
                        ]
                    },
                    "metadata": {},
                    "output_type": "display_data"
                },
                {
                    "data": {
                        "text/html": [
                            "<pre style=\"white-space:pre;overflow-x:auto;line-height:normal;font-family:Menlo,'DejaVu Sans Mono',consolas,'Courier New',monospace\"><span style=\"color: #7fbfbf; text-decoration-color: #7fbfbf\">[11:39:50] </span><span style=\"color: #000080; text-decoration-color: #000080\">INFO    </span> Removed <span style=\"color: #008080; text-decoration-color: #008080; font-weight: bold\">8759</span> nodes from OSM network to ensure connectivity <span style=\"font-weight: bold\">(</span><span style=\"color: #008080; text-decoration-color: #008080; font-weight: bold\">1.68</span>%<span style=\"font-weight: bold\">)</span>                    <a href=\"file:///home/ppeter/repo/mcr-py/notebooks/../src/package/osm/osm.py\" target=\"_blank\"><span style=\"color: #7f7f7f; text-decoration-color: #7f7f7f\">osm.py</span></a><span style=\"color: #7f7f7f; text-decoration-color: #7f7f7f\">:</span><a href=\"file:///home/ppeter/repo/mcr-py/notebooks/../src/package/osm/osm.py#80\" target=\"_blank\"><span style=\"color: #7f7f7f; text-decoration-color: #7f7f7f\">80</span></a>\n",
                            "</pre>\n"
                        ],
                        "text/plain": [
                            "\u001b[2;36m[11:39:50]\u001b[0m\u001b[2;36m \u001b[0m\u001b[34mINFO    \u001b[0m Removed \u001b[1;36m8759\u001b[0m nodes from OSM network to ensure connectivity \u001b[1m(\u001b[0m\u001b[1;36m1.68\u001b[0m%\u001b[1m)\u001b[0m                    \u001b]8;id=725467;file:///home/ppeter/repo/mcr-py/notebooks/../src/package/osm/osm.py\u001b\\\u001b[2mosm.py\u001b[0m\u001b]8;;\u001b\\\u001b[2m:\u001b[0m\u001b]8;id=458753;file:///home/ppeter/repo/mcr-py/notebooks/../src/package/osm/osm.py#80\u001b\\\u001b[2m80\u001b[0m\u001b]8;;\u001b\\\n"
                        ]
                    },
                    "metadata": {},
                    "output_type": "display_data"
                },
                {
                    "data": {
                        "text/html": [
                            "<pre style=\"white-space:pre;overflow-x:auto;line-height:normal;font-family:Menlo,'DejaVu Sans Mono',consolas,'Courier New',monospace\"><span style=\"color: #7fbfbf; text-decoration-color: #7fbfbf\">           </span><span style=\"color: #000080; text-decoration-color: #000080\">INFO    </span> Ensuring graph is connected done <span style=\"font-weight: bold\">(</span><span style=\"color: #00ff00; text-decoration-color: #00ff00; font-weight: bold\">1:07</span> minutes<span style=\"font-weight: bold\">)</span>                                       <a href=\"file:///home/ppeter/repo/mcr-py/notebooks/../src/package/osm/osm.py\" target=\"_blank\"><span style=\"color: #7f7f7f; text-decoration-color: #7f7f7f\">osm.py</span></a><span style=\"color: #7f7f7f; text-decoration-color: #7f7f7f\">:</span><a href=\"file:///home/ppeter/repo/mcr-py/notebooks/../src/package/osm/osm.py#80\" target=\"_blank\"><span style=\"color: #7f7f7f; text-decoration-color: #7f7f7f\">80</span></a>\n",
                            "</pre>\n"
                        ],
                        "text/plain": [
                            "\u001b[2;36m          \u001b[0m\u001b[2;36m \u001b[0m\u001b[34mINFO    \u001b[0m Ensuring graph is connected done \u001b[1m(\u001b[0m\u001b[1;92m1:07\u001b[0m minutes\u001b[1m)\u001b[0m                                       \u001b]8;id=679261;file:///home/ppeter/repo/mcr-py/notebooks/../src/package/osm/osm.py\u001b\\\u001b[2mosm.py\u001b[0m\u001b]8;;\u001b\\\u001b[2m:\u001b[0m\u001b]8;id=915931;file:///home/ppeter/repo/mcr-py/notebooks/../src/package/osm/osm.py#80\u001b\\\u001b[2m80\u001b[0m\u001b]8;;\u001b\\\n"
                        ]
                    },
                    "metadata": {},
                    "output_type": "display_data"
                },
                {
                    "data": {
                        "text/html": [
                            "<pre style=\"white-space:pre;overflow-x:auto;line-height:normal;font-family:Menlo,'DejaVu Sans Mono',consolas,'Courier New',monospace\"><span style=\"color: #7fbfbf; text-decoration-color: #7fbfbf\">           </span><span style=\"color: #000080; text-decoration-color: #000080\">INFO    </span> Caching OSM network                                                                   <a href=\"file:///home/ppeter/repo/mcr-py/notebooks/../src/package/osm/osm.py\" target=\"_blank\"><span style=\"color: #7f7f7f; text-decoration-color: #7f7f7f\">osm.py</span></a><span style=\"color: #7f7f7f; text-decoration-color: #7f7f7f\">:</span><a href=\"file:///home/ppeter/repo/mcr-py/notebooks/../src/package/osm/osm.py#91\" target=\"_blank\"><span style=\"color: #7f7f7f; text-decoration-color: #7f7f7f\">91</span></a>\n",
                            "</pre>\n"
                        ],
                        "text/plain": [
                            "\u001b[2;36m          \u001b[0m\u001b[2;36m \u001b[0m\u001b[34mINFO    \u001b[0m Caching OSM network                                                                   \u001b]8;id=409064;file:///home/ppeter/repo/mcr-py/notebooks/../src/package/osm/osm.py\u001b\\\u001b[2mosm.py\u001b[0m\u001b]8;;\u001b\\\u001b[2m:\u001b[0m\u001b]8;id=803015;file:///home/ppeter/repo/mcr-py/notebooks/../src/package/osm/osm.py#91\u001b\\\u001b[2m91\u001b[0m\u001b]8;;\u001b\\\n"
                        ]
                    },
                    "metadata": {},
                    "output_type": "display_data"
                },
                {
                    "data": {
                        "text/html": [
                            "<pre style=\"white-space:pre;overflow-x:auto;line-height:normal;font-family:Menlo,'DejaVu Sans Mono',consolas,'Courier New',monospace\"><span style=\"color: #7fbfbf; text-decoration-color: #7fbfbf\">[11:39:54] </span><span style=\"color: #000080; text-decoration-color: #000080\">INFO    </span> Caching OSM network done <span style=\"font-weight: bold\">(</span><span style=\"color: #008080; text-decoration-color: #008080; font-weight: bold\">4.32</span> seconds<span style=\"font-weight: bold\">)</span>                                               <a href=\"file:///home/ppeter/repo/mcr-py/notebooks/../src/package/osm/osm.py\" target=\"_blank\"><span style=\"color: #7f7f7f; text-decoration-color: #7f7f7f\">osm.py</span></a><span style=\"color: #7f7f7f; text-decoration-color: #7f7f7f\">:</span><a href=\"file:///home/ppeter/repo/mcr-py/notebooks/../src/package/osm/osm.py#91\" target=\"_blank\"><span style=\"color: #7f7f7f; text-decoration-color: #7f7f7f\">91</span></a>\n",
                            "</pre>\n"
                        ],
                        "text/plain": [
                            "\u001b[2;36m[11:39:54]\u001b[0m\u001b[2;36m \u001b[0m\u001b[34mINFO    \u001b[0m Caching OSM network done \u001b[1m(\u001b[0m\u001b[1;36m4.32\u001b[0m seconds\u001b[1m)\u001b[0m                                               \u001b]8;id=965254;file:///home/ppeter/repo/mcr-py/notebooks/../src/package/osm/osm.py\u001b\\\u001b[2mosm.py\u001b[0m\u001b]8;;\u001b\\\u001b[2m:\u001b[0m\u001b]8;id=338103;file:///home/ppeter/repo/mcr-py/notebooks/../src/package/osm/osm.py#91\u001b\\\u001b[2m91\u001b[0m\u001b]8;;\u001b\\\n"
                        ]
                    },
                    "metadata": {},
                    "output_type": "display_data"
                },
                {
                    "data": {
                        "text/html": [
                            "<pre style=\"white-space:pre;overflow-x:auto;line-height:normal;font-family:Menlo,'DejaVu Sans Mono',consolas,'Courier New',monospace\"><span style=\"color: #7fbfbf; text-decoration-color: #7fbfbf\">[11:40:31] </span><span style=\"color: #000080; text-decoration-color: #000080\">INFO    </span> Fetching POI for runtime optimization                                         <a href=\"file:///home/ppeter/repo/mcr-py/notebooks/../src/command/step_config.py\" target=\"_blank\"><span style=\"color: #7f7f7f; text-decoration-color: #7f7f7f\">step_config.py</span></a><span style=\"color: #7f7f7f; text-decoration-color: #7f7f7f\">:</span><a href=\"file:///home/ppeter/repo/mcr-py/notebooks/../src/command/step_config.py#51\" target=\"_blank\"><span style=\"color: #7f7f7f; text-decoration-color: #7f7f7f\">51</span></a>\n",
                            "</pre>\n"
                        ],
                        "text/plain": [
                            "\u001b[2;36m[11:40:31]\u001b[0m\u001b[2;36m \u001b[0m\u001b[34mINFO    \u001b[0m Fetching POI for runtime optimization                                         \u001b]8;id=672453;file:///home/ppeter/repo/mcr-py/notebooks/../src/command/step_config.py\u001b\\\u001b[2mstep_config.py\u001b[0m\u001b]8;;\u001b\\\u001b[2m:\u001b[0m\u001b]8;id=557636;file:///home/ppeter/repo/mcr-py/notebooks/../src/command/step_config.py#51\u001b\\\u001b[2m51\u001b[0m\u001b]8;;\u001b\\\n"
                        ]
                    },
                    "metadata": {},
                    "output_type": "display_data"
                },
                {
                    "name": "stderr",
                    "output_type": "stream",
                    "text": [
                        "/home/ppeter/miniconda3/envs/mcr-py/lib/python3.11/site-packages/joblib/memory.py:655: JobLibCollisionWarning: Possible name collisions between functions 'query' (/home/ppeter/repo/mcr-py/notebooks/../src/package/overpass/query.py:-1) and 'query' (/home/ppeter/repo/mcr-py/notebooks/../src/package/overpass/query.py:42)\n",
                        "  return self._cached_call(args, kwargs)[0]\n"
                    ]
                },
                {
                    "data": {
                        "text/html": [
                            "<pre style=\"white-space:pre;overflow-x:auto;line-height:normal;font-family:Menlo,'DejaVu Sans Mono',consolas,'Courier New',monospace\"><span style=\"color: #7fbfbf; text-decoration-color: #7fbfbf\">[11:41:19] </span><span style=\"color: #000080; text-decoration-color: #000080\">INFO    </span> Fetching POI for runtime optimization done <span style=\"font-weight: bold\">(</span><span style=\"color: #008080; text-decoration-color: #008080; font-weight: bold\">47.83</span> seconds<span style=\"font-weight: bold\">)</span>                    <a href=\"file:///home/ppeter/repo/mcr-py/notebooks/../src/command/step_config.py\" target=\"_blank\"><span style=\"color: #7f7f7f; text-decoration-color: #7f7f7f\">step_config.py</span></a><span style=\"color: #7f7f7f; text-decoration-color: #7f7f7f\">:</span><a href=\"file:///home/ppeter/repo/mcr-py/notebooks/../src/command/step_config.py#51\" target=\"_blank\"><span style=\"color: #7f7f7f; text-decoration-color: #7f7f7f\">51</span></a>\n",
                            "</pre>\n"
                        ],
                        "text/plain": [
                            "\u001b[2;36m[11:41:19]\u001b[0m\u001b[2;36m \u001b[0m\u001b[34mINFO    \u001b[0m Fetching POI for runtime optimization done \u001b[1m(\u001b[0m\u001b[1;36m47.83\u001b[0m seconds\u001b[1m)\u001b[0m                    \u001b]8;id=601831;file:///home/ppeter/repo/mcr-py/notebooks/../src/command/step_config.py\u001b\\\u001b[2mstep_config.py\u001b[0m\u001b]8;;\u001b\\\u001b[2m:\u001b[0m\u001b]8;id=596380;file:///home/ppeter/repo/mcr-py/notebooks/../src/command/step_config.py#51\u001b\\\u001b[2m51\u001b[0m\u001b]8;;\u001b\\\n"
                        ]
                    },
                    "metadata": {},
                    "output_type": "display_data"
                },
                {
                    "data": {
                        "text/html": [
                            "<pre style=\"white-space:pre;overflow-x:auto;line-height:normal;font-family:Menlo,'DejaVu Sans Mono',consolas,'Courier New',monospace\"><span style=\"color: #7fbfbf; text-decoration-color: #7fbfbf\">[11:42:29] </span><span style=\"color: #000080; text-decoration-color: #000080\">INFO    </span> Reading stops                                                           <a href=\"file:///home/ppeter/repo/mcr-py/notebooks/../src/package/mcr/steps/public_transport.py\" target=\"_blank\"><span style=\"color: #7f7f7f; text-decoration-color: #7f7f7f\">public_transport.py</span></a><span style=\"color: #7f7f7f; text-decoration-color: #7f7f7f\">:</span><a href=\"file:///home/ppeter/repo/mcr-py/notebooks/../src/package/mcr/steps/public_transport.py#143\" target=\"_blank\"><span style=\"color: #7f7f7f; text-decoration-color: #7f7f7f\">143</span></a>\n",
                            "</pre>\n"
                        ],
                        "text/plain": [
                            "\u001b[2;36m[11:42:29]\u001b[0m\u001b[2;36m \u001b[0m\u001b[34mINFO    \u001b[0m Reading stops                                                           \u001b]8;id=294738;file:///home/ppeter/repo/mcr-py/notebooks/../src/package/mcr/steps/public_transport.py\u001b\\\u001b[2mpublic_transport.py\u001b[0m\u001b]8;;\u001b\\\u001b[2m:\u001b[0m\u001b]8;id=231715;file:///home/ppeter/repo/mcr-py/notebooks/../src/package/mcr/steps/public_transport.py#143\u001b\\\u001b[2m143\u001b[0m\u001b]8;;\u001b\\\n"
                        ]
                    },
                    "metadata": {},
                    "output_type": "display_data"
                },
                {
                    "data": {
                        "text/html": [
                            "<pre style=\"white-space:pre;overflow-x:auto;line-height:normal;font-family:Menlo,'DejaVu Sans Mono',consolas,'Courier New',monospace\"><span style=\"color: #7fbfbf; text-decoration-color: #7fbfbf\">           </span><span style=\"color: #000080; text-decoration-color: #000080\">INFO    </span> Reading stops done <span style=\"font-weight: bold\">(</span><span style=\"color: #008080; text-decoration-color: #008080; font-weight: bold\">0.23</span> seconds<span style=\"font-weight: bold\">)</span>                                       <a href=\"file:///home/ppeter/repo/mcr-py/notebooks/../src/package/mcr/steps/public_transport.py\" target=\"_blank\"><span style=\"color: #7f7f7f; text-decoration-color: #7f7f7f\">public_transport.py</span></a><span style=\"color: #7f7f7f; text-decoration-color: #7f7f7f\">:</span><a href=\"file:///home/ppeter/repo/mcr-py/notebooks/../src/package/mcr/steps/public_transport.py#143\" target=\"_blank\"><span style=\"color: #7f7f7f; text-decoration-color: #7f7f7f\">143</span></a>\n",
                            "</pre>\n"
                        ],
                        "text/plain": [
                            "\u001b[2;36m          \u001b[0m\u001b[2;36m \u001b[0m\u001b[34mINFO    \u001b[0m Reading stops done \u001b[1m(\u001b[0m\u001b[1;36m0.23\u001b[0m seconds\u001b[1m)\u001b[0m                                       \u001b]8;id=678218;file:///home/ppeter/repo/mcr-py/notebooks/../src/package/mcr/steps/public_transport.py\u001b\\\u001b[2mpublic_transport.py\u001b[0m\u001b]8;;\u001b\\\u001b[2m:\u001b[0m\u001b]8;id=222405;file:///home/ppeter/repo/mcr-py/notebooks/../src/package/mcr/steps/public_transport.py#143\u001b\\\u001b[2m143\u001b[0m\u001b]8;;\u001b\\\n"
                        ]
                    },
                    "metadata": {},
                    "output_type": "display_data"
                },
                {
                    "data": {
                        "application/vnd.jupyter.widget-view+json": {
                            "model_id": "39a8afb22afe44b886e9ba75f876e0ce",
                            "version_major": 2,
                            "version_minor": 0
                        },
                        "text/plain": [
                            "Starting:   0%|          | 0/1782 [00:00<?, ?it/s]"
                        ]
                    },
                    "metadata": {},
                    "output_type": "display_data"
                },
                {
                    "data": {
                        "text/html": [
                            "<pre style=\"white-space:pre;overflow-x:auto;line-height:normal;font-family:Menlo,'DejaVu Sans Mono',consolas,'Courier New',monospace\"><span style=\"color: #7fbfbf; text-decoration-color: #7fbfbf\">[11:52:12] </span><span style=\"color: #000080; text-decoration-color: #000080\">INFO    </span> All processes finished.                                                             <a href=\"file:///home/ppeter/repo/mcr-py/notebooks/../src/package/mcr5/mcr5.py\" target=\"_blank\"><span style=\"color: #7f7f7f; text-decoration-color: #7f7f7f\">mcr5.py</span></a><span style=\"color: #7f7f7f; text-decoration-color: #7f7f7f\">:</span><a href=\"file:///home/ppeter/repo/mcr-py/notebooks/../src/package/mcr5/mcr5.py#100\" target=\"_blank\"><span style=\"color: #7f7f7f; text-decoration-color: #7f7f7f\">100</span></a>\n",
                            "</pre>\n"
                        ],
                        "text/plain": [
                            "\u001b[2;36m[11:52:12]\u001b[0m\u001b[2;36m \u001b[0m\u001b[34mINFO    \u001b[0m All processes finished.                                                             \u001b]8;id=310086;file:///home/ppeter/repo/mcr-py/notebooks/../src/package/mcr5/mcr5.py\u001b\\\u001b[2mmcr5.py\u001b[0m\u001b]8;;\u001b\\\u001b[2m:\u001b[0m\u001b]8;id=611005;file:///home/ppeter/repo/mcr-py/notebooks/../src/package/mcr5/mcr5.py#100\u001b\\\u001b[2m100\u001b[0m\u001b]8;;\u001b\\\n"
                        ]
                    },
                    "metadata": {},
                    "output_type": "display_data"
                },
                {
                    "data": {
                        "text/html": [
                            "<pre style=\"white-space:pre;overflow-x:auto;line-height:normal;font-family:Menlo,'DejaVu Sans Mono',consolas,'Courier New',monospace\"><span style=\"color: #7fbfbf; text-decoration-color: #7fbfbf\">           </span><span style=\"color: #800000; text-decoration-color: #800000\">WARNING </span> <span style=\"color: #008080; text-decoration-color: #008080; font-weight: bold\">1753</span> errors occurred during the analysis.                                           <a href=\"file:///home/ppeter/repo/mcr-py/notebooks/../src/package/mcr5/mcr5.py\" target=\"_blank\"><span style=\"color: #7f7f7f; text-decoration-color: #7f7f7f\">mcr5.py</span></a><span style=\"color: #7f7f7f; text-decoration-color: #7f7f7f\">:</span><a href=\"file:///home/ppeter/repo/mcr-py/notebooks/../src/package/mcr5/mcr5.py#106\" target=\"_blank\"><span style=\"color: #7f7f7f; text-decoration-color: #7f7f7f\">106</span></a>\n",
                            "</pre>\n"
                        ],
                        "text/plain": [
                            "\u001b[2;36m          \u001b[0m\u001b[2;36m \u001b[0m\u001b[31mWARNING \u001b[0m \u001b[1;36m1753\u001b[0m errors occurred during the analysis.                                           \u001b]8;id=244759;file:///home/ppeter/repo/mcr-py/notebooks/../src/package/mcr5/mcr5.py\u001b\\\u001b[2mmcr5.py\u001b[0m\u001b]8;;\u001b\\\u001b[2m:\u001b[0m\u001b]8;id=246153;file:///home/ppeter/repo/mcr-py/notebooks/../src/package/mcr5/mcr5.py#106\u001b\\\u001b[2m106\u001b[0m\u001b]8;;\u001b\\\n"
                        ]
                    },
                    "metadata": {},
                    "output_type": "display_data"
                },
                {
                    "data": {
                        "text/html": [
                            "<pre style=\"white-space:pre;overflow-x:auto;line-height:normal;font-family:Menlo,'DejaVu Sans Mono',consolas,'Courier New',monospace\"><span style=\"color: #7fbfbf; text-decoration-color: #7fbfbf\">           </span><span style=\"color: #000080; text-decoration-color: #000080\">INFO    </span> Running MCR5 for bicycle_public_transport_1                                      <a href=\"file:///tmp/ipykernel_1226015/542061263.py\" target=\"_blank\"><span style=\"color: #7f7f7f; text-decoration-color: #7f7f7f\">542061263.py</span></a><span style=\"color: #7f7f7f; text-decoration-color: #7f7f7f\">:</span><a href=\"file:///tmp/ipykernel_1226015/542061263.py#4\" target=\"_blank\"><span style=\"color: #7f7f7f; text-decoration-color: #7f7f7f\">4</span></a>\n",
                            "</pre>\n"
                        ],
                        "text/plain": [
                            "\u001b[2;36m          \u001b[0m\u001b[2;36m \u001b[0m\u001b[34mINFO    \u001b[0m Running MCR5 for bicycle_public_transport_1                                      \u001b]8;id=338055;file:///tmp/ipykernel_1226015/542061263.py\u001b\\\u001b[2m542061263.py\u001b[0m\u001b]8;;\u001b\\\u001b[2m:\u001b[0m\u001b]8;id=858170;file:///tmp/ipykernel_1226015/542061263.py#4\u001b\\\u001b[2m4\u001b[0m\u001b]8;;\u001b\\\n"
                        ]
                    },
                    "metadata": {},
                    "output_type": "display_data"
                },
                {
                    "data": {
                        "text/html": [
                            "<pre style=\"white-space:pre;overflow-x:auto;line-height:normal;font-family:Menlo,'DejaVu Sans Mono',consolas,'Courier New',monospace\"><span style=\"color: #7fbfbf; text-decoration-color: #7fbfbf\">           </span><span style=\"color: #000080; text-decoration-color: #000080\">INFO    </span> Using existing OSM data                                                              <a href=\"file:///home/ppeter/repo/mcr-py/notebooks/../src/package/osm/osm.py\" target=\"_blank\"><span style=\"color: #7f7f7f; text-decoration-color: #7f7f7f\">osm.py</span></a><span style=\"color: #7f7f7f; text-decoration-color: #7f7f7f\">:</span><a href=\"file:///home/ppeter/repo/mcr-py/notebooks/../src/package/osm/osm.py#105\" target=\"_blank\"><span style=\"color: #7f7f7f; text-decoration-color: #7f7f7f\">105</span></a>\n",
                            "</pre>\n"
                        ],
                        "text/plain": [
                            "\u001b[2;36m          \u001b[0m\u001b[2;36m \u001b[0m\u001b[34mINFO    \u001b[0m Using existing OSM data                                                              \u001b]8;id=532446;file:///home/ppeter/repo/mcr-py/notebooks/../src/package/osm/osm.py\u001b\\\u001b[2mosm.py\u001b[0m\u001b]8;;\u001b\\\u001b[2m:\u001b[0m\u001b]8;id=241794;file:///home/ppeter/repo/mcr-py/notebooks/../src/package/osm/osm.py#105\u001b\\\u001b[2m105\u001b[0m\u001b]8;;\u001b\\\n"
                        ]
                    },
                    "metadata": {},
                    "output_type": "display_data"
                },
                {
                    "data": {
                        "text/html": [
                            "<pre style=\"white-space:pre;overflow-x:auto;line-height:normal;font-family:Menlo,'DejaVu Sans Mono',consolas,'Courier New',monospace\"><span style=\"color: #7fbfbf; text-decoration-color: #7fbfbf\">           </span><span style=\"color: #000080; text-decoration-color: #000080\">INFO    </span> Loading OSM network from cache <span style=\"font-weight: bold\">(</span>walking<span style=\"font-weight: bold\">)</span>                                              <a href=\"file:///home/ppeter/repo/mcr-py/notebooks/../src/package/osm/osm.py\" target=\"_blank\"><span style=\"color: #7f7f7f; text-decoration-color: #7f7f7f\">osm.py</span></a><span style=\"color: #7f7f7f; text-decoration-color: #7f7f7f\">:</span><a href=\"file:///home/ppeter/repo/mcr-py/notebooks/../src/package/osm/osm.py#68\" target=\"_blank\"><span style=\"color: #7f7f7f; text-decoration-color: #7f7f7f\">68</span></a>\n",
                            "</pre>\n"
                        ],
                        "text/plain": [
                            "\u001b[2;36m          \u001b[0m\u001b[2;36m \u001b[0m\u001b[34mINFO    \u001b[0m Loading OSM network from cache \u001b[1m(\u001b[0mwalking\u001b[1m)\u001b[0m                                              \u001b]8;id=542229;file:///home/ppeter/repo/mcr-py/notebooks/../src/package/osm/osm.py\u001b\\\u001b[2mosm.py\u001b[0m\u001b]8;;\u001b\\\u001b[2m:\u001b[0m\u001b]8;id=306420;file:///home/ppeter/repo/mcr-py/notebooks/../src/package/osm/osm.py#68\u001b\\\u001b[2m68\u001b[0m\u001b]8;;\u001b\\\n"
                        ]
                    },
                    "metadata": {},
                    "output_type": "display_data"
                },
                {
                    "data": {
                        "text/html": [
                            "<pre style=\"white-space:pre;overflow-x:auto;line-height:normal;font-family:Menlo,'DejaVu Sans Mono',consolas,'Courier New',monospace\"><span style=\"color: #7fbfbf; text-decoration-color: #7fbfbf\">[11:53:09] </span><span style=\"color: #000080; text-decoration-color: #000080\">INFO    </span> Using existing OSM data                                                              <a href=\"file:///home/ppeter/repo/mcr-py/notebooks/../src/package/osm/osm.py\" target=\"_blank\"><span style=\"color: #7f7f7f; text-decoration-color: #7f7f7f\">osm.py</span></a><span style=\"color: #7f7f7f; text-decoration-color: #7f7f7f\">:</span><a href=\"file:///home/ppeter/repo/mcr-py/notebooks/../src/package/osm/osm.py#105\" target=\"_blank\"><span style=\"color: #7f7f7f; text-decoration-color: #7f7f7f\">105</span></a>\n",
                            "</pre>\n"
                        ],
                        "text/plain": [
                            "\u001b[2;36m[11:53:09]\u001b[0m\u001b[2;36m \u001b[0m\u001b[34mINFO    \u001b[0m Using existing OSM data                                                              \u001b]8;id=933089;file:///home/ppeter/repo/mcr-py/notebooks/../src/package/osm/osm.py\u001b\\\u001b[2mosm.py\u001b[0m\u001b]8;;\u001b\\\u001b[2m:\u001b[0m\u001b]8;id=282836;file:///home/ppeter/repo/mcr-py/notebooks/../src/package/osm/osm.py#105\u001b\\\u001b[2m105\u001b[0m\u001b]8;;\u001b\\\n"
                        ]
                    },
                    "metadata": {},
                    "output_type": "display_data"
                },
                {
                    "data": {
                        "text/html": [
                            "<pre style=\"white-space:pre;overflow-x:auto;line-height:normal;font-family:Menlo,'DejaVu Sans Mono',consolas,'Courier New',monospace\"><span style=\"color: #7fbfbf; text-decoration-color: #7fbfbf\">           </span><span style=\"color: #000080; text-decoration-color: #000080\">INFO    </span> Loading OSM network from cache <span style=\"font-weight: bold\">(</span>cycling<span style=\"font-weight: bold\">)</span>                                              <a href=\"file:///home/ppeter/repo/mcr-py/notebooks/../src/package/osm/osm.py\" target=\"_blank\"><span style=\"color: #7f7f7f; text-decoration-color: #7f7f7f\">osm.py</span></a><span style=\"color: #7f7f7f; text-decoration-color: #7f7f7f\">:</span><a href=\"file:///home/ppeter/repo/mcr-py/notebooks/../src/package/osm/osm.py#68\" target=\"_blank\"><span style=\"color: #7f7f7f; text-decoration-color: #7f7f7f\">68</span></a>\n",
                            "</pre>\n"
                        ],
                        "text/plain": [
                            "\u001b[2;36m          \u001b[0m\u001b[2;36m \u001b[0m\u001b[34mINFO    \u001b[0m Loading OSM network from cache \u001b[1m(\u001b[0mcycling\u001b[1m)\u001b[0m                                              \u001b]8;id=320036;file:///home/ppeter/repo/mcr-py/notebooks/../src/package/osm/osm.py\u001b\\\u001b[2mosm.py\u001b[0m\u001b]8;;\u001b\\\u001b[2m:\u001b[0m\u001b]8;id=429100;file:///home/ppeter/repo/mcr-py/notebooks/../src/package/osm/osm.py#68\u001b\\\u001b[2m68\u001b[0m\u001b]8;;\u001b\\\n"
                        ]
                    },
                    "metadata": {},
                    "output_type": "display_data"
                },
                {
                    "data": {
                        "text/html": [
                            "<pre style=\"white-space:pre;overflow-x:auto;line-height:normal;font-family:Menlo,'DejaVu Sans Mono',consolas,'Courier New',monospace\"><span style=\"color: #7fbfbf; text-decoration-color: #7fbfbf\">[11:53:56] </span><span style=\"color: #000080; text-decoration-color: #000080\">INFO    </span> Fetching POI for runtime optimization                                         <a href=\"file:///home/ppeter/repo/mcr-py/notebooks/../src/command/step_config.py\" target=\"_blank\"><span style=\"color: #7f7f7f; text-decoration-color: #7f7f7f\">step_config.py</span></a><span style=\"color: #7f7f7f; text-decoration-color: #7f7f7f\">:</span><a href=\"file:///home/ppeter/repo/mcr-py/notebooks/../src/command/step_config.py#51\" target=\"_blank\"><span style=\"color: #7f7f7f; text-decoration-color: #7f7f7f\">51</span></a>\n",
                            "</pre>\n"
                        ],
                        "text/plain": [
                            "\u001b[2;36m[11:53:56]\u001b[0m\u001b[2;36m \u001b[0m\u001b[34mINFO    \u001b[0m Fetching POI for runtime optimization                                         \u001b]8;id=695701;file:///home/ppeter/repo/mcr-py/notebooks/../src/command/step_config.py\u001b\\\u001b[2mstep_config.py\u001b[0m\u001b]8;;\u001b\\\u001b[2m:\u001b[0m\u001b]8;id=621763;file:///home/ppeter/repo/mcr-py/notebooks/../src/command/step_config.py#51\u001b\\\u001b[2m51\u001b[0m\u001b]8;;\u001b\\\n"
                        ]
                    },
                    "metadata": {},
                    "output_type": "display_data"
                },
                {
                    "data": {
                        "text/html": [
                            "<pre style=\"white-space:pre;overflow-x:auto;line-height:normal;font-family:Menlo,'DejaVu Sans Mono',consolas,'Courier New',monospace\"><span style=\"color: #7fbfbf; text-decoration-color: #7fbfbf\">           </span><span style=\"color: #000080; text-decoration-color: #000080\">INFO    </span> Fetching POI for runtime optimization done <span style=\"font-weight: bold\">(</span><span style=\"color: #008080; text-decoration-color: #008080; font-weight: bold\">0.06</span> seconds<span style=\"font-weight: bold\">)</span>                     <a href=\"file:///home/ppeter/repo/mcr-py/notebooks/../src/command/step_config.py\" target=\"_blank\"><span style=\"color: #7f7f7f; text-decoration-color: #7f7f7f\">step_config.py</span></a><span style=\"color: #7f7f7f; text-decoration-color: #7f7f7f\">:</span><a href=\"file:///home/ppeter/repo/mcr-py/notebooks/../src/command/step_config.py#51\" target=\"_blank\"><span style=\"color: #7f7f7f; text-decoration-color: #7f7f7f\">51</span></a>\n",
                            "</pre>\n"
                        ],
                        "text/plain": [
                            "\u001b[2;36m          \u001b[0m\u001b[2;36m \u001b[0m\u001b[34mINFO    \u001b[0m Fetching POI for runtime optimization done \u001b[1m(\u001b[0m\u001b[1;36m0.06\u001b[0m seconds\u001b[1m)\u001b[0m                     \u001b]8;id=621562;file:///home/ppeter/repo/mcr-py/notebooks/../src/command/step_config.py\u001b\\\u001b[2mstep_config.py\u001b[0m\u001b]8;;\u001b\\\u001b[2m:\u001b[0m\u001b]8;id=506633;file:///home/ppeter/repo/mcr-py/notebooks/../src/command/step_config.py#51\u001b\\\u001b[2m51\u001b[0m\u001b]8;;\u001b\\\n"
                        ]
                    },
                    "metadata": {},
                    "output_type": "display_data"
                },
                {
                    "data": {
                        "text/html": [
                            "<pre style=\"white-space:pre;overflow-x:auto;line-height:normal;font-family:Menlo,'DejaVu Sans Mono',consolas,'Courier New',monospace\"><span style=\"color: #7fbfbf; text-decoration-color: #7fbfbf\">[11:55:04] </span><span style=\"color: #000080; text-decoration-color: #000080\">INFO    </span> Reading stops                                                           <a href=\"file:///home/ppeter/repo/mcr-py/notebooks/../src/package/mcr/steps/public_transport.py\" target=\"_blank\"><span style=\"color: #7f7f7f; text-decoration-color: #7f7f7f\">public_transport.py</span></a><span style=\"color: #7f7f7f; text-decoration-color: #7f7f7f\">:</span><a href=\"file:///home/ppeter/repo/mcr-py/notebooks/../src/package/mcr/steps/public_transport.py#143\" target=\"_blank\"><span style=\"color: #7f7f7f; text-decoration-color: #7f7f7f\">143</span></a>\n",
                            "</pre>\n"
                        ],
                        "text/plain": [
                            "\u001b[2;36m[11:55:04]\u001b[0m\u001b[2;36m \u001b[0m\u001b[34mINFO    \u001b[0m Reading stops                                                           \u001b]8;id=588742;file:///home/ppeter/repo/mcr-py/notebooks/../src/package/mcr/steps/public_transport.py\u001b\\\u001b[2mpublic_transport.py\u001b[0m\u001b]8;;\u001b\\\u001b[2m:\u001b[0m\u001b]8;id=897248;file:///home/ppeter/repo/mcr-py/notebooks/../src/package/mcr/steps/public_transport.py#143\u001b\\\u001b[2m143\u001b[0m\u001b]8;;\u001b\\\n"
                        ]
                    },
                    "metadata": {},
                    "output_type": "display_data"
                },
                {
                    "data": {
                        "text/html": [
                            "<pre style=\"white-space:pre;overflow-x:auto;line-height:normal;font-family:Menlo,'DejaVu Sans Mono',consolas,'Courier New',monospace\"><span style=\"color: #7fbfbf; text-decoration-color: #7fbfbf\">[11:55:05] </span><span style=\"color: #000080; text-decoration-color: #000080\">INFO    </span> Reading stops done <span style=\"font-weight: bold\">(</span><span style=\"color: #008080; text-decoration-color: #008080; font-weight: bold\">0.20</span> seconds<span style=\"font-weight: bold\">)</span>                                       <a href=\"file:///home/ppeter/repo/mcr-py/notebooks/../src/package/mcr/steps/public_transport.py\" target=\"_blank\"><span style=\"color: #7f7f7f; text-decoration-color: #7f7f7f\">public_transport.py</span></a><span style=\"color: #7f7f7f; text-decoration-color: #7f7f7f\">:</span><a href=\"file:///home/ppeter/repo/mcr-py/notebooks/../src/package/mcr/steps/public_transport.py#143\" target=\"_blank\"><span style=\"color: #7f7f7f; text-decoration-color: #7f7f7f\">143</span></a>\n",
                            "</pre>\n"
                        ],
                        "text/plain": [
                            "\u001b[2;36m[11:55:05]\u001b[0m\u001b[2;36m \u001b[0m\u001b[34mINFO    \u001b[0m Reading stops done \u001b[1m(\u001b[0m\u001b[1;36m0.20\u001b[0m seconds\u001b[1m)\u001b[0m                                       \u001b]8;id=551516;file:///home/ppeter/repo/mcr-py/notebooks/../src/package/mcr/steps/public_transport.py\u001b\\\u001b[2mpublic_transport.py\u001b[0m\u001b]8;;\u001b\\\u001b[2m:\u001b[0m\u001b]8;id=635761;file:///home/ppeter/repo/mcr-py/notebooks/../src/package/mcr/steps/public_transport.py#143\u001b\\\u001b[2m143\u001b[0m\u001b]8;;\u001b\\\n"
                        ]
                    },
                    "metadata": {},
                    "output_type": "display_data"
                },
                {
                    "data": {
                        "application/vnd.jupyter.widget-view+json": {
                            "model_id": "4b4e046b3c224945843f1568db9236d0",
                            "version_major": 2,
                            "version_minor": 0
                        },
                        "text/plain": [
                            "Starting:   0%|          | 0/1782 [00:00<?, ?it/s]"
                        ]
                    },
                    "metadata": {},
                    "output_type": "display_data"
                },
                {
                    "data": {
                        "text/html": [
                            "<pre style=\"white-space:pre;overflow-x:auto;line-height:normal;font-family:Menlo,'DejaVu Sans Mono',consolas,'Courier New',monospace\"><span style=\"color: #7fbfbf; text-decoration-color: #7fbfbf\">[12:07:49] </span><span style=\"color: #000080; text-decoration-color: #000080\">INFO    </span> All processes finished.                                                             <a href=\"file:///home/ppeter/repo/mcr-py/notebooks/../src/package/mcr5/mcr5.py\" target=\"_blank\"><span style=\"color: #7f7f7f; text-decoration-color: #7f7f7f\">mcr5.py</span></a><span style=\"color: #7f7f7f; text-decoration-color: #7f7f7f\">:</span><a href=\"file:///home/ppeter/repo/mcr-py/notebooks/../src/package/mcr5/mcr5.py#100\" target=\"_blank\"><span style=\"color: #7f7f7f; text-decoration-color: #7f7f7f\">100</span></a>\n",
                            "</pre>\n"
                        ],
                        "text/plain": [
                            "\u001b[2;36m[12:07:49]\u001b[0m\u001b[2;36m \u001b[0m\u001b[34mINFO    \u001b[0m All processes finished.                                                             \u001b]8;id=221170;file:///home/ppeter/repo/mcr-py/notebooks/../src/package/mcr5/mcr5.py\u001b\\\u001b[2mmcr5.py\u001b[0m\u001b]8;;\u001b\\\u001b[2m:\u001b[0m\u001b]8;id=64300;file:///home/ppeter/repo/mcr-py/notebooks/../src/package/mcr5/mcr5.py#100\u001b\\\u001b[2m100\u001b[0m\u001b]8;;\u001b\\\n"
                        ]
                    },
                    "metadata": {},
                    "output_type": "display_data"
                },
                {
                    "data": {
                        "text/html": [
                            "<pre style=\"white-space:pre;overflow-x:auto;line-height:normal;font-family:Menlo,'DejaVu Sans Mono',consolas,'Courier New',monospace\"><span style=\"color: #7fbfbf; text-decoration-color: #7fbfbf\">           </span><span style=\"color: #800000; text-decoration-color: #800000\">WARNING </span> <span style=\"color: #008080; text-decoration-color: #008080; font-weight: bold\">1739</span> errors occurred during the analysis.                                           <a href=\"file:///home/ppeter/repo/mcr-py/notebooks/../src/package/mcr5/mcr5.py\" target=\"_blank\"><span style=\"color: #7f7f7f; text-decoration-color: #7f7f7f\">mcr5.py</span></a><span style=\"color: #7f7f7f; text-decoration-color: #7f7f7f\">:</span><a href=\"file:///home/ppeter/repo/mcr-py/notebooks/../src/package/mcr5/mcr5.py#106\" target=\"_blank\"><span style=\"color: #7f7f7f; text-decoration-color: #7f7f7f\">106</span></a>\n",
                            "</pre>\n"
                        ],
                        "text/plain": [
                            "\u001b[2;36m          \u001b[0m\u001b[2;36m \u001b[0m\u001b[31mWARNING \u001b[0m \u001b[1;36m1739\u001b[0m errors occurred during the analysis.                                           \u001b]8;id=549379;file:///home/ppeter/repo/mcr-py/notebooks/../src/package/mcr5/mcr5.py\u001b\\\u001b[2mmcr5.py\u001b[0m\u001b]8;;\u001b\\\u001b[2m:\u001b[0m\u001b]8;id=515347;file:///home/ppeter/repo/mcr-py/notebooks/../src/package/mcr5/mcr5.py#106\u001b\\\u001b[2m106\u001b[0m\u001b]8;;\u001b\\\n"
                        ]
                    },
                    "metadata": {},
                    "output_type": "display_data"
                },
                {
                    "data": {
                        "text/html": [
                            "<pre style=\"white-space:pre;overflow-x:auto;line-height:normal;font-family:Menlo,'DejaVu Sans Mono',consolas,'Courier New',monospace\"><span style=\"color: #7fbfbf; text-decoration-color: #7fbfbf\">           </span><span style=\"color: #000080; text-decoration-color: #000080\">INFO    </span> Running MCR5 for bicycle_public_transport_2                                      <a href=\"file:///tmp/ipykernel_1226015/542061263.py\" target=\"_blank\"><span style=\"color: #7f7f7f; text-decoration-color: #7f7f7f\">542061263.py</span></a><span style=\"color: #7f7f7f; text-decoration-color: #7f7f7f\">:</span><a href=\"file:///tmp/ipykernel_1226015/542061263.py#4\" target=\"_blank\"><span style=\"color: #7f7f7f; text-decoration-color: #7f7f7f\">4</span></a>\n",
                            "</pre>\n"
                        ],
                        "text/plain": [
                            "\u001b[2;36m          \u001b[0m\u001b[2;36m \u001b[0m\u001b[34mINFO    \u001b[0m Running MCR5 for bicycle_public_transport_2                                      \u001b]8;id=975407;file:///tmp/ipykernel_1226015/542061263.py\u001b\\\u001b[2m542061263.py\u001b[0m\u001b]8;;\u001b\\\u001b[2m:\u001b[0m\u001b]8;id=257997;file:///tmp/ipykernel_1226015/542061263.py#4\u001b\\\u001b[2m4\u001b[0m\u001b]8;;\u001b\\\n"
                        ]
                    },
                    "metadata": {},
                    "output_type": "display_data"
                },
                {
                    "data": {
                        "text/html": [
                            "<pre style=\"white-space:pre;overflow-x:auto;line-height:normal;font-family:Menlo,'DejaVu Sans Mono',consolas,'Courier New',monospace\"><span style=\"color: #7fbfbf; text-decoration-color: #7fbfbf\">           </span><span style=\"color: #000080; text-decoration-color: #000080\">INFO    </span> Using existing OSM data                                                              <a href=\"file:///home/ppeter/repo/mcr-py/notebooks/../src/package/osm/osm.py\" target=\"_blank\"><span style=\"color: #7f7f7f; text-decoration-color: #7f7f7f\">osm.py</span></a><span style=\"color: #7f7f7f; text-decoration-color: #7f7f7f\">:</span><a href=\"file:///home/ppeter/repo/mcr-py/notebooks/../src/package/osm/osm.py#105\" target=\"_blank\"><span style=\"color: #7f7f7f; text-decoration-color: #7f7f7f\">105</span></a>\n",
                            "</pre>\n"
                        ],
                        "text/plain": [
                            "\u001b[2;36m          \u001b[0m\u001b[2;36m \u001b[0m\u001b[34mINFO    \u001b[0m Using existing OSM data                                                              \u001b]8;id=141964;file:///home/ppeter/repo/mcr-py/notebooks/../src/package/osm/osm.py\u001b\\\u001b[2mosm.py\u001b[0m\u001b]8;;\u001b\\\u001b[2m:\u001b[0m\u001b]8;id=990199;file:///home/ppeter/repo/mcr-py/notebooks/../src/package/osm/osm.py#105\u001b\\\u001b[2m105\u001b[0m\u001b]8;;\u001b\\\n"
                        ]
                    },
                    "metadata": {},
                    "output_type": "display_data"
                },
                {
                    "data": {
                        "text/html": [
                            "<pre style=\"white-space:pre;overflow-x:auto;line-height:normal;font-family:Menlo,'DejaVu Sans Mono',consolas,'Courier New',monospace\"><span style=\"color: #7fbfbf; text-decoration-color: #7fbfbf\">           </span><span style=\"color: #000080; text-decoration-color: #000080\">INFO    </span> Loading OSM network from cache <span style=\"font-weight: bold\">(</span>walking<span style=\"font-weight: bold\">)</span>                                              <a href=\"file:///home/ppeter/repo/mcr-py/notebooks/../src/package/osm/osm.py\" target=\"_blank\"><span style=\"color: #7f7f7f; text-decoration-color: #7f7f7f\">osm.py</span></a><span style=\"color: #7f7f7f; text-decoration-color: #7f7f7f\">:</span><a href=\"file:///home/ppeter/repo/mcr-py/notebooks/../src/package/osm/osm.py#68\" target=\"_blank\"><span style=\"color: #7f7f7f; text-decoration-color: #7f7f7f\">68</span></a>\n",
                            "</pre>\n"
                        ],
                        "text/plain": [
                            "\u001b[2;36m          \u001b[0m\u001b[2;36m \u001b[0m\u001b[34mINFO    \u001b[0m Loading OSM network from cache \u001b[1m(\u001b[0mwalking\u001b[1m)\u001b[0m                                              \u001b]8;id=631933;file:///home/ppeter/repo/mcr-py/notebooks/../src/package/osm/osm.py\u001b\\\u001b[2mosm.py\u001b[0m\u001b]8;;\u001b\\\u001b[2m:\u001b[0m\u001b]8;id=437173;file:///home/ppeter/repo/mcr-py/notebooks/../src/package/osm/osm.py#68\u001b\\\u001b[2m68\u001b[0m\u001b]8;;\u001b\\\n"
                        ]
                    },
                    "metadata": {},
                    "output_type": "display_data"
                },
                {
                    "data": {
                        "text/html": [
                            "<pre style=\"white-space:pre;overflow-x:auto;line-height:normal;font-family:Menlo,'DejaVu Sans Mono',consolas,'Courier New',monospace\"><span style=\"color: #7fbfbf; text-decoration-color: #7fbfbf\">[12:08:41] </span><span style=\"color: #000080; text-decoration-color: #000080\">INFO    </span> Using existing OSM data                                                              <a href=\"file:///home/ppeter/repo/mcr-py/notebooks/../src/package/osm/osm.py\" target=\"_blank\"><span style=\"color: #7f7f7f; text-decoration-color: #7f7f7f\">osm.py</span></a><span style=\"color: #7f7f7f; text-decoration-color: #7f7f7f\">:</span><a href=\"file:///home/ppeter/repo/mcr-py/notebooks/../src/package/osm/osm.py#105\" target=\"_blank\"><span style=\"color: #7f7f7f; text-decoration-color: #7f7f7f\">105</span></a>\n",
                            "</pre>\n"
                        ],
                        "text/plain": [
                            "\u001b[2;36m[12:08:41]\u001b[0m\u001b[2;36m \u001b[0m\u001b[34mINFO    \u001b[0m Using existing OSM data                                                              \u001b]8;id=22701;file:///home/ppeter/repo/mcr-py/notebooks/../src/package/osm/osm.py\u001b\\\u001b[2mosm.py\u001b[0m\u001b]8;;\u001b\\\u001b[2m:\u001b[0m\u001b]8;id=913380;file:///home/ppeter/repo/mcr-py/notebooks/../src/package/osm/osm.py#105\u001b\\\u001b[2m105\u001b[0m\u001b]8;;\u001b\\\n"
                        ]
                    },
                    "metadata": {},
                    "output_type": "display_data"
                },
                {
                    "data": {
                        "text/html": [
                            "<pre style=\"white-space:pre;overflow-x:auto;line-height:normal;font-family:Menlo,'DejaVu Sans Mono',consolas,'Courier New',monospace\"><span style=\"color: #7fbfbf; text-decoration-color: #7fbfbf\">           </span><span style=\"color: #000080; text-decoration-color: #000080\">INFO    </span> Loading OSM network from cache <span style=\"font-weight: bold\">(</span>cycling<span style=\"font-weight: bold\">)</span>                                              <a href=\"file:///home/ppeter/repo/mcr-py/notebooks/../src/package/osm/osm.py\" target=\"_blank\"><span style=\"color: #7f7f7f; text-decoration-color: #7f7f7f\">osm.py</span></a><span style=\"color: #7f7f7f; text-decoration-color: #7f7f7f\">:</span><a href=\"file:///home/ppeter/repo/mcr-py/notebooks/../src/package/osm/osm.py#68\" target=\"_blank\"><span style=\"color: #7f7f7f; text-decoration-color: #7f7f7f\">68</span></a>\n",
                            "</pre>\n"
                        ],
                        "text/plain": [
                            "\u001b[2;36m          \u001b[0m\u001b[2;36m \u001b[0m\u001b[34mINFO    \u001b[0m Loading OSM network from cache \u001b[1m(\u001b[0mcycling\u001b[1m)\u001b[0m                                              \u001b]8;id=176856;file:///home/ppeter/repo/mcr-py/notebooks/../src/package/osm/osm.py\u001b\\\u001b[2mosm.py\u001b[0m\u001b]8;;\u001b\\\u001b[2m:\u001b[0m\u001b]8;id=377069;file:///home/ppeter/repo/mcr-py/notebooks/../src/package/osm/osm.py#68\u001b\\\u001b[2m68\u001b[0m\u001b]8;;\u001b\\\n"
                        ]
                    },
                    "metadata": {},
                    "output_type": "display_data"
                },
                {
                    "data": {
                        "text/html": [
                            "<pre style=\"white-space:pre;overflow-x:auto;line-height:normal;font-family:Menlo,'DejaVu Sans Mono',consolas,'Courier New',monospace\"><span style=\"color: #7fbfbf; text-decoration-color: #7fbfbf\">[12:09:29] </span><span style=\"color: #000080; text-decoration-color: #000080\">INFO    </span> Fetching POI for runtime optimization                                         <a href=\"file:///home/ppeter/repo/mcr-py/notebooks/../src/command/step_config.py\" target=\"_blank\"><span style=\"color: #7f7f7f; text-decoration-color: #7f7f7f\">step_config.py</span></a><span style=\"color: #7f7f7f; text-decoration-color: #7f7f7f\">:</span><a href=\"file:///home/ppeter/repo/mcr-py/notebooks/../src/command/step_config.py#51\" target=\"_blank\"><span style=\"color: #7f7f7f; text-decoration-color: #7f7f7f\">51</span></a>\n",
                            "</pre>\n"
                        ],
                        "text/plain": [
                            "\u001b[2;36m[12:09:29]\u001b[0m\u001b[2;36m \u001b[0m\u001b[34mINFO    \u001b[0m Fetching POI for runtime optimization                                         \u001b]8;id=233308;file:///home/ppeter/repo/mcr-py/notebooks/../src/command/step_config.py\u001b\\\u001b[2mstep_config.py\u001b[0m\u001b]8;;\u001b\\\u001b[2m:\u001b[0m\u001b]8;id=949516;file:///home/ppeter/repo/mcr-py/notebooks/../src/command/step_config.py#51\u001b\\\u001b[2m51\u001b[0m\u001b]8;;\u001b\\\n"
                        ]
                    },
                    "metadata": {},
                    "output_type": "display_data"
                },
                {
                    "data": {
                        "text/html": [
                            "<pre style=\"white-space:pre;overflow-x:auto;line-height:normal;font-family:Menlo,'DejaVu Sans Mono',consolas,'Courier New',monospace\"><span style=\"color: #7fbfbf; text-decoration-color: #7fbfbf\">           </span><span style=\"color: #000080; text-decoration-color: #000080\">INFO    </span> Fetching POI for runtime optimization done <span style=\"font-weight: bold\">(</span><span style=\"color: #008080; text-decoration-color: #008080; font-weight: bold\">0.06</span> seconds<span style=\"font-weight: bold\">)</span>                     <a href=\"file:///home/ppeter/repo/mcr-py/notebooks/../src/command/step_config.py\" target=\"_blank\"><span style=\"color: #7f7f7f; text-decoration-color: #7f7f7f\">step_config.py</span></a><span style=\"color: #7f7f7f; text-decoration-color: #7f7f7f\">:</span><a href=\"file:///home/ppeter/repo/mcr-py/notebooks/../src/command/step_config.py#51\" target=\"_blank\"><span style=\"color: #7f7f7f; text-decoration-color: #7f7f7f\">51</span></a>\n",
                            "</pre>\n"
                        ],
                        "text/plain": [
                            "\u001b[2;36m          \u001b[0m\u001b[2;36m \u001b[0m\u001b[34mINFO    \u001b[0m Fetching POI for runtime optimization done \u001b[1m(\u001b[0m\u001b[1;36m0.06\u001b[0m seconds\u001b[1m)\u001b[0m                     \u001b]8;id=176998;file:///home/ppeter/repo/mcr-py/notebooks/../src/command/step_config.py\u001b\\\u001b[2mstep_config.py\u001b[0m\u001b]8;;\u001b\\\u001b[2m:\u001b[0m\u001b]8;id=240500;file:///home/ppeter/repo/mcr-py/notebooks/../src/command/step_config.py#51\u001b\\\u001b[2m51\u001b[0m\u001b]8;;\u001b\\\n"
                        ]
                    },
                    "metadata": {},
                    "output_type": "display_data"
                },
                {
                    "data": {
                        "text/html": [
                            "<pre style=\"white-space:pre;overflow-x:auto;line-height:normal;font-family:Menlo,'DejaVu Sans Mono',consolas,'Courier New',monospace\"><span style=\"color: #7fbfbf; text-decoration-color: #7fbfbf\">[12:10:33] </span><span style=\"color: #000080; text-decoration-color: #000080\">INFO    </span> Reading stops                                                           <a href=\"file:///home/ppeter/repo/mcr-py/notebooks/../src/package/mcr/steps/public_transport.py\" target=\"_blank\"><span style=\"color: #7f7f7f; text-decoration-color: #7f7f7f\">public_transport.py</span></a><span style=\"color: #7f7f7f; text-decoration-color: #7f7f7f\">:</span><a href=\"file:///home/ppeter/repo/mcr-py/notebooks/../src/package/mcr/steps/public_transport.py#143\" target=\"_blank\"><span style=\"color: #7f7f7f; text-decoration-color: #7f7f7f\">143</span></a>\n",
                            "</pre>\n"
                        ],
                        "text/plain": [
                            "\u001b[2;36m[12:10:33]\u001b[0m\u001b[2;36m \u001b[0m\u001b[34mINFO    \u001b[0m Reading stops                                                           \u001b]8;id=872011;file:///home/ppeter/repo/mcr-py/notebooks/../src/package/mcr/steps/public_transport.py\u001b\\\u001b[2mpublic_transport.py\u001b[0m\u001b]8;;\u001b\\\u001b[2m:\u001b[0m\u001b]8;id=833323;file:///home/ppeter/repo/mcr-py/notebooks/../src/package/mcr/steps/public_transport.py#143\u001b\\\u001b[2m143\u001b[0m\u001b]8;;\u001b\\\n"
                        ]
                    },
                    "metadata": {},
                    "output_type": "display_data"
                },
                {
                    "data": {
                        "text/html": [
                            "<pre style=\"white-space:pre;overflow-x:auto;line-height:normal;font-family:Menlo,'DejaVu Sans Mono',consolas,'Courier New',monospace\"><span style=\"color: #7fbfbf; text-decoration-color: #7fbfbf\">           </span><span style=\"color: #000080; text-decoration-color: #000080\">INFO    </span> Reading stops done <span style=\"font-weight: bold\">(</span><span style=\"color: #008080; text-decoration-color: #008080; font-weight: bold\">0.21</span> seconds<span style=\"font-weight: bold\">)</span>                                       <a href=\"file:///home/ppeter/repo/mcr-py/notebooks/../src/package/mcr/steps/public_transport.py\" target=\"_blank\"><span style=\"color: #7f7f7f; text-decoration-color: #7f7f7f\">public_transport.py</span></a><span style=\"color: #7f7f7f; text-decoration-color: #7f7f7f\">:</span><a href=\"file:///home/ppeter/repo/mcr-py/notebooks/../src/package/mcr/steps/public_transport.py#143\" target=\"_blank\"><span style=\"color: #7f7f7f; text-decoration-color: #7f7f7f\">143</span></a>\n",
                            "</pre>\n"
                        ],
                        "text/plain": [
                            "\u001b[2;36m          \u001b[0m\u001b[2;36m \u001b[0m\u001b[34mINFO    \u001b[0m Reading stops done \u001b[1m(\u001b[0m\u001b[1;36m0.21\u001b[0m seconds\u001b[1m)\u001b[0m                                       \u001b]8;id=212457;file:///home/ppeter/repo/mcr-py/notebooks/../src/package/mcr/steps/public_transport.py\u001b\\\u001b[2mpublic_transport.py\u001b[0m\u001b]8;;\u001b\\\u001b[2m:\u001b[0m\u001b]8;id=598385;file:///home/ppeter/repo/mcr-py/notebooks/../src/package/mcr/steps/public_transport.py#143\u001b\\\u001b[2m143\u001b[0m\u001b]8;;\u001b\\\n"
                        ]
                    },
                    "metadata": {},
                    "output_type": "display_data"
                },
                {
                    "data": {
                        "application/vnd.jupyter.widget-view+json": {
                            "model_id": "cdbc2ccf081e48808f2fbc8f13bbd094",
                            "version_major": 2,
                            "version_minor": 0
                        },
                        "text/plain": [
                            "Starting:   0%|          | 0/1782 [00:00<?, ?it/s]"
                        ]
                    },
                    "metadata": {},
                    "output_type": "display_data"
                },
                {
                    "data": {
                        "text/html": [
                            "<pre style=\"white-space:pre;overflow-x:auto;line-height:normal;font-family:Menlo,'DejaVu Sans Mono',consolas,'Courier New',monospace\"><span style=\"color: #7fbfbf; text-decoration-color: #7fbfbf\">[12:25:29] </span><span style=\"color: #000080; text-decoration-color: #000080\">INFO    </span> All processes finished.                                                             <a href=\"file:///home/ppeter/repo/mcr-py/notebooks/../src/package/mcr5/mcr5.py\" target=\"_blank\"><span style=\"color: #7f7f7f; text-decoration-color: #7f7f7f\">mcr5.py</span></a><span style=\"color: #7f7f7f; text-decoration-color: #7f7f7f\">:</span><a href=\"file:///home/ppeter/repo/mcr-py/notebooks/../src/package/mcr5/mcr5.py#100\" target=\"_blank\"><span style=\"color: #7f7f7f; text-decoration-color: #7f7f7f\">100</span></a>\n",
                            "</pre>\n"
                        ],
                        "text/plain": [
                            "\u001b[2;36m[12:25:29]\u001b[0m\u001b[2;36m \u001b[0m\u001b[34mINFO    \u001b[0m All processes finished.                                                             \u001b]8;id=2616;file:///home/ppeter/repo/mcr-py/notebooks/../src/package/mcr5/mcr5.py\u001b\\\u001b[2mmcr5.py\u001b[0m\u001b]8;;\u001b\\\u001b[2m:\u001b[0m\u001b]8;id=396976;file:///home/ppeter/repo/mcr-py/notebooks/../src/package/mcr5/mcr5.py#100\u001b\\\u001b[2m100\u001b[0m\u001b]8;;\u001b\\\n"
                        ]
                    },
                    "metadata": {},
                    "output_type": "display_data"
                },
                {
                    "data": {
                        "text/html": [
                            "<pre style=\"white-space:pre;overflow-x:auto;line-height:normal;font-family:Menlo,'DejaVu Sans Mono',consolas,'Courier New',monospace\"><span style=\"color: #7fbfbf; text-decoration-color: #7fbfbf\">           </span><span style=\"color: #800000; text-decoration-color: #800000\">WARNING </span> <span style=\"color: #008080; text-decoration-color: #008080; font-weight: bold\">1762</span> errors occurred during the analysis.                                           <a href=\"file:///home/ppeter/repo/mcr-py/notebooks/../src/package/mcr5/mcr5.py\" target=\"_blank\"><span style=\"color: #7f7f7f; text-decoration-color: #7f7f7f\">mcr5.py</span></a><span style=\"color: #7f7f7f; text-decoration-color: #7f7f7f\">:</span><a href=\"file:///home/ppeter/repo/mcr-py/notebooks/../src/package/mcr5/mcr5.py#106\" target=\"_blank\"><span style=\"color: #7f7f7f; text-decoration-color: #7f7f7f\">106</span></a>\n",
                            "</pre>\n"
                        ],
                        "text/plain": [
                            "\u001b[2;36m          \u001b[0m\u001b[2;36m \u001b[0m\u001b[31mWARNING \u001b[0m \u001b[1;36m1762\u001b[0m errors occurred during the analysis.                                           \u001b]8;id=35629;file:///home/ppeter/repo/mcr-py/notebooks/../src/package/mcr5/mcr5.py\u001b\\\u001b[2mmcr5.py\u001b[0m\u001b]8;;\u001b\\\u001b[2m:\u001b[0m\u001b]8;id=55402;file:///home/ppeter/repo/mcr-py/notebooks/../src/package/mcr5/mcr5.py#106\u001b\\\u001b[2m106\u001b[0m\u001b]8;;\u001b\\\n"
                        ]
                    },
                    "metadata": {},
                    "output_type": "display_data"
                },
                {
                    "data": {
                        "text/html": [
                            "<pre style=\"white-space:pre;overflow-x:auto;line-height:normal;font-family:Menlo,'DejaVu Sans Mono',consolas,'Courier New',monospace\"><span style=\"color: #7fbfbf; text-decoration-color: #7fbfbf\">           </span><span style=\"color: #000080; text-decoration-color: #000080\">INFO    </span> Running MCR5 for bicycle_public_transport_3                                      <a href=\"file:///tmp/ipykernel_1226015/542061263.py\" target=\"_blank\"><span style=\"color: #7f7f7f; text-decoration-color: #7f7f7f\">542061263.py</span></a><span style=\"color: #7f7f7f; text-decoration-color: #7f7f7f\">:</span><a href=\"file:///tmp/ipykernel_1226015/542061263.py#4\" target=\"_blank\"><span style=\"color: #7f7f7f; text-decoration-color: #7f7f7f\">4</span></a>\n",
                            "</pre>\n"
                        ],
                        "text/plain": [
                            "\u001b[2;36m          \u001b[0m\u001b[2;36m \u001b[0m\u001b[34mINFO    \u001b[0m Running MCR5 for bicycle_public_transport_3                                      \u001b]8;id=242030;file:///tmp/ipykernel_1226015/542061263.py\u001b\\\u001b[2m542061263.py\u001b[0m\u001b]8;;\u001b\\\u001b[2m:\u001b[0m\u001b]8;id=223914;file:///tmp/ipykernel_1226015/542061263.py#4\u001b\\\u001b[2m4\u001b[0m\u001b]8;;\u001b\\\n"
                        ]
                    },
                    "metadata": {},
                    "output_type": "display_data"
                },
                {
                    "data": {
                        "text/html": [
                            "<pre style=\"white-space:pre;overflow-x:auto;line-height:normal;font-family:Menlo,'DejaVu Sans Mono',consolas,'Courier New',monospace\"><span style=\"color: #7fbfbf; text-decoration-color: #7fbfbf\">           </span><span style=\"color: #000080; text-decoration-color: #000080\">INFO    </span> Using existing OSM data                                                              <a href=\"file:///home/ppeter/repo/mcr-py/notebooks/../src/package/osm/osm.py\" target=\"_blank\"><span style=\"color: #7f7f7f; text-decoration-color: #7f7f7f\">osm.py</span></a><span style=\"color: #7f7f7f; text-decoration-color: #7f7f7f\">:</span><a href=\"file:///home/ppeter/repo/mcr-py/notebooks/../src/package/osm/osm.py#105\" target=\"_blank\"><span style=\"color: #7f7f7f; text-decoration-color: #7f7f7f\">105</span></a>\n",
                            "</pre>\n"
                        ],
                        "text/plain": [
                            "\u001b[2;36m          \u001b[0m\u001b[2;36m \u001b[0m\u001b[34mINFO    \u001b[0m Using existing OSM data                                                              \u001b]8;id=197902;file:///home/ppeter/repo/mcr-py/notebooks/../src/package/osm/osm.py\u001b\\\u001b[2mosm.py\u001b[0m\u001b]8;;\u001b\\\u001b[2m:\u001b[0m\u001b]8;id=805855;file:///home/ppeter/repo/mcr-py/notebooks/../src/package/osm/osm.py#105\u001b\\\u001b[2m105\u001b[0m\u001b]8;;\u001b\\\n"
                        ]
                    },
                    "metadata": {},
                    "output_type": "display_data"
                },
                {
                    "data": {
                        "text/html": [
                            "<pre style=\"white-space:pre;overflow-x:auto;line-height:normal;font-family:Menlo,'DejaVu Sans Mono',consolas,'Courier New',monospace\"><span style=\"color: #7fbfbf; text-decoration-color: #7fbfbf\">           </span><span style=\"color: #000080; text-decoration-color: #000080\">INFO    </span> Loading OSM network from cache <span style=\"font-weight: bold\">(</span>walking<span style=\"font-weight: bold\">)</span>                                              <a href=\"file:///home/ppeter/repo/mcr-py/notebooks/../src/package/osm/osm.py\" target=\"_blank\"><span style=\"color: #7f7f7f; text-decoration-color: #7f7f7f\">osm.py</span></a><span style=\"color: #7f7f7f; text-decoration-color: #7f7f7f\">:</span><a href=\"file:///home/ppeter/repo/mcr-py/notebooks/../src/package/osm/osm.py#68\" target=\"_blank\"><span style=\"color: #7f7f7f; text-decoration-color: #7f7f7f\">68</span></a>\n",
                            "</pre>\n"
                        ],
                        "text/plain": [
                            "\u001b[2;36m          \u001b[0m\u001b[2;36m \u001b[0m\u001b[34mINFO    \u001b[0m Loading OSM network from cache \u001b[1m(\u001b[0mwalking\u001b[1m)\u001b[0m                                              \u001b]8;id=120678;file:///home/ppeter/repo/mcr-py/notebooks/../src/package/osm/osm.py\u001b\\\u001b[2mosm.py\u001b[0m\u001b]8;;\u001b\\\u001b[2m:\u001b[0m\u001b]8;id=401562;file:///home/ppeter/repo/mcr-py/notebooks/../src/package/osm/osm.py#68\u001b\\\u001b[2m68\u001b[0m\u001b]8;;\u001b\\\n"
                        ]
                    },
                    "metadata": {},
                    "output_type": "display_data"
                },
                {
                    "data": {
                        "text/html": [
                            "<pre style=\"white-space:pre;overflow-x:auto;line-height:normal;font-family:Menlo,'DejaVu Sans Mono',consolas,'Courier New',monospace\"><span style=\"color: #7fbfbf; text-decoration-color: #7fbfbf\">[12:26:23] </span><span style=\"color: #000080; text-decoration-color: #000080\">INFO    </span> Using existing OSM data                                                              <a href=\"file:///home/ppeter/repo/mcr-py/notebooks/../src/package/osm/osm.py\" target=\"_blank\"><span style=\"color: #7f7f7f; text-decoration-color: #7f7f7f\">osm.py</span></a><span style=\"color: #7f7f7f; text-decoration-color: #7f7f7f\">:</span><a href=\"file:///home/ppeter/repo/mcr-py/notebooks/../src/package/osm/osm.py#105\" target=\"_blank\"><span style=\"color: #7f7f7f; text-decoration-color: #7f7f7f\">105</span></a>\n",
                            "</pre>\n"
                        ],
                        "text/plain": [
                            "\u001b[2;36m[12:26:23]\u001b[0m\u001b[2;36m \u001b[0m\u001b[34mINFO    \u001b[0m Using existing OSM data                                                              \u001b]8;id=811835;file:///home/ppeter/repo/mcr-py/notebooks/../src/package/osm/osm.py\u001b\\\u001b[2mosm.py\u001b[0m\u001b]8;;\u001b\\\u001b[2m:\u001b[0m\u001b]8;id=905567;file:///home/ppeter/repo/mcr-py/notebooks/../src/package/osm/osm.py#105\u001b\\\u001b[2m105\u001b[0m\u001b]8;;\u001b\\\n"
                        ]
                    },
                    "metadata": {},
                    "output_type": "display_data"
                },
                {
                    "data": {
                        "text/html": [
                            "<pre style=\"white-space:pre;overflow-x:auto;line-height:normal;font-family:Menlo,'DejaVu Sans Mono',consolas,'Courier New',monospace\"><span style=\"color: #7fbfbf; text-decoration-color: #7fbfbf\">           </span><span style=\"color: #000080; text-decoration-color: #000080\">INFO    </span> Loading OSM network from cache <span style=\"font-weight: bold\">(</span>cycling<span style=\"font-weight: bold\">)</span>                                              <a href=\"file:///home/ppeter/repo/mcr-py/notebooks/../src/package/osm/osm.py\" target=\"_blank\"><span style=\"color: #7f7f7f; text-decoration-color: #7f7f7f\">osm.py</span></a><span style=\"color: #7f7f7f; text-decoration-color: #7f7f7f\">:</span><a href=\"file:///home/ppeter/repo/mcr-py/notebooks/../src/package/osm/osm.py#68\" target=\"_blank\"><span style=\"color: #7f7f7f; text-decoration-color: #7f7f7f\">68</span></a>\n",
                            "</pre>\n"
                        ],
                        "text/plain": [
                            "\u001b[2;36m          \u001b[0m\u001b[2;36m \u001b[0m\u001b[34mINFO    \u001b[0m Loading OSM network from cache \u001b[1m(\u001b[0mcycling\u001b[1m)\u001b[0m                                              \u001b]8;id=94093;file:///home/ppeter/repo/mcr-py/notebooks/../src/package/osm/osm.py\u001b\\\u001b[2mosm.py\u001b[0m\u001b]8;;\u001b\\\u001b[2m:\u001b[0m\u001b]8;id=355922;file:///home/ppeter/repo/mcr-py/notebooks/../src/package/osm/osm.py#68\u001b\\\u001b[2m68\u001b[0m\u001b]8;;\u001b\\\n"
                        ]
                    },
                    "metadata": {},
                    "output_type": "display_data"
                },
                {
                    "data": {
                        "text/html": [
                            "<pre style=\"white-space:pre;overflow-x:auto;line-height:normal;font-family:Menlo,'DejaVu Sans Mono',consolas,'Courier New',monospace\"><span style=\"color: #7fbfbf; text-decoration-color: #7fbfbf\">[12:27:08] </span><span style=\"color: #000080; text-decoration-color: #000080\">INFO    </span> Fetching POI for runtime optimization                                         <a href=\"file:///home/ppeter/repo/mcr-py/notebooks/../src/command/step_config.py\" target=\"_blank\"><span style=\"color: #7f7f7f; text-decoration-color: #7f7f7f\">step_config.py</span></a><span style=\"color: #7f7f7f; text-decoration-color: #7f7f7f\">:</span><a href=\"file:///home/ppeter/repo/mcr-py/notebooks/../src/command/step_config.py#51\" target=\"_blank\"><span style=\"color: #7f7f7f; text-decoration-color: #7f7f7f\">51</span></a>\n",
                            "</pre>\n"
                        ],
                        "text/plain": [
                            "\u001b[2;36m[12:27:08]\u001b[0m\u001b[2;36m \u001b[0m\u001b[34mINFO    \u001b[0m Fetching POI for runtime optimization                                         \u001b]8;id=131883;file:///home/ppeter/repo/mcr-py/notebooks/../src/command/step_config.py\u001b\\\u001b[2mstep_config.py\u001b[0m\u001b]8;;\u001b\\\u001b[2m:\u001b[0m\u001b]8;id=137008;file:///home/ppeter/repo/mcr-py/notebooks/../src/command/step_config.py#51\u001b\\\u001b[2m51\u001b[0m\u001b]8;;\u001b\\\n"
                        ]
                    },
                    "metadata": {},
                    "output_type": "display_data"
                },
                {
                    "data": {
                        "text/html": [
                            "<pre style=\"white-space:pre;overflow-x:auto;line-height:normal;font-family:Menlo,'DejaVu Sans Mono',consolas,'Courier New',monospace\"><span style=\"color: #7fbfbf; text-decoration-color: #7fbfbf\">           </span><span style=\"color: #000080; text-decoration-color: #000080\">INFO    </span> Fetching POI for runtime optimization done <span style=\"font-weight: bold\">(</span><span style=\"color: #008080; text-decoration-color: #008080; font-weight: bold\">0.05</span> seconds<span style=\"font-weight: bold\">)</span>                     <a href=\"file:///home/ppeter/repo/mcr-py/notebooks/../src/command/step_config.py\" target=\"_blank\"><span style=\"color: #7f7f7f; text-decoration-color: #7f7f7f\">step_config.py</span></a><span style=\"color: #7f7f7f; text-decoration-color: #7f7f7f\">:</span><a href=\"file:///home/ppeter/repo/mcr-py/notebooks/../src/command/step_config.py#51\" target=\"_blank\"><span style=\"color: #7f7f7f; text-decoration-color: #7f7f7f\">51</span></a>\n",
                            "</pre>\n"
                        ],
                        "text/plain": [
                            "\u001b[2;36m          \u001b[0m\u001b[2;36m \u001b[0m\u001b[34mINFO    \u001b[0m Fetching POI for runtime optimization done \u001b[1m(\u001b[0m\u001b[1;36m0.05\u001b[0m seconds\u001b[1m)\u001b[0m                     \u001b]8;id=593114;file:///home/ppeter/repo/mcr-py/notebooks/../src/command/step_config.py\u001b\\\u001b[2mstep_config.py\u001b[0m\u001b]8;;\u001b\\\u001b[2m:\u001b[0m\u001b]8;id=838651;file:///home/ppeter/repo/mcr-py/notebooks/../src/command/step_config.py#51\u001b\\\u001b[2m51\u001b[0m\u001b]8;;\u001b\\\n"
                        ]
                    },
                    "metadata": {},
                    "output_type": "display_data"
                },
                {
                    "data": {
                        "text/html": [
                            "<pre style=\"white-space:pre;overflow-x:auto;line-height:normal;font-family:Menlo,'DejaVu Sans Mono',consolas,'Courier New',monospace\"><span style=\"color: #7fbfbf; text-decoration-color: #7fbfbf\">[12:28:17] </span><span style=\"color: #000080; text-decoration-color: #000080\">INFO    </span> Reading stops                                                           <a href=\"file:///home/ppeter/repo/mcr-py/notebooks/../src/package/mcr/steps/public_transport.py\" target=\"_blank\"><span style=\"color: #7f7f7f; text-decoration-color: #7f7f7f\">public_transport.py</span></a><span style=\"color: #7f7f7f; text-decoration-color: #7f7f7f\">:</span><a href=\"file:///home/ppeter/repo/mcr-py/notebooks/../src/package/mcr/steps/public_transport.py#143\" target=\"_blank\"><span style=\"color: #7f7f7f; text-decoration-color: #7f7f7f\">143</span></a>\n",
                            "</pre>\n"
                        ],
                        "text/plain": [
                            "\u001b[2;36m[12:28:17]\u001b[0m\u001b[2;36m \u001b[0m\u001b[34mINFO    \u001b[0m Reading stops                                                           \u001b]8;id=449884;file:///home/ppeter/repo/mcr-py/notebooks/../src/package/mcr/steps/public_transport.py\u001b\\\u001b[2mpublic_transport.py\u001b[0m\u001b]8;;\u001b\\\u001b[2m:\u001b[0m\u001b]8;id=342653;file:///home/ppeter/repo/mcr-py/notebooks/../src/package/mcr/steps/public_transport.py#143\u001b\\\u001b[2m143\u001b[0m\u001b]8;;\u001b\\\n"
                        ]
                    },
                    "metadata": {},
                    "output_type": "display_data"
                },
                {
                    "data": {
                        "text/html": [
                            "<pre style=\"white-space:pre;overflow-x:auto;line-height:normal;font-family:Menlo,'DejaVu Sans Mono',consolas,'Courier New',monospace\"><span style=\"color: #7fbfbf; text-decoration-color: #7fbfbf\">           </span><span style=\"color: #000080; text-decoration-color: #000080\">INFO    </span> Reading stops done <span style=\"font-weight: bold\">(</span><span style=\"color: #008080; text-decoration-color: #008080; font-weight: bold\">0.21</span> seconds<span style=\"font-weight: bold\">)</span>                                       <a href=\"file:///home/ppeter/repo/mcr-py/notebooks/../src/package/mcr/steps/public_transport.py\" target=\"_blank\"><span style=\"color: #7f7f7f; text-decoration-color: #7f7f7f\">public_transport.py</span></a><span style=\"color: #7f7f7f; text-decoration-color: #7f7f7f\">:</span><a href=\"file:///home/ppeter/repo/mcr-py/notebooks/../src/package/mcr/steps/public_transport.py#143\" target=\"_blank\"><span style=\"color: #7f7f7f; text-decoration-color: #7f7f7f\">143</span></a>\n",
                            "</pre>\n"
                        ],
                        "text/plain": [
                            "\u001b[2;36m          \u001b[0m\u001b[2;36m \u001b[0m\u001b[34mINFO    \u001b[0m Reading stops done \u001b[1m(\u001b[0m\u001b[1;36m0.21\u001b[0m seconds\u001b[1m)\u001b[0m                                       \u001b]8;id=298678;file:///home/ppeter/repo/mcr-py/notebooks/../src/package/mcr/steps/public_transport.py\u001b\\\u001b[2mpublic_transport.py\u001b[0m\u001b]8;;\u001b\\\u001b[2m:\u001b[0m\u001b]8;id=340927;file:///home/ppeter/repo/mcr-py/notebooks/../src/package/mcr/steps/public_transport.py#143\u001b\\\u001b[2m143\u001b[0m\u001b]8;;\u001b\\\n"
                        ]
                    },
                    "metadata": {},
                    "output_type": "display_data"
                },
                {
                    "data": {
                        "application/vnd.jupyter.widget-view+json": {
                            "model_id": "562d084e97d34e1580cc1abdd49cc742",
                            "version_major": 2,
                            "version_minor": 0
                        },
                        "text/plain": [
                            "Starting:   0%|          | 0/1782 [00:00<?, ?it/s]"
                        ]
                    },
                    "metadata": {},
                    "output_type": "display_data"
                },
                {
                    "data": {
                        "text/html": [
                            "<pre style=\"white-space:pre;overflow-x:auto;line-height:normal;font-family:Menlo,'DejaVu Sans Mono',consolas,'Courier New',monospace\"><span style=\"color: #7fbfbf; text-decoration-color: #7fbfbf\">[12:44:56] </span><span style=\"color: #000080; text-decoration-color: #000080\">INFO    </span> All processes finished.                                                             <a href=\"file:///home/ppeter/repo/mcr-py/notebooks/../src/package/mcr5/mcr5.py\" target=\"_blank\"><span style=\"color: #7f7f7f; text-decoration-color: #7f7f7f\">mcr5.py</span></a><span style=\"color: #7f7f7f; text-decoration-color: #7f7f7f\">:</span><a href=\"file:///home/ppeter/repo/mcr-py/notebooks/../src/package/mcr5/mcr5.py#100\" target=\"_blank\"><span style=\"color: #7f7f7f; text-decoration-color: #7f7f7f\">100</span></a>\n",
                            "</pre>\n"
                        ],
                        "text/plain": [
                            "\u001b[2;36m[12:44:56]\u001b[0m\u001b[2;36m \u001b[0m\u001b[34mINFO    \u001b[0m All processes finished.                                                             \u001b]8;id=554041;file:///home/ppeter/repo/mcr-py/notebooks/../src/package/mcr5/mcr5.py\u001b\\\u001b[2mmcr5.py\u001b[0m\u001b]8;;\u001b\\\u001b[2m:\u001b[0m\u001b]8;id=626118;file:///home/ppeter/repo/mcr-py/notebooks/../src/package/mcr5/mcr5.py#100\u001b\\\u001b[2m100\u001b[0m\u001b]8;;\u001b\\\n"
                        ]
                    },
                    "metadata": {},
                    "output_type": "display_data"
                },
                {
                    "data": {
                        "text/html": [
                            "<pre style=\"white-space:pre;overflow-x:auto;line-height:normal;font-family:Menlo,'DejaVu Sans Mono',consolas,'Courier New',monospace\"><span style=\"color: #7fbfbf; text-decoration-color: #7fbfbf\">           </span><span style=\"color: #800000; text-decoration-color: #800000\">WARNING </span> <span style=\"color: #008080; text-decoration-color: #008080; font-weight: bold\">1759</span> errors occurred during the analysis.                                           <a href=\"file:///home/ppeter/repo/mcr-py/notebooks/../src/package/mcr5/mcr5.py\" target=\"_blank\"><span style=\"color: #7f7f7f; text-decoration-color: #7f7f7f\">mcr5.py</span></a><span style=\"color: #7f7f7f; text-decoration-color: #7f7f7f\">:</span><a href=\"file:///home/ppeter/repo/mcr-py/notebooks/../src/package/mcr5/mcr5.py#106\" target=\"_blank\"><span style=\"color: #7f7f7f; text-decoration-color: #7f7f7f\">106</span></a>\n",
                            "</pre>\n"
                        ],
                        "text/plain": [
                            "\u001b[2;36m          \u001b[0m\u001b[2;36m \u001b[0m\u001b[31mWARNING \u001b[0m \u001b[1;36m1759\u001b[0m errors occurred during the analysis.                                           \u001b]8;id=99315;file:///home/ppeter/repo/mcr-py/notebooks/../src/package/mcr5/mcr5.py\u001b\\\u001b[2mmcr5.py\u001b[0m\u001b]8;;\u001b\\\u001b[2m:\u001b[0m\u001b]8;id=473766;file:///home/ppeter/repo/mcr-py/notebooks/../src/package/mcr5/mcr5.py#106\u001b\\\u001b[2m106\u001b[0m\u001b]8;;\u001b\\\n"
                        ]
                    },
                    "metadata": {},
                    "output_type": "display_data"
                },
                {
                    "data": {
                        "text/html": [
                            "<pre style=\"white-space:pre;overflow-x:auto;line-height:normal;font-family:Menlo,'DejaVu Sans Mono',consolas,'Courier New',monospace\"><span style=\"color: #7fbfbf; text-decoration-color: #7fbfbf\">           </span><span style=\"color: #000080; text-decoration-color: #000080\">INFO    </span> Running MCR5 for bicycle_public_transport_4                                      <a href=\"file:///tmp/ipykernel_1226015/542061263.py\" target=\"_blank\"><span style=\"color: #7f7f7f; text-decoration-color: #7f7f7f\">542061263.py</span></a><span style=\"color: #7f7f7f; text-decoration-color: #7f7f7f\">:</span><a href=\"file:///tmp/ipykernel_1226015/542061263.py#4\" target=\"_blank\"><span style=\"color: #7f7f7f; text-decoration-color: #7f7f7f\">4</span></a>\n",
                            "</pre>\n"
                        ],
                        "text/plain": [
                            "\u001b[2;36m          \u001b[0m\u001b[2;36m \u001b[0m\u001b[34mINFO    \u001b[0m Running MCR5 for bicycle_public_transport_4                                      \u001b]8;id=387362;file:///tmp/ipykernel_1226015/542061263.py\u001b\\\u001b[2m542061263.py\u001b[0m\u001b]8;;\u001b\\\u001b[2m:\u001b[0m\u001b]8;id=694867;file:///tmp/ipykernel_1226015/542061263.py#4\u001b\\\u001b[2m4\u001b[0m\u001b]8;;\u001b\\\n"
                        ]
                    },
                    "metadata": {},
                    "output_type": "display_data"
                },
                {
                    "data": {
                        "text/html": [
                            "<pre style=\"white-space:pre;overflow-x:auto;line-height:normal;font-family:Menlo,'DejaVu Sans Mono',consolas,'Courier New',monospace\"><span style=\"color: #7fbfbf; text-decoration-color: #7fbfbf\">           </span><span style=\"color: #000080; text-decoration-color: #000080\">INFO    </span> Using existing OSM data                                                              <a href=\"file:///home/ppeter/repo/mcr-py/notebooks/../src/package/osm/osm.py\" target=\"_blank\"><span style=\"color: #7f7f7f; text-decoration-color: #7f7f7f\">osm.py</span></a><span style=\"color: #7f7f7f; text-decoration-color: #7f7f7f\">:</span><a href=\"file:///home/ppeter/repo/mcr-py/notebooks/../src/package/osm/osm.py#105\" target=\"_blank\"><span style=\"color: #7f7f7f; text-decoration-color: #7f7f7f\">105</span></a>\n",
                            "</pre>\n"
                        ],
                        "text/plain": [
                            "\u001b[2;36m          \u001b[0m\u001b[2;36m \u001b[0m\u001b[34mINFO    \u001b[0m Using existing OSM data                                                              \u001b]8;id=160800;file:///home/ppeter/repo/mcr-py/notebooks/../src/package/osm/osm.py\u001b\\\u001b[2mosm.py\u001b[0m\u001b]8;;\u001b\\\u001b[2m:\u001b[0m\u001b]8;id=783265;file:///home/ppeter/repo/mcr-py/notebooks/../src/package/osm/osm.py#105\u001b\\\u001b[2m105\u001b[0m\u001b]8;;\u001b\\\n"
                        ]
                    },
                    "metadata": {},
                    "output_type": "display_data"
                },
                {
                    "data": {
                        "text/html": [
                            "<pre style=\"white-space:pre;overflow-x:auto;line-height:normal;font-family:Menlo,'DejaVu Sans Mono',consolas,'Courier New',monospace\"><span style=\"color: #7fbfbf; text-decoration-color: #7fbfbf\">           </span><span style=\"color: #000080; text-decoration-color: #000080\">INFO    </span> Loading OSM network from cache <span style=\"font-weight: bold\">(</span>walking<span style=\"font-weight: bold\">)</span>                                              <a href=\"file:///home/ppeter/repo/mcr-py/notebooks/../src/package/osm/osm.py\" target=\"_blank\"><span style=\"color: #7f7f7f; text-decoration-color: #7f7f7f\">osm.py</span></a><span style=\"color: #7f7f7f; text-decoration-color: #7f7f7f\">:</span><a href=\"file:///home/ppeter/repo/mcr-py/notebooks/../src/package/osm/osm.py#68\" target=\"_blank\"><span style=\"color: #7f7f7f; text-decoration-color: #7f7f7f\">68</span></a>\n",
                            "</pre>\n"
                        ],
                        "text/plain": [
                            "\u001b[2;36m          \u001b[0m\u001b[2;36m \u001b[0m\u001b[34mINFO    \u001b[0m Loading OSM network from cache \u001b[1m(\u001b[0mwalking\u001b[1m)\u001b[0m                                              \u001b]8;id=617177;file:///home/ppeter/repo/mcr-py/notebooks/../src/package/osm/osm.py\u001b\\\u001b[2mosm.py\u001b[0m\u001b]8;;\u001b\\\u001b[2m:\u001b[0m\u001b]8;id=147897;file:///home/ppeter/repo/mcr-py/notebooks/../src/package/osm/osm.py#68\u001b\\\u001b[2m68\u001b[0m\u001b]8;;\u001b\\\n"
                        ]
                    },
                    "metadata": {},
                    "output_type": "display_data"
                },
                {
                    "data": {
                        "text/html": [
                            "<pre style=\"white-space:pre;overflow-x:auto;line-height:normal;font-family:Menlo,'DejaVu Sans Mono',consolas,'Courier New',monospace\"><span style=\"color: #7fbfbf; text-decoration-color: #7fbfbf\">[12:45:49] </span><span style=\"color: #000080; text-decoration-color: #000080\">INFO    </span> Using existing OSM data                                                              <a href=\"file:///home/ppeter/repo/mcr-py/notebooks/../src/package/osm/osm.py\" target=\"_blank\"><span style=\"color: #7f7f7f; text-decoration-color: #7f7f7f\">osm.py</span></a><span style=\"color: #7f7f7f; text-decoration-color: #7f7f7f\">:</span><a href=\"file:///home/ppeter/repo/mcr-py/notebooks/../src/package/osm/osm.py#105\" target=\"_blank\"><span style=\"color: #7f7f7f; text-decoration-color: #7f7f7f\">105</span></a>\n",
                            "</pre>\n"
                        ],
                        "text/plain": [
                            "\u001b[2;36m[12:45:49]\u001b[0m\u001b[2;36m \u001b[0m\u001b[34mINFO    \u001b[0m Using existing OSM data                                                              \u001b]8;id=106414;file:///home/ppeter/repo/mcr-py/notebooks/../src/package/osm/osm.py\u001b\\\u001b[2mosm.py\u001b[0m\u001b]8;;\u001b\\\u001b[2m:\u001b[0m\u001b]8;id=949661;file:///home/ppeter/repo/mcr-py/notebooks/../src/package/osm/osm.py#105\u001b\\\u001b[2m105\u001b[0m\u001b]8;;\u001b\\\n"
                        ]
                    },
                    "metadata": {},
                    "output_type": "display_data"
                },
                {
                    "data": {
                        "text/html": [
                            "<pre style=\"white-space:pre;overflow-x:auto;line-height:normal;font-family:Menlo,'DejaVu Sans Mono',consolas,'Courier New',monospace\"><span style=\"color: #7fbfbf; text-decoration-color: #7fbfbf\">           </span><span style=\"color: #000080; text-decoration-color: #000080\">INFO    </span> Loading OSM network from cache <span style=\"font-weight: bold\">(</span>cycling<span style=\"font-weight: bold\">)</span>                                              <a href=\"file:///home/ppeter/repo/mcr-py/notebooks/../src/package/osm/osm.py\" target=\"_blank\"><span style=\"color: #7f7f7f; text-decoration-color: #7f7f7f\">osm.py</span></a><span style=\"color: #7f7f7f; text-decoration-color: #7f7f7f\">:</span><a href=\"file:///home/ppeter/repo/mcr-py/notebooks/../src/package/osm/osm.py#68\" target=\"_blank\"><span style=\"color: #7f7f7f; text-decoration-color: #7f7f7f\">68</span></a>\n",
                            "</pre>\n"
                        ],
                        "text/plain": [
                            "\u001b[2;36m          \u001b[0m\u001b[2;36m \u001b[0m\u001b[34mINFO    \u001b[0m Loading OSM network from cache \u001b[1m(\u001b[0mcycling\u001b[1m)\u001b[0m                                              \u001b]8;id=656468;file:///home/ppeter/repo/mcr-py/notebooks/../src/package/osm/osm.py\u001b\\\u001b[2mosm.py\u001b[0m\u001b]8;;\u001b\\\u001b[2m:\u001b[0m\u001b]8;id=350275;file:///home/ppeter/repo/mcr-py/notebooks/../src/package/osm/osm.py#68\u001b\\\u001b[2m68\u001b[0m\u001b]8;;\u001b\\\n"
                        ]
                    },
                    "metadata": {},
                    "output_type": "display_data"
                },
                {
                    "data": {
                        "text/html": [
                            "<pre style=\"white-space:pre;overflow-x:auto;line-height:normal;font-family:Menlo,'DejaVu Sans Mono',consolas,'Courier New',monospace\"><span style=\"color: #7fbfbf; text-decoration-color: #7fbfbf\">[12:46:38] </span><span style=\"color: #000080; text-decoration-color: #000080\">INFO    </span> Fetching POI for runtime optimization                                         <a href=\"file:///home/ppeter/repo/mcr-py/notebooks/../src/command/step_config.py\" target=\"_blank\"><span style=\"color: #7f7f7f; text-decoration-color: #7f7f7f\">step_config.py</span></a><span style=\"color: #7f7f7f; text-decoration-color: #7f7f7f\">:</span><a href=\"file:///home/ppeter/repo/mcr-py/notebooks/../src/command/step_config.py#51\" target=\"_blank\"><span style=\"color: #7f7f7f; text-decoration-color: #7f7f7f\">51</span></a>\n",
                            "</pre>\n"
                        ],
                        "text/plain": [
                            "\u001b[2;36m[12:46:38]\u001b[0m\u001b[2;36m \u001b[0m\u001b[34mINFO    \u001b[0m Fetching POI for runtime optimization                                         \u001b]8;id=912657;file:///home/ppeter/repo/mcr-py/notebooks/../src/command/step_config.py\u001b\\\u001b[2mstep_config.py\u001b[0m\u001b]8;;\u001b\\\u001b[2m:\u001b[0m\u001b]8;id=635969;file:///home/ppeter/repo/mcr-py/notebooks/../src/command/step_config.py#51\u001b\\\u001b[2m51\u001b[0m\u001b]8;;\u001b\\\n"
                        ]
                    },
                    "metadata": {},
                    "output_type": "display_data"
                },
                {
                    "data": {
                        "text/html": [
                            "<pre style=\"white-space:pre;overflow-x:auto;line-height:normal;font-family:Menlo,'DejaVu Sans Mono',consolas,'Courier New',monospace\"><span style=\"color: #7fbfbf; text-decoration-color: #7fbfbf\">           </span><span style=\"color: #000080; text-decoration-color: #000080\">INFO    </span> Fetching POI for runtime optimization done <span style=\"font-weight: bold\">(</span><span style=\"color: #008080; text-decoration-color: #008080; font-weight: bold\">0.06</span> seconds<span style=\"font-weight: bold\">)</span>                     <a href=\"file:///home/ppeter/repo/mcr-py/notebooks/../src/command/step_config.py\" target=\"_blank\"><span style=\"color: #7f7f7f; text-decoration-color: #7f7f7f\">step_config.py</span></a><span style=\"color: #7f7f7f; text-decoration-color: #7f7f7f\">:</span><a href=\"file:///home/ppeter/repo/mcr-py/notebooks/../src/command/step_config.py#51\" target=\"_blank\"><span style=\"color: #7f7f7f; text-decoration-color: #7f7f7f\">51</span></a>\n",
                            "</pre>\n"
                        ],
                        "text/plain": [
                            "\u001b[2;36m          \u001b[0m\u001b[2;36m \u001b[0m\u001b[34mINFO    \u001b[0m Fetching POI for runtime optimization done \u001b[1m(\u001b[0m\u001b[1;36m0.06\u001b[0m seconds\u001b[1m)\u001b[0m                     \u001b]8;id=940308;file:///home/ppeter/repo/mcr-py/notebooks/../src/command/step_config.py\u001b\\\u001b[2mstep_config.py\u001b[0m\u001b]8;;\u001b\\\u001b[2m:\u001b[0m\u001b]8;id=18387;file:///home/ppeter/repo/mcr-py/notebooks/../src/command/step_config.py#51\u001b\\\u001b[2m51\u001b[0m\u001b]8;;\u001b\\\n"
                        ]
                    },
                    "metadata": {},
                    "output_type": "display_data"
                },
                {
                    "data": {
                        "text/html": [
                            "<pre style=\"white-space:pre;overflow-x:auto;line-height:normal;font-family:Menlo,'DejaVu Sans Mono',consolas,'Courier New',monospace\"><span style=\"color: #7fbfbf; text-decoration-color: #7fbfbf\">[12:47:43] </span><span style=\"color: #000080; text-decoration-color: #000080\">INFO    </span> Reading stops                                                           <a href=\"file:///home/ppeter/repo/mcr-py/notebooks/../src/package/mcr/steps/public_transport.py\" target=\"_blank\"><span style=\"color: #7f7f7f; text-decoration-color: #7f7f7f\">public_transport.py</span></a><span style=\"color: #7f7f7f; text-decoration-color: #7f7f7f\">:</span><a href=\"file:///home/ppeter/repo/mcr-py/notebooks/../src/package/mcr/steps/public_transport.py#143\" target=\"_blank\"><span style=\"color: #7f7f7f; text-decoration-color: #7f7f7f\">143</span></a>\n",
                            "</pre>\n"
                        ],
                        "text/plain": [
                            "\u001b[2;36m[12:47:43]\u001b[0m\u001b[2;36m \u001b[0m\u001b[34mINFO    \u001b[0m Reading stops                                                           \u001b]8;id=489490;file:///home/ppeter/repo/mcr-py/notebooks/../src/package/mcr/steps/public_transport.py\u001b\\\u001b[2mpublic_transport.py\u001b[0m\u001b]8;;\u001b\\\u001b[2m:\u001b[0m\u001b]8;id=66160;file:///home/ppeter/repo/mcr-py/notebooks/../src/package/mcr/steps/public_transport.py#143\u001b\\\u001b[2m143\u001b[0m\u001b]8;;\u001b\\\n"
                        ]
                    },
                    "metadata": {},
                    "output_type": "display_data"
                },
                {
                    "data": {
                        "text/html": [
                            "<pre style=\"white-space:pre;overflow-x:auto;line-height:normal;font-family:Menlo,'DejaVu Sans Mono',consolas,'Courier New',monospace\"><span style=\"color: #7fbfbf; text-decoration-color: #7fbfbf\">           </span><span style=\"color: #000080; text-decoration-color: #000080\">INFO    </span> Reading stops done <span style=\"font-weight: bold\">(</span><span style=\"color: #008080; text-decoration-color: #008080; font-weight: bold\">0.21</span> seconds<span style=\"font-weight: bold\">)</span>                                       <a href=\"file:///home/ppeter/repo/mcr-py/notebooks/../src/package/mcr/steps/public_transport.py\" target=\"_blank\"><span style=\"color: #7f7f7f; text-decoration-color: #7f7f7f\">public_transport.py</span></a><span style=\"color: #7f7f7f; text-decoration-color: #7f7f7f\">:</span><a href=\"file:///home/ppeter/repo/mcr-py/notebooks/../src/package/mcr/steps/public_transport.py#143\" target=\"_blank\"><span style=\"color: #7f7f7f; text-decoration-color: #7f7f7f\">143</span></a>\n",
                            "</pre>\n"
                        ],
                        "text/plain": [
                            "\u001b[2;36m          \u001b[0m\u001b[2;36m \u001b[0m\u001b[34mINFO    \u001b[0m Reading stops done \u001b[1m(\u001b[0m\u001b[1;36m0.21\u001b[0m seconds\u001b[1m)\u001b[0m                                       \u001b]8;id=331809;file:///home/ppeter/repo/mcr-py/notebooks/../src/package/mcr/steps/public_transport.py\u001b\\\u001b[2mpublic_transport.py\u001b[0m\u001b]8;;\u001b\\\u001b[2m:\u001b[0m\u001b]8;id=202205;file:///home/ppeter/repo/mcr-py/notebooks/../src/package/mcr/steps/public_transport.py#143\u001b\\\u001b[2m143\u001b[0m\u001b]8;;\u001b\\\n"
                        ]
                    },
                    "metadata": {},
                    "output_type": "display_data"
                },
                {
                    "data": {
                        "application/vnd.jupyter.widget-view+json": {
                            "model_id": "425b2b5000b04f0b826312470d033117",
                            "version_major": 2,
                            "version_minor": 0
                        },
                        "text/plain": [
                            "Starting:   0%|          | 0/1782 [00:00<?, ?it/s]"
                        ]
                    },
                    "metadata": {},
                    "output_type": "display_data"
                },
                {
                    "name": "stderr",
                    "output_type": "stream",
                    "text": [
                        "Exception ignored in: <function _releaseLock at 0x754adb201260>\n",
                        "Traceback (most recent call last):\n",
                        "  File \"/home/ppeter/miniconda3/envs/mcr-py/lib/python3.11/logging/__init__.py\", line 237, in _releaseLock\n",
                        "    def _releaseLock():\n",
                        "    \n",
                        "KeyboardInterrupt: \n"
                    ]
                }
            ],
            "source": [
                "runtimes = {}\n",
                "for key, config in configs.items():\n",
                "    start = datetime.now()\n",
                "    rlog.info(f\"Running MCR5 for {key}\")\n",
                "\n",
                "    config = config()\n",
                "    mcr5 = MCR5(**config[\"init_kwargs\"], max_processes=8)\n",
                "\n",
                "    loaded_at = datetime.now()\n",
                "    load_time = loaded_at - start\n",
                "\n",
                "    output_path = os.path.join(mcr5_output_path, key)\n",
                "\n",
                "    location_mappings = config[\"location_mappings\"]\n",
                "\n",
                "    start_time = config.get(\"start_time\", \"08:00:00\")\n",
                "    errors = mcr5.run(\n",
                "        location_mappings,\n",
                "        start_time=start_time,\n",
                "        output_dir=output_path,\n",
                "        max_transfers=config[\"max_transfers\"],\n",
                "    )\n",
                "\n",
                "    run_time = datetime.now() - loaded_at\n",
                "    total_time = datetime.now() - start\n",
                "    runtimes[key] = {\n",
                "        \"load_time\": load_time,\n",
                "        \"run_time\": run_time,\n",
                "        \"total_time\": total_time,\n",
                "    }\n",
                "\n",
                "with open(os.path.join(mcr5_output_path, \"runtimes.pkl\"), \"wb\") as f:\n",
                "    pickle.dump(runtimes, f)"
            ]
        },
        {
            "cell_type": "code",
            "execution_count": null,
            "metadata": {
                "tags": []
            },
            "outputs": [],
            "source": [
                "print(\"Ready\")"
            ]
        },
        {
            "cell_type": "code",
            "execution_count": null,
            "metadata": {
                "tags": []
            },
            "outputs": [],
            "source": [
                "# errors = storage.read_any_dict(\"../data/mcr5/Koeln/bicycle_public_transport/errors.pkl\")\n",
                "# errors"
            ]
        }
    ],
    "metadata": {
        "kernelspec": {
            "display_name": "mcr-py",
            "language": "python",
            "name": "python3"
        },
        "language_info": {
            "codemirror_mode": {
                "name": "ipython",
                "version": 3
            },
            "file_extension": ".py",
            "mimetype": "text/x-python",
            "name": "python",
            "nbconvert_exporter": "python",
            "pygments_lexer": "ipython3",
            "version": "3.11.7"
        }
    },
    "nbformat": 4,
    "nbformat_minor": 4
}