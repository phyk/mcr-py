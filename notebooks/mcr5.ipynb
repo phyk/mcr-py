{
 "cells": [
  {
   "cell_type": "code",
   "execution_count": 1,
   "metadata": {},
   "outputs": [],
   "source": [
    "%load_ext autoreload\n",
    "%autoreload 2\n",
    "import sys\n",
    "\n",
    "sys.path.append(\"../src/\")"
   ]
  },
  {
   "cell_type": "code",
   "execution_count": 2,
   "metadata": {},
   "outputs": [],
   "source": [
    "from package.logger import Timed, rlog, setup\n",
    "from package import storage\n",
    "\n",
    "setup(\"INFO\")"
   ]
  },
  {
   "cell_type": "code",
   "execution_count": 3,
   "metadata": {},
   "outputs": [],
   "source": [
    "import os\n",
    "\n",
    "import folium\n",
    "import geopandas as gpd\n",
    "import pandas as pd\n",
    "\n",
    "from package import strtime\n",
    "from package.osm import osm\n",
    "from package.mcr.data import NetworkType, OSMData\n",
    "from package.mcr5.mcr5 import MCR5\n",
    "from package import storage\n",
    "\n",
    "from package.geometa import GeoMeta\n",
    "from package.mcr.data import NetworkType"
   ]
  },
  {
   "cell_type": "code",
   "execution_count": 4,
   "metadata": {},
   "outputs": [],
   "source": [
    "city_id = \"Berlin\" # 'Koeln'\n",
    "geo_meta_path = f\"../data/geometa_{city_id.lower()}.pkl\"\n",
    "stops = f\"../data/cleaned_{city_id.lower()}/stops.csv\"\n",
    "structs = f\"../data/structs_{city_id.lower()}.pkl\"\n",
    "location_mapping_path = f\"../data/location_mappings_{city_id.lower()}.pkl\"\n",
    "bicycle_base_path = f\"../data/bicycle_locations_{city_id.lower()}/\"\n",
    "mcr5_output_path = f\"../data/mcr5/{city_id.lower()}\"\n",
    "# bicycle_location_path = \"../data/bicycle_locations/2022-11-01_09_01_00.csv\""
   ]
  },
  {
   "cell_type": "code",
   "execution_count": 5,
   "metadata": {},
   "outputs": [],
   "source": [
    "geo_meta = GeoMeta.load(geo_meta_path)\n",
    "# geo_data = OSMData(\n",
    "# \tgeo_meta,\n",
    "# \tcity_id,\n",
    "# \tadditional_network_types=[NetworkType.DRIVING, NetworkType.CYCLING],\n",
    "# )\n",
    "# nodes = geo_data.osm_nodes\n",
    "# edges = geo_data.osm_edges\n",
    "# driving_nodes, _, _ = geo_data.additional_networks[NetworkType.DRIVING]"
   ]
  },
  {
   "cell_type": "code",
   "execution_count": 6,
   "metadata": {},
   "outputs": [],
   "source": [
    "lm_data = storage.read_any_dict(location_mapping_path)\n",
    "location_mappings = lm_data[\"location_mappings\"]\n",
    "car_location_mappings = lm_data[\"car_location_mappings\"]"
   ]
  },
  {
   "cell_type": "code",
   "execution_count": 7,
   "metadata": {},
   "outputs": [],
   "source": [
    "from command.step_config import (\n",
    "    get_bicycle_public_transport_config,\n",
    "    get_car_only_config,\n",
    "    get_bicycle_only_config,\n",
    "    get_public_transport_only_config,\n",
    "    get_walking_only_config,\n",
    ")"
   ]
  },
  {
   "cell_type": "code",
   "execution_count": 8,
   "metadata": {},
   "outputs": [],
   "source": [
    "configs = {}\n",
    "\n",
    "\n",
    "def get_bicyle_public_transport_config_ready(bicycle_location_path, start_time):\n",
    "    initial_steps, repeating_steps = get_bicycle_public_transport_config(\n",
    "        geo_meta_path=geo_meta_path,\n",
    "        city_id=city_id,\n",
    "        bicycle_price_function=\"next_bike_no_tariff\",\n",
    "        bicycle_location_path=bicycle_location_path,\n",
    "        structs_path=structs,\n",
    "        stops_path=stops,\n",
    "    )\n",
    "    return {\n",
    "        \"init_kwargs\": {\n",
    "            \"initial_steps\": initial_steps,\n",
    "            \"repeating_steps\": repeating_steps,\n",
    "        },\n",
    "        \"location_mappings\": location_mappings,\n",
    "        \"max_transfers\": 2,\n",
    "        \"start_time\": start_time,\n",
    "    }\n",
    "\n",
    "\n",
    "def get_car_only_config_ready():\n",
    "    initial_steps, repeating_steps = get_car_only_config(\n",
    "        geo_meta_path=geo_meta_path,\n",
    "        city_id=city_id,\n",
    "    )\n",
    "    return {\n",
    "        \"init_kwargs\": {\n",
    "            \"initial_steps\": initial_steps,\n",
    "            \"repeating_steps\": repeating_steps,\n",
    "        },\n",
    "        \"location_mappings\": car_location_mappings,\n",
    "        \"max_transfers\": 1,\n",
    "    }\n",
    "\n",
    "\n",
    "def get_bicycle_only_config_ready(bicycle_location_path):\n",
    "    initial_steps, repeating_steps = get_bicycle_only_config(\n",
    "        geo_meta_path=geo_meta_path,\n",
    "        city_id=city_id,\n",
    "        bicycle_price_function=\"next_bike_no_tariff\",\n",
    "        bicycle_location_path=bicycle_location_path,\n",
    "    )\n",
    "    return {\n",
    "        \"init_kwargs\": {\n",
    "            \"initial_steps\": initial_steps,\n",
    "            \"repeating_steps\": repeating_steps,\n",
    "        },\n",
    "        \"location_mappings\": location_mappings,\n",
    "        \"max_transfers\": 2,\n",
    "    }\n",
    "\n",
    "\n",
    "def get_public_transport_only_config_ready(start_time):\n",
    "    initial_steps, repeating_steps = get_public_transport_only_config(\n",
    "        geo_meta_path=geo_meta_path,\n",
    "        city_id=city_id,\n",
    "        structs_path=structs,\n",
    "        stops_path=stops,\n",
    "    )\n",
    "    return {\n",
    "        \"init_kwargs\": {\n",
    "            \"initial_steps\": initial_steps,\n",
    "            \"repeating_steps\": repeating_steps,\n",
    "        },\n",
    "        \"location_mappings\": location_mappings,\n",
    "        \"max_transfers\": 2,\n",
    "        \"start_time\": start_time,\n",
    "    }\n",
    "\n",
    "\n",
    "def get_walking_only_config_ready():\n",
    "    initial_steps, repeating_steps = get_walking_only_config(\n",
    "        geo_meta_path=geo_meta_path,\n",
    "        city_id=city_id,\n",
    "    )\n",
    "    return {\n",
    "        \"init_kwargs\": {\n",
    "            \"initial_steps\": initial_steps,\n",
    "            \"repeating_steps\": repeating_steps,\n",
    "        },\n",
    "        \"location_mappings\": location_mappings,\n",
    "        \"max_transfers\": 0,\n",
    "    }"
   ]
  },
  {
   "cell_type": "code",
   "execution_count": 9,
   "metadata": {},
   "outputs": [],
   "source": [
    "import itertools\n",
    "import os\n",
    "\n",
    "times = [\n",
    "    \"08:00:00\",\n",
    "    \"12:00:00\",\n",
    "    \"18:00:00\",\n",
    "]\n",
    "bicycle_location_paths = [\n",
    "    os.path.join(bicycle_base_path, path)\n",
    "    for path in os.listdir(bicycle_base_path)\n",
    "]\n",
    "\n",
    "bicycle_public_transport_config_args = list(\n",
    "    itertools.product(\n",
    "        times,\n",
    "        bicycle_location_paths,\n",
    "    )\n",
    ")"
   ]
  },
  {
   "cell_type": "code",
   "execution_count": 10,
   "metadata": {},
   "outputs": [
    {
     "name": "stdout",
     "output_type": "stream",
     "text": [
      "0 08:00:00 ../data/bicycle_locations_berlin/2022-09-17_00_01_00.csv\n",
      "1 08:00:00 ../data/bicycle_locations_berlin/2023-02-24_09_01_00.csv\n",
      "2 08:00:00 ../data/bicycle_locations_berlin/2022-02-17_07_01_00.csv\n",
      "3 08:00:00 ../data/bicycle_locations_berlin/2023-01-19_18_01_00.csv\n",
      "4 08:00:00 ../data/bicycle_locations_berlin/2023-04-19_07_01_00.csv\n",
      "5 08:00:00 ../data/bicycle_locations_berlin/2022-03-15_17_01_00.csv\n",
      "6 08:00:00 ../data/bicycle_locations_berlin/2022-06-14_18_01_00.csv\n",
      "7 08:00:00 ../data/bicycle_locations_berlin/2022-11-03_23_01_00.csv\n",
      "8 12:00:00 ../data/bicycle_locations_berlin/2022-09-17_00_01_00.csv\n",
      "9 12:00:00 ../data/bicycle_locations_berlin/2023-02-24_09_01_00.csv\n",
      "10 12:00:00 ../data/bicycle_locations_berlin/2022-02-17_07_01_00.csv\n",
      "11 12:00:00 ../data/bicycle_locations_berlin/2023-01-19_18_01_00.csv\n",
      "12 12:00:00 ../data/bicycle_locations_berlin/2023-04-19_07_01_00.csv\n",
      "13 12:00:00 ../data/bicycle_locations_berlin/2022-03-15_17_01_00.csv\n",
      "14 12:00:00 ../data/bicycle_locations_berlin/2022-06-14_18_01_00.csv\n",
      "15 12:00:00 ../data/bicycle_locations_berlin/2022-11-03_23_01_00.csv\n",
      "16 18:00:00 ../data/bicycle_locations_berlin/2022-09-17_00_01_00.csv\n",
      "17 18:00:00 ../data/bicycle_locations_berlin/2023-02-24_09_01_00.csv\n",
      "18 18:00:00 ../data/bicycle_locations_berlin/2022-02-17_07_01_00.csv\n",
      "19 18:00:00 ../data/bicycle_locations_berlin/2023-01-19_18_01_00.csv\n",
      "20 18:00:00 ../data/bicycle_locations_berlin/2023-04-19_07_01_00.csv\n",
      "21 18:00:00 ../data/bicycle_locations_berlin/2022-03-15_17_01_00.csv\n",
      "22 18:00:00 ../data/bicycle_locations_berlin/2022-06-14_18_01_00.csv\n",
      "23 18:00:00 ../data/bicycle_locations_berlin/2022-11-03_23_01_00.csv\n",
      "\n",
      "0 08:00:00\n",
      "1 12:00:00\n",
      "2 18:00:00\n",
      "\n",
      "0 ../data/bicycle_locations_berlin/2022-09-17_00_01_00.csv\n",
      "1 ../data/bicycle_locations_berlin/2023-02-24_09_01_00.csv\n",
      "2 ../data/bicycle_locations_berlin/2022-02-17_07_01_00.csv\n",
      "3 ../data/bicycle_locations_berlin/2023-01-19_18_01_00.csv\n",
      "4 ../data/bicycle_locations_berlin/2023-04-19_07_01_00.csv\n",
      "5 ../data/bicycle_locations_berlin/2022-03-15_17_01_00.csv\n",
      "6 ../data/bicycle_locations_berlin/2022-06-14_18_01_00.csv\n",
      "7 ../data/bicycle_locations_berlin/2022-11-03_23_01_00.csv\n"
     ]
    }
   ],
   "source": [
    "from functools import partial\n",
    "\n",
    "for i, (time, bicycle_location_path) in enumerate(bicycle_public_transport_config_args):\n",
    "    print(i, time, bicycle_location_path)\n",
    "    configs[f\"bicycle_public_transport_{i}\"] = partial(\n",
    "        get_bicyle_public_transport_config_ready, bicycle_location_path, time\n",
    "    )\n",
    "\n",
    "print()\n",
    "for i, time in enumerate(times):\n",
    "    print(i, time)\n",
    "    configs[f\"public_transport_{i}\"] = partial(\n",
    "        get_public_transport_only_config_ready, time\n",
    "    )\n",
    "\n",
    "print()\n",
    "for i, bicycle_location_path in enumerate(bicycle_location_paths):\n",
    "    print(i, bicycle_location_path)\n",
    "    configs[f\"bicycle_{i}\"] = partial(\n",
    "        get_bicycle_only_config_ready, bicycle_location_path\n",
    "    )\n",
    "\n",
    "configs[\"car\"] = get_car_only_config_ready\n",
    "configs[\"walking\"] = get_walking_only_config_ready"
   ]
  },
  {
   "cell_type": "code",
   "execution_count": 11,
   "metadata": {},
   "outputs": [],
   "source": [
    "if os.path.exists(mcr5_output_path):\n",
    "    raise Exception(\"Output path already exists\")"
   ]
  },
  {
   "cell_type": "code",
   "execution_count": 12,
   "metadata": {},
   "outputs": [],
   "source": [
    "from datetime import datetime\n",
    "import pickle"
   ]
  },
  {
   "cell_type": "code",
   "execution_count": 13,
   "metadata": {},
   "outputs": [
    {
     "data": {
      "text/plain": [
       "{'bicycle_public_transport_0': functools.partial(<function get_bicyle_public_transport_config_ready at 0x7fd560d54040>, '../data/bicycle_locations_berlin/2022-09-17_00_01_00.csv', '08:00:00'),\n",
       " 'bicycle_public_transport_1': functools.partial(<function get_bicyle_public_transport_config_ready at 0x7fd560d54040>, '../data/bicycle_locations_berlin/2023-02-24_09_01_00.csv', '08:00:00'),\n",
       " 'bicycle_public_transport_2': functools.partial(<function get_bicyle_public_transport_config_ready at 0x7fd560d54040>, '../data/bicycle_locations_berlin/2022-02-17_07_01_00.csv', '08:00:00'),\n",
       " 'bicycle_public_transport_3': functools.partial(<function get_bicyle_public_transport_config_ready at 0x7fd560d54040>, '../data/bicycle_locations_berlin/2023-01-19_18_01_00.csv', '08:00:00'),\n",
       " 'bicycle_public_transport_4': functools.partial(<function get_bicyle_public_transport_config_ready at 0x7fd560d54040>, '../data/bicycle_locations_berlin/2023-04-19_07_01_00.csv', '08:00:00'),\n",
       " 'bicycle_public_transport_5': functools.partial(<function get_bicyle_public_transport_config_ready at 0x7fd560d54040>, '../data/bicycle_locations_berlin/2022-03-15_17_01_00.csv', '08:00:00'),\n",
       " 'bicycle_public_transport_6': functools.partial(<function get_bicyle_public_transport_config_ready at 0x7fd560d54040>, '../data/bicycle_locations_berlin/2022-06-14_18_01_00.csv', '08:00:00'),\n",
       " 'bicycle_public_transport_7': functools.partial(<function get_bicyle_public_transport_config_ready at 0x7fd560d54040>, '../data/bicycle_locations_berlin/2022-11-03_23_01_00.csv', '08:00:00'),\n",
       " 'bicycle_public_transport_8': functools.partial(<function get_bicyle_public_transport_config_ready at 0x7fd560d54040>, '../data/bicycle_locations_berlin/2022-09-17_00_01_00.csv', '12:00:00'),\n",
       " 'bicycle_public_transport_9': functools.partial(<function get_bicyle_public_transport_config_ready at 0x7fd560d54040>, '../data/bicycle_locations_berlin/2023-02-24_09_01_00.csv', '12:00:00'),\n",
       " 'bicycle_public_transport_10': functools.partial(<function get_bicyle_public_transport_config_ready at 0x7fd560d54040>, '../data/bicycle_locations_berlin/2022-02-17_07_01_00.csv', '12:00:00'),\n",
       " 'bicycle_public_transport_11': functools.partial(<function get_bicyle_public_transport_config_ready at 0x7fd560d54040>, '../data/bicycle_locations_berlin/2023-01-19_18_01_00.csv', '12:00:00'),\n",
       " 'bicycle_public_transport_12': functools.partial(<function get_bicyle_public_transport_config_ready at 0x7fd560d54040>, '../data/bicycle_locations_berlin/2023-04-19_07_01_00.csv', '12:00:00'),\n",
       " 'bicycle_public_transport_13': functools.partial(<function get_bicyle_public_transport_config_ready at 0x7fd560d54040>, '../data/bicycle_locations_berlin/2022-03-15_17_01_00.csv', '12:00:00'),\n",
       " 'bicycle_public_transport_14': functools.partial(<function get_bicyle_public_transport_config_ready at 0x7fd560d54040>, '../data/bicycle_locations_berlin/2022-06-14_18_01_00.csv', '12:00:00'),\n",
       " 'bicycle_public_transport_15': functools.partial(<function get_bicyle_public_transport_config_ready at 0x7fd560d54040>, '../data/bicycle_locations_berlin/2022-11-03_23_01_00.csv', '12:00:00'),\n",
       " 'bicycle_public_transport_16': functools.partial(<function get_bicyle_public_transport_config_ready at 0x7fd560d54040>, '../data/bicycle_locations_berlin/2022-09-17_00_01_00.csv', '18:00:00'),\n",
       " 'bicycle_public_transport_17': functools.partial(<function get_bicyle_public_transport_config_ready at 0x7fd560d54040>, '../data/bicycle_locations_berlin/2023-02-24_09_01_00.csv', '18:00:00'),\n",
       " 'bicycle_public_transport_18': functools.partial(<function get_bicyle_public_transport_config_ready at 0x7fd560d54040>, '../data/bicycle_locations_berlin/2022-02-17_07_01_00.csv', '18:00:00'),\n",
       " 'bicycle_public_transport_19': functools.partial(<function get_bicyle_public_transport_config_ready at 0x7fd560d54040>, '../data/bicycle_locations_berlin/2023-01-19_18_01_00.csv', '18:00:00'),\n",
       " 'bicycle_public_transport_20': functools.partial(<function get_bicyle_public_transport_config_ready at 0x7fd560d54040>, '../data/bicycle_locations_berlin/2023-04-19_07_01_00.csv', '18:00:00'),\n",
       " 'bicycle_public_transport_21': functools.partial(<function get_bicyle_public_transport_config_ready at 0x7fd560d54040>, '../data/bicycle_locations_berlin/2022-03-15_17_01_00.csv', '18:00:00'),\n",
       " 'bicycle_public_transport_22': functools.partial(<function get_bicyle_public_transport_config_ready at 0x7fd560d54040>, '../data/bicycle_locations_berlin/2022-06-14_18_01_00.csv', '18:00:00'),\n",
       " 'bicycle_public_transport_23': functools.partial(<function get_bicyle_public_transport_config_ready at 0x7fd560d54040>, '../data/bicycle_locations_berlin/2022-11-03_23_01_00.csv', '18:00:00'),\n",
       " 'public_transport_0': functools.partial(<function get_public_transport_only_config_ready at 0x7fd560d54220>, '08:00:00'),\n",
       " 'public_transport_1': functools.partial(<function get_public_transport_only_config_ready at 0x7fd560d54220>, '12:00:00'),\n",
       " 'public_transport_2': functools.partial(<function get_public_transport_only_config_ready at 0x7fd560d54220>, '18:00:00'),\n",
       " 'bicycle_0': functools.partial(<function get_bicycle_only_config_ready at 0x7fd560d54180>, '../data/bicycle_locations_berlin/2022-09-17_00_01_00.csv'),\n",
       " 'bicycle_1': functools.partial(<function get_bicycle_only_config_ready at 0x7fd560d54180>, '../data/bicycle_locations_berlin/2023-02-24_09_01_00.csv'),\n",
       " 'bicycle_2': functools.partial(<function get_bicycle_only_config_ready at 0x7fd560d54180>, '../data/bicycle_locations_berlin/2022-02-17_07_01_00.csv'),\n",
       " 'bicycle_3': functools.partial(<function get_bicycle_only_config_ready at 0x7fd560d54180>, '../data/bicycle_locations_berlin/2023-01-19_18_01_00.csv'),\n",
       " 'bicycle_4': functools.partial(<function get_bicycle_only_config_ready at 0x7fd560d54180>, '../data/bicycle_locations_berlin/2023-04-19_07_01_00.csv'),\n",
       " 'bicycle_5': functools.partial(<function get_bicycle_only_config_ready at 0x7fd560d54180>, '../data/bicycle_locations_berlin/2022-03-15_17_01_00.csv'),\n",
       " 'bicycle_6': functools.partial(<function get_bicycle_only_config_ready at 0x7fd560d54180>, '../data/bicycle_locations_berlin/2022-06-14_18_01_00.csv'),\n",
       " 'bicycle_7': functools.partial(<function get_bicycle_only_config_ready at 0x7fd560d54180>, '../data/bicycle_locations_berlin/2022-11-03_23_01_00.csv'),\n",
       " 'car': <function __main__.get_car_only_config_ready()>,\n",
       " 'walking': <function __main__.get_walking_only_config_ready()>}"
      ]
     },
     "execution_count": 13,
     "metadata": {},
     "output_type": "execute_result"
    }
   ],
   "source": [
    "configs"
   ]
  },
  {
   "cell_type": "code",
   "execution_count": 14,
   "metadata": {},
   "outputs": [
    {
     "data": {
      "text/html": [
       "<pre style=\"white-space:pre;overflow-x:auto;line-height:normal;font-family:Menlo,'DejaVu Sans Mono',consolas,'Courier New',monospace\"><span style=\"color: #7fbfbf; text-decoration-color: #7fbfbf\">[14:20:50] </span><span style=\"color: #000080; text-decoration-color: #000080\">INFO    </span> Running MCR5 for bicycle_public_transport_0                                      <a href=\"file:///tmp/ipykernel_3152471/542061263.py\" target=\"_blank\"><span style=\"color: #7f7f7f; text-decoration-color: #7f7f7f\">542061263.py</span></a><span style=\"color: #7f7f7f; text-decoration-color: #7f7f7f\">:</span><a href=\"file:///tmp/ipykernel_3152471/542061263.py#4\" target=\"_blank\"><span style=\"color: #7f7f7f; text-decoration-color: #7f7f7f\">4</span></a>\n",
       "</pre>\n"
      ],
      "text/plain": [
       "\u001b[2;36m[14:20:50]\u001b[0m\u001b[2;36m \u001b[0m\u001b[34mINFO    \u001b[0m Running MCR5 for bicycle_public_transport_0                                      \u001b]8;id=404655;file:///tmp/ipykernel_3152471/542061263.py\u001b\\\u001b[2m542061263.py\u001b[0m\u001b]8;;\u001b\\\u001b[2m:\u001b[0m\u001b]8;id=284331;file:///tmp/ipykernel_3152471/542061263.py#4\u001b\\\u001b[2m4\u001b[0m\u001b]8;;\u001b\\\n"
      ]
     },
     "metadata": {},
     "output_type": "display_data"
    },
    {
     "data": {
      "text/html": [
       "<pre style=\"white-space:pre;overflow-x:auto;line-height:normal;font-family:Menlo,'DejaVu Sans Mono',consolas,'Courier New',monospace\"><span style=\"color: #7fbfbf; text-decoration-color: #7fbfbf\">           </span><span style=\"color: #000080; text-decoration-color: #000080\">INFO    </span> Using existing OSM data                                                              <a href=\"file:///home/ppeter/repo/mcr-py/notebooks/../src/package/osm/osm.py\" target=\"_blank\"><span style=\"color: #7f7f7f; text-decoration-color: #7f7f7f\">osm.py</span></a><span style=\"color: #7f7f7f; text-decoration-color: #7f7f7f\">:</span><a href=\"file:///home/ppeter/repo/mcr-py/notebooks/../src/package/osm/osm.py#106\" target=\"_blank\"><span style=\"color: #7f7f7f; text-decoration-color: #7f7f7f\">106</span></a>\n",
       "</pre>\n"
      ],
      "text/plain": [
       "\u001b[2;36m          \u001b[0m\u001b[2;36m \u001b[0m\u001b[34mINFO    \u001b[0m Using existing OSM data                                                              \u001b]8;id=388180;file:///home/ppeter/repo/mcr-py/notebooks/../src/package/osm/osm.py\u001b\\\u001b[2mosm.py\u001b[0m\u001b]8;;\u001b\\\u001b[2m:\u001b[0m\u001b]8;id=680750;file:///home/ppeter/repo/mcr-py/notebooks/../src/package/osm/osm.py#106\u001b\\\u001b[2m106\u001b[0m\u001b]8;;\u001b\\\n"
      ]
     },
     "metadata": {},
     "output_type": "display_data"
    },
    {
     "data": {
      "text/html": [
       "<pre style=\"white-space:pre;overflow-x:auto;line-height:normal;font-family:Menlo,'DejaVu Sans Mono',consolas,'Courier New',monospace\"><span style=\"color: #7fbfbf; text-decoration-color: #7fbfbf\">           </span><span style=\"color: #000080; text-decoration-color: #000080\">INFO    </span> Loading OSM network from cache <span style=\"font-weight: bold\">(</span>walking<span style=\"font-weight: bold\">)</span>                                              <a href=\"file:///home/ppeter/repo/mcr-py/notebooks/../src/package/osm/osm.py\" target=\"_blank\"><span style=\"color: #7f7f7f; text-decoration-color: #7f7f7f\">osm.py</span></a><span style=\"color: #7f7f7f; text-decoration-color: #7f7f7f\">:</span><a href=\"file:///home/ppeter/repo/mcr-py/notebooks/../src/package/osm/osm.py#69\" target=\"_blank\"><span style=\"color: #7f7f7f; text-decoration-color: #7f7f7f\">69</span></a>\n",
       "</pre>\n"
      ],
      "text/plain": [
       "\u001b[2;36m          \u001b[0m\u001b[2;36m \u001b[0m\u001b[34mINFO    \u001b[0m Loading OSM network from cache \u001b[1m(\u001b[0mwalking\u001b[1m)\u001b[0m                                              \u001b]8;id=90080;file:///home/ppeter/repo/mcr-py/notebooks/../src/package/osm/osm.py\u001b\\\u001b[2mosm.py\u001b[0m\u001b]8;;\u001b\\\u001b[2m:\u001b[0m\u001b]8;id=475232;file:///home/ppeter/repo/mcr-py/notebooks/../src/package/osm/osm.py#69\u001b\\\u001b[2m69\u001b[0m\u001b]8;;\u001b\\\n"
      ]
     },
     "metadata": {},
     "output_type": "display_data"
    },
    {
     "data": {
      "text/html": [
       "<pre style=\"white-space:pre;overflow-x:auto;line-height:normal;font-family:Menlo,'DejaVu Sans Mono',consolas,'Courier New',monospace\"><span style=\"color: #7fbfbf; text-decoration-color: #7fbfbf\">[14:23:13] </span><span style=\"color: #000080; text-decoration-color: #000080\">INFO    </span> Using existing OSM data                                                              <a href=\"file:///home/ppeter/repo/mcr-py/notebooks/../src/package/osm/osm.py\" target=\"_blank\"><span style=\"color: #7f7f7f; text-decoration-color: #7f7f7f\">osm.py</span></a><span style=\"color: #7f7f7f; text-decoration-color: #7f7f7f\">:</span><a href=\"file:///home/ppeter/repo/mcr-py/notebooks/../src/package/osm/osm.py#106\" target=\"_blank\"><span style=\"color: #7f7f7f; text-decoration-color: #7f7f7f\">106</span></a>\n",
       "</pre>\n"
      ],
      "text/plain": [
       "\u001b[2;36m[14:23:13]\u001b[0m\u001b[2;36m \u001b[0m\u001b[34mINFO    \u001b[0m Using existing OSM data                                                              \u001b]8;id=972293;file:///home/ppeter/repo/mcr-py/notebooks/../src/package/osm/osm.py\u001b\\\u001b[2mosm.py\u001b[0m\u001b]8;;\u001b\\\u001b[2m:\u001b[0m\u001b]8;id=188081;file:///home/ppeter/repo/mcr-py/notebooks/../src/package/osm/osm.py#106\u001b\\\u001b[2m106\u001b[0m\u001b]8;;\u001b\\\n"
      ]
     },
     "metadata": {},
     "output_type": "display_data"
    },
    {
     "data": {
      "text/html": [
       "<pre style=\"white-space:pre;overflow-x:auto;line-height:normal;font-family:Menlo,'DejaVu Sans Mono',consolas,'Courier New',monospace\"><span style=\"color: #7fbfbf; text-decoration-color: #7fbfbf\">           </span><span style=\"color: #000080; text-decoration-color: #000080\">INFO    </span> Loading OSM network from cache <span style=\"font-weight: bold\">(</span>cycling<span style=\"font-weight: bold\">)</span>                                              <a href=\"file:///home/ppeter/repo/mcr-py/notebooks/../src/package/osm/osm.py\" target=\"_blank\"><span style=\"color: #7f7f7f; text-decoration-color: #7f7f7f\">osm.py</span></a><span style=\"color: #7f7f7f; text-decoration-color: #7f7f7f\">:</span><a href=\"file:///home/ppeter/repo/mcr-py/notebooks/../src/package/osm/osm.py#69\" target=\"_blank\"><span style=\"color: #7f7f7f; text-decoration-color: #7f7f7f\">69</span></a>\n",
       "</pre>\n"
      ],
      "text/plain": [
       "\u001b[2;36m          \u001b[0m\u001b[2;36m \u001b[0m\u001b[34mINFO    \u001b[0m Loading OSM network from cache \u001b[1m(\u001b[0mcycling\u001b[1m)\u001b[0m                                              \u001b]8;id=489990;file:///home/ppeter/repo/mcr-py/notebooks/../src/package/osm/osm.py\u001b\\\u001b[2mosm.py\u001b[0m\u001b]8;;\u001b\\\u001b[2m:\u001b[0m\u001b]8;id=616096;file:///home/ppeter/repo/mcr-py/notebooks/../src/package/osm/osm.py#69\u001b\\\u001b[2m69\u001b[0m\u001b]8;;\u001b\\\n"
      ]
     },
     "metadata": {},
     "output_type": "display_data"
    },
    {
     "data": {
      "text/html": [
       "<pre style=\"white-space:pre;overflow-x:auto;line-height:normal;font-family:Menlo,'DejaVu Sans Mono',consolas,'Courier New',monospace\"><span style=\"color: #7fbfbf; text-decoration-color: #7fbfbf\">[14:24:40] </span><span style=\"color: #000080; text-decoration-color: #000080\">INFO    </span> Fetching POI for runtime optimization                                         <a href=\"file:///home/ppeter/repo/mcr-py/notebooks/../src/command/step_config.py\" target=\"_blank\"><span style=\"color: #7f7f7f; text-decoration-color: #7f7f7f\">step_config.py</span></a><span style=\"color: #7f7f7f; text-decoration-color: #7f7f7f\">:</span><a href=\"file:///home/ppeter/repo/mcr-py/notebooks/../src/command/step_config.py#51\" target=\"_blank\"><span style=\"color: #7f7f7f; text-decoration-color: #7f7f7f\">51</span></a>\n",
       "</pre>\n"
      ],
      "text/plain": [
       "\u001b[2;36m[14:24:40]\u001b[0m\u001b[2;36m \u001b[0m\u001b[34mINFO    \u001b[0m Fetching POI for runtime optimization                                         \u001b]8;id=2894;file:///home/ppeter/repo/mcr-py/notebooks/../src/command/step_config.py\u001b\\\u001b[2mstep_config.py\u001b[0m\u001b]8;;\u001b\\\u001b[2m:\u001b[0m\u001b]8;id=158661;file:///home/ppeter/repo/mcr-py/notebooks/../src/command/step_config.py#51\u001b\\\u001b[2m51\u001b[0m\u001b]8;;\u001b\\\n"
      ]
     },
     "metadata": {},
     "output_type": "display_data"
    },
    {
     "data": {
      "text/html": [
       "<pre style=\"white-space:pre;overflow-x:auto;line-height:normal;font-family:Menlo,'DejaVu Sans Mono',consolas,'Courier New',monospace\"><span style=\"color: #7fbfbf; text-decoration-color: #7fbfbf\">           </span><span style=\"color: #000080; text-decoration-color: #000080\">INFO    </span> Fetching POI for runtime optimization done <span style=\"font-weight: bold\">(</span><span style=\"color: #008080; text-decoration-color: #008080; font-weight: bold\">0.21</span> seconds<span style=\"font-weight: bold\">)</span>                     <a href=\"file:///home/ppeter/repo/mcr-py/notebooks/../src/command/step_config.py\" target=\"_blank\"><span style=\"color: #7f7f7f; text-decoration-color: #7f7f7f\">step_config.py</span></a><span style=\"color: #7f7f7f; text-decoration-color: #7f7f7f\">:</span><a href=\"file:///home/ppeter/repo/mcr-py/notebooks/../src/command/step_config.py#51\" target=\"_blank\"><span style=\"color: #7f7f7f; text-decoration-color: #7f7f7f\">51</span></a>\n",
       "</pre>\n"
      ],
      "text/plain": [
       "\u001b[2;36m          \u001b[0m\u001b[2;36m \u001b[0m\u001b[34mINFO    \u001b[0m Fetching POI for runtime optimization done \u001b[1m(\u001b[0m\u001b[1;36m0.21\u001b[0m seconds\u001b[1m)\u001b[0m                     \u001b]8;id=840469;file:///home/ppeter/repo/mcr-py/notebooks/../src/command/step_config.py\u001b\\\u001b[2mstep_config.py\u001b[0m\u001b]8;;\u001b\\\u001b[2m:\u001b[0m\u001b]8;id=759025;file:///home/ppeter/repo/mcr-py/notebooks/../src/command/step_config.py#51\u001b\\\u001b[2m51\u001b[0m\u001b]8;;\u001b\\\n"
      ]
     },
     "metadata": {},
     "output_type": "display_data"
    },
    {
     "data": {
      "text/html": [
       "<pre style=\"white-space:pre;overflow-x:auto;line-height:normal;font-family:Menlo,'DejaVu Sans Mono',consolas,'Courier New',monospace\"><span style=\"color: #7fbfbf; text-decoration-color: #7fbfbf\">[14:26:56] </span><span style=\"color: #000080; text-decoration-color: #000080\">INFO    </span> Reading stops                                                           <a href=\"file:///home/ppeter/repo/mcr-py/notebooks/../src/package/mcr/steps/public_transport.py\" target=\"_blank\"><span style=\"color: #7f7f7f; text-decoration-color: #7f7f7f\">public_transport.py</span></a><span style=\"color: #7f7f7f; text-decoration-color: #7f7f7f\">:</span><a href=\"file:///home/ppeter/repo/mcr-py/notebooks/../src/package/mcr/steps/public_transport.py#144\" target=\"_blank\"><span style=\"color: #7f7f7f; text-decoration-color: #7f7f7f\">144</span></a>\n",
       "</pre>\n"
      ],
      "text/plain": [
       "\u001b[2;36m[14:26:56]\u001b[0m\u001b[2;36m \u001b[0m\u001b[34mINFO    \u001b[0m Reading stops                                                           \u001b]8;id=568820;file:///home/ppeter/repo/mcr-py/notebooks/../src/package/mcr/steps/public_transport.py\u001b\\\u001b[2mpublic_transport.py\u001b[0m\u001b]8;;\u001b\\\u001b[2m:\u001b[0m\u001b]8;id=266586;file:///home/ppeter/repo/mcr-py/notebooks/../src/package/mcr/steps/public_transport.py#144\u001b\\\u001b[2m144\u001b[0m\u001b]8;;\u001b\\\n"
      ]
     },
     "metadata": {},
     "output_type": "display_data"
    },
    {
     "data": {
      "text/html": [
       "<pre style=\"white-space:pre;overflow-x:auto;line-height:normal;font-family:Menlo,'DejaVu Sans Mono',consolas,'Courier New',monospace\"><span style=\"color: #7fbfbf; text-decoration-color: #7fbfbf\">[14:26:57] </span><span style=\"color: #000080; text-decoration-color: #000080\">INFO    </span> Reading stops done <span style=\"font-weight: bold\">(</span><span style=\"color: #008080; text-decoration-color: #008080; font-weight: bold\">1.18</span> seconds<span style=\"font-weight: bold\">)</span>                                       <a href=\"file:///home/ppeter/repo/mcr-py/notebooks/../src/package/mcr/steps/public_transport.py\" target=\"_blank\"><span style=\"color: #7f7f7f; text-decoration-color: #7f7f7f\">public_transport.py</span></a><span style=\"color: #7f7f7f; text-decoration-color: #7f7f7f\">:</span><a href=\"file:///home/ppeter/repo/mcr-py/notebooks/../src/package/mcr/steps/public_transport.py#144\" target=\"_blank\"><span style=\"color: #7f7f7f; text-decoration-color: #7f7f7f\">144</span></a>\n",
       "</pre>\n"
      ],
      "text/plain": [
       "\u001b[2;36m[14:26:57]\u001b[0m\u001b[2;36m \u001b[0m\u001b[34mINFO    \u001b[0m Reading stops done \u001b[1m(\u001b[0m\u001b[1;36m1.18\u001b[0m seconds\u001b[1m)\u001b[0m                                       \u001b]8;id=113473;file:///home/ppeter/repo/mcr-py/notebooks/../src/package/mcr/steps/public_transport.py\u001b\\\u001b[2mpublic_transport.py\u001b[0m\u001b]8;;\u001b\\\u001b[2m:\u001b[0m\u001b]8;id=162047;file:///home/ppeter/repo/mcr-py/notebooks/../src/package/mcr/steps/public_transport.py#144\u001b\\\u001b[2m144\u001b[0m\u001b]8;;\u001b\\\n"
      ]
     },
     "metadata": {},
     "output_type": "display_data"
    },
    {
     "ename": "ValueError",
     "evalue": "invalid literal for int() with base 10: 'de:12054:900230999:1:50'",
     "output_type": "error",
     "traceback": [
      "\u001b[0;31m---------------------------------------------------------------------------\u001b[0m",
      "\u001b[0;31mValueError\u001b[0m                                Traceback (most recent call last)",
      "Cell \u001b[0;32mIn[14], line 6\u001b[0m\n\u001b[1;32m      3\u001b[0m start \u001b[38;5;241m=\u001b[39m datetime\u001b[38;5;241m.\u001b[39mnow()\n\u001b[1;32m      4\u001b[0m rlog\u001b[38;5;241m.\u001b[39minfo(\u001b[38;5;124mf\u001b[39m\u001b[38;5;124m\"\u001b[39m\u001b[38;5;124mRunning MCR5 for \u001b[39m\u001b[38;5;132;01m{\u001b[39;00mkey\u001b[38;5;132;01m}\u001b[39;00m\u001b[38;5;124m\"\u001b[39m)\n\u001b[0;32m----> 6\u001b[0m config \u001b[38;5;241m=\u001b[39m \u001b[43mconfig\u001b[49m\u001b[43m(\u001b[49m\u001b[43m)\u001b[49m\n\u001b[1;32m      7\u001b[0m mcr5 \u001b[38;5;241m=\u001b[39m MCR5(\u001b[38;5;241m*\u001b[39m\u001b[38;5;241m*\u001b[39mconfig[\u001b[38;5;124m\"\u001b[39m\u001b[38;5;124minit_kwargs\u001b[39m\u001b[38;5;124m\"\u001b[39m], max_processes\u001b[38;5;241m=\u001b[39m\u001b[38;5;241m8\u001b[39m)\n\u001b[1;32m      9\u001b[0m loaded_at \u001b[38;5;241m=\u001b[39m datetime\u001b[38;5;241m.\u001b[39mnow()\n",
      "Cell \u001b[0;32mIn[8], line 5\u001b[0m, in \u001b[0;36mget_bicyle_public_transport_config_ready\u001b[0;34m(bicycle_location_path, start_time)\u001b[0m\n\u001b[1;32m      4\u001b[0m \u001b[38;5;28;01mdef\u001b[39;00m \u001b[38;5;21mget_bicyle_public_transport_config_ready\u001b[39m(bicycle_location_path, start_time):\n\u001b[0;32m----> 5\u001b[0m     initial_steps, repeating_steps \u001b[38;5;241m=\u001b[39m \u001b[43mget_bicycle_public_transport_config\u001b[49m\u001b[43m(\u001b[49m\n\u001b[1;32m      6\u001b[0m \u001b[43m        \u001b[49m\u001b[43mgeo_meta_path\u001b[49m\u001b[38;5;241;43m=\u001b[39;49m\u001b[43mgeo_meta_path\u001b[49m\u001b[43m,\u001b[49m\n\u001b[1;32m      7\u001b[0m \u001b[43m        \u001b[49m\u001b[43mcity_id\u001b[49m\u001b[38;5;241;43m=\u001b[39;49m\u001b[43mcity_id\u001b[49m\u001b[43m,\u001b[49m\n\u001b[1;32m      8\u001b[0m \u001b[43m        \u001b[49m\u001b[43mbicycle_price_function\u001b[49m\u001b[38;5;241;43m=\u001b[39;49m\u001b[38;5;124;43m\"\u001b[39;49m\u001b[38;5;124;43mnext_bike_no_tariff\u001b[39;49m\u001b[38;5;124;43m\"\u001b[39;49m\u001b[43m,\u001b[49m\n\u001b[1;32m      9\u001b[0m \u001b[43m        \u001b[49m\u001b[43mbicycle_location_path\u001b[49m\u001b[38;5;241;43m=\u001b[39;49m\u001b[43mbicycle_location_path\u001b[49m\u001b[43m,\u001b[49m\n\u001b[1;32m     10\u001b[0m \u001b[43m        \u001b[49m\u001b[43mstructs_path\u001b[49m\u001b[38;5;241;43m=\u001b[39;49m\u001b[43mstructs\u001b[49m\u001b[43m,\u001b[49m\n\u001b[1;32m     11\u001b[0m \u001b[43m        \u001b[49m\u001b[43mstops_path\u001b[49m\u001b[38;5;241;43m=\u001b[39;49m\u001b[43mstops\u001b[49m\u001b[43m,\u001b[49m\n\u001b[1;32m     12\u001b[0m \u001b[43m    \u001b[49m\u001b[43m)\u001b[49m\n\u001b[1;32m     13\u001b[0m     \u001b[38;5;28;01mreturn\u001b[39;00m {\n\u001b[1;32m     14\u001b[0m         \u001b[38;5;124m\"\u001b[39m\u001b[38;5;124minit_kwargs\u001b[39m\u001b[38;5;124m\"\u001b[39m: {\n\u001b[1;32m     15\u001b[0m             \u001b[38;5;124m\"\u001b[39m\u001b[38;5;124minitial_steps\u001b[39m\u001b[38;5;124m\"\u001b[39m: initial_steps,\n\u001b[0;32m   (...)\u001b[0m\n\u001b[1;32m     20\u001b[0m         \u001b[38;5;124m\"\u001b[39m\u001b[38;5;124mstart_time\u001b[39m\u001b[38;5;124m\"\u001b[39m: start_time,\n\u001b[1;32m     21\u001b[0m     }\n",
      "File \u001b[0;32m~/repo/mcr-py/notebooks/../src/command/step_config.py:185\u001b[0m, in \u001b[0;36mget_bicycle_public_transport_config\u001b[0;34m(geo_meta_path, city_id, bicycle_price_function, bicycle_location_path, structs_path, stops_path)\u001b[0m\n\u001b[1;32m    181\u001b[0m geo_meta \u001b[38;5;241m=\u001b[39m GeoMeta\u001b[38;5;241m.\u001b[39mload(geo_meta_path)\n\u001b[1;32m    182\u001b[0m geo_data \u001b[38;5;241m=\u001b[39m OSMData(\n\u001b[1;32m    183\u001b[0m     geo_meta, city_id, additional_network_types\u001b[38;5;241m=\u001b[39m[NetworkType\u001b[38;5;241m.\u001b[39mCYCLING]\n\u001b[1;32m    184\u001b[0m )\n\u001b[0;32m--> 185\u001b[0m \u001b[38;5;28;01mreturn\u001b[39;00m \u001b[43mget_bicycle_public_transport_config_with_data\u001b[49m\u001b[43m(\u001b[49m\n\u001b[1;32m    186\u001b[0m \u001b[43m    \u001b[49m\u001b[43mgeo_meta\u001b[49m\u001b[43m,\u001b[49m\n\u001b[1;32m    187\u001b[0m \u001b[43m    \u001b[49m\u001b[43mgeo_data\u001b[49m\u001b[43m,\u001b[49m\n\u001b[1;32m    188\u001b[0m \u001b[43m    \u001b[49m\u001b[43mbicycle_price_function\u001b[49m\u001b[43m,\u001b[49m\n\u001b[1;32m    189\u001b[0m \u001b[43m    \u001b[49m\u001b[43mbicycle_location_path\u001b[49m\u001b[43m,\u001b[49m\n\u001b[1;32m    190\u001b[0m \u001b[43m    \u001b[49m\u001b[43mstructs_path\u001b[49m\u001b[43m,\u001b[49m\n\u001b[1;32m    191\u001b[0m \u001b[43m    \u001b[49m\u001b[43mstops_path\u001b[49m\u001b[43m,\u001b[49m\n\u001b[1;32m    192\u001b[0m \u001b[43m\u001b[49m\u001b[43m)\u001b[49m\n",
      "File \u001b[0;32m~/repo/mcr-py/notebooks/../src/command/step_config.py:66\u001b[0m, in \u001b[0;36mget_bicycle_public_transport_config_with_data\u001b[0;34m(geo_meta, geo_data, bicycle_price_function, bicycle_location_path, structs_path, stops_path)\u001b[0m\n\u001b[1;32m     54\u001b[0m cycling_nodes, cycling_edges, _ \u001b[38;5;241m=\u001b[39m geo_data\u001b[38;5;241m.\u001b[39madditional_networks[NetworkType\u001b[38;5;241m.\u001b[39mCYCLING]\n\u001b[1;32m     55\u001b[0m bicycle_step \u001b[38;5;241m=\u001b[39m BicycleStepBuilder(\n\u001b[1;32m     56\u001b[0m     bicycle_price_function,\n\u001b[1;32m     57\u001b[0m     bicycle_location_path,\n\u001b[0;32m   (...)\u001b[0m\n\u001b[1;32m     63\u001b[0m     pois,\n\u001b[1;32m     64\u001b[0m )\n\u001b[0;32m---> 66\u001b[0m public_transport_step \u001b[38;5;241m=\u001b[39m \u001b[43mPublicTransportStepBuilder\u001b[49m\u001b[43m(\u001b[49m\n\u001b[1;32m     67\u001b[0m \u001b[43m    \u001b[49m\u001b[43mstructs_path\u001b[49m\u001b[43m,\u001b[49m\n\u001b[1;32m     68\u001b[0m \u001b[43m    \u001b[49m\u001b[43mstops_path\u001b[49m\u001b[43m,\u001b[49m\n\u001b[1;32m     69\u001b[0m \u001b[43m    \u001b[49m\u001b[43mgeo_data\u001b[49m\u001b[38;5;241;43m.\u001b[39;49m\u001b[43mnxgraph\u001b[49m\u001b[43m,\u001b[49m\n\u001b[1;32m     70\u001b[0m \u001b[43m\u001b[49m\u001b[43m)\u001b[49m\n\u001b[1;32m     72\u001b[0m walking_step \u001b[38;5;241m=\u001b[39m WalkingStepBuilder(\n\u001b[1;32m     73\u001b[0m     geo_data\u001b[38;5;241m.\u001b[39mosm_nodes,\n\u001b[1;32m     74\u001b[0m     geo_data\u001b[38;5;241m.\u001b[39mosm_edges,\n\u001b[1;32m     75\u001b[0m     pois,\n\u001b[1;32m     76\u001b[0m )\n\u001b[1;32m     78\u001b[0m initial_steps \u001b[38;5;241m=\u001b[39m [[walking_step]]\n",
      "File \u001b[0;32m~/repo/mcr-py/notebooks/../src/package/mcr/steps/public_transport.py:149\u001b[0m, in \u001b[0;36mPublicTransportStepBuilder.__init__\u001b[0;34m(self, structs_path, stops_path, nxgraph)\u001b[0m\n\u001b[1;32m    145\u001b[0m     \u001b[38;5;28mself\u001b[39m\u001b[38;5;241m.\u001b[39mstops_df \u001b[38;5;241m=\u001b[39m storage\u001b[38;5;241m.\u001b[39mread_gdf(stops_path)\n\u001b[1;32m    147\u001b[0m stops_df \u001b[38;5;241m=\u001b[39m graph\u001b[38;5;241m.\u001b[39madd_nearest_node_to_stops(\u001b[38;5;28mself\u001b[39m\u001b[38;5;241m.\u001b[39mstops_df, nxgraph)\n\u001b[0;32m--> 149\u001b[0m stops_df[\u001b[38;5;124m\"\u001b[39m\u001b[38;5;124mstop_id\u001b[39m\u001b[38;5;124m\"\u001b[39m] \u001b[38;5;241m=\u001b[39m \u001b[43mstops_df\u001b[49m\u001b[43m[\u001b[49m\u001b[38;5;124;43m\"\u001b[39;49m\u001b[38;5;124;43mstop_id\u001b[39;49m\u001b[38;5;124;43m\"\u001b[39;49m\u001b[43m]\u001b[49m\u001b[38;5;241;43m.\u001b[39;49m\u001b[43mastype\u001b[49m\u001b[43m(\u001b[49m\u001b[38;5;28;43mint\u001b[39;49m\u001b[43m)\u001b[49m\n\u001b[1;32m    150\u001b[0m stop_to_osm_node_map: \u001b[38;5;28mdict\u001b[39m[\u001b[38;5;28mint\u001b[39m, \u001b[38;5;28mint\u001b[39m] \u001b[38;5;241m=\u001b[39m stops_df\u001b[38;5;241m.\u001b[39mset_index(\u001b[38;5;124m\"\u001b[39m\u001b[38;5;124mstop_id\u001b[39m\u001b[38;5;124m\"\u001b[39m)[\n\u001b[1;32m    151\u001b[0m     \u001b[38;5;124m\"\u001b[39m\u001b[38;5;124mnearest_node\u001b[39m\u001b[38;5;124m\"\u001b[39m\n\u001b[1;32m    152\u001b[0m ]\u001b[38;5;241m.\u001b[39mto_dict()\n\u001b[1;32m    153\u001b[0m osm_node_to_stop_map: \u001b[38;5;28mdict\u001b[39m[\u001b[38;5;28mint\u001b[39m, \u001b[38;5;28mint\u001b[39m] \u001b[38;5;241m=\u001b[39m {\n\u001b[1;32m    154\u001b[0m     v: k \u001b[38;5;28;01mfor\u001b[39;00m k, v \u001b[38;5;129;01min\u001b[39;00m stop_to_osm_node_map\u001b[38;5;241m.\u001b[39mitems()\n\u001b[1;32m    155\u001b[0m }\n",
      "File \u001b[0;32m~/miniconda3/envs/mcr-py/lib/python3.11/site-packages/pandas/core/generic.py:6637\u001b[0m, in \u001b[0;36mNDFrame.astype\u001b[0;34m(self, dtype, copy, errors)\u001b[0m\n\u001b[1;32m   6631\u001b[0m     results \u001b[38;5;241m=\u001b[39m [\n\u001b[1;32m   6632\u001b[0m         ser\u001b[38;5;241m.\u001b[39mastype(dtype, copy\u001b[38;5;241m=\u001b[39mcopy, errors\u001b[38;5;241m=\u001b[39merrors) \u001b[38;5;28;01mfor\u001b[39;00m _, ser \u001b[38;5;129;01min\u001b[39;00m \u001b[38;5;28mself\u001b[39m\u001b[38;5;241m.\u001b[39mitems()\n\u001b[1;32m   6633\u001b[0m     ]\n\u001b[1;32m   6635\u001b[0m \u001b[38;5;28;01melse\u001b[39;00m:\n\u001b[1;32m   6636\u001b[0m     \u001b[38;5;66;03m# else, only a single dtype is given\u001b[39;00m\n\u001b[0;32m-> 6637\u001b[0m     new_data \u001b[38;5;241m=\u001b[39m \u001b[38;5;28;43mself\u001b[39;49m\u001b[38;5;241;43m.\u001b[39;49m\u001b[43m_mgr\u001b[49m\u001b[38;5;241;43m.\u001b[39;49m\u001b[43mastype\u001b[49m\u001b[43m(\u001b[49m\u001b[43mdtype\u001b[49m\u001b[38;5;241;43m=\u001b[39;49m\u001b[43mdtype\u001b[49m\u001b[43m,\u001b[49m\u001b[43m \u001b[49m\u001b[43mcopy\u001b[49m\u001b[38;5;241;43m=\u001b[39;49m\u001b[43mcopy\u001b[49m\u001b[43m,\u001b[49m\u001b[43m \u001b[49m\u001b[43merrors\u001b[49m\u001b[38;5;241;43m=\u001b[39;49m\u001b[43merrors\u001b[49m\u001b[43m)\u001b[49m\n\u001b[1;32m   6638\u001b[0m     res \u001b[38;5;241m=\u001b[39m \u001b[38;5;28mself\u001b[39m\u001b[38;5;241m.\u001b[39m_constructor_from_mgr(new_data, axes\u001b[38;5;241m=\u001b[39mnew_data\u001b[38;5;241m.\u001b[39maxes)\n\u001b[1;32m   6639\u001b[0m     \u001b[38;5;28;01mreturn\u001b[39;00m res\u001b[38;5;241m.\u001b[39m__finalize__(\u001b[38;5;28mself\u001b[39m, method\u001b[38;5;241m=\u001b[39m\u001b[38;5;124m\"\u001b[39m\u001b[38;5;124mastype\u001b[39m\u001b[38;5;124m\"\u001b[39m)\n",
      "File \u001b[0;32m~/miniconda3/envs/mcr-py/lib/python3.11/site-packages/pandas/core/internals/managers.py:431\u001b[0m, in \u001b[0;36mBaseBlockManager.astype\u001b[0;34m(self, dtype, copy, errors)\u001b[0m\n\u001b[1;32m    428\u001b[0m \u001b[38;5;28;01melif\u001b[39;00m using_copy_on_write():\n\u001b[1;32m    429\u001b[0m     copy \u001b[38;5;241m=\u001b[39m \u001b[38;5;28;01mFalse\u001b[39;00m\n\u001b[0;32m--> 431\u001b[0m \u001b[38;5;28;01mreturn\u001b[39;00m \u001b[38;5;28;43mself\u001b[39;49m\u001b[38;5;241;43m.\u001b[39;49m\u001b[43mapply\u001b[49m\u001b[43m(\u001b[49m\n\u001b[1;32m    432\u001b[0m \u001b[43m    \u001b[49m\u001b[38;5;124;43m\"\u001b[39;49m\u001b[38;5;124;43mastype\u001b[39;49m\u001b[38;5;124;43m\"\u001b[39;49m\u001b[43m,\u001b[49m\n\u001b[1;32m    433\u001b[0m \u001b[43m    \u001b[49m\u001b[43mdtype\u001b[49m\u001b[38;5;241;43m=\u001b[39;49m\u001b[43mdtype\u001b[49m\u001b[43m,\u001b[49m\n\u001b[1;32m    434\u001b[0m \u001b[43m    \u001b[49m\u001b[43mcopy\u001b[49m\u001b[38;5;241;43m=\u001b[39;49m\u001b[43mcopy\u001b[49m\u001b[43m,\u001b[49m\n\u001b[1;32m    435\u001b[0m \u001b[43m    \u001b[49m\u001b[43merrors\u001b[49m\u001b[38;5;241;43m=\u001b[39;49m\u001b[43merrors\u001b[49m\u001b[43m,\u001b[49m\n\u001b[1;32m    436\u001b[0m \u001b[43m    \u001b[49m\u001b[43musing_cow\u001b[49m\u001b[38;5;241;43m=\u001b[39;49m\u001b[43musing_copy_on_write\u001b[49m\u001b[43m(\u001b[49m\u001b[43m)\u001b[49m\u001b[43m,\u001b[49m\n\u001b[1;32m    437\u001b[0m \u001b[43m\u001b[49m\u001b[43m)\u001b[49m\n",
      "File \u001b[0;32m~/miniconda3/envs/mcr-py/lib/python3.11/site-packages/pandas/core/internals/managers.py:364\u001b[0m, in \u001b[0;36mBaseBlockManager.apply\u001b[0;34m(self, f, align_keys, **kwargs)\u001b[0m\n\u001b[1;32m    362\u001b[0m         applied \u001b[38;5;241m=\u001b[39m b\u001b[38;5;241m.\u001b[39mapply(f, \u001b[38;5;241m*\u001b[39m\u001b[38;5;241m*\u001b[39mkwargs)\n\u001b[1;32m    363\u001b[0m     \u001b[38;5;28;01melse\u001b[39;00m:\n\u001b[0;32m--> 364\u001b[0m         applied \u001b[38;5;241m=\u001b[39m \u001b[38;5;28;43mgetattr\u001b[39;49m\u001b[43m(\u001b[49m\u001b[43mb\u001b[49m\u001b[43m,\u001b[49m\u001b[43m \u001b[49m\u001b[43mf\u001b[49m\u001b[43m)\u001b[49m\u001b[43m(\u001b[49m\u001b[38;5;241;43m*\u001b[39;49m\u001b[38;5;241;43m*\u001b[39;49m\u001b[43mkwargs\u001b[49m\u001b[43m)\u001b[49m\n\u001b[1;32m    365\u001b[0m     result_blocks \u001b[38;5;241m=\u001b[39m extend_blocks(applied, result_blocks)\n\u001b[1;32m    367\u001b[0m out \u001b[38;5;241m=\u001b[39m \u001b[38;5;28mtype\u001b[39m(\u001b[38;5;28mself\u001b[39m)\u001b[38;5;241m.\u001b[39mfrom_blocks(result_blocks, \u001b[38;5;28mself\u001b[39m\u001b[38;5;241m.\u001b[39maxes)\n",
      "File \u001b[0;32m~/miniconda3/envs/mcr-py/lib/python3.11/site-packages/pandas/core/internals/blocks.py:758\u001b[0m, in \u001b[0;36mBlock.astype\u001b[0;34m(self, dtype, copy, errors, using_cow, squeeze)\u001b[0m\n\u001b[1;32m    755\u001b[0m         \u001b[38;5;28;01mraise\u001b[39;00m \u001b[38;5;167;01mValueError\u001b[39;00m(\u001b[38;5;124m\"\u001b[39m\u001b[38;5;124mCan not squeeze with more than one column.\u001b[39m\u001b[38;5;124m\"\u001b[39m)\n\u001b[1;32m    756\u001b[0m     values \u001b[38;5;241m=\u001b[39m values[\u001b[38;5;241m0\u001b[39m, :]  \u001b[38;5;66;03m# type: ignore[call-overload]\u001b[39;00m\n\u001b[0;32m--> 758\u001b[0m new_values \u001b[38;5;241m=\u001b[39m \u001b[43mastype_array_safe\u001b[49m\u001b[43m(\u001b[49m\u001b[43mvalues\u001b[49m\u001b[43m,\u001b[49m\u001b[43m \u001b[49m\u001b[43mdtype\u001b[49m\u001b[43m,\u001b[49m\u001b[43m \u001b[49m\u001b[43mcopy\u001b[49m\u001b[38;5;241;43m=\u001b[39;49m\u001b[43mcopy\u001b[49m\u001b[43m,\u001b[49m\u001b[43m \u001b[49m\u001b[43merrors\u001b[49m\u001b[38;5;241;43m=\u001b[39;49m\u001b[43merrors\u001b[49m\u001b[43m)\u001b[49m\n\u001b[1;32m    760\u001b[0m new_values \u001b[38;5;241m=\u001b[39m maybe_coerce_values(new_values)\n\u001b[1;32m    762\u001b[0m refs \u001b[38;5;241m=\u001b[39m \u001b[38;5;28;01mNone\u001b[39;00m\n",
      "File \u001b[0;32m~/miniconda3/envs/mcr-py/lib/python3.11/site-packages/pandas/core/dtypes/astype.py:237\u001b[0m, in \u001b[0;36mastype_array_safe\u001b[0;34m(values, dtype, copy, errors)\u001b[0m\n\u001b[1;32m    234\u001b[0m     dtype \u001b[38;5;241m=\u001b[39m dtype\u001b[38;5;241m.\u001b[39mnumpy_dtype\n\u001b[1;32m    236\u001b[0m \u001b[38;5;28;01mtry\u001b[39;00m:\n\u001b[0;32m--> 237\u001b[0m     new_values \u001b[38;5;241m=\u001b[39m \u001b[43mastype_array\u001b[49m\u001b[43m(\u001b[49m\u001b[43mvalues\u001b[49m\u001b[43m,\u001b[49m\u001b[43m \u001b[49m\u001b[43mdtype\u001b[49m\u001b[43m,\u001b[49m\u001b[43m \u001b[49m\u001b[43mcopy\u001b[49m\u001b[38;5;241;43m=\u001b[39;49m\u001b[43mcopy\u001b[49m\u001b[43m)\u001b[49m\n\u001b[1;32m    238\u001b[0m \u001b[38;5;28;01mexcept\u001b[39;00m (\u001b[38;5;167;01mValueError\u001b[39;00m, \u001b[38;5;167;01mTypeError\u001b[39;00m):\n\u001b[1;32m    239\u001b[0m     \u001b[38;5;66;03m# e.g. _astype_nansafe can fail on object-dtype of strings\u001b[39;00m\n\u001b[1;32m    240\u001b[0m     \u001b[38;5;66;03m#  trying to convert to float\u001b[39;00m\n\u001b[1;32m    241\u001b[0m     \u001b[38;5;28;01mif\u001b[39;00m errors \u001b[38;5;241m==\u001b[39m \u001b[38;5;124m\"\u001b[39m\u001b[38;5;124mignore\u001b[39m\u001b[38;5;124m\"\u001b[39m:\n",
      "File \u001b[0;32m~/miniconda3/envs/mcr-py/lib/python3.11/site-packages/pandas/core/dtypes/astype.py:182\u001b[0m, in \u001b[0;36mastype_array\u001b[0;34m(values, dtype, copy)\u001b[0m\n\u001b[1;32m    179\u001b[0m     values \u001b[38;5;241m=\u001b[39m values\u001b[38;5;241m.\u001b[39mastype(dtype, copy\u001b[38;5;241m=\u001b[39mcopy)\n\u001b[1;32m    181\u001b[0m \u001b[38;5;28;01melse\u001b[39;00m:\n\u001b[0;32m--> 182\u001b[0m     values \u001b[38;5;241m=\u001b[39m \u001b[43m_astype_nansafe\u001b[49m\u001b[43m(\u001b[49m\u001b[43mvalues\u001b[49m\u001b[43m,\u001b[49m\u001b[43m \u001b[49m\u001b[43mdtype\u001b[49m\u001b[43m,\u001b[49m\u001b[43m \u001b[49m\u001b[43mcopy\u001b[49m\u001b[38;5;241;43m=\u001b[39;49m\u001b[43mcopy\u001b[49m\u001b[43m)\u001b[49m\n\u001b[1;32m    184\u001b[0m \u001b[38;5;66;03m# in pandas we don't store numpy str dtypes, so convert to object\u001b[39;00m\n\u001b[1;32m    185\u001b[0m \u001b[38;5;28;01mif\u001b[39;00m \u001b[38;5;28misinstance\u001b[39m(dtype, np\u001b[38;5;241m.\u001b[39mdtype) \u001b[38;5;129;01mand\u001b[39;00m \u001b[38;5;28missubclass\u001b[39m(values\u001b[38;5;241m.\u001b[39mdtype\u001b[38;5;241m.\u001b[39mtype, \u001b[38;5;28mstr\u001b[39m):\n",
      "File \u001b[0;32m~/miniconda3/envs/mcr-py/lib/python3.11/site-packages/pandas/core/dtypes/astype.py:133\u001b[0m, in \u001b[0;36m_astype_nansafe\u001b[0;34m(arr, dtype, copy, skipna)\u001b[0m\n\u001b[1;32m    129\u001b[0m     \u001b[38;5;28;01mraise\u001b[39;00m \u001b[38;5;167;01mValueError\u001b[39;00m(msg)\n\u001b[1;32m    131\u001b[0m \u001b[38;5;28;01mif\u001b[39;00m copy \u001b[38;5;129;01mor\u001b[39;00m arr\u001b[38;5;241m.\u001b[39mdtype \u001b[38;5;241m==\u001b[39m \u001b[38;5;28mobject\u001b[39m \u001b[38;5;129;01mor\u001b[39;00m dtype \u001b[38;5;241m==\u001b[39m \u001b[38;5;28mobject\u001b[39m:\n\u001b[1;32m    132\u001b[0m     \u001b[38;5;66;03m# Explicit copy, or required since NumPy can't view from / to object.\u001b[39;00m\n\u001b[0;32m--> 133\u001b[0m     \u001b[38;5;28;01mreturn\u001b[39;00m \u001b[43marr\u001b[49m\u001b[38;5;241;43m.\u001b[39;49m\u001b[43mastype\u001b[49m\u001b[43m(\u001b[49m\u001b[43mdtype\u001b[49m\u001b[43m,\u001b[49m\u001b[43m \u001b[49m\u001b[43mcopy\u001b[49m\u001b[38;5;241;43m=\u001b[39;49m\u001b[38;5;28;43;01mTrue\u001b[39;49;00m\u001b[43m)\u001b[49m\n\u001b[1;32m    135\u001b[0m \u001b[38;5;28;01mreturn\u001b[39;00m arr\u001b[38;5;241m.\u001b[39mastype(dtype, copy\u001b[38;5;241m=\u001b[39mcopy)\n",
      "\u001b[0;31mValueError\u001b[0m: invalid literal for int() with base 10: 'de:12054:900230999:1:50'"
     ]
    }
   ],
   "source": [
    "runtimes = {}\n",
    "for key, config in configs.items():\n",
    "    start = datetime.now()\n",
    "    rlog.info(f\"Running MCR5 for {key}\")\n",
    "\n",
    "    config = config()\n",
    "    mcr5 = MCR5(**config[\"init_kwargs\"], max_processes=8)\n",
    "\n",
    "    loaded_at = datetime.now()\n",
    "    load_time = loaded_at - start\n",
    "\n",
    "    output_path = os.path.join(mcr5_output_path, key)\n",
    "\n",
    "    location_mappings = config[\"location_mappings\"]\n",
    "\n",
    "    start_time = config.get(\"start_time\", \"08:00:00\")\n",
    "    errors = mcr5.run(\n",
    "        location_mappings,\n",
    "        start_time=start_time,\n",
    "        output_dir=output_path,\n",
    "        max_transfers=config[\"max_transfers\"],\n",
    "    )\n",
    "\n",
    "    run_time = datetime.now() - loaded_at\n",
    "    total_time = datetime.now() - start\n",
    "    runtimes[key] = {\n",
    "        \"load_time\": load_time,\n",
    "        \"run_time\": run_time,\n",
    "        \"total_time\": total_time,\n",
    "    }\n",
    "\n",
    "with open(os.path.join(mcr5_output_path, \"runtimes.pkl\"), \"wb\") as f:\n",
    "    pickle.dump(runtimes, f)"
   ]
  },
  {
   "cell_type": "code",
   "execution_count": null,
   "metadata": {
    "tags": []
   },
   "outputs": [],
   "source": [
    "print(\"Ready\")"
   ]
  },
  {
   "cell_type": "code",
   "execution_count": null,
   "metadata": {
    "tags": []
   },
   "outputs": [],
   "source": [
    "import pickle\n",
    "import os\n",
    "\n",
    "# errors = storage.read_any_dict(\"../data/mcr5/Koeln/bicycle_public_transport/errors.pkl\")\n",
    "# errors"
   ]
  }
 ],
 "metadata": {
  "kernelspec": {
   "display_name": "mcr-py",
   "language": "python",
   "name": "mcr-py"
  },
  "language_info": {
   "codemirror_mode": {
    "name": "ipython",
    "version": 3
   },
   "file_extension": ".py",
   "mimetype": "text/x-python",
   "name": "python",
   "nbconvert_exporter": "python",
   "pygments_lexer": "ipython3",
   "version": "3.11.7"
  }
 },
 "nbformat": 4,
 "nbformat_minor": 4
}
