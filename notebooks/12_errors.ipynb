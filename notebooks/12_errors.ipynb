{
 "cells": [
  {
   "cell_type": "code",
   "execution_count": 2,
   "metadata": {},
   "outputs": [],
   "source": [
    "import sys\n",
    "\n",
    "sys.path.append(\"../src/\")\n",
    "from package import storage"
   ]
  },
  {
   "cell_type": "code",
   "execution_count": 21,
   "metadata": {},
   "outputs": [],
   "source": [
    "city = \"berlin\"\n",
    "date = \"20240528\"\n",
    "\n",
    "bicycle_pt = \"bicycle_public_transport\"\n",
    "path = \"../data/mcr5\"\n",
    "\n",
    "selected_path = f\"{path}/{city}_{date}/{bicycle_pt}_0/errors.pkl\""
   ]
  },
  {
   "cell_type": "code",
   "execution_count": 22,
   "metadata": {},
   "outputs": [
    {
     "ename": "FileNotFoundError",
     "evalue": "[Errno 2] No such file or directory: '../data/mcr5/berlin_20240528/bicycle_public_transport_0/errors.pkl'",
     "output_type": "error",
     "traceback": [
      "\u001b[0;31m---------------------------------------------------------------------------\u001b[0m",
      "\u001b[0;31mFileNotFoundError\u001b[0m                         Traceback (most recent call last)",
      "Cell \u001b[0;32mIn[22], line 1\u001b[0m\n\u001b[0;32m----> 1\u001b[0m errors \u001b[38;5;241m=\u001b[39m \u001b[43mstorage\u001b[49m\u001b[38;5;241;43m.\u001b[39;49m\u001b[43mread_any_dict\u001b[49m\u001b[43m(\u001b[49m\u001b[43mselected_path\u001b[49m\u001b[43m)\u001b[49m\n",
      "File \u001b[0;32m~/repo/mcr-py/notebooks/../src/package/storage.py:52\u001b[0m, in \u001b[0;36mread_any_dict\u001b[0;34m(path)\u001b[0m\n\u001b[1;32m     51\u001b[0m \u001b[38;5;28;01mdef\u001b[39;00m \u001b[38;5;21mread_any_dict\u001b[39m(path: \u001b[38;5;28mstr\u001b[39m) \u001b[38;5;241m-\u001b[39m\u001b[38;5;241m>\u001b[39m \u001b[38;5;28mdict\u001b[39m[\u001b[38;5;28mstr\u001b[39m, Any]:\n\u001b[0;32m---> 52\u001b[0m     \u001b[38;5;28;01mwith\u001b[39;00m \u001b[38;5;28;43mopen\u001b[39;49m\u001b[43m(\u001b[49m\u001b[43mpath\u001b[49m\u001b[43m,\u001b[49m\u001b[43m \u001b[49m\u001b[38;5;124;43m\"\u001b[39;49m\u001b[38;5;124;43mrb\u001b[39;49m\u001b[38;5;124;43m\"\u001b[39;49m\u001b[43m)\u001b[49m \u001b[38;5;28;01mas\u001b[39;00m f:\n\u001b[1;32m     53\u001b[0m         \u001b[38;5;28;01mreturn\u001b[39;00m pickle\u001b[38;5;241m.\u001b[39mload(f)\n",
      "\u001b[0;31mFileNotFoundError\u001b[0m: [Errno 2] No such file or directory: '../data/mcr5/berlin_20240528/bicycle_public_transport_0/errors.pkl'"
     ]
    }
   ],
   "source": [
    "errors = storage.read_any_dict(selected_path)"
   ]
  },
  {
   "cell_type": "code",
   "execution_count": 20,
   "metadata": {},
   "outputs": [
    {
     "name": "stdout",
     "output_type": "stream",
     "text": [
      "KeyError(521)\n"
     ]
    }
   ],
   "source": [
    "print(errors[0][\"error\"])"
   ]
  },
  {
   "cell_type": "code",
   "execution_count": 17,
   "metadata": {},
   "outputs": [
    {
     "name": "stdout",
     "output_type": "stream",
     "text": [
      "2024-05-07 11:42:57,273 - mcr5-891fa18a0a7ffff - DEBUG - Starting MCR with config: {'disable_paths': True, 'path_manager': None, 'output_format': <OutputFormat.DF_FEATHER: 'df_feather'>, 'logger': <Logger mcr5-891fa18a0a7ffff (DEBUG)>, 'timer': <package.logger.Timer object at 0x75488ce724d0>, 'enable_limit': True, 'initial_steps': [[WalkingStep]], 'repeating_steps': [[BicycleStep, PublicTransportStep], [WalkingStep]]}\n",
      "2024-05-07 11:42:57,273 - mcr5-891fa18a0a7ffff - DEBUG - Starting MCR with config: {'disable_paths': True, 'path_manager': None, 'output_format': <OutputFormat.DF_FEATHER: 'df_feather'>, 'logger': <Logger mcr5-891fa18a0a7ffff (DEBUG)>, 'timer': <package.logger.Timer object at 0x75488ce724d0>, 'enable_limit': True, 'initial_steps': [[WalkingStep]], 'repeating_steps': [[BicycleStep, PublicTransportStep], [WalkingStep]]}\n",
      "2024-05-07 11:42:57,283 - mcr5-891fa18a0a7ffff - INFO - Running initial step\n",
      "2024-05-07 11:42:57,283 - mcr5-891fa18a0a7ffff - INFO - Running initial step\n",
      "2024-05-07 11:42:57,647 - mcr5-891fa18a0a7ffff - INFO - Preparing input for walking step\n",
      "2024-05-07 11:42:57,647 - mcr5-891fa18a0a7ffff - INFO - Preparing input for walking step\n",
      "2024-05-07 11:42:57,647 - mcr5-891fa18a0a7ffff - INFO - Preparing input for walking step done (0.35 seconds)\n",
      "2024-05-07 11:42:57,647 - mcr5-891fa18a0a7ffff - INFO - Preparing input for walking step done (0.35 seconds)\n",
      "2024-05-07 11:42:57,655 - mcr5-891fa18a0a7ffff - INFO - Running walking step\n",
      "2024-05-07 11:42:57,655 - mcr5-891fa18a0a7ffff - INFO - Running walking step\n",
      "2024-05-07 11:42:57,770 - mlc.mlc - DEBUG - mlc config: MLC { debug: false, disable_paths: true, enable_limit: true, update_label_func_defined: false, weight_length: 2, hidden_weights_length: 2 }\n",
      "2024-05-07 11:42:57,777 - mlc.mlc - DEBUG - queue size: 70\n",
      "2024-05-07 11:42:57,781 - mlc.mlc - DEBUG - 110 labels were discarded because they exceeded the limit\n",
      "2024-05-07 11:42:57,790 - mcr5-891fa18a0a7ffff - INFO - Running walking step done (0.14 seconds)\n",
      "2024-05-07 11:42:57,790 - mcr5-891fa18a0a7ffff - INFO - Running walking step done (0.14 seconds)\n",
      "2024-05-07 11:42:57,799 - mcr5-891fa18a0a7ffff - INFO - Extracting walking step bags\n",
      "2024-05-07 11:42:57,799 - mcr5-891fa18a0a7ffff - INFO - Extracting walking step bags\n",
      "2024-05-07 11:42:57,811 - mcr5-891fa18a0a7ffff - DEBUG - Extracted 1780 bags from walking step\n",
      "2024-05-07 11:42:57,811 - mcr5-891fa18a0a7ffff - DEBUG - Extracted 1780 bags from walking step\n",
      "2024-05-07 11:42:57,812 - mcr5-891fa18a0a7ffff - INFO - Extracting walking step bags done (0.02 seconds)\n",
      "2024-05-07 11:42:57,812 - mcr5-891fa18a0a7ffff - INFO - Extracting walking step bags done (0.02 seconds)\n",
      "2024-05-07 11:42:57,813 - mcr5-891fa18a0a7ffff - INFO - Running iteration 1\n",
      "2024-05-07 11:42:57,813 - mcr5-891fa18a0a7ffff - INFO - Running iteration 1\n",
      "2024-05-07 11:42:57,822 - mcr5-891fa18a0a7ffff - INFO - Preparing input for bicycle step\n",
      "2024-05-07 11:42:57,822 - mcr5-891fa18a0a7ffff - INFO - Preparing input for bicycle step\n",
      "2024-05-07 11:42:57,827 - mcr5-891fa18a0a7ffff - INFO - Preparing input for bicycle step done (0.01 seconds)\n",
      "2024-05-07 11:42:57,827 - mcr5-891fa18a0a7ffff - INFO - Preparing input for bicycle step done (0.01 seconds)\n",
      "2024-05-07 11:42:57,835 - mcr5-891fa18a0a7ffff - INFO - Running bicycle step\n",
      "2024-05-07 11:42:57,835 - mcr5-891fa18a0a7ffff - INFO - Running bicycle step\n",
      "2024-05-07 11:42:58,122 - mlc.mlc - DEBUG - mlc config: MLC { debug: false, disable_paths: true, enable_limit: true, update_label_func_defined: true, weight_length: 2, hidden_weights_length: 2 }\n",
      "2024-05-07 11:42:58,134 - mlc.mlc - DEBUG - queue size: 148\n",
      "2024-05-07 11:42:58,146 - mlc.mlc - DEBUG - queue size: 262\n",
      "2024-05-07 11:42:58,157 - mlc.mlc - DEBUG - queue size: 389\n",
      "2024-05-07 11:42:58,167 - mlc.mlc - DEBUG - queue size: 77\n",
      "2024-05-07 11:42:58,175 - mlc.mlc - DEBUG - 487 labels were discarded because they exceeded the limit\n",
      "2024-05-07 11:42:58,199 - mcr5-891fa18a0a7ffff - INFO - Running bicycle step done (0.37 seconds)\n",
      "2024-05-07 11:42:58,199 - mcr5-891fa18a0a7ffff - INFO - Running bicycle step done (0.37 seconds)\n",
      "2024-05-07 11:42:58,208 - mcr5-891fa18a0a7ffff - INFO - Extracting bicycle step bags\n",
      "2024-05-07 11:42:58,208 - mcr5-891fa18a0a7ffff - INFO - Extracting bicycle step bags\n",
      "2024-05-07 11:42:58,229 - mcr5-891fa18a0a7ffff - DEBUG - Extracted 1749 bags from bicycle step\n",
      "2024-05-07 11:42:58,229 - mcr5-891fa18a0a7ffff - DEBUG - Extracted 1749 bags from bicycle step\n",
      "2024-05-07 11:42:58,229 - mcr5-891fa18a0a7ffff - INFO - Extracting bicycle step bags done (0.03 seconds)\n",
      "2024-05-07 11:42:58,229 - mcr5-891fa18a0a7ffff - INFO - Extracting bicycle step bags done (0.03 seconds)\n",
      "2024-05-07 11:42:58,242 - mcr5-891fa18a0a7ffff - INFO - Preparing input for MCRAPTOR step\n",
      "2024-05-07 11:42:58,242 - mcr5-891fa18a0a7ffff - INFO - Preparing input for MCRAPTOR step\n",
      "2024-05-07 11:42:58,243 - mcr5-891fa18a0a7ffff - INFO - Preparing input for MCRAPTOR step done (0.01 seconds)\n",
      "2024-05-07 11:42:58,243 - mcr5-891fa18a0a7ffff - INFO - Preparing input for MCRAPTOR step done (0.01 seconds)\n",
      "2024-05-07 11:42:58,251 - mcr5-891fa18a0a7ffff - INFO - Running MCRAPTOR step\n",
      "2024-05-07 11:42:58,251 - mcr5-891fa18a0a7ffff - INFO - Running MCRAPTOR step\n",
      "2024-05-07 11:42:58,253 - rich - DEBUG - Added 1822 missing stops to bags (99.84%)\n",
      "2024-05-07 11:42:58,302 - mcr5-891fa18a0a7ffff - INFO - Running MCRAPTOR step done (0.06 seconds)\n",
      "2024-05-07 11:42:58,302 - mcr5-891fa18a0a7ffff - INFO - Running MCRAPTOR step done (0.06 seconds)\n",
      "2024-05-07 11:42:58,311 - mcr5-891fa18a0a7ffff - INFO - Extracting MCRAPTOR step bags\n",
      "2024-05-07 11:42:58,311 - mcr5-891fa18a0a7ffff - INFO - Extracting MCRAPTOR step bags\n",
      "2024-05-07 11:42:58,311 - mcr5-891fa18a0a7ffff - INFO - Extracting MCRAPTOR step bags failed (0.01 seconds)\n",
      "2024-05-07 11:42:58,311 - mcr5-891fa18a0a7ffff - INFO - Extracting MCRAPTOR step bags failed (0.01 seconds)\n",
      "\n"
     ]
    }
   ],
   "source": [
    "print(errors[0][\"logs\"])"
   ]
  },
  {
   "cell_type": "code",
   "execution_count": null,
   "metadata": {},
   "outputs": [],
   "source": []
  }
 ],
 "metadata": {
  "kernelspec": {
   "display_name": "mcr-py",
   "language": "python",
   "name": "python3"
  },
  "language_info": {
   "codemirror_mode": {
    "name": "ipython",
    "version": 3
   },
   "file_extension": ".py",
   "mimetype": "text/x-python",
   "name": "python",
   "nbconvert_exporter": "python",
   "pygments_lexer": "ipython3",
   "version": "3.11.7"
  }
 },
 "nbformat": 4,
 "nbformat_minor": 2
}
