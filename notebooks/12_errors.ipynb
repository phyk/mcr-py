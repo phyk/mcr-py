{
    "cells": [
        {
            "cell_type": "code",
            "execution_count": 1,
            "metadata": {},
            "outputs": [],
            "source": [
                "import sys\n",
                "\n",
                "sys.path.append(\"../src/\")\n",
                "from mcr_py.package import storage"
            ]
        },
        {
            "cell_type": "code",
            "execution_count": 2,
            "metadata": {},
            "outputs": [],
            "source": [
                "city = \"cologne\"\n",
                "date = \"20240528\"\n",
                "\n",
                "bicycle_pt = \"walking\"\n",
                "path = \"../data/mcr5\"\n",
                "\n",
                "selected_path = f\"{path}/{city}_{date}/{bicycle_pt}/errors.pkl\""
            ]
        },
        {
            "cell_type": "code",
            "execution_count": 3,
            "metadata": {},
            "outputs": [],
            "source": [
                "errors = storage.read_any_dict(selected_path)"
            ]
        },
        {
            "cell_type": "code",
            "execution_count": 4,
            "metadata": {},
            "outputs": [
                {
                    "name": "stdout",
                    "output_type": "stream",
                    "text": [
                        "KeyError(3698801653)\n"
                    ]
                }
            ],
            "source": [
                "print(errors[0][\"error\"])"
            ]
        },
        {
            "cell_type": "code",
            "execution_count": 5,
            "metadata": {},
            "outputs": [
                {
                    "name": "stdout",
                    "output_type": "stream",
                    "text": [
                        "2024-05-09 00:59:57,964 - mcr5-891fa198093ffff - DEBUG - Starting MCR with config: {'disable_paths': True, 'path_manager': None, 'output_format': <OutputFormat.DF_FEATHER: 'df_feather'>, 'logger': <Logger mcr5-891fa198093ffff (DEBUG)>, 'timer': <package.logger.Timer object at 0x7f7ab8356950>, 'enable_limit': True, 'initial_steps': [[WalkingStep]], 'repeating_steps': []}\n",
                        "2024-05-09 00:59:57,964 - mcr5-891fa198093ffff - DEBUG - Starting MCR with config: {'disable_paths': True, 'path_manager': None, 'output_format': <OutputFormat.DF_FEATHER: 'df_feather'>, 'logger': <Logger mcr5-891fa198093ffff (DEBUG)>, 'timer': <package.logger.Timer object at 0x7f7ab8356950>, 'enable_limit': True, 'initial_steps': [[WalkingStep]], 'repeating_steps': []}\n",
                        "2024-05-09 00:59:57,964 - mcr5-891fa198093ffff - INFO - Running initial step\n",
                        "2024-05-09 00:59:57,964 - mcr5-891fa198093ffff - INFO - Running initial step\n",
                        "2024-05-09 00:59:57,978 - mcr5-891fa198093ffff - INFO - Preparing input for walking step\n",
                        "2024-05-09 00:59:57,978 - mcr5-891fa198093ffff - INFO - Preparing input for walking step\n",
                        "2024-05-09 00:59:57,979 - mcr5-891fa198093ffff - INFO - Preparing input for walking step failed (0.01 seconds)\n",
                        "2024-05-09 00:59:57,979 - mcr5-891fa198093ffff - INFO - Preparing input for walking step failed (0.01 seconds)\n",
                        "\n"
                    ]
                }
            ],
            "source": [
                "print(errors[0][\"logs\"])"
            ]
        },
        {
            "cell_type": "code",
            "execution_count": null,
            "metadata": {},
            "outputs": [],
            "source": []
        }
    ],
    "metadata": {
        "kernelspec": {
            "display_name": "mcr-py",
            "language": "python",
            "name": "python3"
        },
        "language_info": {
            "codemirror_mode": {
                "name": "ipython",
                "version": 3
            },
            "file_extension": ".py",
            "mimetype": "text/x-python",
            "name": "python",
            "nbconvert_exporter": "python",
            "pygments_lexer": "ipython3",
            "version": "3.11.9"
        }
    },
    "nbformat": 4,
    "nbformat_minor": 2
}