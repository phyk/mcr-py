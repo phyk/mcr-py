{
 "cells": [
  {
   "cell_type": "code",
   "execution_count": 3,
   "metadata": {},
   "outputs": [],
   "source": [
    "%load_ext autoreload\n",
    "%autoreload 2\n",
    "import sys\n",
    "\n",
    "import folium\n",
    "import h3\n",
    "from shapely.geometry import Polygon\n",
    "\n",
    "sys.path.append(\"../src/\")\n",
    "from package import storage\n",
    "from package.geometa import GeoMeta\n",
    "from package.h3 import plot_h3_cells_on_folium\n",
    "from package.logger import setup\n",
    "from package.mcr.data import NetworkType, OSMData\n",
    "from package.mcr5.h3 import (\n",
    "    get_h3_cells_for_nodes,\n",
    ")\n",
    "from package.mcr5.h3_osm_interaction import get_location_mappings_for_cells\n",
    "\n",
    "setup(\"INFO\")"
   ]
  },
  {
   "cell_type": "code",
   "execution_count": 16,
   "metadata": {},
   "outputs": [],
   "source": [
    "city_name = \"berlin\"\n",
    "geo_meta_path = f\"../data/stateful_variables/{city_name}_geometa.pkl\"\n",
    "city_id = \"berlin\"\n",
    "locations_dict_path = f\"../data/city_data/location_mappings_{city_name}.pkl\""
   ]
  },
  {
   "cell_type": "code",
   "execution_count": 17,
   "metadata": {},
   "outputs": [
    {
     "data": {
      "text/html": [
       "<pre style=\"white-space:pre;overflow-x:auto;line-height:normal;font-family:Menlo,'DejaVu Sans Mono',consolas,'Courier New',monospace\"><span style=\"color: #7fbfbf; text-decoration-color: #7fbfbf\">[10:53:34] </span><span style=\"color: #000080; text-decoration-color: #000080\">INFO    </span> Downloading OSM data                                                                 <a href=\"file:///home/ppeter/repo/mcr-py/notebooks/../src/package/osm/osm.py\" target=\"_blank\"><span style=\"color: #7f7f7f; text-decoration-color: #7f7f7f\">osm.py</span></a><span style=\"color: #7f7f7f; text-decoration-color: #7f7f7f\">:</span><a href=\"file:///home/ppeter/repo/mcr-py/notebooks/../src/package/osm/osm.py#102\" target=\"_blank\"><span style=\"color: #7f7f7f; text-decoration-color: #7f7f7f\">102</span></a>\n",
       "</pre>\n"
      ],
      "text/plain": [
       "\u001b[2;36m[10:53:34]\u001b[0m\u001b[2;36m \u001b[0m\u001b[34mINFO    \u001b[0m Downloading OSM data                                                                 \u001b]8;id=640338;file:///home/ppeter/repo/mcr-py/notebooks/../src/package/osm/osm.py\u001b\\\u001b[2mosm.py\u001b[0m\u001b]8;;\u001b\\\u001b[2m:\u001b[0m\u001b]8;id=378442;file:///home/ppeter/repo/mcr-py/notebooks/../src/package/osm/osm.py#102\u001b\\\u001b[2m102\u001b[0m\u001b]8;;\u001b\\\n"
      ]
     },
     "metadata": {},
     "output_type": "display_data"
    },
    {
     "name": "stdout",
     "output_type": "stream",
     "text": [
      "Downloaded Protobuf data 'Berlin.osm.pbf' (101.54 MB) to:\n",
      "'/tmp/pyrosm/Berlin.osm.pbf'\n"
     ]
    },
    {
     "data": {
      "text/html": [
       "<pre style=\"white-space:pre;overflow-x:auto;line-height:normal;font-family:Menlo,'DejaVu Sans Mono',consolas,'Courier New',monospace\"><span style=\"color: #7fbfbf; text-decoration-color: #7fbfbf\">[10:53:44] </span><span style=\"color: #000080; text-decoration-color: #000080\">INFO    </span> Downloading OSM data done <span style=\"font-weight: bold\">(</span><span style=\"color: #008080; text-decoration-color: #008080; font-weight: bold\">9.45</span> seconds<span style=\"font-weight: bold\">)</span>                                             <a href=\"file:///home/ppeter/repo/mcr-py/notebooks/../src/package/osm/osm.py\" target=\"_blank\"><span style=\"color: #7f7f7f; text-decoration-color: #7f7f7f\">osm.py</span></a><span style=\"color: #7f7f7f; text-decoration-color: #7f7f7f\">:</span><a href=\"file:///home/ppeter/repo/mcr-py/notebooks/../src/package/osm/osm.py#102\" target=\"_blank\"><span style=\"color: #7f7f7f; text-decoration-color: #7f7f7f\">102</span></a>\n",
       "</pre>\n"
      ],
      "text/plain": [
       "\u001b[2;36m[10:53:44]\u001b[0m\u001b[2;36m \u001b[0m\u001b[34mINFO    \u001b[0m Downloading OSM data done \u001b[1m(\u001b[0m\u001b[1;36m9.45\u001b[0m seconds\u001b[1m)\u001b[0m                                             \u001b]8;id=262608;file:///home/ppeter/repo/mcr-py/notebooks/../src/package/osm/osm.py\u001b\\\u001b[2mosm.py\u001b[0m\u001b]8;;\u001b\\\u001b[2m:\u001b[0m\u001b]8;id=492516;file:///home/ppeter/repo/mcr-py/notebooks/../src/package/osm/osm.py#102\u001b\\\u001b[2m102\u001b[0m\u001b]8;;\u001b\\\n"
      ]
     },
     "metadata": {},
     "output_type": "display_data"
    },
    {
     "data": {
      "text/html": [
       "<pre style=\"white-space:pre;overflow-x:auto;line-height:normal;font-family:Menlo,'DejaVu Sans Mono',consolas,'Courier New',monospace\"><span style=\"color: #7fbfbf; text-decoration-color: #7fbfbf\">           </span><span style=\"color: #000080; text-decoration-color: #000080\">INFO    </span> Reading OSM network <span style=\"font-weight: bold\">(</span>walking<span style=\"font-weight: bold\">)</span>                                                         <a href=\"file:///home/ppeter/repo/mcr-py/notebooks/../src/package/osm/osm.py\" target=\"_blank\"><span style=\"color: #7f7f7f; text-decoration-color: #7f7f7f\">osm.py</span></a><span style=\"color: #7f7f7f; text-decoration-color: #7f7f7f\">:</span><a href=\"file:///home/ppeter/repo/mcr-py/notebooks/../src/package/osm/osm.py#73\" target=\"_blank\"><span style=\"color: #7f7f7f; text-decoration-color: #7f7f7f\">73</span></a>\n",
       "</pre>\n"
      ],
      "text/plain": [
       "\u001b[2;36m          \u001b[0m\u001b[2;36m \u001b[0m\u001b[34mINFO    \u001b[0m Reading OSM network \u001b[1m(\u001b[0mwalking\u001b[1m)\u001b[0m                                                         \u001b]8;id=627876;file:///home/ppeter/repo/mcr-py/notebooks/../src/package/osm/osm.py\u001b\\\u001b[2mosm.py\u001b[0m\u001b]8;;\u001b\\\u001b[2m:\u001b[0m\u001b]8;id=631882;file:///home/ppeter/repo/mcr-py/notebooks/../src/package/osm/osm.py#73\u001b\\\u001b[2m73\u001b[0m\u001b]8;;\u001b\\\n"
      ]
     },
     "metadata": {},
     "output_type": "display_data"
    },
    {
     "data": {
      "text/html": [
       "<pre style=\"white-space:pre;overflow-x:auto;line-height:normal;font-family:Menlo,'DejaVu Sans Mono',consolas,'Courier New',monospace\"><span style=\"color: #7fbfbf; text-decoration-color: #7fbfbf\">[10:55:42] </span><span style=\"color: #000080; text-decoration-color: #000080\">INFO    </span> Reading OSM network <span style=\"font-weight: bold\">(</span>walking<span style=\"font-weight: bold\">)</span> done <span style=\"font-weight: bold\">(</span><span style=\"color: #00ff00; text-decoration-color: #00ff00; font-weight: bold\">1:57</span> minutes<span style=\"font-weight: bold\">)</span>                                     <a href=\"file:///home/ppeter/repo/mcr-py/notebooks/../src/package/osm/osm.py\" target=\"_blank\"><span style=\"color: #7f7f7f; text-decoration-color: #7f7f7f\">osm.py</span></a><span style=\"color: #7f7f7f; text-decoration-color: #7f7f7f\">:</span><a href=\"file:///home/ppeter/repo/mcr-py/notebooks/../src/package/osm/osm.py#73\" target=\"_blank\"><span style=\"color: #7f7f7f; text-decoration-color: #7f7f7f\">73</span></a>\n",
       "</pre>\n"
      ],
      "text/plain": [
       "\u001b[2;36m[10:55:42]\u001b[0m\u001b[2;36m \u001b[0m\u001b[34mINFO    \u001b[0m Reading OSM network \u001b[1m(\u001b[0mwalking\u001b[1m)\u001b[0m done \u001b[1m(\u001b[0m\u001b[1;92m1:57\u001b[0m minutes\u001b[1m)\u001b[0m                                     \u001b]8;id=915134;file:///home/ppeter/repo/mcr-py/notebooks/../src/package/osm/osm.py\u001b\\\u001b[2mosm.py\u001b[0m\u001b]8;;\u001b\\\u001b[2m:\u001b[0m\u001b]8;id=494929;file:///home/ppeter/repo/mcr-py/notebooks/../src/package/osm/osm.py#73\u001b\\\u001b[2m73\u001b[0m\u001b]8;;\u001b\\\n"
      ]
     },
     "metadata": {},
     "output_type": "display_data"
    },
    {
     "data": {
      "text/html": [
       "<pre style=\"white-space:pre;overflow-x:auto;line-height:normal;font-family:Menlo,'DejaVu Sans Mono',consolas,'Courier New',monospace\"><span style=\"color: #7fbfbf; text-decoration-color: #7fbfbf\">           </span><span style=\"color: #000080; text-decoration-color: #000080\">INFO    </span> Cropping OSM network to boundary                                                      <a href=\"file:///home/ppeter/repo/mcr-py/notebooks/../src/package/osm/osm.py\" target=\"_blank\"><span style=\"color: #7f7f7f; text-decoration-color: #7f7f7f\">osm.py</span></a><span style=\"color: #7f7f7f; text-decoration-color: #7f7f7f\">:</span><a href=\"file:///home/ppeter/repo/mcr-py/notebooks/../src/package/osm/osm.py#76\" target=\"_blank\"><span style=\"color: #7f7f7f; text-decoration-color: #7f7f7f\">76</span></a>\n",
       "</pre>\n"
      ],
      "text/plain": [
       "\u001b[2;36m          \u001b[0m\u001b[2;36m \u001b[0m\u001b[34mINFO    \u001b[0m Cropping OSM network to boundary                                                      \u001b]8;id=258356;file:///home/ppeter/repo/mcr-py/notebooks/../src/package/osm/osm.py\u001b\\\u001b[2mosm.py\u001b[0m\u001b]8;;\u001b\\\u001b[2m:\u001b[0m\u001b]8;id=907863;file:///home/ppeter/repo/mcr-py/notebooks/../src/package/osm/osm.py#76\u001b\\\u001b[2m76\u001b[0m\u001b]8;;\u001b\\\n"
      ]
     },
     "metadata": {},
     "output_type": "display_data"
    },
    {
     "data": {
      "text/html": [
       "<pre style=\"white-space:pre;overflow-x:auto;line-height:normal;font-family:Menlo,'DejaVu Sans Mono',consolas,'Courier New',monospace\"><span style=\"color: #7fbfbf; text-decoration-color: #7fbfbf\">[10:57:19] </span><span style=\"color: #000080; text-decoration-color: #000080\">INFO    </span> Cropping OSM network to boundary done <span style=\"font-weight: bold\">(</span><span style=\"color: #00ff00; text-decoration-color: #00ff00; font-weight: bold\">1:37</span> minutes<span style=\"font-weight: bold\">)</span>                                  <a href=\"file:///home/ppeter/repo/mcr-py/notebooks/../src/package/osm/osm.py\" target=\"_blank\"><span style=\"color: #7f7f7f; text-decoration-color: #7f7f7f\">osm.py</span></a><span style=\"color: #7f7f7f; text-decoration-color: #7f7f7f\">:</span><a href=\"file:///home/ppeter/repo/mcr-py/notebooks/../src/package/osm/osm.py#76\" target=\"_blank\"><span style=\"color: #7f7f7f; text-decoration-color: #7f7f7f\">76</span></a>\n",
       "</pre>\n"
      ],
      "text/plain": [
       "\u001b[2;36m[10:57:19]\u001b[0m\u001b[2;36m \u001b[0m\u001b[34mINFO    \u001b[0m Cropping OSM network to boundary done \u001b[1m(\u001b[0m\u001b[1;92m1:37\u001b[0m minutes\u001b[1m)\u001b[0m                                  \u001b]8;id=824657;file:///home/ppeter/repo/mcr-py/notebooks/../src/package/osm/osm.py\u001b\\\u001b[2mosm.py\u001b[0m\u001b]8;;\u001b\\\u001b[2m:\u001b[0m\u001b]8;id=144175;file:///home/ppeter/repo/mcr-py/notebooks/../src/package/osm/osm.py#76\u001b\\\u001b[2m76\u001b[0m\u001b]8;;\u001b\\\n"
      ]
     },
     "metadata": {},
     "output_type": "display_data"
    },
    {
     "data": {
      "text/html": [
       "<pre style=\"white-space:pre;overflow-x:auto;line-height:normal;font-family:Menlo,'DejaVu Sans Mono',consolas,'Courier New',monospace\"><span style=\"color: #7fbfbf; text-decoration-color: #7fbfbf\">           </span><span style=\"color: #000080; text-decoration-color: #000080\">INFO    </span> Ensuring graph is connected                                                           <a href=\"file:///home/ppeter/repo/mcr-py/notebooks/../src/package/osm/osm.py\" target=\"_blank\"><span style=\"color: #7f7f7f; text-decoration-color: #7f7f7f\">osm.py</span></a><span style=\"color: #7f7f7f; text-decoration-color: #7f7f7f\">:</span><a href=\"file:///home/ppeter/repo/mcr-py/notebooks/../src/package/osm/osm.py#80\" target=\"_blank\"><span style=\"color: #7f7f7f; text-decoration-color: #7f7f7f\">80</span></a>\n",
       "</pre>\n"
      ],
      "text/plain": [
       "\u001b[2;36m          \u001b[0m\u001b[2;36m \u001b[0m\u001b[34mINFO    \u001b[0m Ensuring graph is connected                                                           \u001b]8;id=348817;file:///home/ppeter/repo/mcr-py/notebooks/../src/package/osm/osm.py\u001b\\\u001b[2mosm.py\u001b[0m\u001b]8;;\u001b\\\u001b[2m:\u001b[0m\u001b]8;id=207615;file:///home/ppeter/repo/mcr-py/notebooks/../src/package/osm/osm.py#80\u001b\\\u001b[2m80\u001b[0m\u001b]8;;\u001b\\\n"
      ]
     },
     "metadata": {},
     "output_type": "display_data"
    },
    {
     "data": {
      "text/html": [
       "<pre style=\"white-space:pre;overflow-x:auto;line-height:normal;font-family:Menlo,'DejaVu Sans Mono',consolas,'Courier New',monospace\"><span style=\"color: #7fbfbf; text-decoration-color: #7fbfbf\">[11:00:07] </span><span style=\"color: #000080; text-decoration-color: #000080\">INFO    </span> Removed <span style=\"color: #008080; text-decoration-color: #008080; font-weight: bold\">10207</span> nodes from OSM network to ensure connectivity <span style=\"font-weight: bold\">(</span><span style=\"color: #008080; text-decoration-color: #008080; font-weight: bold\">0.77</span>%<span style=\"font-weight: bold\">)</span>                   <a href=\"file:///home/ppeter/repo/mcr-py/notebooks/../src/package/osm/osm.py\" target=\"_blank\"><span style=\"color: #7f7f7f; text-decoration-color: #7f7f7f\">osm.py</span></a><span style=\"color: #7f7f7f; text-decoration-color: #7f7f7f\">:</span><a href=\"file:///home/ppeter/repo/mcr-py/notebooks/../src/package/osm/osm.py#80\" target=\"_blank\"><span style=\"color: #7f7f7f; text-decoration-color: #7f7f7f\">80</span></a>\n",
       "</pre>\n"
      ],
      "text/plain": [
       "\u001b[2;36m[11:00:07]\u001b[0m\u001b[2;36m \u001b[0m\u001b[34mINFO    \u001b[0m Removed \u001b[1;36m10207\u001b[0m nodes from OSM network to ensure connectivity \u001b[1m(\u001b[0m\u001b[1;36m0.77\u001b[0m%\u001b[1m)\u001b[0m                   \u001b]8;id=613775;file:///home/ppeter/repo/mcr-py/notebooks/../src/package/osm/osm.py\u001b\\\u001b[2mosm.py\u001b[0m\u001b]8;;\u001b\\\u001b[2m:\u001b[0m\u001b]8;id=562573;file:///home/ppeter/repo/mcr-py/notebooks/../src/package/osm/osm.py#80\u001b\\\u001b[2m80\u001b[0m\u001b]8;;\u001b\\\n"
      ]
     },
     "metadata": {},
     "output_type": "display_data"
    },
    {
     "data": {
      "text/html": [
       "<pre style=\"white-space:pre;overflow-x:auto;line-height:normal;font-family:Menlo,'DejaVu Sans Mono',consolas,'Courier New',monospace\"><span style=\"color: #7fbfbf; text-decoration-color: #7fbfbf\">           </span><span style=\"color: #000080; text-decoration-color: #000080\">INFO    </span> Ensuring graph is connected done <span style=\"font-weight: bold\">(</span><span style=\"color: #00ff00; text-decoration-color: #00ff00; font-weight: bold\">2:48</span> minutes<span style=\"font-weight: bold\">)</span>                                       <a href=\"file:///home/ppeter/repo/mcr-py/notebooks/../src/package/osm/osm.py\" target=\"_blank\"><span style=\"color: #7f7f7f; text-decoration-color: #7f7f7f\">osm.py</span></a><span style=\"color: #7f7f7f; text-decoration-color: #7f7f7f\">:</span><a href=\"file:///home/ppeter/repo/mcr-py/notebooks/../src/package/osm/osm.py#80\" target=\"_blank\"><span style=\"color: #7f7f7f; text-decoration-color: #7f7f7f\">80</span></a>\n",
       "</pre>\n"
      ],
      "text/plain": [
       "\u001b[2;36m          \u001b[0m\u001b[2;36m \u001b[0m\u001b[34mINFO    \u001b[0m Ensuring graph is connected done \u001b[1m(\u001b[0m\u001b[1;92m2:48\u001b[0m minutes\u001b[1m)\u001b[0m                                       \u001b]8;id=705466;file:///home/ppeter/repo/mcr-py/notebooks/../src/package/osm/osm.py\u001b\\\u001b[2mosm.py\u001b[0m\u001b]8;;\u001b\\\u001b[2m:\u001b[0m\u001b]8;id=817558;file:///home/ppeter/repo/mcr-py/notebooks/../src/package/osm/osm.py#80\u001b\\\u001b[2m80\u001b[0m\u001b]8;;\u001b\\\n"
      ]
     },
     "metadata": {},
     "output_type": "display_data"
    },
    {
     "data": {
      "text/html": [
       "<pre style=\"white-space:pre;overflow-x:auto;line-height:normal;font-family:Menlo,'DejaVu Sans Mono',consolas,'Courier New',monospace\"><span style=\"color: #7fbfbf; text-decoration-color: #7fbfbf\">           </span><span style=\"color: #000080; text-decoration-color: #000080\">INFO    </span> Caching OSM network                                                                   <a href=\"file:///home/ppeter/repo/mcr-py/notebooks/../src/package/osm/osm.py\" target=\"_blank\"><span style=\"color: #7f7f7f; text-decoration-color: #7f7f7f\">osm.py</span></a><span style=\"color: #7f7f7f; text-decoration-color: #7f7f7f\">:</span><a href=\"file:///home/ppeter/repo/mcr-py/notebooks/../src/package/osm/osm.py#91\" target=\"_blank\"><span style=\"color: #7f7f7f; text-decoration-color: #7f7f7f\">91</span></a>\n",
       "</pre>\n"
      ],
      "text/plain": [
       "\u001b[2;36m          \u001b[0m\u001b[2;36m \u001b[0m\u001b[34mINFO    \u001b[0m Caching OSM network                                                                   \u001b]8;id=533817;file:///home/ppeter/repo/mcr-py/notebooks/../src/package/osm/osm.py\u001b\\\u001b[2mosm.py\u001b[0m\u001b]8;;\u001b\\\u001b[2m:\u001b[0m\u001b]8;id=236796;file:///home/ppeter/repo/mcr-py/notebooks/../src/package/osm/osm.py#91\u001b\\\u001b[2m91\u001b[0m\u001b]8;;\u001b\\\n"
      ]
     },
     "metadata": {},
     "output_type": "display_data"
    },
    {
     "data": {
      "text/html": [
       "<pre style=\"white-space:pre;overflow-x:auto;line-height:normal;font-family:Menlo,'DejaVu Sans Mono',consolas,'Courier New',monospace\"><span style=\"color: #7fbfbf; text-decoration-color: #7fbfbf\">[11:00:29] </span><span style=\"color: #000080; text-decoration-color: #000080\">INFO    </span> Caching OSM network done <span style=\"font-weight: bold\">(</span><span style=\"color: #008080; text-decoration-color: #008080; font-weight: bold\">22.35</span> seconds<span style=\"font-weight: bold\">)</span>                                              <a href=\"file:///home/ppeter/repo/mcr-py/notebooks/../src/package/osm/osm.py\" target=\"_blank\"><span style=\"color: #7f7f7f; text-decoration-color: #7f7f7f\">osm.py</span></a><span style=\"color: #7f7f7f; text-decoration-color: #7f7f7f\">:</span><a href=\"file:///home/ppeter/repo/mcr-py/notebooks/../src/package/osm/osm.py#91\" target=\"_blank\"><span style=\"color: #7f7f7f; text-decoration-color: #7f7f7f\">91</span></a>\n",
       "</pre>\n"
      ],
      "text/plain": [
       "\u001b[2;36m[11:00:29]\u001b[0m\u001b[2;36m \u001b[0m\u001b[34mINFO    \u001b[0m Caching OSM network done \u001b[1m(\u001b[0m\u001b[1;36m22.35\u001b[0m seconds\u001b[1m)\u001b[0m                                              \u001b]8;id=533290;file:///home/ppeter/repo/mcr-py/notebooks/../src/package/osm/osm.py\u001b\\\u001b[2mosm.py\u001b[0m\u001b]8;;\u001b\\\u001b[2m:\u001b[0m\u001b]8;id=461638;file:///home/ppeter/repo/mcr-py/notebooks/../src/package/osm/osm.py#91\u001b\\\u001b[2m91\u001b[0m\u001b]8;;\u001b\\\n"
      ]
     },
     "metadata": {},
     "output_type": "display_data"
    },
    {
     "data": {
      "text/html": [
       "<pre style=\"white-space:pre;overflow-x:auto;line-height:normal;font-family:Menlo,'DejaVu Sans Mono',consolas,'Courier New',monospace\"><span style=\"color: #7fbfbf; text-decoration-color: #7fbfbf\">[11:02:41] </span><span style=\"color: #000080; text-decoration-color: #000080\">INFO    </span> Using existing OSM data                                                              <a href=\"file:///home/ppeter/repo/mcr-py/notebooks/../src/package/osm/osm.py\" target=\"_blank\"><span style=\"color: #7f7f7f; text-decoration-color: #7f7f7f\">osm.py</span></a><span style=\"color: #7f7f7f; text-decoration-color: #7f7f7f\">:</span><a href=\"file:///home/ppeter/repo/mcr-py/notebooks/../src/package/osm/osm.py#105\" target=\"_blank\"><span style=\"color: #7f7f7f; text-decoration-color: #7f7f7f\">105</span></a>\n",
       "</pre>\n"
      ],
      "text/plain": [
       "\u001b[2;36m[11:02:41]\u001b[0m\u001b[2;36m \u001b[0m\u001b[34mINFO    \u001b[0m Using existing OSM data                                                              \u001b]8;id=665586;file:///home/ppeter/repo/mcr-py/notebooks/../src/package/osm/osm.py\u001b\\\u001b[2mosm.py\u001b[0m\u001b]8;;\u001b\\\u001b[2m:\u001b[0m\u001b]8;id=489424;file:///home/ppeter/repo/mcr-py/notebooks/../src/package/osm/osm.py#105\u001b\\\u001b[2m105\u001b[0m\u001b]8;;\u001b\\\n"
      ]
     },
     "metadata": {},
     "output_type": "display_data"
    },
    {
     "data": {
      "text/html": [
       "<pre style=\"white-space:pre;overflow-x:auto;line-height:normal;font-family:Menlo,'DejaVu Sans Mono',consolas,'Courier New',monospace\"><span style=\"color: #7fbfbf; text-decoration-color: #7fbfbf\">           </span><span style=\"color: #000080; text-decoration-color: #000080\">INFO    </span> Reading OSM network <span style=\"font-weight: bold\">(</span>driving<span style=\"font-weight: bold\">)</span>                                                         <a href=\"file:///home/ppeter/repo/mcr-py/notebooks/../src/package/osm/osm.py\" target=\"_blank\"><span style=\"color: #7f7f7f; text-decoration-color: #7f7f7f\">osm.py</span></a><span style=\"color: #7f7f7f; text-decoration-color: #7f7f7f\">:</span><a href=\"file:///home/ppeter/repo/mcr-py/notebooks/../src/package/osm/osm.py#73\" target=\"_blank\"><span style=\"color: #7f7f7f; text-decoration-color: #7f7f7f\">73</span></a>\n",
       "</pre>\n"
      ],
      "text/plain": [
       "\u001b[2;36m          \u001b[0m\u001b[2;36m \u001b[0m\u001b[34mINFO    \u001b[0m Reading OSM network \u001b[1m(\u001b[0mdriving\u001b[1m)\u001b[0m                                                         \u001b]8;id=214436;file:///home/ppeter/repo/mcr-py/notebooks/../src/package/osm/osm.py\u001b\\\u001b[2mosm.py\u001b[0m\u001b]8;;\u001b\\\u001b[2m:\u001b[0m\u001b]8;id=315823;file:///home/ppeter/repo/mcr-py/notebooks/../src/package/osm/osm.py#73\u001b\\\u001b[2m73\u001b[0m\u001b]8;;\u001b\\\n"
      ]
     },
     "metadata": {},
     "output_type": "display_data"
    },
    {
     "data": {
      "text/html": [
       "<pre style=\"white-space:pre;overflow-x:auto;line-height:normal;font-family:Menlo,'DejaVu Sans Mono',consolas,'Courier New',monospace\"><span style=\"color: #7fbfbf; text-decoration-color: #7fbfbf\">[11:04:13] </span><span style=\"color: #000080; text-decoration-color: #000080\">INFO    </span> Reading OSM network <span style=\"font-weight: bold\">(</span>driving<span style=\"font-weight: bold\">)</span> done <span style=\"font-weight: bold\">(</span><span style=\"color: #00ff00; text-decoration-color: #00ff00; font-weight: bold\">1:32</span> minutes<span style=\"font-weight: bold\">)</span>                                     <a href=\"file:///home/ppeter/repo/mcr-py/notebooks/../src/package/osm/osm.py\" target=\"_blank\"><span style=\"color: #7f7f7f; text-decoration-color: #7f7f7f\">osm.py</span></a><span style=\"color: #7f7f7f; text-decoration-color: #7f7f7f\">:</span><a href=\"file:///home/ppeter/repo/mcr-py/notebooks/../src/package/osm/osm.py#73\" target=\"_blank\"><span style=\"color: #7f7f7f; text-decoration-color: #7f7f7f\">73</span></a>\n",
       "</pre>\n"
      ],
      "text/plain": [
       "\u001b[2;36m[11:04:13]\u001b[0m\u001b[2;36m \u001b[0m\u001b[34mINFO    \u001b[0m Reading OSM network \u001b[1m(\u001b[0mdriving\u001b[1m)\u001b[0m done \u001b[1m(\u001b[0m\u001b[1;92m1:32\u001b[0m minutes\u001b[1m)\u001b[0m                                     \u001b]8;id=291891;file:///home/ppeter/repo/mcr-py/notebooks/../src/package/osm/osm.py\u001b\\\u001b[2mosm.py\u001b[0m\u001b]8;;\u001b\\\u001b[2m:\u001b[0m\u001b]8;id=403196;file:///home/ppeter/repo/mcr-py/notebooks/../src/package/osm/osm.py#73\u001b\\\u001b[2m73\u001b[0m\u001b]8;;\u001b\\\n"
      ]
     },
     "metadata": {},
     "output_type": "display_data"
    },
    {
     "data": {
      "text/html": [
       "<pre style=\"white-space:pre;overflow-x:auto;line-height:normal;font-family:Menlo,'DejaVu Sans Mono',consolas,'Courier New',monospace\"><span style=\"color: #7fbfbf; text-decoration-color: #7fbfbf\">           </span><span style=\"color: #000080; text-decoration-color: #000080\">INFO    </span> Cropping OSM network to boundary                                                      <a href=\"file:///home/ppeter/repo/mcr-py/notebooks/../src/package/osm/osm.py\" target=\"_blank\"><span style=\"color: #7f7f7f; text-decoration-color: #7f7f7f\">osm.py</span></a><span style=\"color: #7f7f7f; text-decoration-color: #7f7f7f\">:</span><a href=\"file:///home/ppeter/repo/mcr-py/notebooks/../src/package/osm/osm.py#76\" target=\"_blank\"><span style=\"color: #7f7f7f; text-decoration-color: #7f7f7f\">76</span></a>\n",
       "</pre>\n"
      ],
      "text/plain": [
       "\u001b[2;36m          \u001b[0m\u001b[2;36m \u001b[0m\u001b[34mINFO    \u001b[0m Cropping OSM network to boundary                                                      \u001b]8;id=175852;file:///home/ppeter/repo/mcr-py/notebooks/../src/package/osm/osm.py\u001b\\\u001b[2mosm.py\u001b[0m\u001b]8;;\u001b\\\u001b[2m:\u001b[0m\u001b]8;id=386425;file:///home/ppeter/repo/mcr-py/notebooks/../src/package/osm/osm.py#76\u001b\\\u001b[2m76\u001b[0m\u001b]8;;\u001b\\\n"
      ]
     },
     "metadata": {},
     "output_type": "display_data"
    },
    {
     "data": {
      "text/html": [
       "<pre style=\"white-space:pre;overflow-x:auto;line-height:normal;font-family:Menlo,'DejaVu Sans Mono',consolas,'Courier New',monospace\"><span style=\"color: #7fbfbf; text-decoration-color: #7fbfbf\">[11:05:01] </span><span style=\"color: #000080; text-decoration-color: #000080\">INFO    </span> Cropping OSM network to boundary done <span style=\"font-weight: bold\">(</span><span style=\"color: #008080; text-decoration-color: #008080; font-weight: bold\">47.46</span> seconds<span style=\"font-weight: bold\">)</span>                                 <a href=\"file:///home/ppeter/repo/mcr-py/notebooks/../src/package/osm/osm.py\" target=\"_blank\"><span style=\"color: #7f7f7f; text-decoration-color: #7f7f7f\">osm.py</span></a><span style=\"color: #7f7f7f; text-decoration-color: #7f7f7f\">:</span><a href=\"file:///home/ppeter/repo/mcr-py/notebooks/../src/package/osm/osm.py#76\" target=\"_blank\"><span style=\"color: #7f7f7f; text-decoration-color: #7f7f7f\">76</span></a>\n",
       "</pre>\n"
      ],
      "text/plain": [
       "\u001b[2;36m[11:05:01]\u001b[0m\u001b[2;36m \u001b[0m\u001b[34mINFO    \u001b[0m Cropping OSM network to boundary done \u001b[1m(\u001b[0m\u001b[1;36m47.46\u001b[0m seconds\u001b[1m)\u001b[0m                                 \u001b]8;id=875391;file:///home/ppeter/repo/mcr-py/notebooks/../src/package/osm/osm.py\u001b\\\u001b[2mosm.py\u001b[0m\u001b]8;;\u001b\\\u001b[2m:\u001b[0m\u001b]8;id=567886;file:///home/ppeter/repo/mcr-py/notebooks/../src/package/osm/osm.py#76\u001b\\\u001b[2m76\u001b[0m\u001b]8;;\u001b\\\n"
      ]
     },
     "metadata": {},
     "output_type": "display_data"
    },
    {
     "data": {
      "text/html": [
       "<pre style=\"white-space:pre;overflow-x:auto;line-height:normal;font-family:Menlo,'DejaVu Sans Mono',consolas,'Courier New',monospace\"><span style=\"color: #7fbfbf; text-decoration-color: #7fbfbf\">           </span><span style=\"color: #000080; text-decoration-color: #000080\">INFO    </span> Ensuring graph is connected                                                           <a href=\"file:///home/ppeter/repo/mcr-py/notebooks/../src/package/osm/osm.py\" target=\"_blank\"><span style=\"color: #7f7f7f; text-decoration-color: #7f7f7f\">osm.py</span></a><span style=\"color: #7f7f7f; text-decoration-color: #7f7f7f\">:</span><a href=\"file:///home/ppeter/repo/mcr-py/notebooks/../src/package/osm/osm.py#80\" target=\"_blank\"><span style=\"color: #7f7f7f; text-decoration-color: #7f7f7f\">80</span></a>\n",
       "</pre>\n"
      ],
      "text/plain": [
       "\u001b[2;36m          \u001b[0m\u001b[2;36m \u001b[0m\u001b[34mINFO    \u001b[0m Ensuring graph is connected                                                           \u001b]8;id=26216;file:///home/ppeter/repo/mcr-py/notebooks/../src/package/osm/osm.py\u001b\\\u001b[2mosm.py\u001b[0m\u001b]8;;\u001b\\\u001b[2m:\u001b[0m\u001b]8;id=278160;file:///home/ppeter/repo/mcr-py/notebooks/../src/package/osm/osm.py#80\u001b\\\u001b[2m80\u001b[0m\u001b]8;;\u001b\\\n"
      ]
     },
     "metadata": {},
     "output_type": "display_data"
    },
    {
     "data": {
      "text/html": [
       "<pre style=\"white-space:pre;overflow-x:auto;line-height:normal;font-family:Menlo,'DejaVu Sans Mono',consolas,'Courier New',monospace\"><span style=\"color: #7fbfbf; text-decoration-color: #7fbfbf\">[11:06:22] </span><span style=\"color: #000080; text-decoration-color: #000080\">INFO    </span> Removed <span style=\"color: #008080; text-decoration-color: #008080; font-weight: bold\">8650</span> nodes from OSM network to ensure connectivity <span style=\"font-weight: bold\">(</span><span style=\"color: #008080; text-decoration-color: #008080; font-weight: bold\">1.25</span>%<span style=\"font-weight: bold\">)</span>                    <a href=\"file:///home/ppeter/repo/mcr-py/notebooks/../src/package/osm/osm.py\" target=\"_blank\"><span style=\"color: #7f7f7f; text-decoration-color: #7f7f7f\">osm.py</span></a><span style=\"color: #7f7f7f; text-decoration-color: #7f7f7f\">:</span><a href=\"file:///home/ppeter/repo/mcr-py/notebooks/../src/package/osm/osm.py#80\" target=\"_blank\"><span style=\"color: #7f7f7f; text-decoration-color: #7f7f7f\">80</span></a>\n",
       "</pre>\n"
      ],
      "text/plain": [
       "\u001b[2;36m[11:06:22]\u001b[0m\u001b[2;36m \u001b[0m\u001b[34mINFO    \u001b[0m Removed \u001b[1;36m8650\u001b[0m nodes from OSM network to ensure connectivity \u001b[1m(\u001b[0m\u001b[1;36m1.25\u001b[0m%\u001b[1m)\u001b[0m                    \u001b]8;id=59352;file:///home/ppeter/repo/mcr-py/notebooks/../src/package/osm/osm.py\u001b\\\u001b[2mosm.py\u001b[0m\u001b]8;;\u001b\\\u001b[2m:\u001b[0m\u001b]8;id=417398;file:///home/ppeter/repo/mcr-py/notebooks/../src/package/osm/osm.py#80\u001b\\\u001b[2m80\u001b[0m\u001b]8;;\u001b\\\n"
      ]
     },
     "metadata": {},
     "output_type": "display_data"
    },
    {
     "data": {
      "text/html": [
       "<pre style=\"white-space:pre;overflow-x:auto;line-height:normal;font-family:Menlo,'DejaVu Sans Mono',consolas,'Courier New',monospace\"><span style=\"color: #7fbfbf; text-decoration-color: #7fbfbf\">           </span><span style=\"color: #000080; text-decoration-color: #000080\">INFO    </span> Ensuring graph is connected done <span style=\"font-weight: bold\">(</span><span style=\"color: #00ff00; text-decoration-color: #00ff00; font-weight: bold\">1:20</span> minutes<span style=\"font-weight: bold\">)</span>                                       <a href=\"file:///home/ppeter/repo/mcr-py/notebooks/../src/package/osm/osm.py\" target=\"_blank\"><span style=\"color: #7f7f7f; text-decoration-color: #7f7f7f\">osm.py</span></a><span style=\"color: #7f7f7f; text-decoration-color: #7f7f7f\">:</span><a href=\"file:///home/ppeter/repo/mcr-py/notebooks/../src/package/osm/osm.py#80\" target=\"_blank\"><span style=\"color: #7f7f7f; text-decoration-color: #7f7f7f\">80</span></a>\n",
       "</pre>\n"
      ],
      "text/plain": [
       "\u001b[2;36m          \u001b[0m\u001b[2;36m \u001b[0m\u001b[34mINFO    \u001b[0m Ensuring graph is connected done \u001b[1m(\u001b[0m\u001b[1;92m1:20\u001b[0m minutes\u001b[1m)\u001b[0m                                       \u001b]8;id=697473;file:///home/ppeter/repo/mcr-py/notebooks/../src/package/osm/osm.py\u001b\\\u001b[2mosm.py\u001b[0m\u001b]8;;\u001b\\\u001b[2m:\u001b[0m\u001b]8;id=424805;file:///home/ppeter/repo/mcr-py/notebooks/../src/package/osm/osm.py#80\u001b\\\u001b[2m80\u001b[0m\u001b]8;;\u001b\\\n"
      ]
     },
     "metadata": {},
     "output_type": "display_data"
    },
    {
     "data": {
      "text/html": [
       "<pre style=\"white-space:pre;overflow-x:auto;line-height:normal;font-family:Menlo,'DejaVu Sans Mono',consolas,'Courier New',monospace\"><span style=\"color: #7fbfbf; text-decoration-color: #7fbfbf\">           </span><span style=\"color: #000080; text-decoration-color: #000080\">INFO    </span> Caching OSM network                                                                   <a href=\"file:///home/ppeter/repo/mcr-py/notebooks/../src/package/osm/osm.py\" target=\"_blank\"><span style=\"color: #7f7f7f; text-decoration-color: #7f7f7f\">osm.py</span></a><span style=\"color: #7f7f7f; text-decoration-color: #7f7f7f\">:</span><a href=\"file:///home/ppeter/repo/mcr-py/notebooks/../src/package/osm/osm.py#91\" target=\"_blank\"><span style=\"color: #7f7f7f; text-decoration-color: #7f7f7f\">91</span></a>\n",
       "</pre>\n"
      ],
      "text/plain": [
       "\u001b[2;36m          \u001b[0m\u001b[2;36m \u001b[0m\u001b[34mINFO    \u001b[0m Caching OSM network                                                                   \u001b]8;id=756327;file:///home/ppeter/repo/mcr-py/notebooks/../src/package/osm/osm.py\u001b\\\u001b[2mosm.py\u001b[0m\u001b]8;;\u001b\\\u001b[2m:\u001b[0m\u001b]8;id=202671;file:///home/ppeter/repo/mcr-py/notebooks/../src/package/osm/osm.py#91\u001b\\\u001b[2m91\u001b[0m\u001b]8;;\u001b\\\n"
      ]
     },
     "metadata": {},
     "output_type": "display_data"
    },
    {
     "data": {
      "text/html": [
       "<pre style=\"white-space:pre;overflow-x:auto;line-height:normal;font-family:Menlo,'DejaVu Sans Mono',consolas,'Courier New',monospace\"><span style=\"color: #7fbfbf; text-decoration-color: #7fbfbf\">[11:06:30] </span><span style=\"color: #000080; text-decoration-color: #000080\">INFO    </span> Caching OSM network done <span style=\"font-weight: bold\">(</span><span style=\"color: #008080; text-decoration-color: #008080; font-weight: bold\">8.54</span> seconds<span style=\"font-weight: bold\">)</span>                                               <a href=\"file:///home/ppeter/repo/mcr-py/notebooks/../src/package/osm/osm.py\" target=\"_blank\"><span style=\"color: #7f7f7f; text-decoration-color: #7f7f7f\">osm.py</span></a><span style=\"color: #7f7f7f; text-decoration-color: #7f7f7f\">:</span><a href=\"file:///home/ppeter/repo/mcr-py/notebooks/../src/package/osm/osm.py#91\" target=\"_blank\"><span style=\"color: #7f7f7f; text-decoration-color: #7f7f7f\">91</span></a>\n",
       "</pre>\n"
      ],
      "text/plain": [
       "\u001b[2;36m[11:06:30]\u001b[0m\u001b[2;36m \u001b[0m\u001b[34mINFO    \u001b[0m Caching OSM network done \u001b[1m(\u001b[0m\u001b[1;36m8.54\u001b[0m seconds\u001b[1m)\u001b[0m                                               \u001b]8;id=983013;file:///home/ppeter/repo/mcr-py/notebooks/../src/package/osm/osm.py\u001b\\\u001b[2mosm.py\u001b[0m\u001b]8;;\u001b\\\u001b[2m:\u001b[0m\u001b]8;id=427767;file:///home/ppeter/repo/mcr-py/notebooks/../src/package/osm/osm.py#91\u001b\\\u001b[2m91\u001b[0m\u001b]8;;\u001b\\\n"
      ]
     },
     "metadata": {},
     "output_type": "display_data"
    }
   ],
   "source": [
    "geo_meta = GeoMeta.load(geo_meta_path)\n",
    "geo_data = OSMData(\n",
    "    geo_meta,\n",
    "    city_id,\n",
    "    additional_network_types=[NetworkType.DRIVING],\n",
    ")\n",
    "nodes = geo_data.osm_nodes\n",
    "edges = geo_data.osm_edges\n",
    "driving_nodes, _, _ = geo_data.additional_networks[NetworkType.DRIVING]"
   ]
  },
  {
   "cell_type": "code",
   "execution_count": 18,
   "metadata": {},
   "outputs": [],
   "source": [
    "h3_cells = get_h3_cells_for_nodes(nodes[[\"lat\", \"lon\"]].to_dict(\"records\"), 9)\n",
    "driving_h3_cells = get_h3_cells_for_nodes(\n",
    "    driving_nodes[[\"lat\", \"lon\"]].to_dict(\"records\"), 9\n",
    ")\n",
    "h3_cells = h3_cells.intersection(driving_h3_cells)"
   ]
  },
  {
   "cell_type": "code",
   "execution_count": 19,
   "metadata": {},
   "outputs": [],
   "source": [
    "residential_area = geo_meta.residential_area"
   ]
  },
  {
   "cell_type": "code",
   "execution_count": 20,
   "metadata": {},
   "outputs": [],
   "source": [
    "CUTOFF = 0.25\n",
    "\n",
    "\n",
    "def calculate_residential_intersection_area(h3_cell):\n",
    "    boundary = h3.h3_to_geo_boundary(h3_cell)\n",
    "    boundary_flipped = [(lon, lat) for lat, lon in boundary]\n",
    "    poly = Polygon(boundary_flipped)\n",
    "    intersection = poly.intersection(geo_meta.residential_area)\n",
    "    return intersection.area / poly.area\n",
    "\n",
    "\n",
    "h3_cells_filtered = {\n",
    "    h3_cell\n",
    "    for h3_cell in h3_cells\n",
    "    if calculate_residential_intersection_area(h3_cell) > CUTOFF\n",
    "}"
   ]
  },
  {
   "cell_type": "code",
   "execution_count": null,
   "metadata": {},
   "outputs": [],
   "source": [
    "m = folium.Map(location=geo_meta.get_center_lat_lon(), zoom_start=12)\n",
    "geo_meta.add_to_folium_map(m)\n",
    "plot_h3_cells_on_folium(h3_cells_filtered, m, popup_callback=lambda x, y: x)\n",
    "m"
   ]
  },
  {
   "cell_type": "code",
   "execution_count": 22,
   "metadata": {},
   "outputs": [
    {
     "data": {
      "text/plain": [
       "[]"
      ]
     },
     "execution_count": 22,
     "metadata": {},
     "output_type": "execute_result"
    }
   ],
   "source": [
    "location_mappings, invalid_h3_cells = get_location_mappings_for_cells(\n",
    "    list(h3_cells_filtered), nodes, max_tries=20\n",
    ")\n",
    "invalid_h3_cells"
   ]
  },
  {
   "cell_type": "code",
   "execution_count": 23,
   "metadata": {},
   "outputs": [
    {
     "data": {
      "text/plain": [
       "[]"
      ]
     },
     "execution_count": 23,
     "metadata": {},
     "output_type": "execute_result"
    }
   ],
   "source": [
    "[lm.osm_node_id for lm in location_mappings if lm.h3_cell == \"891fa188c4fffff\"]"
   ]
  },
  {
   "cell_type": "code",
   "execution_count": 24,
   "metadata": {},
   "outputs": [
    {
     "data": {
      "text/plain": [
       "[]"
      ]
     },
     "execution_count": 24,
     "metadata": {},
     "output_type": "execute_result"
    }
   ],
   "source": [
    "car_location_mappings, invalid_h3_cells = get_location_mappings_for_cells(\n",
    "    list(h3_cells_filtered), driving_nodes, max_tries=40\n",
    ")\n",
    "invalid_h3_cells"
   ]
  },
  {
   "cell_type": "code",
   "execution_count": 25,
   "metadata": {},
   "outputs": [],
   "source": [
    "storage.write_any_dict(\n",
    "    {\n",
    "        \"location_mappings\": location_mappings,\n",
    "        \"car_location_mappings\": car_location_mappings,\n",
    "    },\n",
    "    locations_dict_path,\n",
    ")"
   ]
  }
 ],
 "metadata": {
  "kernelspec": {
   "display_name": "mcr-py",
   "language": "python",
   "name": "python3"
  },
  "language_info": {
   "codemirror_mode": {
    "name": "ipython",
    "version": 3
   },
   "file_extension": ".py",
   "mimetype": "text/x-python",
   "name": "python",
   "nbconvert_exporter": "python",
   "pygments_lexer": "ipython3",
   "version": "3.11.7"
  }
 },
 "nbformat": 4,
 "nbformat_minor": 2
}
